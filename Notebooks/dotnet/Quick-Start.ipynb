{
    "metadata": {
        "kernelspec": {
            "name": "SQL",
            "display_name": "SQL",
            "language": "sql"
        },
        "language_info": {
            "name": "sql",
            "version": ""
        }
    },
    "nbformat_minor": 2,
    "nbformat": 4,
    "cells": [
        {
            "cell_type": "markdown",
            "source": [
                "\r\n",
                "This guide will get you up and running with SQL Server in a Docker container in a couple of minutes. For a breakdown of what each line of code does check out the [Quick Start Explained](https://github.com/dbafromthecold/SqlServerAndContainersGuide/wiki/Quick-Start-Explained) page.\r\n",
                "To get a container up and running quickly, you can run: -\r\n",
                "\r\n"
            ],
            "metadata": {
                "azdata_cell_guid": "24aea979-da4c-4b30-8aa0-06394b8425c6"
            }
        },
        {
            "cell_type": "code",
            "source": [
                "    docker container run -d -p 1433:1433 `\r\n",
                "    --env ACCEPT_EULA=Y `\r\n",
                "    --env MSSQL_SA_PASSWORD=Testing1122 `\r\n",
                "    --name sqlcontainer1 `\r\n",
                "    mcr.microsoft.com/mssql/server:2019-latest\r\n"
            ],
            "metadata": {
                "azdata_cell_guid": "ede67685-1991-4454-b9be-6bfb18957843"
            },
            "outputs": [],
            "execution_count": 0
        },
        {
            "cell_type": "markdown",
            "source": [
                "\r\n",
                "![](../images/1.QuickStart/1.docker_container_run.png)<br>\r\n",
                "Execute that, the image will be pulled down for you. You can check this by running: -\r\n",
                "\r\n",
                ""
            ],
            "metadata": {
                "azdata_cell_guid": "c3bdd9a8-fb97-4fa6-bb6d-9c768b4e48a1"
            }
        },
        {
            "cell_type": "code",
            "source": [
                "    docker image ls\r\n"
            ],
            "metadata": {
                "azdata_cell_guid": "02eddaa5-6bfe-4158-ab92-3014b319deda"
            },
            "outputs": [],
            "execution_count": 0
        },
        {
            "cell_type": "markdown",
            "source": [
                "\r\n",
                "![](../images/1.QuickStart/2.docker_images.png)<br>\r\n",
                "And you can then confirm that your container is running: -\r\n",
                "\r\n",
                ""
            ],
            "metadata": {
                "azdata_cell_guid": "8c102854-921e-4bc9-809f-c458dd0db90c"
            }
        },
        {
            "cell_type": "code",
            "source": [
                "    docker container ls -a\r\n"
            ],
            "metadata": {
                "azdata_cell_guid": "6d040f7f-8264-410d-af06-e5d8f3566946"
            },
            "outputs": [],
            "execution_count": 0
        },
        {
            "cell_type": "markdown",
            "source": [
                "\r\n",
                "![](../images/1.QuickStart/3.docker_container_ls.png)<br>\r\n",
                "If your container is up and running you will be able to connect to it in SSMS or ADS via servername _**localhost**_ and password _**Testing1122**_<br>\r\n",
                "![](../images/1.QuickStart/4.connected_in_ssms.png)<br>\r\n",
                "And that's a real quick start into SQL Server running in a Docker container. Check out the rest of the wiki for more information!\r\n",
                ""
            ],
            "metadata": {
                "azdata_cell_guid": "3b3318f8-5f7e-4fe2-9074-e9a3fcbd8364"
            }
        }
    ]
}