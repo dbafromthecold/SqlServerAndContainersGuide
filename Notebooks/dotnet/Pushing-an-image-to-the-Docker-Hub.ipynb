{
    "metadata":  {
                     "kernelspec":  {
                                        "name":  ".net-powershell",
                                        "language":  "PowerShell",
                                        "display_name":  ".NET (PowerShell)"
                                    }
                 },
    "language_info":  {
                          "name":  "PowerShell",
                          "version":  "7.0",
                          "pygments_lexer":  "powershell",
                          "mimetype":  "text/x-powershell",
                          "file_extension":  ".ps1"
                      },
    "nbformat_minor":  4,
    "nbformat":  4,
    "cells":  [
                  {
                      "cell_type":  "markdown",
                      "source":  [
                                     "\r\n",
                                     "Now that we\u0027ve created a custom image we might want to make it available for others to use.\r\n",
                                     "In this post we\u0027re going to use the [Docker Hub](https://hub.docker.com/) which is a online container registry where we can store our container images to make them available to others.\r\n",
                                     "A word of caution with this, we\u0027re going to push to a public repository. This means that anyone (and I mean anyone) will be able to pull our image down. So make sure that when you follow this guide, you\u0027re not including any sensitive data in your container image.\r\n",
                                     "Ok, let\u0027s run through pushing an image to the Docker Hub.\r\n",
                                     "The image we\u0027re going to push is the image built in the [previous wiki](https://github.com/dbafromthecold/SqlServerAndContainersGuide/wiki/Building-a-custom-image).\r\n",
                                     "Here\u0027s the image: -\r\n",
                                     "\r\n"
                                 ],
                      "metadata":  {
                                       "azdata_cell_guid":  "3a309588-7321-4982-93fc-f0ad39e8193e"
                                   }
                  },
                  {
                      "cell_type":  "code",
                      "source":  [
                                     "    docker image ls\r\n"
                                 ],
                      "metadata":  {
                                       "azdata_cell_guid":  "cd79258f-2dbc-4fbc-a04e-703348222567"
                                   },
                      "outputs":  [

                                  ],
                      "execution_count":  0
                  },
                  {
                      "cell_type":  "markdown",
                      "source":  [
                                     "\r\n",
                                     "![](../images/4.BuildingACustomImage/PushingToTheDockerHub/1.ListImages.png)\r\n",
                                     "Ok, we have the image there. Let\u0027s jump onto the [Docker Hub](https://hub.docker.com/) (create an account if you don\u0027t have one) and create a repository: -\r\n",
                                     "![](../images/4.BuildingACustomImage/PushingToTheDockerHub/2.CreateDockerRepository.png)\r\n",
                                     "Cool. We have the image, we have the remote repository, let\u0027s get that image up there!\r\n",
                                     "First thing to do is log into the docker hub: -\r\n",
                                     "\r\n"
                                 ],
                      "metadata":  {
                                       "azdata_cell_guid":  "99de7b27-8131-46d0-b0e9-436ce27abee8"
                                   }
                  },
                  {
                      "cell_type":  "code",
                      "source":  [
                                     "    docker login\r\n"
                                 ],
                      "metadata":  {
                                       "azdata_cell_guid":  "821ea6f9-6e9c-4e5d-980e-5e30c61a840a"
                                   },
                      "outputs":  [

                                  ],
                      "execution_count":  0
                  },
                  {
                      "cell_type":  "markdown",
                      "source":  [
                                     "\r\n",
                                     "Enter in your username and password and hit enter!\r\n",
                                     "Ok, next thing is to tag the custom image with the repository name: -\r\n",
                                     "\r\n"
                                 ],
                      "metadata":  {
                                       "azdata_cell_guid":  "90094fea-98b6-481e-a757-497e5dea51ac"
                                   }
                  },
                  {
                      "cell_type":  "code",
                      "source":  [
                                     "    docker tag sqlimage1 dbafromthecold/testsqlrepository:testimage\r\n"
                                 ],
                      "metadata":  {
                                       "azdata_cell_guid":  "0d3c3980-3373-4998-8d83-2bfcfabd54e4"
                                   },
                      "outputs":  [

                                  ],
                      "execution_count":  0
                  },
                  {
                      "cell_type":  "markdown",
                      "source":  [
                                     "\r\n",
                                     "And confirm the image has been tagged: -\r\n",
                                     "\r\n"
                                 ],
                      "metadata":  {
                                       "azdata_cell_guid":  "596c5e77-2756-4802-945b-522e9b604c09"
                                   }
                  },
                  {
                      "cell_type":  "code",
                      "source":  [
                                     "    docker image ls\r\n"
                                 ],
                      "metadata":  {
                                       "azdata_cell_guid":  "3e1d58ac-a0f9-4f96-b35f-2e5682299e52"
                                   },
                      "outputs":  [

                                  ],
                      "execution_count":  0
                  },
                  {
                      "cell_type":  "markdown",
                      "source":  [
                                     "\r\n",
                                     "![](../images/4.BuildingACustomImage/PushingToTheDockerHub/3.ViewTaggedImage.png)\r\n",
                                     "So here we\u0027re tagging the iamge with the username dbafromthecold, the repository name testsqlrepository, and adding the tag testimage. Notice that the image ID is the same for the original image and the newly tagged one. We haven\u0027t created a new image here, we\u0027ve just tagged the existing image with a new name.\r\n",
                                     "Now that the image is tagged we can push it up to the hub: -\r\n",
                                     "\r\n"
                                 ],
                      "metadata":  {
                                       "azdata_cell_guid":  "e6b646f6-8bda-4073-9597-4fbbe8376558"
                                   }
                  },
                  {
                      "cell_type":  "code",
                      "source":  [
                                     "    docker push dbafromthecold/testsqlrepository:testimage\r\n"
                                 ],
                      "metadata":  {
                                       "azdata_cell_guid":  "ad1cdb10-7310-4bfd-a0c7-58fdfb8e7909"
                                   },
                      "outputs":  [

                                  ],
                      "execution_count":  0
                  },
                  {
                      "cell_type":  "markdown",
                      "source":  [
                                     "\r\n",
                                     "Once that\u0027s complete, we\u0027ll be able to see it on the hub: -\r\n",
                                     "![](../images/4.BuildingACustomImage/PushingToTheDockerHub/4.ViewImageOnDockerHub.png)\r\n",
                                     "People will now be able to pull our custom image down locally via: -\r\n",
                                     "\r\n"
                                 ],
                      "metadata":  {
                                       "azdata_cell_guid":  "58c8eb46-7fff-46c5-bad5-eca28ed2be5f"
                                   }
                  },
                  {
                      "cell_type":  "code",
                      "source":  [
                                     "    docker pull dbafromthecold/testsqlrepository:testimage\r\n"
                                 ],
                      "metadata":  {
                                       "azdata_cell_guid":  "05bef8d0-15ce-4061-b023-2e854d552d0d"
                                   },
                      "outputs":  [

                                  ],
                      "execution_count":  0
                  },
                  {
                      "cell_type":  "markdown",
                      "source":  [
                                     "\r\n",
                                     "So that\u0027s how to push an image to the Docker Hub so that it\u0027s available for others to pull down and run containers from it.\r\n"
                                 ],
                      "metadata":  {
                                       "azdata_cell_guid":  "88a9ba2f-28b9-4cc2-8210-b81c54e4d2f6"
                                   }
                  }
              ]
}
