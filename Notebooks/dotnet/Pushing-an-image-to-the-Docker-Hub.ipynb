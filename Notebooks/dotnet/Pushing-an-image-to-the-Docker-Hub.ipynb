{
    "metadata":  {
                     "kernelspec":  {
                                        "name":  ".net-powershell",
                                        "language":  "PowerShell",
                                        "display_name":  ".NET (PowerShell)"
                                    }
                 },
    "language_info":  {
                          "name":  "PowerShell",
                          "version":  "7.0",
                          "pygments_lexer":  "powershell",
                          "mimetype":  "text/x-powershell",
                          "file_extension":  ".ps1"
                      },
    "nbformat_minor":  4,
    "nbformat":  4,
    "cells":  [
                  {
                      "cell_type":  "markdown",
                      "source":  [
                                     "\r\n",
                                     "Now that we\u0027ve created a custom image we might want to make it available for others to use.\r\n",
                                     "In this post we\u0027re going to use the [Docker Hub](https://hub.docker.com/) which is a online container registry where we can store our container images to make them available to others.\r\n",
                                     "A word of caution with this, we\u0027re going to push to a public repository. This means that anyone (and I mean anyone) will be able to pull our image down. So make sure that when you follow this guide, you\u0027re not including any sensitive data in your container image.\r\n",
                                     "Ok, let\u0027s run through pushing an image to the Docker Hub.\r\n",
                                     "The image we\u0027re going to push is the image built in the [previous wiki](https://github.com/dbafromthecold/SqlServerAndContainersGuide/wiki/Building-a-custom-image).\r\n",
                                     "Here\u0027s the image: -\r\n",
                                     "\r\n"
                                 ],
                      "metadata":  {
                                       "azdata_cell_guid":  "025716a5-e7f8-4e76-8dbd-5815cf7a2357"
                                   }
                  },
                  {
                      "cell_type":  "code",
                      "source":  [
                                     "    docker image ls\r\n"
                                 ],
                      "metadata":  {
                                       "azdata_cell_guid":  "be039d28-1a05-4ff9-a025-b3ee2a3dedb7"
                                   },
                      "outputs":  [

                                  ],
                      "execution_count":  0
                  },
                  {
                      "cell_type":  "markdown",
                      "source":  [
                                     "\r\n",
                                     "![](../images/4.BuildingACustomImage/PushingToTheDockerHub/1.ListImages.png)\r\n",
                                     "Ok, we have the image there. Let\u0027s jump onto the [Docker Hub](https://hub.docker.com/) (create an account if you don\u0027t have one) and create a repository: -\r\n",
                                     "![](../images/4.BuildingACustomImage/PushingToTheDockerHub/2.CreateDockerRepository.png)\r\n",
                                     "Cool. We have the image, we have the remote repository, let\u0027s get that image up there!\r\n",
                                     "First thing to do is log into the docker hub: -\r\n",
                                     "\r\n"
                                 ],
                      "metadata":  {
                                       "azdata_cell_guid":  "2495ee21-7375-4236-b39e-a67c4ac4688c"
                                   }
                  },
                  {
                      "cell_type":  "code",
                      "source":  [
                                     "    docker login\r\n"
                                 ],
                      "metadata":  {
                                       "azdata_cell_guid":  "5ec0d55c-41af-4700-8a82-6be2df43264f"
                                   },
                      "outputs":  [

                                  ],
                      "execution_count":  0
                  },
                  {
                      "cell_type":  "markdown",
                      "source":  [
                                     "\r\n",
                                     "Enter in your username and password and hit enter!\r\n",
                                     "Ok, next thing is to tag the custom image with the repository name: -\r\n",
                                     "\r\n"
                                 ],
                      "metadata":  {
                                       "azdata_cell_guid":  "4d2de294-efd0-44ef-8d40-3d5e308cf929"
                                   }
                  },
                  {
                      "cell_type":  "code",
                      "source":  [
                                     "    docker tag sqlimage1 dbafromthecold/testsqlrepository:testimage\r\n"
                                 ],
                      "metadata":  {
                                       "azdata_cell_guid":  "3440558c-796d-44f8-b935-b9cfa95d42e4"
                                   },
                      "outputs":  [

                                  ],
                      "execution_count":  0
                  },
                  {
                      "cell_type":  "markdown",
                      "source":  [
                                     "\r\n",
                                     "And confirm the image has been tagged: -\r\n",
                                     "\r\n"
                                 ],
                      "metadata":  {
                                       "azdata_cell_guid":  "9f930d62-8a99-454e-af08-f1ede45e77ef"
                                   }
                  },
                  {
                      "cell_type":  "code",
                      "source":  [
                                     "    docker image ls\r\n"
                                 ],
                      "metadata":  {
                                       "azdata_cell_guid":  "db9e89b9-9408-450a-8790-c7fdd3e90839"
                                   },
                      "outputs":  [

                                  ],
                      "execution_count":  0
                  },
                  {
                      "cell_type":  "markdown",
                      "source":  [
                                     "\r\n",
                                     "![](../images/4.BuildingACustomImage/PushingToTheDockerHub/3.ViewTaggedImage.png)\r\n",
                                     "So here we\u0027re tagging the iamge with the username dbafromthecold, the repository name testsqlrepository, and adding the tag testimage. Notice that the image ID is the same for the original image and the newly tagged one. We haven\u0027t created a new image here, we\u0027ve just tagged the existing image with a new name.\r\n",
                                     "Now that the image is tagged we can push it up to the hub: -\r\n",
                                     "\r\n"
                                 ],
                      "metadata":  {
                                       "azdata_cell_guid":  "02291af2-51b7-418d-98af-d78d7aa4829e"
                                   }
                  },
                  {
                      "cell_type":  "code",
                      "source":  [
                                     "    docker push dbafromthecold/testsqlrepository:testimage\r\n"
                                 ],
                      "metadata":  {
                                       "azdata_cell_guid":  "d91790ac-5915-4f25-96ef-935a77e0b2a6"
                                   },
                      "outputs":  [

                                  ],
                      "execution_count":  0
                  },
                  {
                      "cell_type":  "markdown",
                      "source":  [
                                     "\r\n",
                                     "Once that\u0027s complete, we\u0027ll be able to see it on the hub: -\r\n",
                                     "![](../images/4.BuildingACustomImage/PushingToTheDockerHub/4.ViewImageOnDockerHub.png)\r\n",
                                     "People will now be able to pull our custom image down locally via: -\r\n",
                                     "\r\n"
                                 ],
                      "metadata":  {
                                       "azdata_cell_guid":  "26250cef-ced2-473c-ae99-3807295fa3b9"
                                   }
                  },
                  {
                      "cell_type":  "code",
                      "source":  [
                                     "    docker pull dbafromthecold/testsqlrepository:testimage\r\n"
                                 ],
                      "metadata":  {
                                       "azdata_cell_guid":  "57432683-b40b-48c7-842e-2af64218ce41"
                                   },
                      "outputs":  [

                                  ],
                      "execution_count":  0
                  }
              ]
}
