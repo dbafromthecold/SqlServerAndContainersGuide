{
    "metadata":  {
                     "kernelspec":  {
                                        "name":  ".net-powershell",
                                        "language":  "PowerShell",
                                        "display_name":  ".NET (PowerShell)"
                                    }
                 },
    "language_info":  {
                          "name":  "PowerShell",
                          "version":  "7.0",
                          "pygments_lexer":  "powershell",
                          "mimetype":  "text/x-powershell",
                          "file_extension":  ".ps1"
                      },
    "nbformat_minor":  4,
    "nbformat":  4,
    "cells":  [
                  {
                      "cell_type":  "markdown",
                      "source":  [
                                     "\r\n",
                                     "In a previous wiki entry we went through a simple docker compose file to easily spin up one SQL Server container.\r\n",
                                     "Here we\u0027ll go through a more advanced setup, using a dockerfile to create a SQL image from scratch and env files to hold our environment variables.\r\n",
                                     "These are the files we\u0027re going to use: -\r\n",
                                     "\r\n"
                                 ],
                      "metadata":  {
                                       "azdata_cell_guid":  "d52ec7d0-f898-4e2a-84e8-ecc01cba8179"
                                   }
                  },
                  {
                      "cell_type":  "code",
                      "source":  [
                                     "    dockerfile\r\n",
                                     "    docker-compose.yaml\r\n",
                                     "    sqlserver.env\r\n",
                                     "    sapassword.env\r\n"
                                 ],
                      "metadata":  {
                                       "azdata_cell_guid":  "881d23bf-98b4-442d-9c25-3d2fe2359b55"
                                   },
                      "outputs":  [

                                  ],
                      "execution_count":  0
                  },
                  {
                      "cell_type":  "markdown",
                      "source":  [
                                     "\r\n",
                                     "Let\u0027s have a look at the dockerfile first: -\r\n",
                                     "\r\n"
                                 ],
                      "metadata":  {
                                       "azdata_cell_guid":  "d0929638-e0cb-43f4-80a0-750cea151e2c"
                                   }
                  },
                  {
                      "cell_type":  "code",
                      "source":  [
                                     "    # build from the Ubuntu 18.04 image\r\n",
                                     "    FROM ubuntu:18.04\r\n",
                                     "     \r\n",
                                     "    # create the mssql user\r\n",
                                     "    RUN useradd -u 10001 mssql\r\n",
                                     "     \r\n",
                                     "    # installing SQL Server\r\n",
                                     "    RUN apt-get update \u0026\u0026 apt-get install -y wget software-properties-common apt-transport-https\r\n",
                                     "    RUN wget -qO- https://packages.microsoft.com/keys/microsoft.asc | apt-key add -\r\n",
                                     "    RUN add-apt-repository \"$(wget -qO- https://packages.microsoft.com/config/ubuntu/18.04/mssql-server-2019.list)\"\r\n",
                                     "    RUN apt-get update \u0026\u0026 apt-get install -y mssql-server\r\n",
                                     "     \r\n",
                                     "    # creating directories\r\n",
                                     "    RUN mkdir /var/opt/sqlserver\r\n",
                                     "    RUN mkdir /var/opt/sqlserver/data\r\n",
                                     "    RUN mkdir /var/opt/sqlserver/log\r\n",
                                     "    RUN mkdir /var/opt/sqlserver/backup\r\n",
                                     "     \r\n",
                                     "    # set permissions on directories\r\n",
                                     "    RUN chown -R mssql:mssql /var/opt/sqlserver\r\n",
                                     "    RUN chown -R mssql:mssql /var/opt/mssql\r\n",
                                     "     \r\n",
                                     "    # switching to the mssql user\r\n",
                                     "    USER mssql\r\n",
                                     "     \r\n",
                                     "    # starting SQL Server\r\n",
                                     "    CMD /opt/mssql/bin/sqlservr\r\n"
                                 ],
                      "metadata":  {
                                       "azdata_cell_guid":  "3f0bb22c-8143-437b-8f46-c7530a6ccaf5"
                                   },
                      "outputs":  [

                                  ],
                      "execution_count":  0
                  },
                  {
                      "cell_type":  "markdown",
                      "source":  [
                                     "\r\n",
                                     "So this is going to: -\r\n",
                                     "\r\n"
                                 ],
                      "metadata":  {
                                       "azdata_cell_guid":  "ecabe113-76d3-4073-a3fa-2c1b2000437e"
                                   }
                  },
                  {
                      "cell_type":  "code",
                      "source":  [
                                     "    1. Pull down the Ubuntu 18.04 image and base this new image off it\r\n",
                                     "    2. Create the mssql user\r\n",
                                     "    3. Install SQL Server as you would on Linux\r\n",
                                     "    4. Create the required directories\r\n",
                                     "    5. Change the owner of those directories to the mssql user\r\n",
                                     "    6. Switch over to run the next command as the mssql user\r\n",
                                     "    7. Start SQL Server\r\n"
                                 ],
                      "metadata":  {
                                       "azdata_cell_guid":  "0fcbd4a5-e29a-4775-9768-86a14de2e319"
                                   },
                      "outputs":  [

                                  ],
                      "execution_count":  0
                  },
                  {
                      "cell_type":  "markdown",
                      "source":  [
                                     "\r\n",
                                     "Great stuff, we have a dockerfile that\u0027ll create us a custom SQL image. Now let\u0027s have a look at the docker-compose.yaml file: -\r\n",
                                     "\r\n"
                                 ],
                      "metadata":  {
                                       "azdata_cell_guid":  "6482d8bf-e991-46dc-a6e5-9780944c5978"
                                   }
                  },
                  {
                      "cell_type":  "code",
                      "source":  [
                                     "    version: \u00273.7\u0027\r\n",
                                     "    services:\r\n",
                                     "        sqlserver1:\r\n",
                                     "            build: \r\n",
                                     "              context: .\r\n",
                                     "              dockerfile: dockerfile\r\n",
                                     "            ports:  \r\n",
                                     "              - \"15789:1433\"\r\n",
                                     "            env_file:\r\n",
                                     "              - sqlserver.env\r\n",
                                     "              - sapassword.env\r\n",
                                     "            volumes: \r\n",
                                     "              - sqlsystem:/var/opt/mssql/\r\n",
                                     "              - sqldata:/var/opt/sqlserver/data\r\n",
                                     "              - sqllog:/var/opt/sqlserver/log\r\n",
                                     "              - sqlbackup:/var/opt/sqlserver/backup\r\n",
                                     "    volumes:\r\n",
                                     "      sqlsystem:\r\n",
                                     "      sqldata:\r\n",
                                     "      sqllog:\r\n",
                                     "      sqlbackup:\r\n"
                                 ],
                      "metadata":  {
                                       "azdata_cell_guid":  "a1cedc57-9022-41c3-9847-9785d4e1d9e0"
                                   },
                      "outputs":  [

                                  ],
                      "execution_count":  0
                  },
                  {
                      "cell_type":  "markdown",
                      "source":  [
                                     "\r\n",
                                     "Stepping through this we: –\r\n",
                                     "\r\n"
                                 ],
                      "metadata":  {
                                       "azdata_cell_guid":  "ec9f9f95-6f47-4f85-b74c-df59bc13a103"
                                   }
                  },
                  {
                      "cell_type":  "code",
                      "source":  [
                                     "    1. Define a service called sqlserver1, setting a build context to the current directory and specifying our dockerfile\r\n",
                                     "    2. Set our ports, mapping 15789 on the host to 1433 in the container\r\n",
                                     "    3. Specify our environment variable files\r\n",
                                     "    4. Then set our volumes, matching the directories created in the dockerfile\r\n"
                                 ],
                      "metadata":  {
                                       "azdata_cell_guid":  "a569be74-0c02-46e5-892d-1b4bc5f102ef"
                                   },
                      "outputs":  [

                                  ],
                      "execution_count":  0
                  },
                  {
                      "cell_type":  "markdown",
                      "source":  [
                                     "\r\n",
                                     "Cool! Ok, finally let\u0027s have a look at the env files: -\r\n",
                                     "\r\n"
                                 ],
                      "metadata":  {
                                       "azdata_cell_guid":  "32905e7e-5464-40fa-afd0-8dfb5850e749"
                                   }
                  },
                  {
                      "cell_type":  "code",
                      "source":  [
                                     "    ACCEPT_EULA=Y\r\n",
                                     "    MSSQL_DATA_DIR=/var/opt/sqlserver/data\r\n",
                                     "    MSSQL_LOG_DIR=/var/opt/sqlserver/log\r\n",
                                     "    MSSQL_BACKUP_DIR=/var/opt/sqlserver/backup\r\n"
                                 ],
                      "metadata":  {
                                       "azdata_cell_guid":  "ed20e7ed-de5e-45d9-99de-18677b82af32"
                                   },
                      "outputs":  [

                                  ],
                      "execution_count":  0
                  },
                  {
                      "cell_type":  "markdown",
                      "source":  [
                                     "\r\n",
                                     "And: -\r\n"
                                 ],
                      "metadata":  {
                                       "azdata_cell_guid":  "24e0e4f7-c4de-45f7-beaf-8c270f175726"
                                   }
                  },
                  {
                      "cell_type":  "code",
                      "source":  [
                                     "    \r\n",
                                     "    MSSQL_SA_PASSWORD=Testing1122\r\n"
                                 ],
                      "metadata":  {
                                       "azdata_cell_guid":  "78b6b837-39ef-414e-9bc1-364239934b59"
                                   },
                      "outputs":  [

                                  ],
                      "execution_count":  0
                  },
                  {
                      "cell_type":  "markdown",
                      "source":  [
                                     "\r\n",
                                     "We\u0027ve used a separate file for the SA password so that we could drop it into a .gitignore file to prevent it being pushed to a public git repo.\r\n",
                                     "OK, we have our files...let\u0027s navigate to them in powershell and spin up a container: -\r\n",
                                     "\r\n"
                                 ],
                      "metadata":  {
                                       "azdata_cell_guid":  "9f384a28-272c-4a0c-9e54-adf042379e59"
                                   }
                  },
                  {
                      "cell_type":  "code",
                      "source":  [
                                     "    docker-compose up -d\r\n"
                                 ],
                      "metadata":  {
                                       "azdata_cell_guid":  "8f792fbe-f2cf-4b4a-a04d-79546602c88b"
                                   },
                      "outputs":  [

                                  ],
                      "execution_count":  0
                  },
                  {
                      "cell_type":  "markdown",
                      "source":  [
                                     "\r\n",
                                     "We can see our custom image being built, our custom network being created, and the named volumes: -\r\n",
                                     "![](../images/6.DockerCompose/Advanced/1.RunComposeUp.png)\r\n",
                                     "_N.B. - I\u0027ve cheated slightly with this screenshot as I built the image in the dockerfile beforehand. That\u0027s why you see **Using cache** under each step._\r\n",
                                     "_When run for the first time, you\u0027ll see the ubuntu 18.04 pulled down and then SQL being installed._\r\n",
                                     "Once that\u0027s completed we can check everything created by running: -\r\n",
                                     "\r\n"
                                 ],
                      "metadata":  {
                                       "azdata_cell_guid":  "67f753a9-2b6e-4cb2-9176-b69eb749eef0"
                                   }
                  },
                  {
                      "cell_type":  "code",
                      "source":  [
                                     "    docker network ls\r\n",
                                     "    docker volume ls\r\n",
                                     "    docker image ls\r\n",
                                     "    docker container ls\r\n"
                                 ],
                      "metadata":  {
                                       "azdata_cell_guid":  "66ab0b47-5c1b-4ee9-a75d-723d4ac23be4"
                                   },
                      "outputs":  [

                                  ],
                      "execution_count":  0
                  },
                  {
                      "cell_type":  "markdown",
                      "source":  [
                                     "\r\n",
                                     "![](../images/6.DockerCompose/Advanced/2.ObjectsCreated.png)\r\n",
                                     "And now we can connect to SQL using: -\r\n",
                                     "\r\n"
                                 ],
                      "metadata":  {
                                       "azdata_cell_guid":  "b689bbdb-bce0-4e13-9241-99a6f92406d0"
                                   }
                  },
                  {
                      "cell_type":  "code",
                      "source":  [
                                     "    mssql-cli -S localhost,15789 -U sa -P Testing1122 -Q \"SELECT @@VERSION AS [Version];\"\r\n"
                                 ],
                      "metadata":  {
                                       "azdata_cell_guid":  "7d881f22-cd8c-4026-b8d8-5d8596a2405a"
                                   },
                      "outputs":  [

                                  ],
                      "execution_count":  0
                  },
                  {
                      "cell_type":  "markdown",
                      "source":  [
                                     "\r\n",
                                     "![](../images/6.DockerCompose/Advanced/3.GetSqlVersion.png)\r\n",
                                     "Awesome stuff! We can work away with SQL in the container and when we\u0027re done: -\r\n",
                                     "\r\n"
                                 ],
                      "metadata":  {
                                       "azdata_cell_guid":  "6002edf7-5974-480c-9f9f-cb81cbbb8f49"
                                   }
                  },
                  {
                      "cell_type":  "code",
                      "source":  [
                                     "    docker-compose down\r\n"
                                 ],
                      "metadata":  {
                                       "azdata_cell_guid":  "ec12c59c-cd3a-4369-a0dd-a9a2fa3d0094"
                                   },
                      "outputs":  [

                                  ],
                      "execution_count":  0
                  },
                  {
                      "cell_type":  "markdown",
                      "source":  [
                                     "\r\n",
                                     "![](../images/6.DockerCompose/Advanced/4.ComposeDown.png)\r\n",
                                     "That\u0027s spin down our container, drop our custom network, but we\u0027ll still have the custom image and the named volumes so we can spin another container up and not have lost any of our work!\r\n"
                                 ],
                      "metadata":  {
                                       "azdata_cell_guid":  "cd607471-c900-4a4d-a1d4-366875b88513"
                                   }
                  }
              ]
}
