{
    "metadata":  {
                     "kernelspec":  {
                                        "name":  ".net-powershell",
                                        "language":  "PowerShell",
                                        "display_name":  ".NET (PowerShell)"
                                    }
                 },
    "language_info":  {
                          "name":  "PowerShell",
                          "version":  "7.0",
                          "pygments_lexer":  "powershell",
                          "mimetype":  "text/x-powershell",
                          "file_extension":  ".ps1"
                      },
    "nbformat_minor":  4,
    "nbformat":  4,
    "cells":  [
                  {
                      "cell_type":  "markdown",
                      "source":  [
                                     "\r\n",
                                     "In a previous wiki entry we went through a simple docker compose file to easily spin up one SQL Server container.\r\n",
                                     "Here we\u0027ll go through a more advanced setup, using a dockerfile to create a SQL image from scratch and env files to hold our environment variables.\r\n",
                                     "These are the files we\u0027re going to use: -\r\n",
                                     "\r\n"
                                 ],
                      "metadata":  {
                                       "azdata_cell_guid":  "fd737ced-f4c7-4b8f-871b-ae9d0f723065"
                                   }
                  },
                  {
                      "cell_type":  "code",
                      "source":  [
                                     "    dockerfile\r\n",
                                     "    docker-compose.yaml\r\n",
                                     "    sqlserver.env\r\n",
                                     "    sapassword.env\r\n"
                                 ],
                      "metadata":  {
                                       "azdata_cell_guid":  "92f9708e-f54f-4beb-8a6e-1034d4103db5"
                                   },
                      "outputs":  [

                                  ],
                      "execution_count":  0
                  },
                  {
                      "cell_type":  "markdown",
                      "source":  [
                                     "\r\n",
                                     "Let\u0027s have a look at the dockerfile first: -\r\n",
                                     "\r\n"
                                 ],
                      "metadata":  {
                                       "azdata_cell_guid":  "e78e726a-402d-4f6e-b4b6-38844977fd91"
                                   }
                  },
                  {
                      "cell_type":  "code",
                      "source":  [
                                     "    # build from the Ubuntu 18.04 image\r\n",
                                     "    FROM ubuntu:18.04\r\n",
                                     "     \r\n",
                                     "    # create the mssql user\r\n",
                                     "    RUN useradd -u 10001 mssql\r\n",
                                     "     \r\n",
                                     "    # installing SQL Server\r\n",
                                     "    RUN apt-get update \u0026\u0026 apt-get install -y wget software-properties-common apt-transport-https\r\n",
                                     "    RUN wget -qO- https://packages.microsoft.com/keys/microsoft.asc | apt-key add -\r\n",
                                     "    RUN add-apt-repository \"$(wget -qO- https://packages.microsoft.com/config/ubuntu/18.04/mssql-server-2019.list)\"\r\n",
                                     "    RUN apt-get update \u0026\u0026 apt-get install -y mssql-server\r\n",
                                     "     \r\n",
                                     "    # creating directories\r\n",
                                     "    RUN mkdir /var/opt/sqlserver\r\n",
                                     "    RUN mkdir /var/opt/sqlserver/data\r\n",
                                     "    RUN mkdir /var/opt/sqlserver/log\r\n",
                                     "    RUN mkdir /var/opt/sqlserver/backup\r\n",
                                     "     \r\n",
                                     "    # set permissions on directories\r\n",
                                     "    RUN chown -R mssql:mssql /var/opt/sqlserver\r\n",
                                     "    RUN chown -R mssql:mssql /var/opt/mssql\r\n",
                                     "     \r\n",
                                     "    # switching to the mssql user\r\n",
                                     "    USER mssql\r\n",
                                     "     \r\n",
                                     "    # starting SQL Server\r\n",
                                     "    CMD /opt/mssql/bin/sqlservr\r\n"
                                 ],
                      "metadata":  {
                                       "azdata_cell_guid":  "559c43b1-9525-4c6d-bfe7-651982d2f95d"
                                   },
                      "outputs":  [

                                  ],
                      "execution_count":  0
                  },
                  {
                      "cell_type":  "markdown",
                      "source":  [
                                     "\r\n",
                                     "So this is going to: -\r\n",
                                     "\r\n"
                                 ],
                      "metadata":  {
                                       "azdata_cell_guid":  "f8f11a20-310f-49a4-9580-da3b06b2c190"
                                   }
                  },
                  {
                      "cell_type":  "code",
                      "source":  [
                                     "    1. Pull down the Ubuntu 18.04 image and base this new image off it\r\n",
                                     "    2. Create the mssql user\r\n",
                                     "    3. Install SQL Server as you would on Linux\r\n",
                                     "    4. Create the required directories\r\n",
                                     "    5. Change the owner of those directories to the mssql user\r\n",
                                     "    6. Switch over to run the next command as the mssql user\r\n",
                                     "    7. Start SQL Server\r\n"
                                 ],
                      "metadata":  {
                                       "azdata_cell_guid":  "aed5dcee-61e7-4231-b181-197ab516f099"
                                   },
                      "outputs":  [

                                  ],
                      "execution_count":  0
                  },
                  {
                      "cell_type":  "markdown",
                      "source":  [
                                     "\r\n",
                                     "Great stuff, we have a dockerfile that\u0027ll create us a custom SQL image. Now let\u0027s have a look at the docker-compose.yaml file: -\r\n",
                                     "\r\n"
                                 ],
                      "metadata":  {
                                       "azdata_cell_guid":  "281d19c0-7527-427c-b81b-7eea01cd56d8"
                                   }
                  },
                  {
                      "cell_type":  "code",
                      "source":  [
                                     "    version: \u00273.7\u0027\r\n",
                                     "    services:\r\n",
                                     "        sqlserver1:\r\n",
                                     "            build: \r\n",
                                     "              context: .\r\n",
                                     "              dockerfile: dockerfile\r\n",
                                     "            ports:  \r\n",
                                     "              - \"15789:1433\"\r\n",
                                     "            env_file:\r\n",
                                     "              - sqlserver.env\r\n",
                                     "              - sapassword.env\r\n",
                                     "            volumes: \r\n",
                                     "              - sqlsystem:/var/opt/mssql/\r\n",
                                     "              - sqldata:/var/opt/sqlserver/data\r\n",
                                     "              - sqllog:/var/opt/sqlserver/log\r\n",
                                     "              - sqlbackup:/var/opt/sqlserver/backup\r\n",
                                     "    volumes:\r\n",
                                     "      sqlsystem:\r\n",
                                     "      sqldata:\r\n",
                                     "      sqllog:\r\n",
                                     "      sqlbackup:\r\n"
                                 ],
                      "metadata":  {
                                       "azdata_cell_guid":  "39d1d120-49c2-465d-b5be-92366e3efc6e"
                                   },
                      "outputs":  [

                                  ],
                      "execution_count":  0
                  },
                  {
                      "cell_type":  "markdown",
                      "source":  [
                                     "\r\n",
                                     "Stepping through this we: –\r\n",
                                     "\r\n"
                                 ],
                      "metadata":  {
                                       "azdata_cell_guid":  "ce1bc54f-8c6d-480c-9841-552f2a24092c"
                                   }
                  },
                  {
                      "cell_type":  "code",
                      "source":  [
                                     "    1. Define a service called sqlserver1, setting a build context to the current directory and specifying our dockerfile\r\n",
                                     "    2. Set our ports, mapping 15789 on the host to 1433 in the container\r\n",
                                     "    3. Specify our environment variable files\r\n",
                                     "    4. Then set our volumes, matching the directories created in the dockerfile\r\n"
                                 ],
                      "metadata":  {
                                       "azdata_cell_guid":  "dcec626d-0692-4e9f-bed2-2263271c9b5f"
                                   },
                      "outputs":  [

                                  ],
                      "execution_count":  0
                  },
                  {
                      "cell_type":  "markdown",
                      "source":  [
                                     "\r\n",
                                     "Cool! Ok, finally let\u0027s have a look at the env files: -\r\n",
                                     "\r\n"
                                 ],
                      "metadata":  {
                                       "azdata_cell_guid":  "741e1bb4-efc8-44dd-8749-550817b0694c"
                                   }
                  },
                  {
                      "cell_type":  "code",
                      "source":  [
                                     "    ACCEPT_EULA=Y\r\n",
                                     "    MSSQL_DATA_DIR=/var/opt/sqlserver/data\r\n",
                                     "    MSSQL_LOG_DIR=/var/opt/sqlserver/log\r\n",
                                     "    MSSQL_BACKUP_DIR=/var/opt/sqlserver/backup\r\n"
                                 ],
                      "metadata":  {
                                       "azdata_cell_guid":  "00f0c4f3-a42a-4f74-99ae-a7ab311bfaf2"
                                   },
                      "outputs":  [

                                  ],
                      "execution_count":  0
                  },
                  {
                      "cell_type":  "markdown",
                      "source":  [
                                     "\r\n",
                                     "And: -\r\n"
                                 ],
                      "metadata":  {
                                       "azdata_cell_guid":  "4a2bffb0-b78d-4b7a-a37e-679b9166b1c1"
                                   }
                  },
                  {
                      "cell_type":  "code",
                      "source":  [
                                     "    \r\n",
                                     "    MSSQL_SA_PASSWORD=Testing1122\r\n"
                                 ],
                      "metadata":  {
                                       "azdata_cell_guid":  "d20313dd-ea4e-47ae-95bc-886fb391c7ec"
                                   },
                      "outputs":  [

                                  ],
                      "execution_count":  0
                  },
                  {
                      "cell_type":  "markdown",
                      "source":  [
                                     "\r\n",
                                     "We\u0027ve used a separate file for the SA password so that we could drop it into a .gitignore file to prevent it being pushed to a public git repo.\r\n",
                                     "OK, we have our files...let\u0027s navigate to them in powershell and spin up a container: -\r\n",
                                     "\r\n"
                                 ],
                      "metadata":  {
                                       "azdata_cell_guid":  "ecaaf4d5-4281-420e-8c51-6c057d59ea2f"
                                   }
                  },
                  {
                      "cell_type":  "code",
                      "source":  [
                                     "    docker-compose up -d\r\n"
                                 ],
                      "metadata":  {
                                       "azdata_cell_guid":  "ad8b3805-bab2-4825-a8e3-9698955f1f39"
                                   },
                      "outputs":  [

                                  ],
                      "execution_count":  0
                  },
                  {
                      "cell_type":  "markdown",
                      "source":  [
                                     "\r\n",
                                     "We can see our custom image being built, our custom network being created, and the named volumes: -\r\n",
                                     "![](../images/6.DockerCompose/Advanced/1.RunComposeUp.png)\r\n",
                                     "_N.B. - I\u0027ve cheated slightly with this screenshot as I built the image in the dockerfile beforehand. That\u0027s why you see **Using cache** under each step._\r\n",
                                     "_When run for the first time, you\u0027ll see the ubuntu 18.04 pulled down and then SQL being installed._\r\n",
                                     "Once that\u0027s completed we can check everything created by running: -\r\n",
                                     "\r\n"
                                 ],
                      "metadata":  {
                                       "azdata_cell_guid":  "dc6ab3aa-0a7e-46b9-8c5a-15c0fb21bd0a"
                                   }
                  },
                  {
                      "cell_type":  "code",
                      "source":  [
                                     "    docker network ls\r\n",
                                     "    docker volume ls\r\n",
                                     "    docker image ls\r\n",
                                     "    docker container ls\r\n"
                                 ],
                      "metadata":  {
                                       "azdata_cell_guid":  "421a421a-50d2-478a-b864-c19e317b8956"
                                   },
                      "outputs":  [

                                  ],
                      "execution_count":  0
                  },
                  {
                      "cell_type":  "markdown",
                      "source":  [
                                     "\r\n",
                                     "![](../images/6.DockerCompose/Advanced/2.ObjectsCreated.png)\r\n",
                                     "And now we can connect to SQL using: -\r\n",
                                     "\r\n"
                                 ],
                      "metadata":  {
                                       "azdata_cell_guid":  "068c5b3e-4735-40be-a21a-63ec7982f7d2"
                                   }
                  },
                  {
                      "cell_type":  "code",
                      "source":  [
                                     "    mssql-cli -S localhost,15789 -U sa -P Testing1122 -Q \"SELECT @@VERSION AS [Version];\"\r\n"
                                 ],
                      "metadata":  {
                                       "azdata_cell_guid":  "367ff12b-148c-4e74-b29d-0bff520403e3"
                                   },
                      "outputs":  [

                                  ],
                      "execution_count":  0
                  },
                  {
                      "cell_type":  "markdown",
                      "source":  [
                                     "\r\n",
                                     "![](../images/6.DockerCompose/Advanced/3.GetSqlVersion.png)\r\n",
                                     "Awesome stuff! We can work away with SQL in the container and when we\u0027re done: -\r\n",
                                     "\r\n"
                                 ],
                      "metadata":  {
                                       "azdata_cell_guid":  "99c708d6-7524-4555-8c33-3d2dc44d79d7"
                                   }
                  },
                  {
                      "cell_type":  "code",
                      "source":  [
                                     "    docker-compose down\r\n"
                                 ],
                      "metadata":  {
                                       "azdata_cell_guid":  "4c02b512-7c87-4712-b3d5-6b1af482f1f8"
                                   },
                      "outputs":  [

                                  ],
                      "execution_count":  0
                  }
              ]
}
