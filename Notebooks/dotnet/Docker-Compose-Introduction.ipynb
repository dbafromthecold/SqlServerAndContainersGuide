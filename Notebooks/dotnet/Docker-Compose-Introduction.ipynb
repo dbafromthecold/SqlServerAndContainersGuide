{
    "metadata":  {
                     "kernelspec":  {
                                        "name":  ".net-powershell",
                                        "language":  "PowerShell",
                                        "display_name":  ".NET (PowerShell)"
                                    }
                 },
    "language_info":  {
                          "name":  "PowerShell",
                          "version":  "7.0",
                          "pygments_lexer":  "powershell",
                          "mimetype":  "text/x-powershell",
                          "file_extension":  ".ps1"
                      },
    "nbformat_minor":  4,
    "nbformat":  4,
    "cells":  [
                  {
                      "cell_type":  "markdown",
                      "source":  [
                                     "\r\n",
                                     "[Docker Compose](https://docs.docker.com/compose/) is a really handy tool for spinning up 1+ containers. In this wiki we\u0027ll go through a very basic compose file and how to use it to spin up SQL Server 2019.\r\n",
                                     "Here is a basic compose file: -\r\n",
                                     "\r\n"
                                 ],
                      "metadata":  {
                                       "azdata_cell_guid":  "a0bbe99f-d5f2-449f-8d75-75ac00770611"
                                   }
                  },
                  {
                      "cell_type":  "code",
                      "source":  [
                                     "    version: \u00273.7\u0027\r\n",
                                     "    services:\r\n",
                                     "        sqlserver1:\r\n",
                                     "            image: mcr.microsoft.com/mssql/server:2019-CU5-ubuntu-18.04\r\n",
                                     "            ports:  \r\n",
                                     "                - \"1433:1433\"\r\n",
                                     "            environment:\r\n",
                                     "                - MSSQL_SA_PASSWORD=Testing1122\r\n",
                                     "                - ACCEPT_EULA=Y\r\n"
                                 ],
                      "metadata":  {
                                       "azdata_cell_guid":  "21204896-5cd2-4a0a-9b90-63ad35fb11d2"
                                   },
                      "outputs":  [

                                  ],
                      "execution_count":  0
                  },
                  {
                      "cell_type":  "markdown",
                      "source":  [
                                     "\r\n",
                                     "In here we\u0027re: -\r\n",
                                     "1. Using the SQL Server 2019 CU5 Ubuntu 18.04 image, \r\n",
                                     "2. Mapping port 1433 on the host to 1433 within the container\r\n",
                                     "3. Setting the SA password to Testing1122 and accepting the end user license agreement\r\n",
                                     "So let\u0027s spin up a container using Docker Compose!\r\n",
                                     "Navigate to where the docker-compose file is and to spin up a container from our compose file run: -\r\n"
                                 ],
                      "metadata":  {
                                       "azdata_cell_guid":  "b3a2e3ac-0bfd-48ec-9b52-9147ae38c57b"
                                   }
                  },
                  {
                      "cell_type":  "code",
                      "source":  [
                                     "    \r\n",
                                     "    docker-compose up -d\r\n"
                                 ],
                      "metadata":  {
                                       "azdata_cell_guid":  "47f0f0e7-332a-4477-9fdc-248e649625dc"
                                   },
                      "outputs":  [

                                  ],
                      "execution_count":  0
                  },
                  {
                      "cell_type":  "markdown",
                      "source":  [
                                     "\r\n",
                                     "![](../images/6.DockerCompose/Introduction/1.docker_compose_up.png)\r\n",
                                     "Let\u0027s check that the container is running: -\r\n",
                                     "\r\n"
                                 ],
                      "metadata":  {
                                       "azdata_cell_guid":  "05faf3b0-55fb-4cd0-ae73-78dbefdd60b8"
                                   }
                  },
                  {
                      "cell_type":  "code",
                      "source":  [
                                     "    docker container ls -a\r\n"
                                 ],
                      "metadata":  {
                                       "azdata_cell_guid":  "6b8bbaf1-8222-48ee-9443-55469516d237"
                                   },
                      "outputs":  [

                                  ],
                      "execution_count":  0
                  },
                  {
                      "cell_type":  "markdown",
                      "source":  [
                                     "\r\n",
                                     "![](../images/6.DockerCompose/Introduction/2.docker_container_ls.png)\r\n",
                                     "We also have a custom network created, more on this later: -\r\n",
                                     "\r\n"
                                 ],
                      "metadata":  {
                                       "azdata_cell_guid":  "fbe51ad5-3f88-431f-a54d-4f923d696a39"
                                   }
                  },
                  {
                      "cell_type":  "code",
                      "source":  [
                                     "    docker network ls\r\n"
                                 ],
                      "metadata":  {
                                       "azdata_cell_guid":  "89fb7271-a90f-48cd-b35e-53e997d3b0c2"
                                   },
                      "outputs":  [

                                  ],
                      "execution_count":  0
                  },
                  {
                      "cell_type":  "markdown",
                      "source":  [
                                     "\r\n",
                                     "![](../images/6.DockerCompose/Introduction/3.docker_network_ls.png)\r\n",
                                     "Let\u0027s check that we can connect to SQL within our container: -\r\n",
                                     "\r\n"
                                 ],
                      "metadata":  {
                                       "azdata_cell_guid":  "d01aa5b2-a4d1-4f58-ad3f-7c86705efde4"
                                   }
                  },
                  {
                      "cell_type":  "code",
                      "source":  [
                                     "     mssql-cli -S localhost -U sa -P Testing1122 -Q \"SELECT @@VERSION AS [Version];\"\r\n"
                                 ],
                      "metadata":  {
                                       "azdata_cell_guid":  "15a570be-a36c-41bd-a56d-61bca18d83b9"
                                   },
                      "outputs":  [

                                  ],
                      "execution_count":  0
                  },
                  {
                      "cell_type":  "markdown",
                      "source":  [
                                     "\r\n",
                                     "![](../images/6.DockerCompose/Introduction/4.mssql_cli_get_version.png)\r\n",
                                     "To remove the container: -\r\n",
                                     "\r\n"
                                 ],
                      "metadata":  {
                                       "azdata_cell_guid":  "24ef6715-f69b-45d9-996e-b1f06243718d"
                                   }
                  },
                  {
                      "cell_type":  "code",
                      "source":  [
                                     "    docker-compose down\r\n"
                                 ],
                      "metadata":  {
                                       "azdata_cell_guid":  "496ac53f-3791-453e-b493-352abaa2928c"
                                   },
                      "outputs":  [

                                  ],
                      "execution_count":  0
                  },
                  {
                      "cell_type":  "markdown",
                      "source":  [
                                     "\r\n",
                                     "![](../images/6.DockerCompose/Introduction/5.docker_compose_down.png)\r\n",
                                     "That\u0027s a brief introduction to using Docker Compose to spin up a container running SQL Server.\r\n"
                                 ],
                      "metadata":  {
                                       "azdata_cell_guid":  "03a65772-8283-404b-b61f-5495837f218c"
                                   }
                  }
              ]
}
