{
    "metadata":  {
                     "kernelspec":  {
                                        "name":  ".net-powershell",
                                        "language":  "PowerShell",
                                        "display_name":  ".NET (PowerShell)"
                                    }
                 },
    "language_info":  {
                          "name":  "PowerShell",
                          "version":  "7.0",
                          "pygments_lexer":  "powershell",
                          "mimetype":  "text/x-powershell",
                          "file_extension":  ".ps1"
                      },
    "nbformat_minor":  4,
    "nbformat":  4,
    "cells":  [
                  {
                      "cell_type":  "markdown",
                      "source":  [
                                     "\r\n",
                                     "[Docker Compose](https://docs.docker.com/compose/) is a really handy tool for spinning up 1+ containers. In this wiki we\u0027ll go through a very basic compose file and how to use it to spin up SQL Server 2019.\r\n",
                                     "Here is a basic compose file: -\r\n",
                                     "\r\n"
                                 ],
                      "metadata":  {
                                       "azdata_cell_guid":  "73ee1b24-0561-4e35-82f1-9afdd7ac1b12"
                                   }
                  },
                  {
                      "cell_type":  "code",
                      "source":  [
                                     "    version: \u00273.7\u0027\r\n",
                                     "    services:\r\n",
                                     "        sqlserver1:\r\n",
                                     "            image: mcr.microsoft.com/mssql/server:2019-CU5-ubuntu-18.04\r\n",
                                     "            ports:  \r\n",
                                     "                - \"1433:1433\"\r\n",
                                     "            environment:\r\n",
                                     "                - MSSQL_SA_PASSWORD=Testing1122\r\n",
                                     "                - ACCEPT_EULA=Y\r\n"
                                 ],
                      "metadata":  {
                                       "azdata_cell_guid":  "7b9f630d-5fd0-4d62-acc0-ad80f91d545e"
                                   },
                      "outputs":  [

                                  ],
                      "execution_count":  0
                  },
                  {
                      "cell_type":  "markdown",
                      "source":  [
                                     "\r\n",
                                     "In here we\u0027re: -\r\n",
                                     "1. Using the SQL Server 2019 CU5 Ubuntu 18.04 image, \r\n",
                                     "2. Mapping port 1433 on the host to 1433 within the container\r\n",
                                     "3. Setting the SA password to Testing1122 and accepting the end user license agreement\r\n",
                                     "So let\u0027s spin up a container using Docker Compose!\r\n",
                                     "Navigate to where the docker-compose file is and to spin up a container from our compose file run: -\r\n"
                                 ],
                      "metadata":  {
                                       "azdata_cell_guid":  "04cc1223-e1c7-4f40-ae7f-7d58bf4dee8b"
                                   }
                  },
                  {
                      "cell_type":  "code",
                      "source":  [
                                     "    \r\n",
                                     "    docker-compose up -d\r\n"
                                 ],
                      "metadata":  {
                                       "azdata_cell_guid":  "3dc7525e-3d35-46b2-8e52-1e9935c4c458"
                                   },
                      "outputs":  [

                                  ],
                      "execution_count":  0
                  },
                  {
                      "cell_type":  "markdown",
                      "source":  [
                                     "\r\n",
                                     "![](../images/6.DockerCompose/Introduction/1.docker_compose_up.png)\r\n",
                                     "Let\u0027s check that the container is running: -\r\n",
                                     "\r\n"
                                 ],
                      "metadata":  {
                                       "azdata_cell_guid":  "a1d01281-0538-42ce-bad0-d4c37ad4fbce"
                                   }
                  },
                  {
                      "cell_type":  "code",
                      "source":  [
                                     "    docker container ls -a\r\n"
                                 ],
                      "metadata":  {
                                       "azdata_cell_guid":  "3720bc4a-2a77-4b77-a0a1-397527df4fa4"
                                   },
                      "outputs":  [

                                  ],
                      "execution_count":  0
                  },
                  {
                      "cell_type":  "markdown",
                      "source":  [
                                     "\r\n",
                                     "![](../images/6.DockerCompose/Introduction/2.docker_container_ls.png)\r\n",
                                     "We also have a custom network created, more on this later: -\r\n",
                                     "\r\n"
                                 ],
                      "metadata":  {
                                       "azdata_cell_guid":  "8ccb41e3-bc0b-483c-95a7-4190999b78ed"
                                   }
                  },
                  {
                      "cell_type":  "code",
                      "source":  [
                                     "    docker network ls\r\n"
                                 ],
                      "metadata":  {
                                       "azdata_cell_guid":  "fa2a98ff-3ccd-41f4-abba-b997e998d299"
                                   },
                      "outputs":  [

                                  ],
                      "execution_count":  0
                  },
                  {
                      "cell_type":  "markdown",
                      "source":  [
                                     "\r\n",
                                     "![](../images/6.DockerCompose/Introduction/3.docker_network_ls.png)\r\n",
                                     "Let\u0027s check that we can connect to SQL within our container: -\r\n",
                                     "\r\n"
                                 ],
                      "metadata":  {
                                       "azdata_cell_guid":  "2de16533-cf05-4c69-8854-d328b4cc56b7"
                                   }
                  },
                  {
                      "cell_type":  "code",
                      "source":  [
                                     "     mssql-cli -S localhost -U sa -P Testing1122 -Q \"SELECT @@VERSION AS [Version];\"\r\n"
                                 ],
                      "metadata":  {
                                       "azdata_cell_guid":  "a6fd23e9-d3d6-4bfb-bc8f-0df4ebbcb745"
                                   },
                      "outputs":  [

                                  ],
                      "execution_count":  0
                  },
                  {
                      "cell_type":  "markdown",
                      "source":  [
                                     "\r\n",
                                     "![](../images/6.DockerCompose/Introduction/4.mssql_cli_get_version.png)\r\n",
                                     "To remove the container: -\r\n",
                                     "\r\n"
                                 ],
                      "metadata":  {
                                       "azdata_cell_guid":  "553a34aa-d805-4870-a28c-35443babede7"
                                   }
                  },
                  {
                      "cell_type":  "code",
                      "source":  [
                                     "    docker-compose down\r\n"
                                 ],
                      "metadata":  {
                                       "azdata_cell_guid":  "55d6a123-b0c4-46e7-b995-0d9d288864a3"
                                   },
                      "outputs":  [

                                  ],
                      "execution_count":  0
                  }
              ]
}
