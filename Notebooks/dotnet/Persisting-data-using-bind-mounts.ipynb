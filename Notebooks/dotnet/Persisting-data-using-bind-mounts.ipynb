{
    "metadata":  {
                     "kernelspec":  {
                                        "name":  ".net-powershell",
                                        "language":  "PowerShell",
                                        "display_name":  ".NET (PowerShell)"
                                    }
                 },
    "language_info":  {
                          "name":  "PowerShell",
                          "version":  "7.0",
                          "pygments_lexer":  "powershell",
                          "mimetype":  "text/x-powershell",
                          "file_extension":  ".ps1"
                      },
    "nbformat_minor":  4,
    "nbformat":  4,
    "cells":  [
                  {
                      "cell_type":  "markdown",
                      "source":  [
                                     "\r\n",
                                     "On previous pages we\u0027ve gone through how to persist databases from one container to another by using: -\r\n",
                                     "> [Named Volumes](https://github.com/dbafromthecold/SqlServerAndContainersGuide/wiki/Persisting-data-using-named-volumes)<br>\r\n",
                                     "> [Data Volume Containers](https://github.com/dbafromthecold/SqlServerAndContainersGuide/wiki/Persisting-data-using-data-volume-containers)\r\n",
                                     "Another way to is mount a volume from the Docker host into a container.\r\n",
                                     "Let\u0027s create a couple of directories on the host: -\r\n",
                                     "\r\n"
                                 ],
                      "metadata":  {
                                       "azdata_cell_guid":  "9d7c1956-b833-4b9b-b43d-36664ee9fe17"
                                   }
                  },
                  {
                      "cell_type":  "code",
                      "source":  [
                                     "    mkdir C:\\sqlserver\\data\r\n",
                                     "    mkdir C:\\sqlserver\\log\r\n"
                                 ],
                      "metadata":  {
                                       "azdata_cell_guid":  "10869edb-000b-4a4e-ac76-c1a2e3c0e396"
                                   },
                      "outputs":  [

                                  ],
                      "execution_count":  0
                  },
                  {
                      "cell_type":  "markdown",
                      "source":  [
                                     "\r\n",
                                     "![](../images/3.PersistingData/BindMounts/1.CreateVolumesOnHost.png)\r\n",
                                     "Now, run a container: -\r\n",
                                     "\r\n"
                                 ],
                      "metadata":  {
                                       "azdata_cell_guid":  "21f30015-9d09-4fbc-a9da-c5272ed62e01"
                                   }
                  },
                  {
                      "cell_type":  "code",
                      "source":  [
                                     "    docker container run -d  `\r\n",
                                     "    --publish 15789:1433 `\r\n",
                                     "    --volume C:\\sqlserver\\data:/opt/sqlserver/data `\r\n",
                                     "    --volume C:\\sqlserver\\log:/opt/sqlserver/log `\r\n",
                                     "    --env ACCEPT_EULA=Y `\r\n",
                                     "    --env MSSQL_SA_PASSWORD=Testing1122 `\r\n",
                                     "    --env MSSQL_DATA_DIR=/opt/sqlserver/data `\r\n",
                                     "    --env MSSQL_LOG_DIR=/opt/sqlserver/log `\r\n",
                                     "    --name sqlcontainer1 `\r\n",
                                     "    mcr.microsoft.com/mssql/server:2019-CU5-ubuntu-18.04\r\n"
                                 ],
                      "metadata":  {
                                       "azdata_cell_guid":  "35053bcc-f862-46a2-af2f-62aba714ad0c"
                                   },
                      "outputs":  [

                                  ],
                      "execution_count":  0
                  },
                  {
                      "cell_type":  "markdown",
                      "source":  [
                                     "\r\n",
                                     "This will map the volumes on the host to /opt/sqlserver/data and /opt/sqlserver/log in the container. \r\n",
                                     "We\u0027re also using environment variables to set the SQL Server default data and log locations to those volumes in the container.\r\n",
                                     "Let\u0027s confirm that the container is up: -\r\n",
                                     "\r\n"
                                 ],
                      "metadata":  {
                                       "azdata_cell_guid":  "f0d7bdc6-ea79-4a97-855c-9697101692aa"
                                   }
                  },
                  {
                      "cell_type":  "code",
                      "source":  [
                                     "    docker container ls -a\r\n"
                                 ],
                      "metadata":  {
                                       "azdata_cell_guid":  "77773632-d235-4d12-ae7e-5a2ed9a8fdd8"
                                   },
                      "outputs":  [

                                  ],
                      "execution_count":  0
                  },
                  {
                      "cell_type":  "markdown",
                      "source":  [
                                     "\r\n",
                                     "![](../images/3.PersistingData/BindMounts/2.RunSqlContainer.png)\r\n",
                                     "And now let\u0027s create a database: -\r\n",
                                     "\r\n"
                                 ],
                      "metadata":  {
                                       "azdata_cell_guid":  "79f25ca2-d32f-401c-9f35-5c33dc1550b3"
                                   }
                  },
                  {
                      "cell_type":  "code",
                      "source":  [
                                     "    mssql-cli -S localhost,15789 -U sa -P Testing1122 -Q \"CREATE DATABASE [testdatabase]\"\r\n"
                                 ],
                      "metadata":  {
                                       "azdata_cell_guid":  "ff834839-eb03-4977-b420-22b149480277"
                                   },
                      "outputs":  [

                                  ],
                      "execution_count":  0
                  },
                  {
                      "cell_type":  "markdown",
                      "source":  [
                                     "\r\n",
                                     "No need to set the data and log file location as we\u0027ve set the defaults to the volumes in the container that are mapped to the volumes on the host.\r\n",
                                     "We can check the database files by running: -\r\n",
                                     "\r\n"
                                 ],
                      "metadata":  {
                                       "azdata_cell_guid":  "18a8db05-5e64-45ac-9788-ca7ac672071b"
                                   }
                  },
                  {
                      "cell_type":  "code",
                      "source":  [
                                     "    mssql-cli -S localhost,15789 -U sa -P Testing1122 -Q \"USE [testdatabase]; EXEC sp_helpfile;\"\r\n"
                                 ],
                      "metadata":  {
                                       "azdata_cell_guid":  "6fc99ea4-3284-4ce0-81d6-af17829903ba"
                                   },
                      "outputs":  [

                                  ],
                      "execution_count":  0
                  },
                  {
                      "cell_type":  "markdown",
                      "source":  [
                                     "\r\n",
                                     "![](../images/3.PersistingData/BindMounts/3.ConfirmDatabaseFileLocation.png)\r\n",
                                     "And we can confirm the files on the host by running: -\r\n",
                                     "\r\n"
                                 ],
                      "metadata":  {
                                       "azdata_cell_guid":  "0eb55fb8-cd7b-4fe9-a4c1-d2cc71b4cc70"
                                   }
                  },
                  {
                      "cell_type":  "code",
                      "source":  [
                                     "    ls C:\\sqlserver\\data\r\n",
                                     "    ls C:\\sqlserver\\log\r\n"
                                 ],
                      "metadata":  {
                                       "azdata_cell_guid":  "b10292c9-c360-4447-a5e3-d4925f0a171e"
                                   },
                      "outputs":  [

                                  ],
                      "execution_count":  0
                  },
                  {
                      "cell_type":  "markdown",
                      "source":  [
                                     "\r\n",
                                     "![](../images/3.PersistingData/BindMounts/4.ConfirmDatabaseFilesOnHost.png)\r\n",
                                     "And there are the database files on the host!\r\n",
                                     "Ok, blow the container away: -\r\n",
                                     "\r\n"
                                 ],
                      "metadata":  {
                                       "azdata_cell_guid":  "da4be630-6911-416c-8b6e-cc8e8ab76dff"
                                   }
                  },
                  {
                      "cell_type":  "code",
                      "source":  [
                                     "    docker rm sqlcontainer1 -f\r\n"
                                 ],
                      "metadata":  {
                                       "azdata_cell_guid":  "214334ae-c991-4a30-9a3e-613ac4fbd09f"
                                   },
                      "outputs":  [

                                  ],
                      "execution_count":  0
                  },
                  {
                      "cell_type":  "markdown",
                      "source":  [
                                     "\r\n",
                                     "And spin up a new container, remapping the volumes from the host: -\r\n",
                                     "\r\n"
                                 ],
                      "metadata":  {
                                       "azdata_cell_guid":  "b6ce5192-1e8e-43b5-aa99-fc4d892c9d36"
                                   }
                  },
                  {
                      "cell_type":  "code",
                      "source":  [
                                     "    docker container run -d  `\r\n",
                                     "    --publish 15799:1433 `\r\n",
                                     "    --volume C:\\sqlserver\\data:/opt/sqlserver/data `\r\n",
                                     "    --volume C:\\sqlserver\\log:/opt/sqlserver/log `\r\n",
                                     "    --env ACCEPT_EULA=Y `\r\n",
                                     "    --env MSSQL_SA_PASSWORD=Testing1122 `\r\n",
                                     "    --env MSSQL_DATA_DIR=/opt/sqlserver/data `\r\n",
                                     "    --env MSSQL_LOG_DIR=/opt/sqlserver/log `\r\n",
                                     "    --name sqlcontainer2 `\r\n",
                                     "    mcr.microsoft.com/mssql/server:2019-CU5-ubuntu-18.04\r\n"
                                 ],
                      "metadata":  {
                                       "azdata_cell_guid":  "0d5e5332-32f2-4a6a-b893-57f03af7eee1"
                                   },
                      "outputs":  [

                                  ],
                      "execution_count":  0
                  },
                  {
                      "cell_type":  "markdown",
                      "source":  [
                                     "\r\n",
                                     "Confirm the container is up and running: -\r\n",
                                     "\r\n"
                                 ],
                      "metadata":  {
                                       "azdata_cell_guid":  "f0a50952-9859-467d-8eb9-aa188c322611"
                                   }
                  },
                  {
                      "cell_type":  "code",
                      "source":  [
                                     "     docker container ls -a\r\n"
                                 ],
                      "metadata":  {
                                       "azdata_cell_guid":  "e1e41cbc-c9e1-4822-b086-e83d70dfa8d4"
                                   },
                      "outputs":  [

                                  ],
                      "execution_count":  0
                  },
                  {
                      "cell_type":  "markdown",
                      "source":  [
                                     "\r\n",
                                     "![](../images/3.PersistingData/BindMounts/5.RunSecondSqlContainer.png)\r\n",
                                     "Cool. Ok, now as we didn\u0027t persist the master database location we\u0027ll need to manually attach the database into SQL in the new container: -\r\n",
                                     "\r\n"
                                 ],
                      "metadata":  {
                                       "azdata_cell_guid":  "7df38122-8848-4093-9278-8374c35a615a"
                                   }
                  },
                  {
                      "cell_type":  "code",
                      "source":  [
                                     "     mssql-cli -S localhost,15799 -U sa -P Testing1122 `\r\n",
                                     "     -Q \"CREATE DATABASE [testdatabase1] ON PRIMARY (NAME=\u0027testdatabase1\u0027,FILENAME=\u0027/var/opt/sqlserver/data testdatabase1.mdf\u0027) LOG ON (NAME=\u0027testdatabase1_log\u0027,FILENAME=\u0027/var/opt/sqlserver/log/testdatabase1_log.ldf\u0027) FOR ATTACH;\"\r\n"
                                 ],
                      "metadata":  {
                                       "azdata_cell_guid":  "667ce373-69ce-4757-8e31-25db971a1b6f"
                                   },
                      "outputs":  [

                                  ],
                      "execution_count":  0
                  },
                  {
                      "cell_type":  "markdown",
                      "source":  [
                                     "\r\n",
                                     "And now check that the database is there: -\r\n",
                                     "\r\n"
                                 ],
                      "metadata":  {
                                       "azdata_cell_guid":  "07e59dcf-8dbc-40d4-a9a0-9833ddb5f82b"
                                   }
                  },
                  {
                      "cell_type":  "code",
                      "source":  [
                                     "     mssql-cli -S localhost,15799 -U sa -P Testing1122 -Q \"SELECT [name] FROM sys.databases;\"\r\n"
                                 ],
                      "metadata":  {
                                       "azdata_cell_guid":  "3b66d7f4-2045-4c08-a5a4-8e2ea186f74f"
                                   },
                      "outputs":  [

                                  ],
                      "execution_count":  0
                  }
              ]
}
