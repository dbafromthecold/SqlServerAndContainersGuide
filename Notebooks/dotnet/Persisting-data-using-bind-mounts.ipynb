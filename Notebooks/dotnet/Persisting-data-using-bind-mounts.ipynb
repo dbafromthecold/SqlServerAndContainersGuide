{
    "metadata":  {
                     "kernelspec":  {
                                        "name":  ".net-powershell",
                                        "language":  "PowerShell",
                                        "display_name":  ".NET (PowerShell)"
                                    }
                 },
    "language_info":  {
                          "name":  "PowerShell",
                          "version":  "7.0",
                          "pygments_lexer":  "powershell",
                          "mimetype":  "text/x-powershell",
                          "file_extension":  ".ps1"
                      },
    "nbformat_minor":  4,
    "nbformat":  4,
    "cells":  [
                  {
                      "cell_type":  "markdown",
                      "source":  [
                                     "\r\n",
                                     "On previous pages we\u0027ve gone through how to persist databases from one container to another by using: -\r\n",
                                     "> [Named Volumes](https://github.com/dbafromthecold/SqlServerAndContainersGuide/wiki/Persisting-data-using-named-volumes)<br>\r\n",
                                     "> [Data Volume Containers](https://github.com/dbafromthecold/SqlServerAndContainersGuide/wiki/Persisting-data-using-data-volume-containers)\r\n",
                                     "Another way to is mount a volume from the Docker host into a container.\r\n",
                                     "Let\u0027s create a couple of directories on the host: -\r\n",
                                     "\r\n"
                                 ],
                      "metadata":  {
                                       "azdata_cell_guid":  "5ce15cc7-a528-4f44-98e9-3bff04e02819"
                                   }
                  },
                  {
                      "cell_type":  "code",
                      "source":  [
                                     "    mkdir C:\\sqlserver\\data\r\n",
                                     "    mkdir C:\\sqlserver\\log\r\n"
                                 ],
                      "metadata":  {
                                       "azdata_cell_guid":  "5555c3e4-95d1-4145-b3dd-680c7ccdb30e"
                                   },
                      "outputs":  [

                                  ],
                      "execution_count":  0
                  },
                  {
                      "cell_type":  "markdown",
                      "source":  [
                                     "\r\n",
                                     "![](../images/3.PersistingData/BindMounts/1.CreateVolumesOnHost.png)\r\n",
                                     "Now, run a container: -\r\n",
                                     "\r\n"
                                 ],
                      "metadata":  {
                                       "azdata_cell_guid":  "41c3d246-ff44-431f-8c4b-df16c8c291c9"
                                   }
                  },
                  {
                      "cell_type":  "code",
                      "source":  [
                                     "    docker container run -d  `\r\n",
                                     "    --publish 15789:1433 `\r\n",
                                     "    --volume C:\\sqlserver\\data:/opt/sqlserver/data `\r\n",
                                     "    --volume C:\\sqlserver\\log:/opt/sqlserver/log `\r\n",
                                     "    --env ACCEPT_EULA=Y `\r\n",
                                     "    --env MSSQL_SA_PASSWORD=Testing1122 `\r\n",
                                     "    --env MSSQL_DATA_DIR=/opt/sqlserver/data `\r\n",
                                     "    --env MSSQL_LOG_DIR=/opt/sqlserver/log `\r\n",
                                     "    --name sqlcontainer1 `\r\n",
                                     "    mcr.microsoft.com/mssql/server:2019-CU5-ubuntu-18.04\r\n"
                                 ],
                      "metadata":  {
                                       "azdata_cell_guid":  "7b0a82d1-cf24-42d3-b32c-002163edbed3"
                                   },
                      "outputs":  [

                                  ],
                      "execution_count":  0
                  },
                  {
                      "cell_type":  "markdown",
                      "source":  [
                                     "\r\n",
                                     "This will map the volumes on the host to /opt/sqlserver/data and /opt/sqlserver/log in the container. \r\n",
                                     "We\u0027re also using environment variables to set the SQL Server default data and log locations to those volumes in the container.\r\n",
                                     "Let\u0027s confirm that the container is up: -\r\n",
                                     "\r\n"
                                 ],
                      "metadata":  {
                                       "azdata_cell_guid":  "beb8254f-10c5-4498-bd99-0b03dff999e2"
                                   }
                  },
                  {
                      "cell_type":  "code",
                      "source":  [
                                     "    docker container ls -a\r\n"
                                 ],
                      "metadata":  {
                                       "azdata_cell_guid":  "3ef1514a-d4c7-4b77-b171-db1734534a71"
                                   },
                      "outputs":  [

                                  ],
                      "execution_count":  0
                  },
                  {
                      "cell_type":  "markdown",
                      "source":  [
                                     "\r\n",
                                     "![](../images/3.PersistingData/BindMounts/2.RunSqlContainer.png)\r\n",
                                     "And now let\u0027s create a database: -\r\n",
                                     "\r\n"
                                 ],
                      "metadata":  {
                                       "azdata_cell_guid":  "e90e1203-1e4b-45a4-95c9-268d8c571411"
                                   }
                  },
                  {
                      "cell_type":  "code",
                      "source":  [
                                     "    mssql-cli -S localhost,15789 -U sa -P Testing1122 -Q \"CREATE DATABASE [testdatabase]\"\r\n"
                                 ],
                      "metadata":  {
                                       "azdata_cell_guid":  "2f374844-ba5e-4196-aae2-457b0c5e2cdf"
                                   },
                      "outputs":  [

                                  ],
                      "execution_count":  0
                  },
                  {
                      "cell_type":  "markdown",
                      "source":  [
                                     "\r\n",
                                     "No need to set the data and log file location as we\u0027ve set the defaults to the volumes in the container that are mapped to the volumes on the host.\r\n",
                                     "We can check the database files by running: -\r\n",
                                     "\r\n"
                                 ],
                      "metadata":  {
                                       "azdata_cell_guid":  "bcfab2d2-8a35-4bef-a4b2-c67d7e89a136"
                                   }
                  },
                  {
                      "cell_type":  "code",
                      "source":  [
                                     "    mssql-cli -S localhost,15789 -U sa -P Testing1122 -Q \"USE [testdatabase]; EXEC sp_helpfile;\"\r\n"
                                 ],
                      "metadata":  {
                                       "azdata_cell_guid":  "4432a67f-595f-479c-811d-80b1da90ef55"
                                   },
                      "outputs":  [

                                  ],
                      "execution_count":  0
                  },
                  {
                      "cell_type":  "markdown",
                      "source":  [
                                     "\r\n",
                                     "![](../images/3.PersistingData/BindMounts/3.ConfirmDatabaseFileLocation.png)\r\n",
                                     "And we can confirm the files on the host by running: -\r\n",
                                     "\r\n"
                                 ],
                      "metadata":  {
                                       "azdata_cell_guid":  "4a6fd1c3-b977-4db1-9db3-b8ea574ef42b"
                                   }
                  },
                  {
                      "cell_type":  "code",
                      "source":  [
                                     "    ls C:\\sqlserver\\data\r\n",
                                     "    ls C:\\sqlserver\\log\r\n"
                                 ],
                      "metadata":  {
                                       "azdata_cell_guid":  "260b7d81-1492-4b3b-a4a9-e47177de9ad4"
                                   },
                      "outputs":  [

                                  ],
                      "execution_count":  0
                  },
                  {
                      "cell_type":  "markdown",
                      "source":  [
                                     "\r\n",
                                     "![](../images/3.PersistingData/BindMounts/4.ConfirmDatabaseFilesOnHost.png)\r\n",
                                     "And there are the database files on the host!\r\n",
                                     "Ok, blow the container away: -\r\n",
                                     "\r\n"
                                 ],
                      "metadata":  {
                                       "azdata_cell_guid":  "fc911409-c732-4c47-8a09-df0d75841389"
                                   }
                  },
                  {
                      "cell_type":  "code",
                      "source":  [
                                     "    docker rm sqlcontainer1 -f\r\n"
                                 ],
                      "metadata":  {
                                       "azdata_cell_guid":  "507d7b87-71e3-4f48-b8d9-7d1c44e5c441"
                                   },
                      "outputs":  [

                                  ],
                      "execution_count":  0
                  },
                  {
                      "cell_type":  "markdown",
                      "source":  [
                                     "\r\n",
                                     "And spin up a new container, remapping the volumes from the host: -\r\n",
                                     "\r\n"
                                 ],
                      "metadata":  {
                                       "azdata_cell_guid":  "da81f3ef-4809-41d9-8c5c-f6c5dd72480f"
                                   }
                  },
                  {
                      "cell_type":  "code",
                      "source":  [
                                     "    docker container run -d  `\r\n",
                                     "    --publish 15799:1433 `\r\n",
                                     "    --volume C:\\sqlserver\\data:/opt/sqlserver/data `\r\n",
                                     "    --volume C:\\sqlserver\\log:/opt/sqlserver/log `\r\n",
                                     "    --env ACCEPT_EULA=Y `\r\n",
                                     "    --env MSSQL_SA_PASSWORD=Testing1122 `\r\n",
                                     "    --env MSSQL_DATA_DIR=/opt/sqlserver/data `\r\n",
                                     "    --env MSSQL_LOG_DIR=/opt/sqlserver/log `\r\n",
                                     "    --name sqlcontainer2 `\r\n",
                                     "    mcr.microsoft.com/mssql/server:2019-CU5-ubuntu-18.04\r\n"
                                 ],
                      "metadata":  {
                                       "azdata_cell_guid":  "c6ddfef1-3e23-4e81-aa94-1cf92f318658"
                                   },
                      "outputs":  [

                                  ],
                      "execution_count":  0
                  },
                  {
                      "cell_type":  "markdown",
                      "source":  [
                                     "\r\n",
                                     "Confirm the container is up and running: -\r\n",
                                     "\r\n"
                                 ],
                      "metadata":  {
                                       "azdata_cell_guid":  "4b411e4a-a07a-4534-9fd8-9053136ea685"
                                   }
                  },
                  {
                      "cell_type":  "code",
                      "source":  [
                                     "     docker container ls -a\r\n"
                                 ],
                      "metadata":  {
                                       "azdata_cell_guid":  "d4832175-6e09-4ae6-b496-250575d36462"
                                   },
                      "outputs":  [

                                  ],
                      "execution_count":  0
                  },
                  {
                      "cell_type":  "markdown",
                      "source":  [
                                     "\r\n",
                                     "![](../images/3.PersistingData/BindMounts/5.RunSecondSqlContainer.png)\r\n",
                                     "Cool. Ok, now as we didn\u0027t persist the master database location we\u0027ll need to manually attach the database into SQL in the new container: -\r\n",
                                     "\r\n"
                                 ],
                      "metadata":  {
                                       "azdata_cell_guid":  "caaec287-54cb-49b8-a9a9-0e90725206d9"
                                   }
                  },
                  {
                      "cell_type":  "code",
                      "source":  [
                                     "     mssql-cli -S localhost,15799 -U sa -P Testing1122 `\r\n",
                                     "     -Q \"CREATE DATABASE [testdatabase1] ON PRIMARY (NAME=\u0027testdatabase1\u0027,FILENAME=\u0027/var/opt/sqlserver/data testdatabase1.mdf\u0027) LOG ON (NAME=\u0027testdatabase1_log\u0027,FILENAME=\u0027/var/opt/sqlserver/log/testdatabase1_log.ldf\u0027) FOR ATTACH;\"\r\n"
                                 ],
                      "metadata":  {
                                       "azdata_cell_guid":  "4c23d446-1294-45bc-8c17-c876799c0e8d"
                                   },
                      "outputs":  [

                                  ],
                      "execution_count":  0
                  },
                  {
                      "cell_type":  "markdown",
                      "source":  [
                                     "\r\n",
                                     "And now check that the database is there: -\r\n",
                                     "\r\n"
                                 ],
                      "metadata":  {
                                       "azdata_cell_guid":  "d8573e11-a493-44f1-ab18-0b2cd32bf92d"
                                   }
                  },
                  {
                      "cell_type":  "code",
                      "source":  [
                                     "     mssql-cli -S localhost,15799 -U sa -P Testing1122 -Q \"SELECT [name] FROM sys.databases;\"\r\n"
                                 ],
                      "metadata":  {
                                       "azdata_cell_guid":  "c1935a26-5a75-43dd-9ea0-2660d9985b0e"
                                   },
                      "outputs":  [

                                  ],
                      "execution_count":  0
                  },
                  {
                      "cell_type":  "markdown",
                      "source":  [
                                     "\r\n",
                                     "![](../images/3.PersistingData/BindMounts/6.AttachDatabaseToSql.png)\r\n",
                                     "And there\u0027s the database! We\u0027ve persisted a database from one container to another by mounting volumes from the host.\r\n"
                                 ],
                      "metadata":  {
                                       "azdata_cell_guid":  "330d7421-1260-4ce8-80de-03b2ace0953e"
                                   }
                  }
              ]
}
