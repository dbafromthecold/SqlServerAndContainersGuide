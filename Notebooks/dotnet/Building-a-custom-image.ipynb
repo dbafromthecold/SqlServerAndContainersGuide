{
    "metadata":  {
                     "kernelspec":  {
                                        "name":  ".net-powershell",
                                        "language":  "PowerShell",
                                        "display_name":  ".NET (PowerShell)"
                                    }
                 },
    "language_info":  {
                          "name":  "PowerShell",
                          "version":  "7.0",
                          "pygments_lexer":  "powershell",
                          "mimetype":  "text/x-powershell",
                          "file_extension":  ".ps1"
                      },
    "nbformat_minor":  4,
    "nbformat":  4,
    "cells":  [
                  {
                      "cell_type":  "markdown",
                      "source":  [
                                     "\r\n",
                                     "In the [Persisting Data using Named Volumes](https://github.com/dbafromthecold/SqlServerAndContainersGuide/wiki/Persisting-data-using-named-volumes) section of this wiki we used docker named volumes to persist databases from one container to another but we had a manual step to perform before we could create a database in a custom location: -\r\n",
                                     "\r\n"
                                 ],
                      "metadata":  {
                                       "azdata_cell_guid":  "68e67485-c0a9-449c-b97e-85d2c40f5166"
                                   }
                  },
                  {
                      "cell_type":  "code",
                      "source":  [
                                     "    docker exec -u 0 testcontainer8 bash -c \"chown -R mssql /var/opt/sqlserver\"\r\n"
                                 ],
                      "metadata":  {
                                       "azdata_cell_guid":  "b49bb026-5db2-45fd-8c08-1f4685ee8030"
                                   },
                      "outputs":  [

                                  ],
                      "execution_count":  0
                  },
                  {
                      "cell_type":  "markdown",
                      "source":  [
                                     "\r\n",
                                     "We had to do this as SQL Server 2019 does not run as root in a container, it runs as the user _**mssql**_ and as such does not have access to that custom location.\r\n",
                                     "So let\u0027s build a new container image that already has granted the _**mssql**_ user access to _**/var/opt/sqlserver**_. To do this we use a _**dockerfile**_, which is just a file on our docker host that contains some instructions for the Docker Engine: -\r\n",
                                     "\r\n"
                                 ],
                      "metadata":  {
                                       "azdata_cell_guid":  "ee4e2353-7088-4b15-839d-467eed2f6f88"
                                   }
                  },
                  {
                      "cell_type":  "code",
                      "source":  [
                                     "    FROM mcr.microsoft.com/mssql/server:2019-CU5-ubuntu-18.04\r\n",
                                     "          \r\n",
                                     "    USER root\r\n",
                                     "        \r\n",
                                     "    RUN mkdir /var/opt/sqlserver\r\n",
                                     "        \r\n",
                                     "    RUN chown -R mssql /var/opt/sqlserver\r\n",
                                     "            \r\n",
                                     "    ENV MSSQL_BACKUP_DIR=\"/var/opt/sqlserver\"\r\n",
                                     "    ENV MSSQL_DATA_DIR=\"/var/opt/sqlserver\"\r\n",
                                     "    ENV MSSQL_LOG_DIR=\"/var/opt/sqlserver\"\r\n",
                                     "        \r\n",
                                     "    USER mssql\r\n",
                                     "        \r\n",
                                     "    CMD /opt/mssql/bin/sqlservr\r\n"
                                 ],
                      "metadata":  {
                                       "azdata_cell_guid":  "8181405b-ebdf-4c4c-8726-15c0f7f48c09"
                                   },
                      "outputs":  [

                                  ],
                      "execution_count":  0
                  },
                  {
                      "cell_type":  "markdown",
                      "source":  [
                                     "\r\n",
                                     "Here\u0027s what each step in the _**dockerfile**_ does: -\r\n",
                                     "1. We start from the SQL Server 2019 CU5 Ubuntu 18.04 image. So our custom image will be based on this\r\n",
                                     "2. Make sure that we\u0027re running the following commands as the root user\r\n",
                                     "3. Create the /var/opt/sqlserver location within the container\r\n",
                                     "4. Change the owner of the /var/opt/sqlserver folder to the mssql user\r\n",
                                     "5. The next three lines use environment variables to set the default data/log/backup locations to the /var/opt/sqlserver folder\r\n",
                                     "6. Switch to the mssql user\r\n",
                                     "7. Start SQL Server\r\n",
                                     "So let\u0027s go ahead and build our custom image: -\r\n",
                                     "\r\n"
                                 ],
                      "metadata":  {
                                       "azdata_cell_guid":  "e07b30e0-12b6-439a-b2f4-842f0949235e"
                                   }
                  },
                  {
                      "cell_type":  "code",
                      "source":  [
                                     "    docker image build -t sqlimage1 .\r\n"
                                 ],
                      "metadata":  {
                                       "azdata_cell_guid":  "a1da9797-af3e-41bc-a7e6-ecbf33f4ce4a"
                                   },
                      "outputs":  [

                                  ],
                      "execution_count":  0
                  },
                  {
                      "cell_type":  "markdown",
                      "source":  [
                                     "\r\n",
                                     "![](../images/4.BuildingACustomImage/CustomImage/1.docker_build.png)\r\n",
                                     "Note the \".\" at the end. This is saying that the dockerfile is in the current location that I\u0027m at in my terminal. You can specify a filepath here.\r\n",
                                     "Let the command complete and then we can check our local images: -\r\n",
                                     "\r\n"
                                 ],
                      "metadata":  {
                                       "azdata_cell_guid":  "6118da70-4186-4a4e-867b-394f57584cbb"
                                   }
                  },
                  {
                      "cell_type":  "code",
                      "source":  [
                                     "    docker image ls\r\n"
                                 ],
                      "metadata":  {
                                       "azdata_cell_guid":  "8b54e396-e774-4ad6-9507-3f06c3944c09"
                                   },
                      "outputs":  [

                                  ],
                      "execution_count":  0
                  },
                  {
                      "cell_type":  "markdown",
                      "source":  [
                                     "\r\n",
                                     "![](../images/4.BuildingACustomImage/CustomImage/2.docker_image_ls.png)\r\n",
                                     "Cool! Let\u0027s go ahead and run a container from that image: -\r\n",
                                     "\r\n"
                                 ],
                      "metadata":  {
                                       "azdata_cell_guid":  "6d111700-4c04-4c4b-add4-4f4b677de4c7"
                                   }
                  },
                  {
                      "cell_type":  "code",
                      "source":  [
                                     "    docker container run -d `\r\n",
                                     "    -p 15789:1433 `\r\n",
                                     "    --env ACCEPT_EULA=Y `\r\n",
                                     "    --env MSSQL_SA_PASSWORD=Testing1122 `\r\n",
                                     "    --name sqlcontainer1 `\r\n",
                                     "    sqlimage1\r\n"
                                 ],
                      "metadata":  {
                                       "azdata_cell_guid":  "8fd2a439-a13b-4fcf-b588-59bb411e2d23"
                                   },
                      "outputs":  [

                                  ],
                      "execution_count":  0
                  },
                  {
                      "cell_type":  "markdown",
                      "source":  [
                                     "\r\n",
                                     "![](../images/4.BuildingACustomImage/CustomImage/3.docker_container_run.png)\r\n",
                                     "Confirm that the container is running: -\r\n",
                                     "\r\n"
                                 ],
                      "metadata":  {
                                       "azdata_cell_guid":  "538a2982-542f-4ad3-9473-c09a14efc2e2"
                                   }
                  },
                  {
                      "cell_type":  "code",
                      "source":  [
                                     "    docker container ls -a\r\n"
                                 ],
                      "metadata":  {
                                       "azdata_cell_guid":  "93b2ef8c-c8c4-47d1-bec1-642d63d7601b"
                                   },
                      "outputs":  [

                                  ],
                      "execution_count":  0
                  },
                  {
                      "cell_type":  "markdown",
                      "source":  [
                                     "\r\n",
                                     "![](../images/4.BuildingACustomImage/CustomImage/4.docker_container_ls.png)\r\n",
                                     "And let\u0027s check the folder: -\r\n",
                                     "\r\n"
                                 ],
                      "metadata":  {
                                       "azdata_cell_guid":  "898e692e-9c45-40a7-8cfb-474d3e4c978e"
                                   }
                  },
                  {
                      "cell_type":  "code",
                      "source":  [
                                     "    docker exec sqlcontainer1 /bin/bash -c \"ls -al /var/opt/\"\r\n"
                                 ],
                      "metadata":  {
                                       "azdata_cell_guid":  "8f29e025-a15f-4d88-a1d5-f8d929be762c"
                                   },
                      "outputs":  [

                                  ],
                      "execution_count":  0
                  },
                  {
                      "cell_type":  "markdown",
                      "source":  [
                                     "\r\n",
                                     "![](../images/4.BuildingACustomImage/CustomImage/5.docker_exec.png)\r\n",
                                     "The mssql user is the owner! Ok that means we can run: -\r\n",
                                     "\r\n"
                                 ],
                      "metadata":  {
                                       "azdata_cell_guid":  "5fab58b9-92b9-4f42-8f5b-4587c4189fa3"
                                   }
                  },
                  {
                      "cell_type":  "code",
                      "source":  [
                                     "    mssql-cli -S localhost,15789 -U sa -P Testing1122 -Q \"CREATE DATABASE [testdatabase];\"\r\n"
                                 ],
                      "metadata":  {
                                       "azdata_cell_guid":  "5f25934c-936c-449a-a71c-440ba3056d3b"
                                   },
                      "outputs":  [

                                  ],
                      "execution_count":  0
                  },
                  {
                      "cell_type":  "markdown",
                      "source":  [
                                     "\r\n",
                                     "![](../images/4.BuildingACustomImage/CustomImage/6.mssql_cli_create_database.png)\r\n",
                                     "No need to manually go in and change the owner! Our database is created!\r\n",
                                     "We can check it\u0027s there by running: -\r\n",
                                     "\r\n"
                                 ],
                      "metadata":  {
                                       "azdata_cell_guid":  "4fe2217b-08b0-49a9-bbd0-561ae5ce6855"
                                   }
                  },
                  {
                      "cell_type":  "code",
                      "source":  [
                                     "    mssql-cli -S localhost,15789 -U sa -P Testing1122 -Q \"SELECT [name] FROM sys.databases;\"\r\n"
                                 ],
                      "metadata":  {
                                       "azdata_cell_guid":  "a960b9a6-5ea1-493f-8788-37aedd8f6e0f"
                                   },
                      "outputs":  [

                                  ],
                      "execution_count":  0
                  },
                  {
                      "cell_type":  "markdown",
                      "source":  [
                                     "\r\n",
                                     "![](../images/4.BuildingACustomImage/CustomImage/7.mssql_cli_get_databases.png)\r\n",
                                     "And confirm it\u0027s file locations: -\r\n",
                                     "\r\n"
                                 ],
                      "metadata":  {
                                       "azdata_cell_guid":  "189a0041-d922-4c50-961e-b3e45d9b7a51"
                                   }
                  },
                  {
                      "cell_type":  "code",
                      "source":  [
                                     "    mssql-cli -S localhost,15789 -U sa -P Testing1122 -Q \"USE [testdatabase]; EXEC sp_helpfile;\"\r\n"
                                 ],
                      "metadata":  {
                                       "azdata_cell_guid":  "93c28a6e-cd1b-4a92-94d0-27caa0867382"
                                   },
                      "outputs":  [

                                  ],
                      "execution_count":  0
                  },
                  {
                      "cell_type":  "markdown",
                      "source":  [
                                     "\r\n",
                                     "![](../images/4.BuildingACustomImage/CustomImage/8.mssql_cli_get_files.png)\r\n",
                                     "So that\u0027s how to use a custom image to allow us to create databases in a custom location for SQL Server 2019 without having to manually grant the mssql user access to the folder.\r\n"
                                 ],
                      "metadata":  {
                                       "azdata_cell_guid":  "ebeeee7c-6aa7-4746-8067-8b1f72c624cc"
                                   }
                  }
              ]
}
