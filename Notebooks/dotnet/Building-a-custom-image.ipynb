{
    "metadata":  {
                     "kernelspec":  {
                                        "name":  ".net-powershell",
                                        "language":  "PowerShell",
                                        "display_name":  ".NET (PowerShell)"
                                    }
                 },
    "language_info":  {
                          "name":  "PowerShell",
                          "version":  "7.0",
                          "pygments_lexer":  "powershell",
                          "mimetype":  "text/x-powershell",
                          "file_extension":  ".ps1"
                      },
    "nbformat_minor":  4,
    "nbformat":  4,
    "cells":  [
                  {
                      "cell_type":  "markdown",
                      "source":  [
                                     "\r\n",
                                     "In the [Persisting Data using Named Volumes](https://github.com/dbafromthecold/SqlServerAndContainersGuide/wiki/Persisting-data-using-named-volumes) section of this wiki we used docker named volumes to persist databases from one container to another but we had a manual step to perform before we could create a database in a custom location: -\r\n",
                                     "\r\n"
                                 ],
                      "metadata":  {
                                       "azdata_cell_guid":  "8c12b001-dc87-4797-9fe0-ecc42729dbc6"
                                   }
                  },
                  {
                      "cell_type":  "code",
                      "source":  [
                                     "    docker exec -u 0 testcontainer8 bash -c \"chown -R mssql /var/opt/sqlserver\"\r\n"
                                 ],
                      "metadata":  {
                                       "azdata_cell_guid":  "07a2f7c9-97d5-4a77-a3e5-141b27f8acb3"
                                   },
                      "outputs":  [

                                  ],
                      "execution_count":  0
                  },
                  {
                      "cell_type":  "markdown",
                      "source":  [
                                     "\r\n",
                                     "We had to do this as SQL Server 2019 does not run as root in a container, it runs as the user _**mssql**_ and as such does not have access to that custom location.\r\n",
                                     "So let\u0027s build a new container image that already has granted the _**mssql**_ user access to _**/var/opt/sqlserver**_. To do this we use a _**dockerfile**_, which is just a file on our docker host that contains some instructions for the Docker Engine: -\r\n",
                                     "\r\n"
                                 ],
                      "metadata":  {
                                       "azdata_cell_guid":  "58d37676-d02d-4da8-b14c-257e78cfb03a"
                                   }
                  },
                  {
                      "cell_type":  "code",
                      "source":  [
                                     "    FROM mcr.microsoft.com/mssql/server:2019-CU5-ubuntu-18.04\r\n",
                                     "          \r\n",
                                     "    USER root\r\n",
                                     "        \r\n",
                                     "    RUN mkdir /var/opt/sqlserver\r\n",
                                     "        \r\n",
                                     "    RUN chown -R mssql /var/opt/sqlserver\r\n",
                                     "            \r\n",
                                     "    ENV MSSQL_BACKUP_DIR=\"/var/opt/sqlserver\"\r\n",
                                     "    ENV MSSQL_DATA_DIR=\"/var/opt/sqlserver\"\r\n",
                                     "    ENV MSSQL_LOG_DIR=\"/var/opt/sqlserver\"\r\n",
                                     "        \r\n",
                                     "    USER mssql\r\n",
                                     "        \r\n",
                                     "    CMD /opt/mssql/bin/sqlservr\r\n"
                                 ],
                      "metadata":  {
                                       "azdata_cell_guid":  "7e19b3a0-fa00-4c59-b842-29ffccf877d5"
                                   },
                      "outputs":  [

                                  ],
                      "execution_count":  0
                  },
                  {
                      "cell_type":  "markdown",
                      "source":  [
                                     "\r\n",
                                     "Here\u0027s what each step in the _**dockerfile**_ does: -\r\n",
                                     "1. We start from the SQL Server 2019 CU5 Ubuntu 18.04 image. So our custom image will be based on this\r\n",
                                     "2. Make sure that we\u0027re running the following commands as the root user\r\n",
                                     "3. Create the /var/opt/sqlserver location within the container\r\n",
                                     "4. Change the owner of the /var/opt/sqlserver folder to the mssql user\r\n",
                                     "5. The next three lines use environment variables to set the default data/log/backup locations to the /var/opt/sqlserver folder\r\n",
                                     "6. Switch to the mssql user\r\n",
                                     "7. Start SQL Server\r\n",
                                     "So let\u0027s go ahead and build our custom image: -\r\n",
                                     "\r\n"
                                 ],
                      "metadata":  {
                                       "azdata_cell_guid":  "9fb7aade-da1a-4fc4-a485-61afd4bff1ef"
                                   }
                  },
                  {
                      "cell_type":  "code",
                      "source":  [
                                     "    docker image build -t sqlimage1 .\r\n"
                                 ],
                      "metadata":  {
                                       "azdata_cell_guid":  "e3db7da1-8737-4c19-9c73-c81c4c69fb23"
                                   },
                      "outputs":  [

                                  ],
                      "execution_count":  0
                  },
                  {
                      "cell_type":  "markdown",
                      "source":  [
                                     "\r\n",
                                     "![](../images/4.BuildingACustomImage/CustomImage/1.docker_build.png)\r\n",
                                     "Note the \".\" at the end. This is saying that the dockerfile is in the current location that I\u0027m at in my terminal. You can specify a filepath here.\r\n",
                                     "Let the command complete and then we can check our local images: -\r\n",
                                     "\r\n"
                                 ],
                      "metadata":  {
                                       "azdata_cell_guid":  "f899b87e-53c7-4450-8c14-aa16414b811a"
                                   }
                  },
                  {
                      "cell_type":  "code",
                      "source":  [
                                     "    docker image ls\r\n"
                                 ],
                      "metadata":  {
                                       "azdata_cell_guid":  "1131d58d-f331-4fb2-bc15-fa85adaa35d7"
                                   },
                      "outputs":  [

                                  ],
                      "execution_count":  0
                  },
                  {
                      "cell_type":  "markdown",
                      "source":  [
                                     "\r\n",
                                     "![](../images/4.BuildingACustomImage/CustomImage/2.docker_image_ls.png)\r\n",
                                     "Cool! Let\u0027s go ahead and run a container from that image: -\r\n",
                                     "\r\n"
                                 ],
                      "metadata":  {
                                       "azdata_cell_guid":  "af0969aa-120d-421c-a2eb-f449a9cd665e"
                                   }
                  },
                  {
                      "cell_type":  "code",
                      "source":  [
                                     "    docker container run -d `\r\n",
                                     "    -p 15789:1433 `\r\n",
                                     "    --env ACCEPT_EULA=Y `\r\n",
                                     "    --env MSSQL_SA_PASSWORD=Testing1122 `\r\n",
                                     "    --name sqlcontainer1 `\r\n",
                                     "    sqlimage1\r\n"
                                 ],
                      "metadata":  {
                                       "azdata_cell_guid":  "3c94fd5b-8726-443b-bfac-1400c532b251"
                                   },
                      "outputs":  [

                                  ],
                      "execution_count":  0
                  },
                  {
                      "cell_type":  "markdown",
                      "source":  [
                                     "\r\n",
                                     "![](../images/4.BuildingACustomImage/CustomImage/3.docker_container_run.png)\r\n",
                                     "Confirm that the container is running: -\r\n",
                                     "\r\n"
                                 ],
                      "metadata":  {
                                       "azdata_cell_guid":  "b64d8e7f-c48a-4c55-9701-6d3de93184d1"
                                   }
                  },
                  {
                      "cell_type":  "code",
                      "source":  [
                                     "    docker container ls -a\r\n"
                                 ],
                      "metadata":  {
                                       "azdata_cell_guid":  "cce80ac9-b3be-4d4a-9b79-a6c725734888"
                                   },
                      "outputs":  [

                                  ],
                      "execution_count":  0
                  },
                  {
                      "cell_type":  "markdown",
                      "source":  [
                                     "\r\n",
                                     "![](../images/4.BuildingACustomImage/CustomImage/4.docker_container_ls.png)\r\n",
                                     "And let\u0027s check the folder: -\r\n",
                                     "\r\n"
                                 ],
                      "metadata":  {
                                       "azdata_cell_guid":  "2ec5d52e-3450-48dd-a837-167df26014d4"
                                   }
                  },
                  {
                      "cell_type":  "code",
                      "source":  [
                                     "    docker exec sqlcontainer1 /bin/bash -c \"ls -al /var/opt/\"\r\n"
                                 ],
                      "metadata":  {
                                       "azdata_cell_guid":  "5b83ea6e-f283-406e-aa39-87583681263c"
                                   },
                      "outputs":  [

                                  ],
                      "execution_count":  0
                  },
                  {
                      "cell_type":  "markdown",
                      "source":  [
                                     "\r\n",
                                     "![](../images/4.BuildingACustomImage/CustomImage/5.docker_exec.png)\r\n",
                                     "The mssql user is the owner! Ok that means we can run: -\r\n",
                                     "\r\n"
                                 ],
                      "metadata":  {
                                       "azdata_cell_guid":  "d2c0ff76-d024-4c42-8afd-24b28d3b5926"
                                   }
                  },
                  {
                      "cell_type":  "code",
                      "source":  [
                                     "    mssql-cli -S localhost,15789 -U sa -P Testing1122 -Q \"CREATE DATABASE [testdatabase];\"\r\n"
                                 ],
                      "metadata":  {
                                       "azdata_cell_guid":  "4fdb55ef-e8b0-460e-a147-e9169077c55b"
                                   },
                      "outputs":  [

                                  ],
                      "execution_count":  0
                  },
                  {
                      "cell_type":  "markdown",
                      "source":  [
                                     "\r\n",
                                     "![](../images/4.BuildingACustomImage/CustomImage/6.mssql_cli_create_database.png)\r\n",
                                     "No need to manually go in and change the owner! Our database is created!\r\n",
                                     "We can check it\u0027s there by running: -\r\n",
                                     "\r\n"
                                 ],
                      "metadata":  {
                                       "azdata_cell_guid":  "70fd3240-a9cc-4c1c-8c1a-b5e7407642ee"
                                   }
                  },
                  {
                      "cell_type":  "code",
                      "source":  [
                                     "    mssql-cli -S localhost,15789 -U sa -P Testing1122 -Q \"SELECT [name] FROM sys.databases;\"\r\n"
                                 ],
                      "metadata":  {
                                       "azdata_cell_guid":  "04e2933e-cdcd-48ba-b62a-2ba8c9719696"
                                   },
                      "outputs":  [

                                  ],
                      "execution_count":  0
                  },
                  {
                      "cell_type":  "markdown",
                      "source":  [
                                     "\r\n",
                                     "![](../images/4.BuildingACustomImage/CustomImage/7.mssql_cli_get_databases.png)\r\n",
                                     "And confirm it\u0027s file locations: -\r\n",
                                     "\r\n"
                                 ],
                      "metadata":  {
                                       "azdata_cell_guid":  "b27228a9-cdbc-4981-8c84-219ad0dc3bdf"
                                   }
                  },
                  {
                      "cell_type":  "code",
                      "source":  [
                                     "    mssql-cli -S localhost,15789 -U sa -P Testing1122 -Q \"USE [testdatabase]; EXEC sp_helpfile;\"\r\n"
                                 ],
                      "metadata":  {
                                       "azdata_cell_guid":  "1e976df0-276c-4d6f-8e57-6ce65319c7f7"
                                   },
                      "outputs":  [

                                  ],
                      "execution_count":  0
                  }
              ]
}
