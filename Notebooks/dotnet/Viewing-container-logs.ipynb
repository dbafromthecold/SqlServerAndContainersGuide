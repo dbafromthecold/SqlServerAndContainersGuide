{
    "metadata":  {
                     "kernelspec":  {
                                        "name":  ".net-powershell",
                                        "language":  "PowerShell",
                                        "display_name":  ".NET (PowerShell)"
                                    }
                 },
    "language_info":  {
                          "name":  "PowerShell",
                          "version":  "7.0",
                          "pygments_lexer":  "powershell",
                          "mimetype":  "text/x-powershell",
                          "file_extension":  ".ps1"
                      },
    "nbformat_minor":  4,
    "nbformat":  4,
    "cells":  [
                  {
                      "cell_type":  "markdown",
                      "source":  [
                                     "\r\n",
                                     "In order to troubleshoot issues or confirm settings the docker command, [docker container logs](https://docs.docker.com/engine/reference/commandline/container_logs/) is really useful.\r\n",
                                     "Let\u0027s spin up a container: -\r\n",
                                     "\r\n"
                                 ],
                      "metadata":  {
                                       "azdata_cell_guid":  "ae887890-f4ea-4b34-bebf-8aaabaf55b5a"
                                   }
                  },
                  {
                      "cell_type":  "code",
                      "source":  [
                                     "    docker container run -d `\r\n",
                                     "    --publish 15789:1433 `\r\n",
                                     "    --env ACCEPT_EULA=Y `\r\n",
                                     "    --env SA_PASSWORD=Testing1122 `\r\n",
                                     "    --name sqlcontainer1 `\r\n",
                                     "    mcr.microsoft.com/mssql/server:2019-CU5-ubuntu-18.04\r\n"
                                 ],
                      "metadata":  {
                                       "azdata_cell_guid":  "64eb12f8-6197-403e-8a2b-16e87a5fbba8"
                                   },
                      "outputs":  [

                                  ],
                      "execution_count":  0
                  },
                  {
                      "cell_type":  "markdown",
                      "source":  [
                                     "\r\n",
                                     "Run the following to view the logs: -\r\n",
                                     "\r\n"
                                 ],
                      "metadata":  {
                                       "azdata_cell_guid":  "7f38d779-9586-4bca-9bac-488666f3a226"
                                   }
                  },
                  {
                      "cell_type":  "code",
                      "source":  [
                                     "    docker container logs sqlcontainer1\r\n"
                                 ],
                      "metadata":  {
                                       "azdata_cell_guid":  "d491ec33-2a13-4865-b2b5-0ac3e91b2c5b"
                                   },
                      "outputs":  [

                                  ],
                      "execution_count":  0
                  },
                  {
                      "cell_type":  "markdown",
                      "source":  [
                                     "\r\n",
                                     "![](../images/7.DockerCommands/ViewingContainerLogs/1.DockerContainerLog.png)\r\n",
                                     "And there\u0027s the SQL error log! Really handy when troubleshooting issues.\r\n"
                                 ],
                      "metadata":  {
                                       "azdata_cell_guid":  "8cee3072-bfa0-431c-86b6-f67122b28d09"
                                   }
                  }
              ]
}
