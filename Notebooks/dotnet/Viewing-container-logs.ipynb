{
    "metadata":  {
                     "kernelspec":  {
                                        "name":  ".net-powershell",
                                        "language":  "PowerShell",
                                        "display_name":  ".NET (PowerShell)"
                                    }
                 },
    "language_info":  {
                          "name":  "PowerShell",
                          "version":  "7.0",
                          "pygments_lexer":  "powershell",
                          "mimetype":  "text/x-powershell",
                          "file_extension":  ".ps1"
                      },
    "nbformat_minor":  4,
    "nbformat":  4,
    "cells":  [
                  {
                      "cell_type":  "markdown",
                      "source":  [
                                     "\r\n",
                                     "In order to troubleshoot issues or confirm settings the docker command, [docker container logs](https://docs.docker.com/engine/reference/commandline/container_logs/) is really useful.\r\n",
                                     "Let\u0027s spin up a container: -\r\n",
                                     "\r\n"
                                 ],
                      "metadata":  {
                                       "azdata_cell_guid":  "a2a35d9c-9a67-44b2-8618-58c1756f6d11"
                                   }
                  },
                  {
                      "cell_type":  "code",
                      "source":  [
                                     "    docker container run -d `\r\n",
                                     "    --publish 15789:1433 `\r\n",
                                     "    --env ACCEPT_EULA=Y `\r\n",
                                     "    --env SA_PASSWORD=Testing1122 `\r\n",
                                     "    --name sqlcontainer1 `\r\n",
                                     "    mcr.microsoft.com/mssql/server:2019-CU5-ubuntu-18.04\r\n"
                                 ],
                      "metadata":  {
                                       "azdata_cell_guid":  "ec6c062f-5720-43bf-88f2-cd9f983f8ebd"
                                   },
                      "outputs":  [

                                  ],
                      "execution_count":  0
                  },
                  {
                      "cell_type":  "markdown",
                      "source":  [
                                     "\r\n",
                                     "Run the following to view the logs: -\r\n",
                                     "\r\n"
                                 ],
                      "metadata":  {
                                       "azdata_cell_guid":  "5ade1805-4c5b-4e0a-b8f0-5a99ad3afe85"
                                   }
                  },
                  {
                      "cell_type":  "code",
                      "source":  [
                                     "    docker container logs sqlcontainer1\r\n"
                                 ],
                      "metadata":  {
                                       "azdata_cell_guid":  "98fc7f07-4965-4d50-9da1-d905d5287eed"
                                   },
                      "outputs":  [

                                  ],
                      "execution_count":  0
                  }
              ]
}
