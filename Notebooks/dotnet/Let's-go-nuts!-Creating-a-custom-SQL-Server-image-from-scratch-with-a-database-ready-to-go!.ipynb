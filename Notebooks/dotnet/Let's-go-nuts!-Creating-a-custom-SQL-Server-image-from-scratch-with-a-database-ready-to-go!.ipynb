{
    "metadata": {
        "kernelspec": {
            "name": ".net-powershell",
            "language": "PowerShell",
            "display_name": ".NET (PowerShell)"
        },
        "language_info": {
            "name": "python",
            "version": ""
        }
    },
    "nbformat_minor": 2,
    "nbformat": 4,
    "cells": [
        {
            "cell_type": "markdown",
            "source": [
                "Ok, so let's put everything we've gone through in the last few wiki pages and build a custom SQL Server image, built from scratch, with a database ready to go!\n",
                "\n",
                "Here's the dockerfile: -<br>"
            ],
            "metadata": {
                "azdata_cell_guid": "62fab019-0894-48fb-8be4-c42f1525e358"
            }
        },
        {
            "cell_type": "code",
            "source": [
                "    FROM ubuntu:18.04\r\n",
                "    \r\n",
                "    LABEL maintainer=\"dbafromthecold@gmail.com\"\r\n",
                "    \r\n",
                "    RUN useradd -u 10001 mssql\r\n",
                "    \r\n",
                "    RUN apt-get update && apt-get install -y wget software-properties-common apt-transport-https\r\n",
                "    RUN wget -qO- https://packages.microsoft.com/keys/microsoft.asc | apt-key add -\r\n",
                "    RUN add-apt-repository \"$(wget -qO- https://packages.microsoft.com/config/ubuntu/18.04/mssql-server-2019.list)\"\r\n",
                "    RUN apt-get update && apt-get install -y mssql-server    \r\n",
                "    \r\n",
                "    RUN add-apt-repository \"$(wget -qO- https://packages.microsoft.com/config/ubuntu/18.04/prod.list)\"\r\n",
                "    RUN apt-get update\r\n",
                "    RUN ACCEPT_EULA=Y apt-get install -y msodbcsql17 mssql-tools\r\n",
                "    \r\n",
                "    RUN mkdir /var/opt/sqlserver\r\n",
                "    RUN mkdir /var/opt/sqlserver/data\r\n",
                "    RUN mkdir /var/opt/sqlserver/log\r\n",
                "    RUN mkdir /var/opt/sqlserver/backups\r\n",
                "    \r\n",
                "    COPY testdatabase.mdf /var/opt/sqlserver/data\r\n",
                "    COPY testdatabase_log.ldf /var/opt/sqlserver/log\r\n",
                "    COPY attach-db.sh /var/opt/sqlserver\r\n",
                "    \r\n",
                "    RUN chown -R mssql:mssql /var/opt/mssql\r\n",
                "    RUN chown -R mssql:mssql /var/opt/sqlserver\r\n",
                "    \r\n",
                "    RUN chmod +x /var/opt/sqlserver/attach-db.sh\r\n",
                "    \r\n",
                "    ENV ACCEPT_EULA=\"Y\"\r\n",
                "    ENV MSSQL_PID=\"Developer\"\r\n",
                "    ENV MSSQL_AGENT_ENABLED=True\r\n",
                "    ENV MSSQL_DATA_DIR=/var/opt/sqlserver/sqldata\r\n",
                "    ENV MSSQL_LOG_DIR=/var/opt/sqlserver/sqllog\r\n",
                "    ENV MSSQL_BACKUP_DIR=/var/opt/sqlserver/sqlbackups\r\n",
                "    \r\n",
                "    USER mssql\r\n",
                "    \r\n",
                "    CMD /var/opt/sqlserver/attach-db.sh & /opt/mssql/bin/sqlservr"
            ],
            "metadata": {
                "azdata_cell_guid": "7b729be0-421c-4d2d-942f-70eaca692d09"
            },
            "outputs": [],
            "execution_count": null
        },
        {
            "cell_type": "markdown",
            "source": [
                "Here's what each step does: -\n",
                "\n",
                "1. Building from the ubuntu:18.04 image\n",
                "    \n",
                "2. Adding a label to the metadata of the image, specifying the \"maintainer\" (me)\n",
                "    \n",
                "3. Creating the mssql user\n",
                "    \n",
                "4. Installing SQL Server\n",
                "    \n",
                "5. Installing SQL Server tools (sqlcmd so that we can add the database later)\n",
                "    \n",
                "6. Creating custom directories for our database\n",
                "    \n",
                "7. Copying the database files and the attach-db.sh script into image\n",
                "    \n",
                "8. Changing permissions on our custom directory and the /var/opt/mssql directory (default directory for SQL Server)\n",
                "    \n",
                "9. Making the attach-db.sh script executable\n",
                "    \n",
                "10. Setting a whole bunch of environment variables (so that we don't have to specify them at container runtime)\n",
                "    \n",
                "11. Switching to the mssql user\n",
                "    \n",
                "12. Running the attach-db.sh script and then starting SQL Server"
            ],
            "metadata": {
                "azdata_cell_guid": "8a30c5c4-6a0a-4851-adc3-bd108cbb1356"
            }
        },
        {
            "cell_type": "code",
            "source": [
                "docker build -t customsqlimage1 ."
            ],
            "metadata": {
                "azdata_cell_guid": "80e164bc-bdc6-44cd-84e5-e2f3e5f04055"
            },
            "outputs": [],
            "execution_count": null
        },
        {
            "cell_type": "markdown",
            "source": [
                "\r\n",
                "And then check that the image is there: -\r\n",
                "\r\n"
            ],
            "metadata": {
                "azdata_cell_guid": "f575aa9b-510a-4458-a15e-12eaba2c4116"
            }
        },
        {
            "cell_type": "code",
            "source": [
                "docker image ls"
            ],
            "metadata": {
                "azdata_cell_guid": "f34541de-e750-4745-b4ea-c5c710491544"
            },
            "outputs": [],
            "execution_count": null
        },
        {
            "cell_type": "markdown",
            "source": [
                "\r\n",
                "So now we can run a container from that image: -\r\n",
                "\r\n"
            ],
            "metadata": {
                "azdata_cell_guid": "fc9740b4-9831-4473-b7c2-5a7dd9a17391"
            }
        },
        {
            "cell_type": "code",
            "source": [
                "docker container run -d `\r\n",
                "-p 15789:1433 `\r\n",
                "--env ACCEPT_EULA=Y `\r\n",
                "--env MSSQL_SA_PASSWORD=Testing1122 `\r\n",
                "--name sqlcontainer1 `\r\n",
                "customsqlimage1"
            ],
            "metadata": {
                "azdata_cell_guid": "9ca24dee-f5a4-4086-9526-5db1f0b7a2f8",
                "tags": [
                    "hide_input"
                ]
            },
            "outputs": [],
            "execution_count": null
        },
        {
            "cell_type": "markdown",
            "source": [
                "\r\n",
                "Wait for 30 seconds...and our database is there!\r\n",
                "\r\n"
            ],
            "metadata": {
                "azdata_cell_guid": "8d73f44d-4145-42ef-b985-80d36d80b0ae"
            }
        },
        {
            "cell_type": "code",
            "source": [
                "mssql-cli -S localhost,15789 -U sa -P Testing1122 -Q \"SELECT [name] FROM sys.databases;\""
            ],
            "metadata": {
                "azdata_cell_guid": "7933c73e-8504-4b05-9c39-2c724804ee2a"
            },
            "outputs": [],
            "execution_count": null
        },
        {
            "cell_type": "markdown",
            "source": [
                "So that's a custom SQL Server image, with sqlcmd installed, built from scratch (well, the ubuntu image), a bunch of environment variables set, and a database ready to go!\n",
                "\n",
                "You can do some cool stuff with dockerfiles, eh? :-)<br>"
            ],
            "metadata": {
                "azdata_cell_guid": "1021c125-17bb-4da5-86c0-e1e8e381647b"
            }
        }
    ]
}