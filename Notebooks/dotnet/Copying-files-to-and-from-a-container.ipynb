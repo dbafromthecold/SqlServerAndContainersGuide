{
    "metadata":  {
                     "kernelspec":  {
                                        "name":  ".net-powershell",
                                        "language":  "PowerShell",
                                        "display_name":  ".NET (PowerShell)"
                                    }
                 },
    "language_info":  {
                          "name":  "PowerShell",
                          "version":  "7.0",
                          "pygments_lexer":  "powershell",
                          "mimetype":  "text/x-powershell",
                          "file_extension":  ".ps1"
                      },
    "nbformat_minor":  4,
    "nbformat":  4,
    "cells":  [
                  {
                      "cell_type":  "markdown",
                      "source":  [
                                     "\r\n",
                                     "Sometimes we need to pull files out of a container or copy files into one.\r\n",
                                     "This is nice and easy to do in Docker using the [docker container cp](https://docs.docker.com/engine/reference/commandline/container_cp/) command.\r\n",
                                     "Let\u0027s spin up a container running SQL Server: -\r\n",
                                     "\r\n"
                                 ],
                      "metadata":  {
                                       "azdata_cell_guid":  "898072c0-cc3a-48cd-9862-8bc834f6f712"
                                   }
                  },
                  {
                      "cell_type":  "code",
                      "source":  [
                                     "    docker container run -d `\r\n",
                                     "    -p 15789:1433 `\r\n",
                                     "    --env ACCEPT_EULA=Y `\r\n",
                                     "    --env MSSQL_SA_PASSWORD=Testing1122 `\r\n",
                                     "    --name sqlcontainer1 `\r\n",
                                     "    mcr.microsoft.com/mssql/server:2019-CU5-ubuntu-18.04\r\n"
                                 ],
                      "metadata":  {
                                       "azdata_cell_guid":  "613fa4be-3415-4542-ae5f-bcd146b52fc2"
                                   },
                      "outputs":  [

                                  ],
                      "execution_count":  0
                  },
                  {
                      "cell_type":  "markdown",
                      "source":  [
                                     "\r\n",
                                     "And we want to copy a backup of a database into that container: -\r\n",
                                     "\r\n"
                                 ],
                      "metadata":  {
                                       "azdata_cell_guid":  "867208df-c9e1-4cf4-a70e-b3e5fb665fcd"
                                   }
                  },
                  {
                      "cell_type":  "code",
                      "source":  [
                                     "    ls\r\n"
                                 ],
                      "metadata":  {
                                       "azdata_cell_guid":  "cc346fcc-dcc9-4246-b759-204c24f9414c"
                                   },
                      "outputs":  [

                                  ],
                      "execution_count":  0
                  },
                  {
                      "cell_type":  "markdown",
                      "source":  [
                                     "\r\n",
                                     "![](../images/7.DockerCommands/CopyingFiles/1.ViewBackupFileOnHost.png)\r\n",
                                     "In order to copy the backup files into the container we run: - \r\n",
                                     "\r\n"
                                 ],
                      "metadata":  {
                                       "azdata_cell_guid":  "878908fe-8a15-4674-ba04-2b3cc0adb0b7"
                                   }
                  },
                  {
                      "cell_type":  "code",
                      "source":  [
                                     "    docker container cp testdatabase.bak sqlcontainer1:/var/opt/mssql/data\r\n"
                                 ],
                      "metadata":  {
                                       "azdata_cell_guid":  "81257a79-0e5d-4242-9762-6506a5fdba30"
                                   },
                      "outputs":  [

                                  ],
                      "execution_count":  0
                  },
                  {
                      "cell_type":  "markdown",
                      "source":  [
                                     "\r\n",
                                     "This copies the backup file testdatabase.bak into the directory /var/opt/mssql/data in the container.\r\n",
                                     "We can check that the backup has been copied in by running: -\r\n",
                                     "\r\n"
                                 ],
                      "metadata":  {
                                       "azdata_cell_guid":  "b61ba949-9e40-4f06-8ce4-4a58105777d4"
                                   }
                  },
                  {
                      "cell_type":  "code",
                      "source":  [
                                     "    docker exec sqlcontainer1 ls -al /var/opt/mssql/data\r\n"
                                 ],
                      "metadata":  {
                                       "azdata_cell_guid":  "affc5ae2-d05b-4254-92a0-c71688f502d4"
                                   },
                      "outputs":  [

                                  ],
                      "execution_count":  0
                  },
                  {
                      "cell_type":  "markdown",
                      "source":  [
                                     "\r\n",
                                     "![](../images/7.DockerCommands/CopyingFiles/2.CheckFileCopiedIntoContainer.png)\r\n",
                                     "Now, let\u0027s copy that file back out of the container, onto our Docker host: -\r\n",
                                     "\r\n"
                                 ],
                      "metadata":  {
                                       "azdata_cell_guid":  "b57bd8df-38c3-42cb-bc87-a2e53d26105d"
                                   }
                  },
                  {
                      "cell_type":  "code",
                      "source":  [
                                     "     docker container cp sqlcontainer1:/var/opt/mssql/data/testdatabase.bak C:\\temp\r\n"
                                 ],
                      "metadata":  {
                                       "azdata_cell_guid":  "279974b1-aafe-4605-9cc6-dfd168831a6d"
                                   },
                      "outputs":  [

                                  ],
                      "execution_count":  0
                  }
              ]
}
