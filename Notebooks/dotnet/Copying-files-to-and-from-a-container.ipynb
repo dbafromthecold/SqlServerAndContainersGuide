{
    "metadata":  {
                     "kernelspec":  {
                                        "name":  ".net-powershell",
                                        "language":  "PowerShell",
                                        "display_name":  ".NET (PowerShell)"
                                    }
                 },
    "language_info":  {
                          "name":  "PowerShell",
                          "version":  "7.0",
                          "pygments_lexer":  "powershell",
                          "mimetype":  "text/x-powershell",
                          "file_extension":  ".ps1"
                      },
    "nbformat_minor":  4,
    "nbformat":  4,
    "cells":  [
                  {
                      "cell_type":  "markdown",
                      "source":  [
                                     "\r\n",
                                     "Sometimes we need to pull files out of a container or copy files into one.\r\n",
                                     "This is nice and easy to do in Docker using the [docker container cp](https://docs.docker.com/engine/reference/commandline/container_cp/) command.\r\n",
                                     "Let\u0027s spin up a container running SQL Server: -\r\n",
                                     "\r\n"
                                 ],
                      "metadata":  {
                                       "azdata_cell_guid":  "9a2ef099-817c-4e9b-a133-49bc77c0f94f"
                                   }
                  },
                  {
                      "cell_type":  "code",
                      "source":  [
                                     "    docker container run -d `\r\n",
                                     "    -p 15789:1433 `\r\n",
                                     "    --env ACCEPT_EULA=Y `\r\n",
                                     "    --env MSSQL_SA_PASSWORD=Testing1122 `\r\n",
                                     "    --name sqlcontainer1 `\r\n",
                                     "    mcr.microsoft.com/mssql/server:2019-CU5-ubuntu-18.04\r\n"
                                 ],
                      "metadata":  {
                                       "azdata_cell_guid":  "51f0ce3b-86ee-4724-bbcb-f638a6829b97"
                                   },
                      "outputs":  [

                                  ],
                      "execution_count":  0
                  },
                  {
                      "cell_type":  "markdown",
                      "source":  [
                                     "\r\n",
                                     "And we want to copy a backup of a database into that container: -\r\n",
                                     "\r\n"
                                 ],
                      "metadata":  {
                                       "azdata_cell_guid":  "c339ab94-3f3b-4134-b475-0fc7f7a2a1b6"
                                   }
                  },
                  {
                      "cell_type":  "code",
                      "source":  [
                                     "    ls\r\n"
                                 ],
                      "metadata":  {
                                       "azdata_cell_guid":  "43c9efc3-9a40-4d3d-a1b1-edfe6c5d711a"
                                   },
                      "outputs":  [

                                  ],
                      "execution_count":  0
                  },
                  {
                      "cell_type":  "markdown",
                      "source":  [
                                     "\r\n",
                                     "![](../images/7.DockerCommands/CopyingFiles/1.ViewBackupFileOnHost.png)\r\n",
                                     "In order to copy the backup files into the container we run: - \r\n",
                                     "\r\n"
                                 ],
                      "metadata":  {
                                       "azdata_cell_guid":  "879c9932-395c-412a-8e6d-4de5db199b75"
                                   }
                  },
                  {
                      "cell_type":  "code",
                      "source":  [
                                     "    docker container cp testdatabase.bak sqlcontainer1:/var/opt/mssql/data\r\n"
                                 ],
                      "metadata":  {
                                       "azdata_cell_guid":  "5833b230-7c64-43fc-82fe-e31e766eb847"
                                   },
                      "outputs":  [

                                  ],
                      "execution_count":  0
                  },
                  {
                      "cell_type":  "markdown",
                      "source":  [
                                     "\r\n",
                                     "This copies the backup file testdatabase.bak into the directory /var/opt/mssql/data in the container.\r\n",
                                     "We can check that the backup has been copied in by running: -\r\n",
                                     "\r\n"
                                 ],
                      "metadata":  {
                                       "azdata_cell_guid":  "88dff5d2-ea9d-4465-ba0c-501bad7647f3"
                                   }
                  },
                  {
                      "cell_type":  "code",
                      "source":  [
                                     "    docker exec sqlcontainer1 ls -al /var/opt/mssql/data\r\n"
                                 ],
                      "metadata":  {
                                       "azdata_cell_guid":  "de997ffd-df03-442c-be43-f531e38e8cb4"
                                   },
                      "outputs":  [

                                  ],
                      "execution_count":  0
                  },
                  {
                      "cell_type":  "markdown",
                      "source":  [
                                     "\r\n",
                                     "![](../images/7.DockerCommands/CopyingFiles/2.CheckFileCopiedIntoContainer.png)\r\n",
                                     "Now, let\u0027s copy that file back out of the container, onto our Docker host: -\r\n",
                                     "\r\n"
                                 ],
                      "metadata":  {
                                       "azdata_cell_guid":  "d5190be9-c29d-4bfb-b60f-103e0424490d"
                                   }
                  },
                  {
                      "cell_type":  "code",
                      "source":  [
                                     "     docker container cp sqlcontainer1:/var/opt/mssql/data/testdatabase.bak C:\\temp\r\n"
                                 ],
                      "metadata":  {
                                       "azdata_cell_guid":  "20ab17f3-58fa-4137-bca8-579a3585ed38"
                                   },
                      "outputs":  [

                                  ],
                      "execution_count":  0
                  },
                  {
                      "cell_type":  "markdown",
                      "source":  [
                                     "\r\n",
                                     "![](../images/7.DockerCommands/CopyingFiles/3.CopyFileOutOfContainer.png)\r\n",
                                     "And that\u0027s all there is to it!\r\n"
                                 ],
                      "metadata":  {
                                       "azdata_cell_guid":  "8a9ed031-25c4-47a4-a013-b25e9bbef4cf"
                                   }
                  }
              ]
}
