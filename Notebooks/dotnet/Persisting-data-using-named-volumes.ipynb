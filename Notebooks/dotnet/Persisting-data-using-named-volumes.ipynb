{
    "metadata":  {
                     "kernelspec":  {
                                        "name":  ".net-powershell",
                                        "language":  "PowerShell",
                                        "display_name":  ".NET (PowerShell)"
                                    }
                 },
    "language_info":  {
                          "name":  "PowerShell",
                          "version":  "7.0",
                          "pygments_lexer":  "powershell",
                          "mimetype":  "text/x-powershell",
                          "file_extension":  ".ps1"
                      },
    "nbformat_minor":  4,
    "nbformat":  4,
    "cells":  [
                  {
                      "cell_type":  "markdown",
                      "source":  [
                                     "\r\n",
                                     "So far in this guide we\u0027ve gone through spinning up a container and connecting to SQL Server. However containers are ephemeral by default so any changes made in SQL will be lost when we delete the container. Meaning that any databases we create will be lost, really lost. There\u0027s no way to get them back.\r\n",
                                     "So let\u0027s run through how we can persist our databases from one container to another by using _**docker named volumes**_.\r\n",
                                     "To create a named volume run: -\r\n",
                                     "\r\n"
                                 ],
                      "metadata":  {
                                       "azdata_cell_guid":  "604311cb-5543-4d75-b518-e1a5168b2272"
                                   }
                  },
                  {
                      "cell_type":  "code",
                      "source":  [
                                     "    docker volume create mssqlsystem\r\n",
                                     "    docker volume create mssqluser\r\n"
                                 ],
                      "metadata":  {
                                       "azdata_cell_guid":  "053350df-c23a-4ff4-a1ee-b06932a96a6b"
                                   },
                      "outputs":  [

                                  ],
                      "execution_count":  0
                  },
                  {
                      "cell_type":  "markdown",
                      "source":  [
                                     "\r\n",
                                     "![](../images/3.PersistingData/NamedVolumes/1.docker_volume_create.png)\r\n",
                                     "Notice we\u0027re creating two volumes here, one will be for the system databases and one will be for our user databases.\r\n",
                                     "To check the volumes: -\r\n",
                                     "\r\n"
                                 ],
                      "metadata":  {
                                       "azdata_cell_guid":  "95568a11-ce38-4b7a-a3ce-4eb40c0563a3"
                                   }
                  },
                  {
                      "cell_type":  "code",
                      "source":  [
                                     "    docker volume ls\r\n"
                                 ],
                      "metadata":  {
                                       "azdata_cell_guid":  "3ca7e102-62c7-485f-b441-89796fe44bdf"
                                   },
                      "outputs":  [

                                  ],
                      "execution_count":  0
                  },
                  {
                      "cell_type":  "markdown",
                      "source":  [
                                     "\r\n",
                                     "![](../images/3.PersistingData/NamedVolumes/2.docker_volume_ls.png)\r\n",
                                     "Now we can spin up a container with those volumes mapped: -\r\n",
                                     "\r\n"
                                 ],
                      "metadata":  {
                                       "azdata_cell_guid":  "28e500a9-c391-4fef-a829-f1095a73e21a"
                                   }
                  },
                  {
                      "cell_type":  "code",
                      "source":  [
                                     "    docker container run -d `\r\n",
                                     "    -p 15789:1433 `\r\n",
                                     "    --volume mssqlsystem:/var/opt/mssql `\r\n",
                                     "    --volume mssqluser:/var/opt/sqlserver `\r\n",
                                     "    --env ACCEPT_EULA=Y `\r\n",
                                     "    --env MSSQL_SA_PASSWORD=Testing1122 `\r\n",
                                     "    --name sqlcontainer1 `\r\n",
                                     "    mcr.microsoft.com/mssql/server:2019-CU5-ubuntu-18.04\r\n"
                                 ],
                      "metadata":  {
                                       "azdata_cell_guid":  "05edb609-963f-4838-bc0a-645d742ac89b"
                                   },
                      "outputs":  [

                                  ],
                      "execution_count":  0
                  },
                  {
                      "cell_type":  "markdown",
                      "source":  [
                                     "\r\n",
                                     "![](../images/3.PersistingData/NamedVolumes/3.docker_container_run.png)\r\n",
                                     "The _**mssqlsystem**_ volume is mapped to _**/var/opt/mssql**_ which is the location of the system databases.\r\n",
                                     "The _**mssqluser**_ volume is mapped to _**/var/opt/sqlserver**_ which will be created for us.\r\n",
                                     "By persisting the system databases we won\u0027t have to manually attach any user databases we create in any further containers that use these volumes. The master database will be persisted which will have a record of the database(s).\r\n",
                                     "Let\u0027s run through that here.\r\n",
                                     "First thing we need to do is grant the mssql user access to the location mapped to the mssqluser volume. We need to do this as SQL Server 2019 by default does not run as root within the container, it runs under the mssql user: -\r\n",
                                     "\r\n"
                                 ],
                      "metadata":  {
                                       "azdata_cell_guid":  "dab6395d-a5c4-45a7-838a-b5f83cbcaee8"
                                   }
                  },
                  {
                      "cell_type":  "code",
                      "source":  [
                                     "    docker exec -u 0 sqlcontainer1 bash -c \"chown -R mssql /var/opt/sqlserver\"\r\n"
                                 ],
                      "metadata":  {
                                       "azdata_cell_guid":  "ee70b1cf-af9e-43a1-ab51-cd68a35f0953"
                                   },
                      "outputs":  [

                                  ],
                      "execution_count":  0
                  },
                  {
                      "cell_type":  "markdown",
                      "source":  [
                                     "\r\n",
                                     "Now we can create a database: -\r\n",
                                     "\r\n"
                                 ],
                      "metadata":  {
                                       "azdata_cell_guid":  "ed5a4c81-0115-473b-a05f-4f87921f8e4b"
                                   }
                  },
                  {
                      "cell_type":  "code",
                      "source":  [
                                     "    mssql-cli -S localhost,15789 -U sa -P Testing1122 `\r\n",
                                     "    -Q \"CREATE DATABASE [testdatabase] ON PRIMARY (NAME=\u0027testdatabase\u0027,FILENAME=\u0027/var/opt/sqlserver/testdatabase.mdf\u0027) LOG ON (NAME=\u0027testdatabase_log\u0027,FILENAME=\u0027/var/opt/sqlserver/testdatabase_log.ldf\u0027);\"\r\n"
                                 ],
                      "metadata":  {
                                       "azdata_cell_guid":  "7052674d-f7c2-498d-bf57-af2b60e38767"
                                   },
                      "outputs":  [

                                  ],
                      "execution_count":  0
                  },
                  {
                      "cell_type":  "markdown",
                      "source":  [
                                     "\r\n",
                                     "![](../images/3.PersistingData/NamedVolumes/4.mssql_cli_create_database.png)\r\n",
                                     "Check that the database has been created: -\r\n",
                                     "\r\n"
                                 ],
                      "metadata":  {
                                       "azdata_cell_guid":  "0192ae57-5928-43ba-9b13-1e8f67813e59"
                                   }
                  },
                  {
                      "cell_type":  "code",
                      "source":  [
                                     "    mssql-cli -S localhost,15789 -U sa -P Testing1122 -Q \"SELECT [name] FROM sys.databases;\"\r\n"
                                 ],
                      "metadata":  {
                                       "azdata_cell_guid":  "7a8ed8b4-c44c-47a3-ab79-eafbb7c62dbe"
                                   },
                      "outputs":  [

                                  ],
                      "execution_count":  0
                  },
                  {
                      "cell_type":  "markdown",
                      "source":  [
                                     "\r\n",
                                     "![](../images/3.PersistingData/NamedVolumes/5.mssql_cli_get_databases.png)\r\n",
                                     "And now let\u0027s blow away that container: -\r\n",
                                     "\r\n"
                                 ],
                      "metadata":  {
                                       "azdata_cell_guid":  "418824fb-56b3-4e40-aa1e-64f3c2141216"
                                   }
                  },
                  {
                      "cell_type":  "code",
                      "source":  [
                                     "    docker container rm sqlcontainer1 -f\r\n"
                                 ],
                      "metadata":  {
                                       "azdata_cell_guid":  "8b1e25a9-bb10-4dca-b4f4-2f3f55c4ecca"
                                   },
                      "outputs":  [

                                  ],
                      "execution_count":  0
                  },
                  {
                      "cell_type":  "markdown",
                      "source":  [
                                     "\r\n",
                                     "![](../images/3.PersistingData/NamedVolumes/6.docker_container_rm.png)\r\n",
                                     "Confirm that it\u0027s gone: -\r\n",
                                     "\r\n"
                                 ],
                      "metadata":  {
                                       "azdata_cell_guid":  "4f59a57e-1cbe-49de-a690-bd8054b41966"
                                   }
                  },
                  {
                      "cell_type":  "code",
                      "source":  [
                                     "    docker container ls -a\r\n"
                                 ],
                      "metadata":  {
                                       "azdata_cell_guid":  "735861cf-0bc2-4bdd-ac59-a0055debbef6"
                                   },
                      "outputs":  [

                                  ],
                      "execution_count":  0
                  },
                  {
                      "cell_type":  "markdown",
                      "source":  [
                                     "\r\n",
                                     "![](../images/3.PersistingData/NamedVolumes/7.docker_container_ls.png)\r\n",
                                     "OK, container is gone but we still have our volumes: -\r\n",
                                     "\r\n"
                                 ],
                      "metadata":  {
                                       "azdata_cell_guid":  "6065a9f8-9a3f-4e85-99db-d30f2dce71ce"
                                   }
                  },
                  {
                      "cell_type":  "code",
                      "source":  [
                                     "    docker volume ls\r\n"
                                 ],
                      "metadata":  {
                                       "azdata_cell_guid":  "40a464e3-286a-4e1e-a41c-476a211f7b61"
                                   },
                      "outputs":  [

                                  ],
                      "execution_count":  0
                  },
                  {
                      "cell_type":  "markdown",
                      "source":  [
                                     "\r\n",
                                     "![](../images/3.PersistingData/NamedVolumes/2.docker_volume_ls.png)\r\n",
                                     "So let\u0027s now spin up another container, remapping the volumes: -\r\n",
                                     "\r\n"
                                 ],
                      "metadata":  {
                                       "azdata_cell_guid":  "9bb1a19f-c143-42b9-921c-38f9aae42526"
                                   }
                  },
                  {
                      "cell_type":  "code",
                      "source":  [
                                     "    docker container run -d `\r\n",
                                     "    -p 15799:1433 `\r\n",
                                     "    --volume mssqlsystem:/var/opt/mssql `\r\n",
                                     "    --volume mssqluser:/var/opt/sqlserver `\r\n",
                                     "    --env ACCEPT_EULA=Y `\r\n",
                                     "    --env MSSQL_SA_PASSWORD=Testing1122 `\r\n",
                                     "    --name sqlcontainer2 `\r\n",
                                     "    mcr.microsoft.com/mssql/server:2019-CU5-ubuntu-18.04\r\n"
                                 ],
                      "metadata":  {
                                       "azdata_cell_guid":  "86101b70-0cce-4818-b75b-569a251bb4a5"
                                   },
                      "outputs":  [

                                  ],
                      "execution_count":  0
                  },
                  {
                      "cell_type":  "markdown",
                      "source":  [
                                     "\r\n",
                                     "![](../images/3.PersistingData/NamedVolumes/8.docker_container_run2.png)\r\n",
                                     "And let\u0027s check that our database is there: -\r\n",
                                     "\r\n"
                                 ],
                      "metadata":  {
                                       "azdata_cell_guid":  "b7748cbf-3d1a-4222-848c-deea4bf177df"
                                   }
                  },
                  {
                      "cell_type":  "code",
                      "source":  [
                                     "    mssql-cli -S localhost,15799 -U sa -P Testing1122 -Q \"SELECT [name] FROM sys.databases;\"\r\n"
                                 ],
                      "metadata":  {
                                       "azdata_cell_guid":  "f392427d-f1c9-4093-8bf2-5f88bfd9d817"
                                   },
                      "outputs":  [

                                  ],
                      "execution_count":  0
                  }
              ]
}
