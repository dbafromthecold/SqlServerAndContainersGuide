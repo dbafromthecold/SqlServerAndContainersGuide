{
    "metadata": {
        "kernelspec": {
            "name": "SQL",
            "display_name": "SQL",
            "language": "sql"
        },
        "language_info": {
            "name": "sql",
            "version": ""
        }
    },
    "nbformat_minor": 2,
    "nbformat": 4,
    "cells": [
        {
            "cell_type": "markdown",
            "source": [
                "\r\n",
                "So far in this guide we've gone through spinning up a container and connecting to SQL Server. However containers are ephemeral by default so any changes made in SQL will be lost when we delete the container. Meaning that any databases we create will be lost, really lost. There's no way to get them back.\r\n",
                "So let's run through how we can persist our databases from one container to another by using _**docker named volumes**_.\r\n",
                "To create a named volume run: -\r\n",
                "\r\n"
            ],
            "metadata": {
                "azdata_cell_guid": "dc044d48-c4cb-43b2-adaa-2310426e6fca"
            }
        },
        {
            "cell_type": "code",
            "source": [
                "    docker volume create mssqlsystem\r\n",
                "    docker volume create mssqluser\r\n"
            ],
            "metadata": {
                "azdata_cell_guid": "93d14a71-f9b4-4148-8611-2417026d85d0"
            },
            "outputs": [],
            "execution_count": 0
        },
        {
            "cell_type": "markdown",
            "source": [
                "\r\n",
                "![](../images/3.PersistingData/NamedVolumes/1.docker_volume_create.png)<br>\r\n",
                "Notice we're creating two volumes here, one will be for the system databases and one will be for our user databases.\r\n",
                "To check the volumes: -\r\n",
                "\r\n",
                ""
            ],
            "metadata": {
                "azdata_cell_guid": "87053bcf-7efb-413c-85b1-f5b7b72eda40"
            }
        },
        {
            "cell_type": "code",
            "source": [
                "    docker volume ls\r\n"
            ],
            "metadata": {
                "azdata_cell_guid": "2cc678d3-dbe2-4dfa-8f7f-7e4e7d1095fb"
            },
            "outputs": [],
            "execution_count": 0
        },
        {
            "cell_type": "markdown",
            "source": [
                "\r\n",
                "![](../images/3.PersistingData/NamedVolumes/2.docker_volume_ls.png)<br>\r\n",
                "Now we can spin up a container with those volumes mapped: -\r\n",
                "\r\n",
                ""
            ],
            "metadata": {
                "azdata_cell_guid": "d143c472-b4d0-4a29-b94e-9cc1318fa122"
            }
        },
        {
            "cell_type": "code",
            "source": [
                "    docker container run -d `\r\n",
                "    -p 15789:1433 `\r\n",
                "    --volume mssqlsystem:/var/opt/mssql `\r\n",
                "    --volume mssqluser:/var/opt/sqlserver `\r\n",
                "    --env ACCEPT_EULA=Y `\r\n",
                "    --env MSSQL_SA_PASSWORD=Testing1122 `\r\n",
                "    --name sqlcontainer1 `\r\n",
                "    mcr.microsoft.com/mssql/server:2019-CU5-ubuntu-18.04\r\n"
            ],
            "metadata": {
                "azdata_cell_guid": "f8d8a66c-88dd-4393-82d2-43bfa59ec89d"
            },
            "outputs": [],
            "execution_count": 0
        },
        {
            "cell_type": "markdown",
            "source": [
                "\r\n",
                "![](../images/3.PersistingData/NamedVolumes/3.docker_container_run.png)<br>\r\n",
                "The _**mssqlsystem**_ volume is mapped to _**/var/opt/mssql**_ which is the location of the system databases.<br>\r\n",
                "The _**mssqluser**_ volume is mapped to _**/var/opt/sqlserver**_ which will be created for us.<br>\r\n",
                "By persisting the system databases we won't have to manually attach any user databases we create in any further containers that use these volumes. The master database will be persisted which will have a record of the database(s).<br>\r\n",
                "Let's run through that here.<br>\r\n",
                "First thing we need to do is grant the mssql user access to the location mapped to the mssqluser volume. We need to do this as SQL Server 2019 by default does not run as root within the container, it runs under the mssql user: -\r\n",
                "\r\n",
                ""
            ],
            "metadata": {
                "azdata_cell_guid": "7166a7e2-1450-442f-b65b-4329c2947792"
            }
        },
        {
            "cell_type": "code",
            "source": [
                "    docker exec -u 0 sqlcontainer1 bash -c \"chown -R mssql /var/opt/sqlserver\"\r\n"
            ],
            "metadata": {
                "azdata_cell_guid": "723464eb-ac3d-4ff3-96bf-06965ad50f4f"
            },
            "outputs": [],
            "execution_count": 0
        },
        {
            "cell_type": "markdown",
            "source": [
                "\r\n",
                "Now we can create a database: -\r\n",
                "\r\n"
            ],
            "metadata": {
                "azdata_cell_guid": "ccafe146-55cf-4a20-8761-82f0b53e1b1c"
            }
        },
        {
            "cell_type": "code",
            "source": [
                "    mssql-cli -S localhost,15789 -U sa -P Testing1122 `\r\n",
                "    -Q \"CREATE DATABASE [testdatabase] ON PRIMARY (NAME='testdatabase',FILENAME='/var/opt/sqlserver/testdatabase.mdf') LOG ON (NAME='testdatabase_log',FILENAME='/var/opt/sqlserver/testdatabase_log.ldf');\"\r\n"
            ],
            "metadata": {
                "azdata_cell_guid": "65f67c3f-9c72-42c4-9b7a-911a9d2ac91d"
            },
            "outputs": [],
            "execution_count": 0
        },
        {
            "cell_type": "markdown",
            "source": [
                "\r\n",
                "![](../images/3.PersistingData/NamedVolumes/4.mssql_cli_create_database.png)<br>\r\n",
                "Check that the database has been created: -\r\n",
                "\r\n",
                ""
            ],
            "metadata": {
                "azdata_cell_guid": "674d7bf1-b8d1-4919-b38f-78c8aeb1cac9"
            }
        },
        {
            "cell_type": "code",
            "source": [
                "    mssql-cli -S localhost,15789 -U sa -P Testing1122 -Q \"SELECT [name] FROM sys.databases;\"\r\n"
            ],
            "metadata": {
                "azdata_cell_guid": "d42766b5-e626-4a56-89b2-da9abba0b875"
            },
            "outputs": [],
            "execution_count": 0
        },
        {
            "cell_type": "markdown",
            "source": [
                "\r\n",
                "![](../images/3.PersistingData/NamedVolumes/5.mssql_cli_get_databases.png)<br>\r\n",
                "And now let's blow away that container: -\r\n",
                "\r\n",
                ""
            ],
            "metadata": {
                "azdata_cell_guid": "1117f3b0-4919-46dc-9b04-bb52f77a2be5"
            }
        },
        {
            "cell_type": "code",
            "source": [
                "    docker container rm sqlcontainer1 -f\r\n"
            ],
            "metadata": {
                "azdata_cell_guid": "dbdca7d9-c9e0-46ca-9365-942660dd6c46"
            },
            "outputs": [],
            "execution_count": 0
        },
        {
            "cell_type": "markdown",
            "source": [
                "\r\n",
                "![](../images/3.PersistingData/NamedVolumes/6.docker_container_rm.png)<br>\r\n",
                "Confirm that it's gone: -\r\n",
                "\r\n",
                ""
            ],
            "metadata": {
                "azdata_cell_guid": "0816d41e-0771-4fde-b3cd-efbdb3fbc74f"
            }
        },
        {
            "cell_type": "code",
            "source": [
                "    docker container ls -a\r\n"
            ],
            "metadata": {
                "azdata_cell_guid": "09b2c207-1b9b-46f9-a936-9da1c07dd419"
            },
            "outputs": [],
            "execution_count": 0
        },
        {
            "cell_type": "markdown",
            "source": [
                "\r\n",
                "![](../images/3.PersistingData/NamedVolumes/7.docker_container_ls.png)<br>\r\n",
                "OK, container is gone but we still have our volumes: -\r\n",
                "\r\n",
                ""
            ],
            "metadata": {
                "azdata_cell_guid": "04eb6c66-9264-478f-a0bf-b1396ab01efd"
            }
        },
        {
            "cell_type": "code",
            "source": [
                "    docker volume ls\r\n"
            ],
            "metadata": {
                "azdata_cell_guid": "8f53b132-ecda-44d2-bef0-9fbe67e7d146"
            },
            "outputs": [],
            "execution_count": 0
        },
        {
            "cell_type": "markdown",
            "source": [
                "\r\n",
                "![](../images/3.PersistingData/NamedVolumes/2.docker_volume_ls.png)<br>\r\n",
                "So let's now spin up another container, remapping the volumes: -\r\n",
                "\r\n",
                ""
            ],
            "metadata": {
                "azdata_cell_guid": "62b89d97-3450-4a2c-9691-6ffb6c626304"
            }
        },
        {
            "cell_type": "code",
            "source": [
                "    docker container run -d `\r\n",
                "    -p 15799:1433 `\r\n",
                "    --volume mssqlsystem:/var/opt/mssql `\r\n",
                "    --volume mssqluser:/var/opt/sqlserver `\r\n",
                "    --env ACCEPT_EULA=Y `\r\n",
                "    --env MSSQL_SA_PASSWORD=Testing1122 `\r\n",
                "    --name sqlcontainer2 `\r\n",
                "    mcr.microsoft.com/mssql/server:2019-CU5-ubuntu-18.04\r\n"
            ],
            "metadata": {
                "azdata_cell_guid": "1a6aeb03-a2d4-4195-b21d-603892672d16"
            },
            "outputs": [],
            "execution_count": 0
        },
        {
            "cell_type": "markdown",
            "source": [
                "\r\n",
                "![](../images/3.PersistingData/NamedVolumes/8.docker_container_run2.png)<br>\r\n",
                "And let's check that our database is there: -\r\n",
                "\r\n",
                ""
            ],
            "metadata": {
                "azdata_cell_guid": "9a5091e4-e4db-44ab-8fda-f26820903008"
            }
        },
        {
            "cell_type": "code",
            "source": [
                "    mssql-cli -S localhost,15799 -U sa -P Testing1122 -Q \"SELECT [name] FROM sys.databases;\"\r\n"
            ],
            "metadata": {
                "azdata_cell_guid": "2c9c5ca6-9656-4f98-aa56-efda9e783848"
            },
            "outputs": [],
            "execution_count": 0
        },
        {
            "cell_type": "markdown",
            "source": [
                "\r\n",
                "![](../images/3.PersistingData/NamedVolumes/9.mssql_cli_get_databases2.png)<br>\r\n",
                "Excellent! By using named volumes we've persisted a database from one container to another!\r\n",
                ""
            ],
            "metadata": {
                "azdata_cell_guid": "4ef8347e-029c-46a4-817f-b90b0e2cda73"
            }
        }
    ]
}