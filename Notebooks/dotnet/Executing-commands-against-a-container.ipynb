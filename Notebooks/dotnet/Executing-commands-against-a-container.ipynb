{
    "metadata":  {
                     "kernelspec":  {
                                        "name":  ".net-powershell",
                                        "language":  "PowerShell",
                                        "display_name":  ".NET (PowerShell)"
                                    }
                 },
    "language_info":  {
                          "name":  "PowerShell",
                          "version":  "7.0",
                          "pygments_lexer":  "powershell",
                          "mimetype":  "text/x-powershell",
                          "file_extension":  ".ps1"
                      },
    "nbformat_minor":  4,
    "nbformat":  4,
    "cells":  [
                  {
                      "cell_type":  "markdown",
                      "source":  [
                                     "\r\n",
                                     "When investigating issues with SQL running in a container or just exploring, executing commands against a running container can be really handy.\r\n",
                                     "And it\u0027s easy to do with the docker container exec command.\r\n",
                                     "Let\u0027s run a SQL container: -\r\n",
                                     "\r\n"
                                 ],
                      "metadata":  {
                                       "azdata_cell_guid":  "250a7fb2-1d73-4c1c-add8-924faf92ae36"
                                   }
                  },
                  {
                      "cell_type":  "code",
                      "source":  [
                                     "    docker container run -d `\r\n",
                                     "    --publish 15789:1433 `\r\n",
                                     "    --env ACCEPT_EULA=Y `\r\n",
                                     "    --env SA_PASSWORD=Testing1122 `\r\n",
                                     "    --name sqlcontainer1 `\r\n",
                                     "    mcr.microsoft.com/mssql/server:2019-CU5-ubuntu-18.04\r\n"
                                 ],
                      "metadata":  {
                                       "azdata_cell_guid":  "e5581c6c-3ec7-4edc-9c7c-b9a6089c92b1"
                                   },
                      "outputs":  [

                                  ],
                      "execution_count":  0
                  },
                  {
                      "cell_type":  "markdown",
                      "source":  [
                                     "\r\n",
                                     "Confirm that the container is running: -\r\n",
                                     "\r\n"
                                 ],
                      "metadata":  {
                                       "azdata_cell_guid":  "dcd7054a-898e-434e-86ec-00378292bc63"
                                   }
                  },
                  {
                      "cell_type":  "code",
                      "source":  [
                                     "    docker container ls -a\r\n"
                                 ],
                      "metadata":  {
                                       "azdata_cell_guid":  "5a855cc8-3198-4f3f-972a-e405b716a0de"
                                   },
                      "outputs":  [

                                  ],
                      "execution_count":  0
                  },
                  {
                      "cell_type":  "markdown",
                      "source":  [
                                     "\r\n",
                                     "![](../images/7.DockerCommands/ExecutingCommands/1.RunAContainer.png)\r\n",
                                     "Ok, let\u0027s run some commands against that container. First, let\u0027s list the files in the master database location: -\r\n",
                                     "\r\n"
                                 ],
                      "metadata":  {
                                       "azdata_cell_guid":  "1d63affa-eca5-4e20-9fe0-a1696344e5f4"
                                   }
                  },
                  {
                      "cell_type":  "code",
                      "source":  [
                                     "    docker container exec sqlcontainer1 ls -al /var/opt/mssql/data\r\n"
                                 ],
                      "metadata":  {
                                       "azdata_cell_guid":  "f8a8b937-d6e3-44c5-a69d-6c3dd9c75e6d"
                                   },
                      "outputs":  [

                                  ],
                      "execution_count":  0
                  },
                  {
                      "cell_type":  "markdown",
                      "source":  [
                                     "\r\n",
                                     "![](../images/7.DockerCommands/ExecutingCommands/2.ListFiles.png)\r\n",
                                     "So the format of the container exec command is: -\r\n",
                                     "\r\n"
                                 ],
                      "metadata":  {
                                       "azdata_cell_guid":  "ba3ba8f5-fa93-4e81-9c5d-b9627d21a4b2"
                                   }
                  },
                  {
                      "cell_type":  "code",
                      "source":  [
                                     "    docker container exec CONTAINERNAME COMMAND\r\n"
                                 ],
                      "metadata":  {
                                       "azdata_cell_guid":  "a2a30fa2-d3c0-4343-9845-74fc855cde9a"
                                   },
                      "outputs":  [

                                  ],
                      "execution_count":  0
                  },
                  {
                      "cell_type":  "markdown",
                      "source":  [
                                     "\r\n",
                                     "Let\u0027s see the processes running within the container: -\r\n",
                                     "\r\n"
                                 ],
                      "metadata":  {
                                       "azdata_cell_guid":  "945b2234-acfc-48ca-b1cf-3b31b31c98ed"
                                   }
                  },
                  {
                      "cell_type":  "code",
                      "source":  [
                                     "    docker container exec sqlcontainer1 ps aux\r\n"
                                 ],
                      "metadata":  {
                                       "azdata_cell_guid":  "d4283b7d-220b-4fe6-9d48-6dec6f0a67bc"
                                   },
                      "outputs":  [

                                  ],
                      "execution_count":  0
                  },
                  {
                      "cell_type":  "markdown",
                      "source":  [
                                     "\r\n",
                                     "![](../images/7.DockerCommands/ExecutingCommands/3.ListProcesses.png)\r\n",
                                     "By default, we run commands as the user of the process running in the container: -\r\n",
                                     "\r\n"
                                 ],
                      "metadata":  {
                                       "azdata_cell_guid":  "e2889709-a8ce-403a-8f66-68f99460b281"
                                   }
                  },
                  {
                      "cell_type":  "code",
                      "source":  [
                                     "    docker container exec sqlcontainer1 whoami\r\n"
                                 ],
                      "metadata":  {
                                       "azdata_cell_guid":  "b318e638-a44e-48c9-b680-e51f22ea209a"
                                   },
                      "outputs":  [

                                  ],
                      "execution_count":  0
                  },
                  {
                      "cell_type":  "markdown",
                      "source":  [
                                     "\r\n",
                                     "![](../images/7.DockerCommands/ExecutingCommands/4.WhoAmI-MSSQL.png)\r\n",
                                     "But this can be changed by using the u (user) flag: -\r\n",
                                     "\r\n"
                                 ],
                      "metadata":  {
                                       "azdata_cell_guid":  "a619de14-f5fc-444c-8228-a2563b52e61e"
                                   }
                  },
                  {
                      "cell_type":  "code",
                      "source":  [
                                     "    docker container exec -u 0 sqlcontainer1 whoami\r\n"
                                 ],
                      "metadata":  {
                                       "azdata_cell_guid":  "6e34f7ef-77cb-4534-862c-861d44d16b43"
                                   },
                      "outputs":  [

                                  ],
                      "execution_count":  0
                  },
                  {
                      "cell_type":  "markdown",
                      "source":  [
                                     "\r\n",
                                     "![](../images/7.DockerCommands/ExecutingCommands/5.WhoAmI-ROOT.png)\r\n",
                                     "By setting the user to 0, we can execute commands as root within the container!\r\n",
                                     "We can also jump into the container itself using: -\r\n",
                                     "\r\n"
                                 ],
                      "metadata":  {
                                       "azdata_cell_guid":  "bf163636-7183-43c3-b91d-d6f7f55b8720"
                                   }
                  },
                  {
                      "cell_type":  "code",
                      "source":  [
                                     "    docker container exec -it sqlcontainer1 bash\r\n"
                                 ],
                      "metadata":  {
                                       "azdata_cell_guid":  "70646ba7-5a61-4bff-83bf-1c1223bb0394"
                                   },
                      "outputs":  [

                                  ],
                      "execution_count":  0
                  },
                  {
                      "cell_type":  "markdown",
                      "source":  [
                                     "\r\n",
                                     "The i flag gives us an interactive session and the t flag opens a psuedo terminal, then we run bash to get a shell in the container.\r\n",
                                     "Using this, we can dig around in the container, run our commands and then exit out: -\r\n",
                                     "\r\n"
                                 ],
                      "metadata":  {
                                       "azdata_cell_guid":  "882b2b33-49f7-4c2d-9bd4-aa482d4cba7f"
                                   }
                  },
                  {
                      "cell_type":  "code",
                      "source":  [
                                     "    ls /var/opt/mssql/data\r\n",
                                     "    ps aux\r\n",
                                     "    exit\r\n"
                                 ],
                      "metadata":  {
                                       "azdata_cell_guid":  "447bddce-cae6-425f-ad83-f702ac5a4bce"
                                   },
                      "outputs":  [

                                  ],
                      "execution_count":  0
                  },
                  {
                      "cell_type":  "markdown",
                      "source":  [
                                     "\r\n",
                                     "![](../images/7.DockerCommands/ExecutingCommands/6.JumpIntoTheContainer.png)\r\n"
                                 ],
                      "metadata":  {
                                       "azdata_cell_guid":  "8c313497-3411-45c9-a953-5484ad1070b0"
                                   }
                  }
              ]
}
