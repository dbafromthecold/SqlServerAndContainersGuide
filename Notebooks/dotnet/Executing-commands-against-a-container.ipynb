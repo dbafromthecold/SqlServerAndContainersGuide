{
    "metadata":  {
                     "kernelspec":  {
                                        "name":  ".net-powershell",
                                        "language":  "PowerShell",
                                        "display_name":  ".NET (PowerShell)"
                                    }
                 },
    "language_info":  {
                          "name":  "PowerShell",
                          "version":  "7.0",
                          "pygments_lexer":  "powershell",
                          "mimetype":  "text/x-powershell",
                          "file_extension":  ".ps1"
                      },
    "nbformat_minor":  4,
    "nbformat":  4,
    "cells":  [
                  {
                      "cell_type":  "markdown",
                      "source":  [
                                     "\r\n",
                                     "When investigating issues with SQL running in a container or just exploring, executing commands against a running container can be really handy.\r\n",
                                     "And it\u0027s easy to do with the docker container exec command.\r\n",
                                     "Let\u0027s run a SQL container: -\r\n",
                                     "\r\n"
                                 ],
                      "metadata":  {
                                       "azdata_cell_guid":  "b0af366f-0229-40b4-8026-a96ed0b39224"
                                   }
                  },
                  {
                      "cell_type":  "code",
                      "source":  [
                                     "    docker container run -d `\r\n",
                                     "    --publish 15789:1433 `\r\n",
                                     "    --env ACCEPT_EULA=Y `\r\n",
                                     "    --env SA_PASSWORD=Testing1122 `\r\n",
                                     "    --name sqlcontainer1 `\r\n",
                                     "    mcr.microsoft.com/mssql/server:2019-CU5-ubuntu-18.04\r\n"
                                 ],
                      "metadata":  {
                                       "azdata_cell_guid":  "cc32c971-ff76-4cff-86c0-fd603b5d70a7"
                                   },
                      "outputs":  [

                                  ],
                      "execution_count":  0
                  },
                  {
                      "cell_type":  "markdown",
                      "source":  [
                                     "\r\n",
                                     "Confirm that the container is running: -\r\n",
                                     "\r\n"
                                 ],
                      "metadata":  {
                                       "azdata_cell_guid":  "0001bea4-2872-461d-bba0-c86f63f3c764"
                                   }
                  },
                  {
                      "cell_type":  "code",
                      "source":  [
                                     "    docker container ls -a\r\n"
                                 ],
                      "metadata":  {
                                       "azdata_cell_guid":  "bab3658b-f396-4ed1-94d2-14917fe873dc"
                                   },
                      "outputs":  [

                                  ],
                      "execution_count":  0
                  },
                  {
                      "cell_type":  "markdown",
                      "source":  [
                                     "\r\n",
                                     "![](../images/7.DockerCommands/ExecutingCommands/1.RunAContainer.png)\r\n",
                                     "Ok, let\u0027s run some commands against that container. First, let\u0027s list the files in the master database location: -\r\n",
                                     "\r\n"
                                 ],
                      "metadata":  {
                                       "azdata_cell_guid":  "c7ae9916-fa70-48ad-b4a8-69b2423b0bdf"
                                   }
                  },
                  {
                      "cell_type":  "code",
                      "source":  [
                                     "    docker container exec sqlcontainer1 ls -al /var/opt/mssql/data\r\n"
                                 ],
                      "metadata":  {
                                       "azdata_cell_guid":  "6b5647a0-2bbf-4624-b0f2-db9469b51ccd"
                                   },
                      "outputs":  [

                                  ],
                      "execution_count":  0
                  },
                  {
                      "cell_type":  "markdown",
                      "source":  [
                                     "\r\n",
                                     "![](../images/7.DockerCommands/ExecutingCommands/2.ListFiles.png)\r\n",
                                     "So the format of the container exec command is: -\r\n",
                                     "\r\n"
                                 ],
                      "metadata":  {
                                       "azdata_cell_guid":  "eec87947-abc7-4bbe-8c72-40f6c2074b0c"
                                   }
                  },
                  {
                      "cell_type":  "code",
                      "source":  [
                                     "    docker container exec CONTAINERNAME COMMAND\r\n"
                                 ],
                      "metadata":  {
                                       "azdata_cell_guid":  "02815b67-e51c-483a-a495-820572a193e3"
                                   },
                      "outputs":  [

                                  ],
                      "execution_count":  0
                  },
                  {
                      "cell_type":  "markdown",
                      "source":  [
                                     "\r\n",
                                     "Let\u0027s see the processes running within the container: -\r\n",
                                     "\r\n"
                                 ],
                      "metadata":  {
                                       "azdata_cell_guid":  "2c0320eb-1216-4a9a-bddd-52db5d731c10"
                                   }
                  },
                  {
                      "cell_type":  "code",
                      "source":  [
                                     "    docker container exec sqlcontainer1 ps aux\r\n"
                                 ],
                      "metadata":  {
                                       "azdata_cell_guid":  "1af24181-3a89-4d28-8f4c-f57beb424c40"
                                   },
                      "outputs":  [

                                  ],
                      "execution_count":  0
                  },
                  {
                      "cell_type":  "markdown",
                      "source":  [
                                     "\r\n",
                                     "![](../images/7.DockerCommands/ExecutingCommands/3.ListProcesses.png)\r\n",
                                     "By default, we run commands as the user of the process running in the container: -\r\n",
                                     "\r\n"
                                 ],
                      "metadata":  {
                                       "azdata_cell_guid":  "88f16b74-17c8-428c-9b81-27acf6cedce4"
                                   }
                  },
                  {
                      "cell_type":  "code",
                      "source":  [
                                     "    docker container exec sqlcontainer1 whoami\r\n"
                                 ],
                      "metadata":  {
                                       "azdata_cell_guid":  "3682db97-cd0e-48a9-a76f-bf95f56018a5"
                                   },
                      "outputs":  [

                                  ],
                      "execution_count":  0
                  },
                  {
                      "cell_type":  "markdown",
                      "source":  [
                                     "\r\n",
                                     "![](../images/7.DockerCommands/ExecutingCommands/4.WhoAmI-MSSQL.png)\r\n",
                                     "But this can be changed by using the u (user) flag: -\r\n",
                                     "\r\n"
                                 ],
                      "metadata":  {
                                       "azdata_cell_guid":  "df1e85b7-a5f6-4eb3-b868-98074eb07c60"
                                   }
                  },
                  {
                      "cell_type":  "code",
                      "source":  [
                                     "    docker container exec -u 0 sqlcontainer1 whoami\r\n"
                                 ],
                      "metadata":  {
                                       "azdata_cell_guid":  "0450400c-44fd-41b6-bdfd-2814bb4e2b88"
                                   },
                      "outputs":  [

                                  ],
                      "execution_count":  0
                  },
                  {
                      "cell_type":  "markdown",
                      "source":  [
                                     "\r\n",
                                     "![](../images/7.DockerCommands/ExecutingCommands/5.WhoAmI-ROOT.png)\r\n",
                                     "By setting the user to 0, we can execute commands as root within the container!\r\n",
                                     "We can also jump into the container itself using: -\r\n",
                                     "\r\n"
                                 ],
                      "metadata":  {
                                       "azdata_cell_guid":  "abfbc65a-476c-4a8b-b263-c1857a91fef1"
                                   }
                  },
                  {
                      "cell_type":  "code",
                      "source":  [
                                     "    docker container exec -it sqlcontainer1 bash\r\n"
                                 ],
                      "metadata":  {
                                       "azdata_cell_guid":  "1c249be0-d3e4-4395-b0ba-e09ba808e13b"
                                   },
                      "outputs":  [

                                  ],
                      "execution_count":  0
                  },
                  {
                      "cell_type":  "markdown",
                      "source":  [
                                     "\r\n",
                                     "The i flag gives us an interactive session and the t flag opens a psuedo terminal, then we run bash to get a shell in the container.\r\n",
                                     "Using this, we can dig around in the container, run our commands and then exit out: -\r\n",
                                     "\r\n"
                                 ],
                      "metadata":  {
                                       "azdata_cell_guid":  "49efc66e-bda7-4af0-bb38-88f516f24e25"
                                   }
                  },
                  {
                      "cell_type":  "code",
                      "source":  [
                                     "    ls /var/opt/mssql/data\r\n",
                                     "    ps aux\r\n",
                                     "    exit\r\n"
                                 ],
                      "metadata":  {
                                       "azdata_cell_guid":  "d95281d5-3ade-4235-a4f1-ce51e0642dd2"
                                   },
                      "outputs":  [

                                  ],
                      "execution_count":  0
                  }
              ]
}
