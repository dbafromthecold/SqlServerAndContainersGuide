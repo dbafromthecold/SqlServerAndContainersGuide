{
    "metadata":  {
                     "kernelspec":  {
                                        "name":  ".net-powershell",
                                        "language":  "PowerShell",
                                        "display_name":  ".NET (PowerShell)"
                                    }
                 },
    "language_info":  {
                          "name":  "PowerShell",
                          "version":  "7.0",
                          "pygments_lexer":  "powershell",
                          "mimetype":  "text/x-powershell",
                          "file_extension":  ".ps1"
                      },
    "nbformat_minor":  4,
    "nbformat":  4,
    "cells":  [
                  {
                      "cell_type":  "markdown",
                      "source":  [
                                     "\r\n",
                                     "In a previous wiki we pushed a [custom SQL image to the Docker Hub](https://github.com/dbafromthecold/SqlServerAndContainersGuide/wiki/Pushing-an-image-to-the-Docker-Hub).\r\n",
                                     "However, what if that image contained sensitive information that we don\u0027t want people to see? Ok, we could have made the repository on the Docker Hub private but what if we don\u0027t want it in a public registry at all?\r\n",
                                     "One option is to host your own container registry, but here we\u0027re going to go through exporting Docker images.\r\n",
                                     "The image we\u0027re going to export is the image built in the [previous wiki](https://github.com/dbafromthecold/SqlServerAndContainersGuide/wiki/Building-a-custom-image).\r\n",
                                     "Here\u0027s the image: -\r\n",
                                     "\r\n"
                                 ],
                      "metadata":  {
                                       "azdata_cell_guid":  "0e54bc6f-1085-4c48-8894-ac9f88267116"
                                   }
                  },
                  {
                      "cell_type":  "code",
                      "source":  [
                                     "    docker image ls\r\n"
                                 ],
                      "metadata":  {
                                       "azdata_cell_guid":  "f4e819a2-d300-4083-83bd-09465c1b76e8"
                                   },
                      "outputs":  [

                                  ],
                      "execution_count":  0
                  },
                  {
                      "cell_type":  "markdown",
                      "source":  [
                                     "\r\n",
                                     "![](../images/4.BuildingACustomImage/ExportingDockerImages/1.ViewImages.png)\r\n",
                                     "We can export that image by running: -\r\n",
                                     "\r\n"
                                 ],
                      "metadata":  {
                                       "azdata_cell_guid":  "68dfce5a-03ff-48a0-b2e9-daccef339a2a"
                                   }
                  },
                  {
                      "cell_type":  "code",
                      "source":  [
                                     "    docker save sqlimage1 -o C:\\temp\\sqlimage1.tar\r\n"
                                 ],
                      "metadata":  {
                                       "azdata_cell_guid":  "f755029c-adfc-4c0a-ac53-2dcb8eb28826"
                                   },
                      "outputs":  [

                                  ],
                      "execution_count":  0
                  },
                  {
                      "cell_type":  "markdown",
                      "source":  [
                                     "\r\n",
                                     "![](../images/4.BuildingACustomImage/ExportingDockerImages/2.ExportImage.png)\r\n",
                                     "And there\u0027s the exported compressed image in the C:\\temp folder! This can now be copied to another Docker host were it can be imported. Let\u0027s have a go at that on our local Docker host.\r\n",
                                     "First thing is to remove the existing image: -\r\n",
                                     "\r\n"
                                 ],
                      "metadata":  {
                                       "azdata_cell_guid":  "23db69cc-7d35-405e-b380-11264c2103df"
                                   }
                  },
                  {
                      "cell_type":  "code",
                      "source":  [
                                     "    docker rmi sqlimage1\r\n"
                                 ],
                      "metadata":  {
                                       "azdata_cell_guid":  "a01e9e8e-2d13-41a0-8faa-522c172f85ff"
                                   },
                      "outputs":  [

                                  ],
                      "execution_count":  0
                  },
                  {
                      "cell_type":  "markdown",
                      "source":  [
                                     "\r\n",
                                     "![](../images/4.BuildingACustomImage/ExportingDockerImages/3.DeleteImage.png)\r\n",
                                     "And now load the image from the file: -\r\n",
                                     "\r\n"
                                 ],
                      "metadata":  {
                                       "azdata_cell_guid":  "11db96fb-d023-437b-a1ea-283df72324eb"
                                   }
                  },
                  {
                      "cell_type":  "code",
                      "source":  [
                                     "    docker load -i C:\\temp\\sqlimage1.tar\r\n"
                                 ],
                      "metadata":  {
                                       "azdata_cell_guid":  "136c167c-2b73-4cf6-ac73-ceb9296f6d6a"
                                   },
                      "outputs":  [

                                  ],
                      "execution_count":  0
                  },
                  {
                      "cell_type":  "markdown",
                      "source":  [
                                     "\r\n",
                                     "![](../images/4.BuildingACustomImage/ExportingDockerImages/4.LoadImage.png)\r\n",
                                     "Once that\u0027s complete, confirm that the image is there: -\r\n",
                                     "\r\n"
                                 ],
                      "metadata":  {
                                       "azdata_cell_guid":  "730c90da-f511-4bf4-ab1e-70de6c9e7846"
                                   }
                  },
                  {
                      "cell_type":  "code",
                      "source":  [
                                     "    docker image ls\r\n"
                                 ],
                      "metadata":  {
                                       "azdata_cell_guid":  "5c9f2765-344b-403b-b64a-27a55135cdab"
                                   },
                      "outputs":  [

                                  ],
                      "execution_count":  0
                  }
              ]
}
