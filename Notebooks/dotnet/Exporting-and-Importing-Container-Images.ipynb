{
    "metadata":  {
                     "kernelspec":  {
                                        "name":  ".net-powershell",
                                        "language":  "PowerShell",
                                        "display_name":  ".NET (PowerShell)"
                                    }
                 },
    "language_info":  {
                          "name":  "PowerShell",
                          "version":  "7.0",
                          "pygments_lexer":  "powershell",
                          "mimetype":  "text/x-powershell",
                          "file_extension":  ".ps1"
                      },
    "nbformat_minor":  4,
    "nbformat":  4,
    "cells":  [
                  {
                      "cell_type":  "markdown",
                      "source":  [
                                     "\r\n",
                                     "In a previous wiki we pushed a [custom SQL image to the Docker Hub](https://github.com/dbafromthecold/SqlServerAndContainersGuide/wiki/Pushing-an-image-to-the-Docker-Hub).\r\n",
                                     "However, what if that image contained sensitive information that we don\u0027t want people to see? Ok, we could have made the repository on the Docker Hub private but what if we don\u0027t want it in a public registry at all?\r\n",
                                     "One option is to host your own container registry, but here we\u0027re going to go through exporting Docker images.\r\n",
                                     "The image we\u0027re going to export is the image built in the [previous wiki](https://github.com/dbafromthecold/SqlServerAndContainersGuide/wiki/Building-a-custom-image).\r\n",
                                     "Here\u0027s the image: -\r\n",
                                     "\r\n"
                                 ],
                      "metadata":  {
                                       "azdata_cell_guid":  "54e28a23-94da-406b-8406-6f611c7efcfb"
                                   }
                  },
                  {
                      "cell_type":  "code",
                      "source":  [
                                     "    docker image ls\r\n"
                                 ],
                      "metadata":  {
                                       "azdata_cell_guid":  "39426ffb-cc74-4fff-95a2-4f6d4c55d81e"
                                   },
                      "outputs":  [

                                  ],
                      "execution_count":  0
                  },
                  {
                      "cell_type":  "markdown",
                      "source":  [
                                     "\r\n",
                                     "![](../images/4.BuildingACustomImage/ExportingDockerImages/1.ViewImages.png)\r\n",
                                     "We can export that image by running: -\r\n",
                                     "\r\n"
                                 ],
                      "metadata":  {
                                       "azdata_cell_guid":  "10c20143-38ee-4f5a-84a7-46c6b84086a0"
                                   }
                  },
                  {
                      "cell_type":  "code",
                      "source":  [
                                     "    docker save sqlimage1 -o C:\\temp\\sqlimage1.tar\r\n"
                                 ],
                      "metadata":  {
                                       "azdata_cell_guid":  "a3c829f0-5c2e-483e-a9eb-78c4bfecea36"
                                   },
                      "outputs":  [

                                  ],
                      "execution_count":  0
                  },
                  {
                      "cell_type":  "markdown",
                      "source":  [
                                     "\r\n",
                                     "![](../images/4.BuildingACustomImage/ExportingDockerImages/2.ExportImage.png)\r\n",
                                     "And there\u0027s the exported compressed image in the C:\\temp folder! This can now be copied to another Docker host were it can be imported. Let\u0027s have a go at that on our local Docker host.\r\n",
                                     "First thing is to remove the existing image: -\r\n",
                                     "\r\n"
                                 ],
                      "metadata":  {
                                       "azdata_cell_guid":  "5346f795-731c-4e52-8cff-75efe13d9f37"
                                   }
                  },
                  {
                      "cell_type":  "code",
                      "source":  [
                                     "    docker rmi sqlimage1\r\n"
                                 ],
                      "metadata":  {
                                       "azdata_cell_guid":  "9529cfba-ccfc-411f-9215-4adb4d36a323"
                                   },
                      "outputs":  [

                                  ],
                      "execution_count":  0
                  },
                  {
                      "cell_type":  "markdown",
                      "source":  [
                                     "\r\n",
                                     "![](../images/4.BuildingACustomImage/ExportingDockerImages/3.DeleteImage.png)\r\n",
                                     "And now load the image from the file: -\r\n",
                                     "\r\n"
                                 ],
                      "metadata":  {
                                       "azdata_cell_guid":  "7bfcb902-0f6c-48c4-b634-1e2121bb92ff"
                                   }
                  },
                  {
                      "cell_type":  "code",
                      "source":  [
                                     "    docker load -i C:\\temp\\sqlimage1.tar\r\n"
                                 ],
                      "metadata":  {
                                       "azdata_cell_guid":  "630e8f0f-3bbc-44e3-9245-24e6040486ba"
                                   },
                      "outputs":  [

                                  ],
                      "execution_count":  0
                  },
                  {
                      "cell_type":  "markdown",
                      "source":  [
                                     "\r\n",
                                     "![](../images/4.BuildingACustomImage/ExportingDockerImages/4.LoadImage.png)\r\n",
                                     "Once that\u0027s complete, confirm that the image is there: -\r\n",
                                     "\r\n"
                                 ],
                      "metadata":  {
                                       "azdata_cell_guid":  "91c57a9c-53a5-4318-8fcd-9a1aeea12a5a"
                                   }
                  },
                  {
                      "cell_type":  "code",
                      "source":  [
                                     "    docker image ls\r\n"
                                 ],
                      "metadata":  {
                                       "azdata_cell_guid":  "d64647af-9c6e-4e0a-8d0d-d8263bd349a9"
                                   },
                      "outputs":  [

                                  ],
                      "execution_count":  0
                  },
                  {
                      "cell_type":  "markdown",
                      "source":  [
                                     "\r\n",
                                     "![](../images/4.BuildingACustomImage/ExportingDockerImages/5.ViewImages.png)\r\n",
                                     "So if we want to make images available to other Docker hosts but we don\u0027t want to push to a remote repository we can export/images using these commands!\r\n"
                                 ],
                      "metadata":  {
                                       "azdata_cell_guid":  "d1690ae6-80c9-4f07-b6b4-b35b8d78ee31"
                                   }
                  }
              ]
}
