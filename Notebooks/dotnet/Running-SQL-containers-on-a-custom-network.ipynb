{
    "metadata":  {
                     "kernelspec":  {
                                        "name":  ".net-powershell",
                                        "language":  "PowerShell",
                                        "display_name":  ".NET (PowerShell)"
                                    }
                 },
    "language_info":  {
                          "name":  "PowerShell",
                          "version":  "7.0",
                          "pygments_lexer":  "powershell",
                          "mimetype":  "text/x-powershell",
                          "file_extension":  ".ps1"
                      },
    "nbformat_minor":  4,
    "nbformat":  4,
    "cells":  [
                  {
                      "cell_type":  "markdown",
                      "source":  [
                                     "\r\n",
                                     "In a previous wiki page we went through creating SQL containers on the [default docker bridge network](https://github.com/dbafromthecold/SqlServerAndContainersGuide/wiki/Running-SQL-containers-on-the-default-network)\r\n",
                                     "However, docker gives us the ability to create our own custom networks, and it provides several drivers for us to use: -\r\n",
                                     "1. bridge - the default. Allows containers connected to the same bridge network to communicate.\r\n",
                                     "2. host - removes network isolation between the container and the host. The container uses the host\u0027s network.\r\n",
                                     "3. none - disabled the container\u0027s network stack.\r\n",
                                     "4. macvlan - assign a MAC address to the container so it shows as a physical device on the network.\r\n",
                                     "5. Overlay - connect multiple docker daemons together. Used for Docker Swarm.\r\n",
                                     "The one we\u0027re going to focus on is the bridge network. User-defined (aka custom) brigde networks have several advantages over the default bridge network, the main one being that containers on a custom bridge network can communicate via container name. The other advantages are listed [here](https://github.com/dbafromthecold/SqlServerAndContainersGuide/wiki/Running-SQL-containers-on-the-default-network).\r\n",
                                     "Let\u0027s test that out! Create a custom network: -\r\n",
                                     "\r\n"
                                 ],
                      "metadata":  {
                                       "azdata_cell_guid":  "a203d583-c2d1-4ec9-b0d6-f04bc443ed3c"
                                   }
                  },
                  {
                      "cell_type":  "code",
                      "source":  [
                                     "    docker network create sqlserver\r\n"
                                 ],
                      "metadata":  {
                                       "azdata_cell_guid":  "a9100edc-466a-4c08-a24f-468081d37745"
                                   },
                      "outputs":  [

                                  ],
                      "execution_count":  0
                  },
                  {
                      "cell_type":  "markdown",
                      "source":  [
                                     "\r\n",
                                     "We\u0027re not specifying a driver here so the network created will be a bridge network as it\u0027s the default. We can confirm that by running: -\r\n",
                                     "\r\n"
                                 ],
                      "metadata":  {
                                       "azdata_cell_guid":  "9fc42bff-59b4-463f-92f4-23d67b466575"
                                   }
                  },
                  {
                      "cell_type":  "code",
                      "source":  [
                                     "    docker network ls\r\n"
                                 ],
                      "metadata":  {
                                       "azdata_cell_guid":  "fc9c31a8-598e-4e4b-976a-b96bf76b3852"
                                   },
                      "outputs":  [

                                  ],
                      "execution_count":  0
                  },
                  {
                      "cell_type":  "markdown",
                      "source":  [
                                     "\r\n",
                                     "![](../images/5.ContainerNetworking/RunningContainersOnCustomNetwork/1.CreateAndViewCustomNetwork.png)\r\n",
                                     "And there\u0027s our custom network! Ok, let\u0027s spin up a couple of containers on that network: -\r\n",
                                     "\r\n"
                                 ],
                      "metadata":  {
                                       "azdata_cell_guid":  "7f6701c0-7432-406f-80cd-afe620a0c086"
                                   }
                  },
                  {
                      "cell_type":  "code",
                      "source":  [
                                     "    docker container run -d `\r\n",
                                     "    --network sqlserver `\r\n",
                                     "    --env ACCEPT_EULA=Y `\r\n",
                                     "    --env MSSQL_SA_PASSWORD=Testing1122 `\r\n",
                                     "    --name sqlcontainer1 `\r\n",
                                     "    ghcr.io/dbafromthecold/customsql2019-tools:cu5\r\n",
                                     "    \r\n",
                                     "    docker container run -d `\r\n",
                                     "    --network sqlserver `\r\n",
                                     "    --env ACCEPT_EULA=Y `\r\n",
                                     "    --env MSSQL_SA_PASSWORD=Testing1122 `\r\n",
                                     "    --name sqlcontainer2 `\r\n",
                                     "    ghcr.io/dbafromthecold/customsql2019-tools:cu5\r\n"
                                 ],
                      "metadata":  {
                                       "azdata_cell_guid":  "03079466-243b-4338-abbd-719cad211ca6"
                                   },
                      "outputs":  [

                                  ],
                      "execution_count":  0
                  },
                  {
                      "cell_type":  "markdown",
                      "source":  [
                                     "\r\n",
                                     "![](../images/5.ContainerNetworking/RunningContainersOnCustomNetwork/2.RunTwoContainers.png)\r\n",
                                     "We\u0027re using a custom image here as it has ping installed, so that we can test communicate between the containers.\r\n",
                                     "Confirm that the containers are up and running: -\r\n",
                                     "\r\n"
                                 ],
                      "metadata":  {
                                       "azdata_cell_guid":  "c9577d24-cb3b-424a-b747-c529c3631914"
                                   }
                  },
                  {
                      "cell_type":  "code",
                      "source":  [
                                     "    docker container ls -a\r\n"
                                 ],
                      "metadata":  {
                                       "azdata_cell_guid":  "c16d3eed-b414-4c2a-870e-186cd47f07e8"
                                   },
                      "outputs":  [

                                  ],
                      "execution_count":  0
                  },
                  {
                      "cell_type":  "markdown",
                      "source":  [
                                     "\r\n",
                                     "![](../images/5.ContainerNetworking/RunningContainersOnCustomNetwork/3.ConfirmContainersRunning.png)\r\n",
                                     "And inspect the custom network: -\r\n",
                                     "\r\n"
                                 ],
                      "metadata":  {
                                       "azdata_cell_guid":  "b2260d2a-d832-4e94-856d-09c4d0a07732"
                                   }
                  },
                  {
                      "cell_type":  "code",
                      "source":  [
                                     "    docker network inspect sqlserver\r\n"
                                 ],
                      "metadata":  {
                                       "azdata_cell_guid":  "1fd8914f-95f6-4e68-9fc9-5dafb334f710"
                                   },
                      "outputs":  [

                                  ],
                      "execution_count":  0
                  },
                  {
                      "cell_type":  "markdown",
                      "source":  [
                                     "\r\n",
                                     "![](../images/5.ContainerNetworking/RunningContainersOnCustomNetwork/4.InspectCustomNetwork.png)\r\n",
                                     "There\u0027s our containers! Ok, now we can test pinging each container from the other by name: -\r\n",
                                     "   \r\n"
                                 ],
                      "metadata":  {
                                       "azdata_cell_guid":  "f4ed1d75-1c34-4a26-a3d6-ba4d050015d4"
                                   }
                  },
                  {
                      "cell_type":  "code",
                      "source":  [
                                     "    docker exec sqlcontainer1 ping sqlcontainer2 -c 4\r\n",
                                     "    docker exec sqlcontainer2 ping sqlcontainer1 -c 4\r\n"
                                 ],
                      "metadata":  {
                                       "azdata_cell_guid":  "15ac4257-e88d-4363-bf6f-1c7014444497"
                                   },
                      "outputs":  [

                                  ],
                      "execution_count":  0
                  },
                  {
                      "cell_type":  "markdown",
                      "source":  [
                                     "\r\n",
                                     "![](../images/5.ContainerNetworking/RunningContainersOnCustomNetwork/5.PingContainers.png)\r\n",
                                     "Excellent! The containers can communicate by name!\r\n",
                                     "This is really handy when building out test environment in which we need multiple SQL instances that can talk to each other!\r\n",
                                     "I\u0027d recommend always creating a custom network for your SQL containers as it also provides more isolation for the containers from the default network.\r\n",
                                     "What\u0027s really cool as well is that containers can be attached/detached from a custom network on the fly! \r\n",
                                     "Let\u0027s try that out. Spin up a container on the default network: -\r\n",
                                     "\r\n"
                                 ],
                      "metadata":  {
                                       "azdata_cell_guid":  "98f6dd6e-e549-451e-a644-767e90ae2241"
                                   }
                  },
                  {
                      "cell_type":  "code",
                      "source":  [
                                     "    docker container run -d `\r\n",
                                     "    --env ACCEPT_EULA=Y `\r\n",
                                     "    --env MSSQL_SA_PASSWORD=Testing1122 `\r\n",
                                     "    --name sqlcontainer3 `\r\n",
                                     "    ghcr.io/dbafromthecold/customsql2019-tools:cu5\r\n"
                                 ],
                      "metadata":  {
                                       "azdata_cell_guid":  "917d638d-bddb-4874-a742-2e736827060c"
                                   },
                      "outputs":  [

                                  ],
                      "execution_count":  0
                  },
                  {
                      "cell_type":  "markdown",
                      "source":  [
                                     "\r\n",
                                     "Confirm the container is running: -\r\n",
                                     "\r\n"
                                 ],
                      "metadata":  {
                                       "azdata_cell_guid":  "d8420065-904d-4dff-9525-fbdde8c147cb"
                                   }
                  },
                  {
                      "cell_type":  "code",
                      "source":  [
                                     "    docker container ls -a\r\n"
                                 ],
                      "metadata":  {
                                       "azdata_cell_guid":  "d95574d9-61fe-4cd7-9b92-5cfb0a4ee4d6"
                                   },
                      "outputs":  [

                                  ],
                      "execution_count":  0
                  },
                  {
                      "cell_type":  "markdown",
                      "source":  [
                                     "\r\n",
                                     "![](../images/5.ContainerNetworking/RunningContainersOnCustomNetwork/6.SpinUpAnotherContainer.png)\r\n",
                                     "And confirm that it is on the default bridge network: -\r\n",
                                     "\r\n"
                                 ],
                      "metadata":  {
                                       "azdata_cell_guid":  "29f8bd34-286c-4950-be59-317540993ae8"
                                   }
                  },
                  {
                      "cell_type":  "code",
                      "source":  [
                                     "    docker network inspect bridge\r\n"
                                 ],
                      "metadata":  {
                                       "azdata_cell_guid":  "4ca605ed-2548-475a-ba12-8f300fd65ac2"
                                   },
                      "outputs":  [

                                  ],
                      "execution_count":  0
                  },
                  {
                      "cell_type":  "markdown",
                      "source":  [
                                     "\r\n",
                                     "![](../images/5.ContainerNetworking/RunningContainersOnCustomNetwork/7.InspectBridgeNetwork.png)\r\n",
                                     "Ok, let\u0027s attach that container to our custom network: -\r\n",
                                     "\r\n"
                                 ],
                      "metadata":  {
                                       "azdata_cell_guid":  "bb4a54f3-6855-446d-879b-ea3be96ab8d4"
                                   }
                  },
                  {
                      "cell_type":  "code",
                      "source":  [
                                     "    docker network connect sqlserver sqlcontainer3\r\n"
                                 ],
                      "metadata":  {
                                       "azdata_cell_guid":  "5ef61c0e-fc2b-4aa5-abaa-ed3df154eb3f"
                                   },
                      "outputs":  [

                                  ],
                      "execution_count":  0
                  },
                  {
                      "cell_type":  "markdown",
                      "source":  [
                                     "\r\n",
                                     "And now inspect the custom network: -\r\n",
                                     "\r\n"
                                 ],
                      "metadata":  {
                                       "azdata_cell_guid":  "1b2a5b1c-97e1-42fb-9343-2b083f1fee01"
                                   }
                  },
                  {
                      "cell_type":  "code",
                      "source":  [
                                     "    docker network inspect sqlserver\r\n"
                                 ],
                      "metadata":  {
                                       "azdata_cell_guid":  "c40be43f-9b1a-40fd-bc4b-249a602a93ec"
                                   },
                      "outputs":  [

                                  ],
                      "execution_count":  0
                  },
                  {
                      "cell_type":  "markdown",
                      "source":  [
                                     "\r\n",
                                     "![](../images/5.ContainerNetworking/RunningContainersOnCustomNetwork/8.InspectCustomNetworkAgain.png)\r\n",
                                     "The container is now attached to that network! So the other containers can communicate to it via its name: -\r\n",
                                     "\r\n"
                                 ],
                      "metadata":  {
                                       "azdata_cell_guid":  "bc899721-3fdb-427d-99a3-8afbf48f1a01"
                                   }
                  },
                  {
                      "cell_type":  "code",
                      "source":  [
                                     "    docker exec sqlcontainer1 ping sqlcontainer3 -c 4\r\n"
                                 ],
                      "metadata":  {
                                       "azdata_cell_guid":  "16b288a3-3f74-475c-8643-eeafa8c69a37"
                                   },
                      "outputs":  [

                                  ],
                      "execution_count":  0
                  },
                  {
                      "cell_type":  "markdown",
                      "source":  [
                                     "\r\n",
                                     "![](../images/5.ContainerNetworking/RunningContainersOnCustomNetwork/9.PingNewContainer.png)\r\n",
                                     "And if we want to remove it from the custom network we can run: -\r\n",
                                     "\r\n"
                                 ],
                      "metadata":  {
                                       "azdata_cell_guid":  "a2f10b61-5a95-4a71-86c4-1f66fb1e0900"
                                   }
                  },
                  {
                      "cell_type":  "code",
                      "source":  [
                                     "    docker network disconnect sqlserver sqlcontainer3\r\n"
                                 ],
                      "metadata":  {
                                       "azdata_cell_guid":  "cb03d2b5-7b75-4548-a5f7-071e2432d469"
                                   },
                      "outputs":  [

                                  ],
                      "execution_count":  0
                  },
                  {
                      "cell_type":  "markdown",
                      "source":  [
                                     "\r\n",
                                     "Confirm that it\u0027s no longer attached to the custom network: -\r\n",
                                     "\r\n"
                                 ],
                      "metadata":  {
                                       "azdata_cell_guid":  "d993893b-138d-4ad8-993d-656aad9e331b"
                                   }
                  },
                  {
                      "cell_type":  "code",
                      "source":  [
                                     "    docker network inspect sqlserver\r\n"
                                 ],
                      "metadata":  {
                                       "azdata_cell_guid":  "d7eacc42-8e61-4f99-ac60-4c0958205a74"
                                   },
                      "outputs":  [

                                  ],
                      "execution_count":  0
                  },
                  {
                      "cell_type":  "markdown",
                      "source":  [
                                     "\r\n",
                                     "![](../images/5.ContainerNetworking/RunningContainersOnCustomNetwork/10.RemoveContainerFromCustomNetwork.png)\r\n",
                                     "Gone! Which means the other containers won\u0027t be able to ping it any more: -\r\n",
                                     "\r\n"
                                 ],
                      "metadata":  {
                                       "azdata_cell_guid":  "68cea5aa-e96b-4638-9371-8e400a320cd1"
                                   }
                  },
                  {
                      "cell_type":  "code",
                      "source":  [
                                     "    docker exec sqlcontainer1 ping sqlcontainer3 -c 4\r\n"
                                 ],
                      "metadata":  {
                                       "azdata_cell_guid":  "a6a62f55-717a-4baa-994d-de42c49abc04"
                                   },
                      "outputs":  [

                                  ],
                      "execution_count":  0
                  }
              ]
}
