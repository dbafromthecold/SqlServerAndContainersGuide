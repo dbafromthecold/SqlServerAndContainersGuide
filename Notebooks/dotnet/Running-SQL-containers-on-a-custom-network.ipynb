{
    "metadata": {
        "kernelspec": {
            "name": "SQL",
            "display_name": "SQL",
            "language": "sql"
        },
        "language_info": {
            "name": "sql",
            "version": ""
        }
    },
    "nbformat_minor": 2,
    "nbformat": 4,
    "cells": [
        {
            "cell_type": "markdown",
            "source": [
                "\r\n",
                "In a previous wiki page we went through creating SQL containers on the [default docker bridge network](https://github.com/dbafromthecold/SqlServerAndContainersGuide/wiki/Running-SQL-containers-on-the-default-network)\r\n",
                "However, docker gives us the ability to create our own custom networks, and it provides several drivers for us to use: -\r\n",
                "1. bridge - the default. Allows containers connected to the same bridge network to communicate.\r\n",
                "2. host - removes network isolation between the container and the host. The container uses the host's network.\r\n",
                "3. none - disabled the container's network stack.\r\n",
                "4. macvlan - assign a MAC address to the container so it shows as a physical device on the network.\r\n",
                "5. Overlay - connect multiple docker daemons together. Used for Docker Swarm.\r\n",
                "The one we're going to focus on is the bridge network. User-defined (aka custom) brigde networks have several advantages over the default bridge network, the main one being that containers on a custom bridge network can communicate via container name. The other advantages are listed [here](https://github.com/dbafromthecold/SqlServerAndContainersGuide/wiki/Running-SQL-containers-on-the-default-network).\r\n",
                "Let's test that out! Create a custom network: -\r\n",
                "\r\n"
            ],
            "metadata": {
                "azdata_cell_guid": "23a7396a-a594-4bc1-8610-29f62004f8fe"
            }
        },
        {
            "cell_type": "code",
            "source": [
                "    docker network create sqlserver\r\n"
            ],
            "metadata": {
                "azdata_cell_guid": "69589895-3edf-421b-87b1-801374cdf6da"
            },
            "outputs": [],
            "execution_count": 0
        },
        {
            "cell_type": "markdown",
            "source": [
                "\r\n",
                "We're not specifying a driver here so the network created will be a bridge network as it's the default. We can confirm that by running: -\r\n",
                "\r\n"
            ],
            "metadata": {
                "azdata_cell_guid": "3e0fff1b-d2f3-4d04-b6b2-882155e8f01c"
            }
        },
        {
            "cell_type": "code",
            "source": [
                "    docker network ls\r\n"
            ],
            "metadata": {
                "azdata_cell_guid": "4d573fa2-537d-4ce8-b86b-aa2023ca7c6a"
            },
            "outputs": [],
            "execution_count": 0
        },
        {
            "cell_type": "markdown",
            "source": [
                "\r\n",
                "![](../images/5.ContainerNetworking/RunningContainersOnCustomNetwork/1.CreateAndViewCustomNetwork.png)<br>\r\n",
                "And there's our custom network! Ok, let's spin up a couple of containers on that network: -\r\n",
                "\r\n",
                ""
            ],
            "metadata": {
                "azdata_cell_guid": "2bf76054-f59c-48b1-9462-996d9cbae658"
            }
        },
        {
            "cell_type": "code",
            "source": [
                "    docker container run -d `\r\n",
                "    --network sqlserver `\r\n",
                "    --env ACCEPT_EULA=Y `\r\n",
                "    --env MSSQL_SA_PASSWORD=Testing1122 `\r\n",
                "    --name sqlcontainer1 `\r\n",
                "    ghcr.io/dbafromthecold/customsql2019-tools:cu5\r\n",
                "    \r\n",
                "    docker container run -d `\r\n",
                "    --network sqlserver `\r\n",
                "    --env ACCEPT_EULA=Y `\r\n",
                "    --env MSSQL_SA_PASSWORD=Testing1122 `\r\n",
                "    --name sqlcontainer2 `\r\n",
                "    ghcr.io/dbafromthecold/customsql2019-tools:cu5\r\n"
            ],
            "metadata": {
                "azdata_cell_guid": "9e5a5121-6278-43d9-be7f-b622fb2e574a"
            },
            "outputs": [],
            "execution_count": 0
        },
        {
            "cell_type": "markdown",
            "source": [
                "\r\n",
                "![](../images/5.ContainerNetworking/RunningContainersOnCustomNetwork/2.RunTwoContainers.png)<br>\r\n",
                "We're using a custom image here as it has ping installed, so that we can test communicate between the containers.<br>\r\n",
                "Confirm that the containers are up and running: -\r\n",
                "\r\n",
                ""
            ],
            "metadata": {
                "azdata_cell_guid": "9b5cf705-5a1f-46b8-ac4f-e6866984f606"
            }
        },
        {
            "cell_type": "code",
            "source": [
                "    docker container ls -a\r\n"
            ],
            "metadata": {
                "azdata_cell_guid": "df7cb926-3b0d-44c6-aa62-c1f0c9ae6d24"
            },
            "outputs": [],
            "execution_count": 0
        },
        {
            "cell_type": "markdown",
            "source": [
                "\r\n",
                "![](../images/5.ContainerNetworking/RunningContainersOnCustomNetwork/3.ConfirmContainersRunning.png)\r\n",
                "And inspect the custom network: -\r\n",
                "\r\n"
            ],
            "metadata": {
                "azdata_cell_guid": "2d36772a-868d-4ffc-8e61-16acde2e3110"
            }
        },
        {
            "cell_type": "code",
            "source": [
                "    docker network inspect sqlserver\r\n"
            ],
            "metadata": {
                "azdata_cell_guid": "a825d59d-7186-40ad-9492-a528cbaf2bcb"
            },
            "outputs": [],
            "execution_count": 0
        },
        {
            "cell_type": "markdown",
            "source": [
                "\r\n",
                "![](../images/5.ContainerNetworking/RunningContainersOnCustomNetwork/4.InspectCustomNetwork.png)<br>\r\n",
                "There's our containers! Ok, now we can test pinging each container from the other by name: -\r\n",
                "   \r\n",
                ""
            ],
            "metadata": {
                "azdata_cell_guid": "ce2e8c73-f9dc-464d-b831-7bed273a9306"
            }
        },
        {
            "cell_type": "code",
            "source": [
                "    docker exec sqlcontainer1 ping sqlcontainer2 -c 4\r\n",
                "    docker exec sqlcontainer2 ping sqlcontainer1 -c 4\r\n"
            ],
            "metadata": {
                "azdata_cell_guid": "a8965ca2-6951-4697-a071-6a5b8481579f"
            },
            "outputs": [],
            "execution_count": 0
        },
        {
            "cell_type": "markdown",
            "source": [
                "\r\n",
                "![](../images/5.ContainerNetworking/RunningContainersOnCustomNetwork/5.PingContainers.png)<br>\r\n",
                "Excellent! The containers can communicate by name!<br>\r\n",
                "This is really handy when building out test environment in which we need multiple SQL instances that can talk to each other!<br>\r\n",
                "I'd recommend always creating a custom network for your SQL containers as it also provides more isolation for the containers from the default network.<br>\r\n",
                "What's really cool as well is that containers can be attached/detached from a custom network on the fly! <br>\r\n",
                "Let's try that out. Spin up a container on the default network: -\r\n",
                "\r\n",
                ""
            ],
            "metadata": {
                "azdata_cell_guid": "4c08bc54-f350-4b69-a26e-b8e2720902e6"
            }
        },
        {
            "cell_type": "code",
            "source": [
                "    docker container run -d `\r\n",
                "    --env ACCEPT_EULA=Y `\r\n",
                "    --env MSSQL_SA_PASSWORD=Testing1122 `\r\n",
                "    --name sqlcontainer3 `\r\n",
                "    ghcr.io/dbafromthecold/customsql2019-tools:cu5\r\n"
            ],
            "metadata": {
                "azdata_cell_guid": "ab4bb63e-a5fe-4e65-9c4e-752f95cccb7c"
            },
            "outputs": [],
            "execution_count": 0
        },
        {
            "cell_type": "markdown",
            "source": [
                "\r\n",
                "Confirm the container is running: -\r\n",
                "\r\n"
            ],
            "metadata": {
                "azdata_cell_guid": "bfa829ac-8a84-4142-a783-d5ac3e218338"
            }
        },
        {
            "cell_type": "code",
            "source": [
                "    docker container ls -a\r\n"
            ],
            "metadata": {
                "azdata_cell_guid": "d8e89a32-f743-4b6a-9036-e8a899fd63c2"
            },
            "outputs": [],
            "execution_count": 0
        },
        {
            "cell_type": "markdown",
            "source": [
                "\r\n",
                "![](../images/5.ContainerNetworking/RunningContainersOnCustomNetwork/6.SpinUpAnotherContainer.png)<br>\r\n",
                "And confirm that it is on the default bridge network: -\r\n",
                "\r\n",
                ""
            ],
            "metadata": {
                "azdata_cell_guid": "3dac39e2-80f6-4384-a4af-b545436ce0d1"
            }
        },
        {
            "cell_type": "code",
            "source": [
                "    docker network inspect bridge\r\n"
            ],
            "metadata": {
                "azdata_cell_guid": "26feb2c1-6416-4eb1-9fe9-95d96c362626"
            },
            "outputs": [],
            "execution_count": 0
        },
        {
            "cell_type": "markdown",
            "source": [
                "\r\n",
                "![](../images/5.ContainerNetworking/RunningContainersOnCustomNetwork/7.InspectBridgeNetwork.png)<br>\r\n",
                "Ok, let's attach that container to our custom network: -\r\n",
                "\r\n",
                ""
            ],
            "metadata": {
                "azdata_cell_guid": "0d2f9a04-15a3-41c3-871a-497f6a4a2a7f"
            }
        },
        {
            "cell_type": "code",
            "source": [
                "    docker network connect sqlserver sqlcontainer3\r\n"
            ],
            "metadata": {
                "azdata_cell_guid": "e0ca5ddb-2044-4df9-a15a-78e3547aa816"
            },
            "outputs": [],
            "execution_count": 0
        },
        {
            "cell_type": "markdown",
            "source": [
                "\r\n",
                "And now inspect the custom network: -\r\n",
                "\r\n"
            ],
            "metadata": {
                "azdata_cell_guid": "241e2603-de63-4a3c-a2a8-b8e8207940ff"
            }
        },
        {
            "cell_type": "code",
            "source": [
                "    docker network inspect sqlserver\r\n"
            ],
            "metadata": {
                "azdata_cell_guid": "16a66544-21bb-4143-b31a-6ae0555de5c3"
            },
            "outputs": [],
            "execution_count": 0
        },
        {
            "cell_type": "markdown",
            "source": [
                "\r\n",
                "![](../images/5.ContainerNetworking/RunningContainersOnCustomNetwork/8.InspectCustomNetworkAgain.png)<br>\r\n",
                "The container is now attached to that network! So the other containers can communicate to it via its name: -\r\n",
                "\r\n",
                ""
            ],
            "metadata": {
                "azdata_cell_guid": "f2c9f3d7-ba2b-4e64-9fa6-a62cb0415abe"
            }
        },
        {
            "cell_type": "code",
            "source": [
                "    docker exec sqlcontainer1 ping sqlcontainer3 -c 4\r\n"
            ],
            "metadata": {
                "azdata_cell_guid": "c5e2d610-20a3-49ee-8f84-4a6a4860eb96"
            },
            "outputs": [],
            "execution_count": 0
        },
        {
            "cell_type": "markdown",
            "source": [
                "\r\n",
                "![](../images/5.ContainerNetworking/RunningContainersOnCustomNetwork/9.PingNewContainer.png)<br>\r\n",
                "And if we want to remove it from the custom network we can run: -\r\n",
                "\r\n",
                ""
            ],
            "metadata": {
                "azdata_cell_guid": "e77e95c1-6aba-466b-ba01-26b1da5bfd71"
            }
        },
        {
            "cell_type": "code",
            "source": [
                "    docker network disconnect sqlserver sqlcontainer3\r\n"
            ],
            "metadata": {
                "azdata_cell_guid": "065c62e1-bc83-433d-ab39-526a9362e6d7"
            },
            "outputs": [],
            "execution_count": 0
        },
        {
            "cell_type": "markdown",
            "source": [
                "\r\n",
                "Confirm that it's no longer attached to the custom network: -\r\n",
                "\r\n"
            ],
            "metadata": {
                "azdata_cell_guid": "d3687d41-8ca0-4cc9-84b4-19963dca8b05"
            }
        },
        {
            "cell_type": "code",
            "source": [
                "    docker network inspect sqlserver\r\n"
            ],
            "metadata": {
                "azdata_cell_guid": "47f347da-9145-4e0b-90e8-b56d04fde75d"
            },
            "outputs": [],
            "execution_count": 0
        },
        {
            "cell_type": "markdown",
            "source": [
                "\r\n",
                "![](../images/5.ContainerNetworking/RunningContainersOnCustomNetwork/10.RemoveContainerFromCustomNetwork.png)<br>\r\n",
                "Gone! Which means the other containers won't be able to ping it any more: -\r\n",
                "\r\n",
                ""
            ],
            "metadata": {
                "azdata_cell_guid": "4af16ea5-8194-4af4-9387-8c8b840a9725"
            }
        },
        {
            "cell_type": "code",
            "source": [
                "    docker exec sqlcontainer1 ping sqlcontainer3 -c 4\r\n"
            ],
            "metadata": {
                "azdata_cell_guid": "6cba3ae1-8597-4169-9d7f-f3d2a5494f98"
            },
            "outputs": [],
            "execution_count": 0
        },
        {
            "cell_type": "markdown",
            "source": [
                "\r\n",
                "![](../images/5.ContainerNetworking/RunningContainersOnCustomNetwork/11.UnableToPingContainer.png)<br>\r\n",
                "And that's how we can use custom docker networks to allow containers to communicate with each other by name.\r\n",
                ""
            ],
            "metadata": {
                "azdata_cell_guid": "756eec90-5960-4c5d-bee1-5eb6e7c45db7"
            }
        }
    ]
}