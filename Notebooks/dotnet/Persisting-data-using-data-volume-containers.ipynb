{
    "metadata":  {
                     "kernelspec":  {
                                        "name":  ".net-powershell",
                                        "language":  "PowerShell",
                                        "display_name":  ".NET (PowerShell)"
                                    }
                 },
    "language_info":  {
                          "name":  "PowerShell",
                          "version":  "7.0",
                          "pygments_lexer":  "powershell",
                          "mimetype":  "text/x-powershell",
                          "file_extension":  ".ps1"
                      },
    "nbformat_minor":  4,
    "nbformat":  4,
    "cells":  [
                  {
                      "cell_type":  "markdown",
                      "source":  [
                                     "\r\n",
                                     "In a previous page we went through how to persist databases from one container to another using docker named volumes. In this post I want to go through another option, using _**data volume containers**_\r\n",
                                     "In this method we create a container with volumes and then mount the volumes from that container to **_another_** container, let\u0027s get started.\r\n",
                                     "The first thing to do to get started is to create (not run) a container from an image with a couple of volumes specified.\r\n",
                                     "We don\u0027t need SQL running in this container so I\u0027m going to use the ubuntu:18.04 image: -\r\n",
                                     "\r\n"
                                 ],
                      "metadata":  {
                                       "azdata_cell_guid":  "b6c1ed98-4077-4990-b01c-88b3677a226b"
                                   }
                  },
                  {
                      "cell_type":  "code",
                      "source":  [
                                     "    docker container create --name datastore `\r\n",
                                     "    --volume /var/opt/sqlserver/data `\r\n",
                                     "    --volume /var/opt/sqlserver/log `\r\n",
                                     "    --volume /var/opt/sqlserver/backups `\r\n",
                                     "    ubuntu:18.04\r\n"
                                 ],
                      "metadata":  {
                                       "azdata_cell_guid":  "00ff7f9b-0a50-4d52-b396-870486b9ffec"
                                   },
                      "outputs":  [

                                  ],
                      "execution_count":  0
                  },
                  {
                      "cell_type":  "markdown",
                      "source":  [
                                     "\r\n",
                                     "![](../images/3.PersistingData/DataVolumeContainers/1.CreateDataVolumeContainer.png)\r\n",
                                     "So here we\u0027ve created a container with three volumes: -\r\n",
                                     "\r\n"
                                 ],
                      "metadata":  {
                                       "azdata_cell_guid":  "a83a6edc-0630-46bc-ab29-3811d15d22cc"
                                   }
                  },
                  {
                      "cell_type":  "code",
                      "source":  [
                                     "    /var/opt/sqlserver/data\r\n",
                                     "    /var/opt/sqlserver/log\r\n",
                                     "    /var/opt/sqlserver/backups\r\n"
                                 ],
                      "metadata":  {
                                       "azdata_cell_guid":  "3f6bcf61-d460-4c02-a59d-e277f37ed0a8"
                                   },
                      "outputs":  [

                                  ],
                      "execution_count":  0
                  },
                  {
                      "cell_type":  "markdown",
                      "source":  [
                                     "\r\n",
                                     "Confirm that the container has been created: -\r\n",
                                     "\r\n"
                                 ],
                      "metadata":  {
                                       "azdata_cell_guid":  "f6809617-50ba-4b80-8b15-8847ddd595a0"
                                   }
                  },
                  {
                      "cell_type":  "code",
                      "source":  [
                                     "    docker container ls -a\r\n"
                                 ],
                      "metadata":  {
                                       "azdata_cell_guid":  "ac4d87bf-5d29-47ed-b07c-824fee35c60e"
                                   },
                      "outputs":  [

                                  ],
                      "execution_count":  0
                  },
                  {
                      "cell_type":  "markdown",
                      "source":  [
                                     "\r\n",
                                     "![](../images/3.PersistingData/DataVolumeContainers/2.ConfirmDataVolumeContainer.png)\r\n",
                                     "In the background what\u0027s happened here is that docker has created us named volumes: -\r\n",
                                     "\r\n"
                                 ],
                      "metadata":  {
                                       "azdata_cell_guid":  "58fe0ff1-4b3b-4333-8717-586fcc1bf9f7"
                                   }
                  },
                  {
                      "cell_type":  "code",
                      "source":  [
                                     "    docker volume ls\r\n"
                                 ],
                      "metadata":  {
                                       "azdata_cell_guid":  "3cb30b0f-3b7a-4ef2-9d2a-6dcaa9b8fb94"
                                   },
                      "outputs":  [

                                  ],
                      "execution_count":  0
                  },
                  {
                      "cell_type":  "markdown",
                      "source":  [
                                     "\r\n",
                                     "![](../images/3.PersistingData/DataVolumeContainers/3.NamedVolumesCreated.png)\r\n",
                                     "Now we can spin up a sql container with volume mapped from the data container using the _**--volumes-from**_ flag: -\r\n",
                                     "\r\n"
                                 ],
                      "metadata":  {
                                       "azdata_cell_guid":  "109ed536-ee75-43a7-bfce-1b1386a02c91"
                                   }
                  },
                  {
                      "cell_type":  "code",
                      "source":  [
                                     "    docker container run -d `\r\n",
                                     "    --publish 15789:1433 `\r\n",
                                     "    --volumes-from datastore `\r\n",
                                     "    --env ACCEPT_EULA=Y `\r\n",
                                     "    --env SA_PASSWORD=Testing1122 `\r\n",
                                     "    --env MSSQL_DATA_DIR=/var/opt/sqlserver/data `\r\n",
                                     "    --env MSSQL_LOG_DIR=/var/opt/sqlserver/log `\r\n",
                                     "    --env MSSQL_BACKUP_DIR=/var/opt/sqlserver/backup `\r\n",
                                     "    --name testcontainer1 `\r\n",
                                     "    mcr.microsoft.com/mssql/server:2019-CU5-ubuntu-18.04\r\n"
                                 ],
                      "metadata":  {
                                       "azdata_cell_guid":  "260d29df-1b01-4f43-b11d-660499be2052"
                                   },
                      "outputs":  [

                                  ],
                      "execution_count":  0
                  },
                  {
                      "cell_type":  "markdown",
                      "source":  [
                                     "\r\n",
                                     "![](../images/3.PersistingData/DataVolumeContainers/4.CreateSqlContainer.png)\r\n",
                                     "Confirm the sql container is running: -\r\n",
                                     "\r\n"
                                 ],
                      "metadata":  {
                                       "azdata_cell_guid":  "9847c435-fc41-4991-a52c-0da6db0dbf93"
                                   }
                  },
                  {
                      "cell_type":  "code",
                      "source":  [
                                     "    docker container ls -a\r\n"
                                 ],
                      "metadata":  {
                                       "azdata_cell_guid":  "4857a209-8db2-4e7a-b8f2-07401bfadf15"
                                   },
                      "outputs":  [

                                  ],
                      "execution_count":  0
                  },
                  {
                      "cell_type":  "markdown",
                      "source":  [
                                     "\r\n",
                                     "![](../images/3.PersistingData/DataVolumeContainers/5.ConfirmBothContainers.png)\r\n",
                                     "Now as SQL within the container runs as the mssql user, we\u0027ll need to change the owner of the volumes: -\r\n",
                                     "\r\n"
                                 ],
                      "metadata":  {
                                       "azdata_cell_guid":  "99578a47-20f7-48e8-ab2a-7a0238d12ba7"
                                   }
                  },
                  {
                      "cell_type":  "code",
                      "source":  [
                                     "    docker exec -u 0 testcontainer1 chown -R mssql /var/opt/sqlserver\r\n"
                                 ],
                      "metadata":  {
                                       "azdata_cell_guid":  "31c64928-a551-462a-b149-85492b826bcd"
                                   },
                      "outputs":  [

                                  ],
                      "execution_count":  0
                  },
                  {
                      "cell_type":  "markdown",
                      "source":  [
                                     "\r\n",
                                     "Cool, we\u0027re all set to create a database: -\r\n",
                                     "\r\n"
                                 ],
                      "metadata":  {
                                       "azdata_cell_guid":  "36cf6203-7b99-4225-be4a-d2826b2ef170"
                                   }
                  },
                  {
                      "cell_type":  "code",
                      "source":  [
                                     "    mssql-cli -S localhost,15789 -U sa -P Testing1122 -Q \"CREATE DATABASE [testdatabase1];\"\r\n"
                                 ],
                      "metadata":  {
                                       "azdata_cell_guid":  "8f6ff0c2-eac3-40c2-9eed-b84da7ee01e8"
                                   },
                      "outputs":  [

                                  ],
                      "execution_count":  0
                  },
                  {
                      "cell_type":  "markdown",
                      "source":  [
                                     "\r\n",
                                     "Confirm the location of the database files: -\r\n",
                                     "\r\n"
                                 ],
                      "metadata":  {
                                       "azdata_cell_guid":  "f5c74778-a5bf-4888-b6e2-56ddb0066e3c"
                                   }
                  },
                  {
                      "cell_type":  "code",
                      "source":  [
                                     "    mssql-cli -S localhost,15789 -U sa -P Testing1122 -Q \"USE [testdatabase1]; EXEC sp_helpfile;\"\r\n"
                                 ],
                      "metadata":  {
                                       "azdata_cell_guid":  "3f8e8073-555f-453e-9d37-27665f233a9c"
                                   },
                      "outputs":  [

                                  ],
                      "execution_count":  0
                  },
                  {
                      "cell_type":  "markdown",
                      "source":  [
                                     "\r\n",
                                     "![](../images/3.PersistingData/DataVolumeContainers/6.ConfirmDatabaseFiles.png)\r\n",
                                     "Let\u0027s now blow that sql container away: -\r\n",
                                     "\r\n"
                                 ],
                      "metadata":  {
                                       "azdata_cell_guid":  "3c847a3c-1ab0-4ed7-91e6-8f1b729f6507"
                                   }
                  },
                  {
                      "cell_type":  "code",
                      "source":  [
                                     "    docker container rm testcontainer1 -f\r\n"
                                 ],
                      "metadata":  {
                                       "azdata_cell_guid":  "88e1f4c7-1135-4f71-badf-ce2047e112a2"
                                   },
                      "outputs":  [

                                  ],
                      "execution_count":  0
                  },
                  {
                      "cell_type":  "markdown",
                      "source":  [
                                     "\r\n",
                                     "Check our containers: -\r\n",
                                     "\r\n"
                                 ],
                      "metadata":  {
                                       "azdata_cell_guid":  "44e1a60f-62ae-462f-9b5c-0fd5504cbe14"
                                   }
                  },
                  {
                      "cell_type":  "code",
                      "source":  [
                                     "    docker container ls -a\r\n"
                                 ],
                      "metadata":  {
                                       "azdata_cell_guid":  "5b0eccea-bcc7-4d58-bc44-90d279dcd756"
                                   },
                      "outputs":  [

                                  ],
                      "execution_count":  0
                  },
                  {
                      "cell_type":  "markdown",
                      "source":  [
                                     "\r\n",
                                     "We still have our data volume container, and we also have the named volumes: -\r\n",
                                     "\r\n"
                                 ],
                      "metadata":  {
                                       "azdata_cell_guid":  "0b9dda87-402a-45fc-a103-83ef81814381"
                                   }
                  },
                  {
                      "cell_type":  "code",
                      "source":  [
                                     "    docker volume ls\r\n"
                                 ],
                      "metadata":  {
                                       "azdata_cell_guid":  "646dc6a8-baee-4163-9471-a7153660383f"
                                   },
                      "outputs":  [

                                  ],
                      "execution_count":  0
                  },
                  {
                      "cell_type":  "markdown",
                      "source":  [
                                     "\r\n",
                                     "![](../images/3.PersistingData/DataVolumeContainers/7.ConfirmNamedVolumes.png)\r\n",
                                     "So now let\u0027s create another container, mapping the volumes from the data volume container again: -\r\n",
                                     "\r\n"
                                 ],
                      "metadata":  {
                                       "azdata_cell_guid":  "4c1a1463-ad8c-4deb-84f5-2475150f2764"
                                   }
                  },
                  {
                      "cell_type":  "code",
                      "source":  [
                                     "    docker container run -d `\r\n",
                                     "    --publish 15799:1433 `\r\n",
                                     "    --volumes-from datastore `\r\n",
                                     "    --env ACCEPT_EULA=Y `\r\n",
                                     "    --env SA_PASSWORD=Testing1122 `\r\n",
                                     "    --env MSSQL_DATA_DIR=/var/opt/sqlserver/data `\r\n",
                                     "    --env MSSQL_LOG_DIR=/var/opt/sqlserver/log `\r\n",
                                     "    --env MSSQL_BACKUP_DIR=/var/opt/sqlserver/backup `\r\n",
                                     "    --name testcontainer2 `\r\n",
                                     "    mcr.microsoft.com/mssql/server:2019-CU5-ubuntu-18.04\r\n"
                                 ],
                      "metadata":  {
                                       "azdata_cell_guid":  "0507f2c3-4662-4ebb-b1a6-22098e3b5db6"
                                   },
                      "outputs":  [

                                  ],
                      "execution_count":  0
                  },
                  {
                      "cell_type":  "markdown",
                      "source":  [
                                     "\r\n",
                                     "Confirm that the container is up and running: -\r\n",
                                     "\r\n"
                                 ],
                      "metadata":  {
                                       "azdata_cell_guid":  "c753dd62-2ae5-4811-a720-9466f7c9e3b4"
                                   }
                  },
                  {
                      "cell_type":  "code",
                      "source":  [
                                     "    docker container ls -a\r\n"
                                 ],
                      "metadata":  {
                                       "azdata_cell_guid":  "663eec1a-f509-4cb3-947f-8aa333a9d5d8"
                                   },
                      "outputs":  [

                                  ],
                      "execution_count":  0
                  },
                  {
                      "cell_type":  "markdown",
                      "source":  [
                                     "\r\n",
                                     "![](../images/3.PersistingData/DataVolumeContainers/8.ConfirmNewContainer.png)\r\n",
                                     "Check that the database files are there: -\r\n",
                                     "\r\n"
                                 ],
                      "metadata":  {
                                       "azdata_cell_guid":  "cd597fe5-2eef-4b96-86fa-57743c9b24aa"
                                   }
                  },
                  {
                      "cell_type":  "code",
                      "source":  [
                                     "    docker exec testcontainer2 ls -al /var/opt/sqlserver\r\n"
                                 ],
                      "metadata":  {
                                       "azdata_cell_guid":  "d6cd116d-f3cf-4833-8555-b0e9ffdca6a9"
                                   },
                      "outputs":  [

                                  ],
                      "execution_count":  0
                  },
                  {
                      "cell_type":  "markdown",
                      "source":  [
                                     "\r\n",
                                     "![](../images/3.PersistingData/DataVolumeContainers/9.ConfirmDatabaseFiles.png)\r\n",
                                     "Now, as we didn\u0027t persist the master database location, we\u0027ll need to manually attach the database: -\r\n",
                                     "\r\n"
                                 ],
                      "metadata":  {
                                       "azdata_cell_guid":  "c84202b5-b593-41e2-baa5-f8f65131ce49"
                                   }
                  },
                  {
                      "cell_type":  "code",
                      "source":  [
                                     "    mssql-cli -S localhost,15799 -U sa -P Testing1122 `\r\n",
                                     "    -Q \"CREATE DATABASE [testdatabase1] ON PRIMARY (NAME=\u0027testdatabase1\u0027,FILENAME=\u0027/var/opt/sqlserver/data/testdatabase1.mdf\u0027) LOG ON (NAME=\u0027testdatabase1_log\u0027,FILENAME=\u0027/var/opt/sqlserver/log/testdatabase1_log.ldf\u0027) FOR ATTACH;\"\r\n"
                                 ],
                      "metadata":  {
                                       "azdata_cell_guid":  "4f7a4c7f-404e-45f2-bcb0-46dd553f50c6"
                                   },
                      "outputs":  [

                                  ],
                      "execution_count":  0
                  },
                  {
                      "cell_type":  "markdown",
                      "source":  [
                                     "\r\n",
                                     "![](../images/3.PersistingData/DataVolumeContainers/10.AttachDatabase.png)\r\n",
                                     "And now confirm the database is there: -\r\n",
                                     "\r\n"
                                 ],
                      "metadata":  {
                                       "azdata_cell_guid":  "0d1112e8-f8f5-4258-a1e3-5cddf8c4858e"
                                   }
                  },
                  {
                      "cell_type":  "code",
                      "source":  [
                                     "     mssql-cli -S localhost,15799 -U sa -P Testing1122 -Q \"SELECT [name] FROM sys.databases;\"\r\n"
                                 ],
                      "metadata":  {
                                       "azdata_cell_guid":  "d34a4fb7-f111-4d5e-bb62-bbc9f6e970c2"
                                   },
                      "outputs":  [

                                  ],
                      "execution_count":  0
                  },
                  {
                      "cell_type":  "markdown",
                      "source":  [
                                     "\r\n",
                                     "![](../images/3.PersistingData/DataVolumeContainers/11.ConfirmDatabaseIsThere.png)\r\n",
                                     "Cool! We\u0027ve persisted a database from one container to another using a data volume container!\r\n",
                                     "To clean up: -\r\n",
                                     "\r\n"
                                 ],
                      "metadata":  {
                                       "azdata_cell_guid":  "910372f6-2a89-45ca-b617-a906cb64ead0"
                                   }
                  },
                  {
                      "cell_type":  "code",
                      "source":  [
                                     "    docker container rm $(docker container ls -aq) -f \u0026\u0026 docker volume prune -f\r\n"
                                 ],
                      "metadata":  {
                                       "azdata_cell_guid":  "fc72e587-eafa-42b1-b50a-cd20ebbd0758"
                                   },
                      "outputs":  [

                                  ],
                      "execution_count":  0
                  }
              ]
}
