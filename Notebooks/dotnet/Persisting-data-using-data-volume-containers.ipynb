{
    "metadata":  {
                     "kernelspec":  {
                                        "name":  ".net-powershell",
                                        "language":  "PowerShell",
                                        "display_name":  ".NET (PowerShell)"
                                    }
                 },
    "language_info":  {
                          "name":  "PowerShell",
                          "version":  "7.0",
                          "pygments_lexer":  "powershell",
                          "mimetype":  "text/x-powershell",
                          "file_extension":  ".ps1"
                      },
    "nbformat_minor":  4,
    "nbformat":  4,
    "cells":  [
                  {
                      "cell_type":  "markdown",
                      "source":  [
                                     "\r\n",
                                     "In a previous page we went through how to persist databases from one container to another using docker named volumes. In this post I want to go through another option, using _**data volume containers**_\r\n",
                                     "In this method we create a container with volumes and then mount the volumes from that container to **_another_** container, let\u0027s get started.\r\n",
                                     "The first thing to do to get started is to create (not run) a container from an image with a couple of volumes specified.\r\n",
                                     "We don\u0027t need SQL running in this container so I\u0027m going to use the ubuntu:18.04 image: -\r\n",
                                     "\r\n"
                                 ],
                      "metadata":  {
                                       "azdata_cell_guid":  "ad5f9c90-a87b-4339-b20b-8430ab4fc3cd"
                                   }
                  },
                  {
                      "cell_type":  "code",
                      "source":  [
                                     "    docker container create --name datastore `\r\n",
                                     "    --volume /var/opt/sqlserver/data `\r\n",
                                     "    --volume /var/opt/sqlserver/log `\r\n",
                                     "    --volume /var/opt/sqlserver/backups `\r\n",
                                     "    ubuntu:18.04\r\n"
                                 ],
                      "metadata":  {
                                       "azdata_cell_guid":  "6dc62dc0-70d3-4f55-9ab5-82a71b7b9ce9"
                                   },
                      "outputs":  [

                                  ],
                      "execution_count":  0
                  },
                  {
                      "cell_type":  "markdown",
                      "source":  [
                                     "\r\n",
                                     "![](../images/3.PersistingData/DataVolumeContainers/1.CreateDataVolumeContainer.png)\r\n",
                                     "So here we\u0027ve created a container with three volumes: -\r\n",
                                     "\r\n"
                                 ],
                      "metadata":  {
                                       "azdata_cell_guid":  "1a4903ee-1377-4f32-b867-c74dca3bde9d"
                                   }
                  },
                  {
                      "cell_type":  "code",
                      "source":  [
                                     "    /var/opt/sqlserver/data\r\n",
                                     "    /var/opt/sqlserver/log\r\n",
                                     "    /var/opt/sqlserver/backups\r\n"
                                 ],
                      "metadata":  {
                                       "azdata_cell_guid":  "4ce5e682-071b-4e86-87bf-ba97e0125651"
                                   },
                      "outputs":  [

                                  ],
                      "execution_count":  0
                  },
                  {
                      "cell_type":  "markdown",
                      "source":  [
                                     "\r\n",
                                     "Confirm that the container has been created: -\r\n",
                                     "\r\n"
                                 ],
                      "metadata":  {
                                       "azdata_cell_guid":  "e2dff1a4-89cc-4a41-a36f-f3680b92ca16"
                                   }
                  },
                  {
                      "cell_type":  "code",
                      "source":  [
                                     "    docker container ls -a\r\n"
                                 ],
                      "metadata":  {
                                       "azdata_cell_guid":  "41b815b0-254d-4feb-a43e-58264ef313b8"
                                   },
                      "outputs":  [

                                  ],
                      "execution_count":  0
                  },
                  {
                      "cell_type":  "markdown",
                      "source":  [
                                     "\r\n",
                                     "![](../images/3.PersistingData/DataVolumeContainers/2.ConfirmDataVolumeContainer.png)\r\n",
                                     "In the background what\u0027s happened here is that docker has created us named volumes: -\r\n",
                                     "\r\n"
                                 ],
                      "metadata":  {
                                       "azdata_cell_guid":  "b64519f0-907e-4d58-bfdb-75cdbb2c6c27"
                                   }
                  },
                  {
                      "cell_type":  "code",
                      "source":  [
                                     "    docker volume ls\r\n"
                                 ],
                      "metadata":  {
                                       "azdata_cell_guid":  "2257ddef-77f0-43a8-ae9b-37b2fd924335"
                                   },
                      "outputs":  [

                                  ],
                      "execution_count":  0
                  },
                  {
                      "cell_type":  "markdown",
                      "source":  [
                                     "\r\n",
                                     "![](../images/3.PersistingData/DataVolumeContainers/3.NamedVolumesCreated.png)\r\n",
                                     "Now we can spin up a sql container with volume mapped from the data container using the _**--volumes-from**_ flag: -\r\n",
                                     "\r\n"
                                 ],
                      "metadata":  {
                                       "azdata_cell_guid":  "9fef1fe4-b42f-4094-846b-d8bc7d9b6c24"
                                   }
                  },
                  {
                      "cell_type":  "code",
                      "source":  [
                                     "    docker container run -d `\r\n",
                                     "    --publish 15789:1433 `\r\n",
                                     "    --volumes-from datastore `\r\n",
                                     "    --env ACCEPT_EULA=Y `\r\n",
                                     "    --env SA_PASSWORD=Testing1122 `\r\n",
                                     "    --env MSSQL_DATA_DIR=/var/opt/sqlserver/data `\r\n",
                                     "    --env MSSQL_LOG_DIR=/var/opt/sqlserver/log `\r\n",
                                     "    --env MSSQL_BACKUP_DIR=/var/opt/sqlserver/backup `\r\n",
                                     "    --name testcontainer1 `\r\n",
                                     "    mcr.microsoft.com/mssql/server:2019-CU5-ubuntu-18.04\r\n"
                                 ],
                      "metadata":  {
                                       "azdata_cell_guid":  "83cf0411-294f-4190-a950-40ab1fe50dbf"
                                   },
                      "outputs":  [

                                  ],
                      "execution_count":  0
                  },
                  {
                      "cell_type":  "markdown",
                      "source":  [
                                     "\r\n",
                                     "![](../images/3.PersistingData/DataVolumeContainers/4.CreateSqlContainer.png)\r\n",
                                     "Confirm the sql container is running: -\r\n",
                                     "\r\n"
                                 ],
                      "metadata":  {
                                       "azdata_cell_guid":  "f454fd43-b2e3-40fc-87e5-35ec273ed513"
                                   }
                  },
                  {
                      "cell_type":  "code",
                      "source":  [
                                     "    docker container ls -a\r\n"
                                 ],
                      "metadata":  {
                                       "azdata_cell_guid":  "16854fbb-01aa-4e30-8a85-1878b1db1640"
                                   },
                      "outputs":  [

                                  ],
                      "execution_count":  0
                  },
                  {
                      "cell_type":  "markdown",
                      "source":  [
                                     "\r\n",
                                     "![](../images/3.PersistingData/DataVolumeContainers/5.ConfirmBothContainers.png)\r\n",
                                     "Now as SQL within the container runs as the mssql user, we\u0027ll need to change the owner of the volumes: -\r\n",
                                     "\r\n"
                                 ],
                      "metadata":  {
                                       "azdata_cell_guid":  "84dedf6a-9491-407a-96b2-7a019216304c"
                                   }
                  },
                  {
                      "cell_type":  "code",
                      "source":  [
                                     "    docker exec -u 0 testcontainer1 chown -R mssql /var/opt/sqlserver\r\n"
                                 ],
                      "metadata":  {
                                       "azdata_cell_guid":  "342432f6-e8af-4ba2-9a8d-f1662b3591de"
                                   },
                      "outputs":  [

                                  ],
                      "execution_count":  0
                  },
                  {
                      "cell_type":  "markdown",
                      "source":  [
                                     "\r\n",
                                     "Cool, we\u0027re all set to create a database: -\r\n",
                                     "\r\n"
                                 ],
                      "metadata":  {
                                       "azdata_cell_guid":  "684394d4-d2e9-4bba-9d1e-7fdb547074ab"
                                   }
                  },
                  {
                      "cell_type":  "code",
                      "source":  [
                                     "    mssql-cli -S localhost,15789 -U sa -P Testing1122 -Q \"CREATE DATABASE [testdatabase1];\"\r\n"
                                 ],
                      "metadata":  {
                                       "azdata_cell_guid":  "131d1fec-2975-4155-9fbd-46841c5d1d7d"
                                   },
                      "outputs":  [

                                  ],
                      "execution_count":  0
                  },
                  {
                      "cell_type":  "markdown",
                      "source":  [
                                     "\r\n",
                                     "Confirm the location of the database files: -\r\n",
                                     "\r\n"
                                 ],
                      "metadata":  {
                                       "azdata_cell_guid":  "5128a348-7ae8-4eee-b92e-b541327f927b"
                                   }
                  },
                  {
                      "cell_type":  "code",
                      "source":  [
                                     "    mssql-cli -S localhost,15789 -U sa -P Testing1122 -Q \"USE [testdatabase1]; EXEC sp_helpfile;\"\r\n"
                                 ],
                      "metadata":  {
                                       "azdata_cell_guid":  "46330241-fed0-46d6-b015-98d437695b5f"
                                   },
                      "outputs":  [

                                  ],
                      "execution_count":  0
                  },
                  {
                      "cell_type":  "markdown",
                      "source":  [
                                     "\r\n",
                                     "![](../images/3.PersistingData/DataVolumeContainers/6.ConfirmDatabaseFiles.png)\r\n",
                                     "Let\u0027s now blow that sql container away: -\r\n",
                                     "\r\n"
                                 ],
                      "metadata":  {
                                       "azdata_cell_guid":  "81a48455-d6d0-4b08-8b28-65871fef9b46"
                                   }
                  },
                  {
                      "cell_type":  "code",
                      "source":  [
                                     "    docker container rm testcontainer1 -f\r\n"
                                 ],
                      "metadata":  {
                                       "azdata_cell_guid":  "f68c5b70-8488-4ba1-9780-9d9df62cc8f4"
                                   },
                      "outputs":  [

                                  ],
                      "execution_count":  0
                  },
                  {
                      "cell_type":  "markdown",
                      "source":  [
                                     "\r\n",
                                     "Check our containers: -\r\n",
                                     "\r\n"
                                 ],
                      "metadata":  {
                                       "azdata_cell_guid":  "dbb1471c-da11-4efa-a12e-4b816b44c1d1"
                                   }
                  },
                  {
                      "cell_type":  "code",
                      "source":  [
                                     "    docker container ls -a\r\n"
                                 ],
                      "metadata":  {
                                       "azdata_cell_guid":  "9861d822-ecca-4de0-9f08-c39575f5ff23"
                                   },
                      "outputs":  [

                                  ],
                      "execution_count":  0
                  },
                  {
                      "cell_type":  "markdown",
                      "source":  [
                                     "\r\n",
                                     "We still have our data volume container, and we also have the named volumes: -\r\n",
                                     "\r\n"
                                 ],
                      "metadata":  {
                                       "azdata_cell_guid":  "57bc2cbb-5394-4d90-b612-11b70fa45ea4"
                                   }
                  },
                  {
                      "cell_type":  "code",
                      "source":  [
                                     "    docker volume ls\r\n"
                                 ],
                      "metadata":  {
                                       "azdata_cell_guid":  "d73d1dc1-31d0-46bd-8229-2e699bf61ab2"
                                   },
                      "outputs":  [

                                  ],
                      "execution_count":  0
                  },
                  {
                      "cell_type":  "markdown",
                      "source":  [
                                     "\r\n",
                                     "![](../images/3.PersistingData/DataVolumeContainers/7.ConfirmNamedVolumes.png)\r\n",
                                     "So now let\u0027s create another container, mapping the volumes from the data volume container again: -\r\n",
                                     "\r\n"
                                 ],
                      "metadata":  {
                                       "azdata_cell_guid":  "204843a4-1dd6-4c22-a5c4-2dfbe92bbb83"
                                   }
                  },
                  {
                      "cell_type":  "code",
                      "source":  [
                                     "    docker container run -d `\r\n",
                                     "    --publish 15799:1433 `\r\n",
                                     "    --volumes-from datastore `\r\n",
                                     "    --env ACCEPT_EULA=Y `\r\n",
                                     "    --env SA_PASSWORD=Testing1122 `\r\n",
                                     "    --env MSSQL_DATA_DIR=/var/opt/sqlserver/data `\r\n",
                                     "    --env MSSQL_LOG_DIR=/var/opt/sqlserver/log `\r\n",
                                     "    --env MSSQL_BACKUP_DIR=/var/opt/sqlserver/backup `\r\n",
                                     "    --name testcontainer2 `\r\n",
                                     "    mcr.microsoft.com/mssql/server:2019-CU5-ubuntu-18.04\r\n"
                                 ],
                      "metadata":  {
                                       "azdata_cell_guid":  "bb836332-35b8-49f3-bb81-5b8860f6d0db"
                                   },
                      "outputs":  [

                                  ],
                      "execution_count":  0
                  },
                  {
                      "cell_type":  "markdown",
                      "source":  [
                                     "\r\n",
                                     "Confirm that the container is up and running: -\r\n",
                                     "\r\n"
                                 ],
                      "metadata":  {
                                       "azdata_cell_guid":  "11bec54a-45a9-4a94-8f96-3b603ab04d2b"
                                   }
                  },
                  {
                      "cell_type":  "code",
                      "source":  [
                                     "    docker container ls -a\r\n"
                                 ],
                      "metadata":  {
                                       "azdata_cell_guid":  "76c6ea56-cb07-45f3-98d4-e18c2156b4ab"
                                   },
                      "outputs":  [

                                  ],
                      "execution_count":  0
                  },
                  {
                      "cell_type":  "markdown",
                      "source":  [
                                     "\r\n",
                                     "![](../images/3.PersistingData/DataVolumeContainers/8.ConfirmNewContainer.png)\r\n",
                                     "Check that the database files are there: -\r\n",
                                     "\r\n"
                                 ],
                      "metadata":  {
                                       "azdata_cell_guid":  "b1c4e681-4a58-44dc-8517-640aa4b77f41"
                                   }
                  },
                  {
                      "cell_type":  "code",
                      "source":  [
                                     "    docker exec testcontainer2 ls -al /var/opt/sqlserver\r\n"
                                 ],
                      "metadata":  {
                                       "azdata_cell_guid":  "33eaf05f-c096-4979-95e2-a36fa1bbd0e0"
                                   },
                      "outputs":  [

                                  ],
                      "execution_count":  0
                  },
                  {
                      "cell_type":  "markdown",
                      "source":  [
                                     "\r\n",
                                     "![](../images/3.PersistingData/DataVolumeContainers/9.ConfirmDatabaseFiles.png)\r\n",
                                     "Now, as we didn\u0027t persist the master database location, we\u0027ll need to manually attach the database: -\r\n",
                                     "\r\n"
                                 ],
                      "metadata":  {
                                       "azdata_cell_guid":  "842d11e9-36e9-420b-969c-a242947d05e1"
                                   }
                  },
                  {
                      "cell_type":  "code",
                      "source":  [
                                     "    mssql-cli -S localhost,15799 -U sa -P Testing1122 `\r\n",
                                     "    -Q \"CREATE DATABASE [testdatabase1] ON PRIMARY (NAME=\u0027testdatabase1\u0027,FILENAME=\u0027/var/opt/sqlserver/data/testdatabase1.mdf\u0027) LOG ON (NAME=\u0027testdatabase1_log\u0027,FILENAME=\u0027/var/opt/sqlserver/log/testdatabase1_log.ldf\u0027) FOR ATTACH;\"\r\n"
                                 ],
                      "metadata":  {
                                       "azdata_cell_guid":  "0abacfc8-ebc0-4cd7-9947-21d91d1e54ef"
                                   },
                      "outputs":  [

                                  ],
                      "execution_count":  0
                  },
                  {
                      "cell_type":  "markdown",
                      "source":  [
                                     "\r\n",
                                     "![](../images/3.PersistingData/DataVolumeContainers/10.AttachDatabase.png)\r\n",
                                     "And now confirm the database is there: -\r\n",
                                     "\r\n"
                                 ],
                      "metadata":  {
                                       "azdata_cell_guid":  "94065697-f479-47bf-8a3b-cb534bb20446"
                                   }
                  },
                  {
                      "cell_type":  "code",
                      "source":  [
                                     "     mssql-cli -S localhost,15799 -U sa -P Testing1122 -Q \"SELECT [name] FROM sys.databases;\"\r\n"
                                 ],
                      "metadata":  {
                                       "azdata_cell_guid":  "faec7493-d6b7-41d3-acf1-836ddb6d6f72"
                                   },
                      "outputs":  [

                                  ],
                      "execution_count":  0
                  },
                  {
                      "cell_type":  "markdown",
                      "source":  [
                                     "\r\n",
                                     "![](../images/3.PersistingData/DataVolumeContainers/11.ConfirmDatabaseIsThere.png)\r\n",
                                     "Cool! We\u0027ve persisted a database from one container to another using a data volume container!\r\n",
                                     "To clean up: -\r\n",
                                     "\r\n"
                                 ],
                      "metadata":  {
                                       "azdata_cell_guid":  "c5008926-ba78-4d50-81b8-d5d99297d813"
                                   }
                  }
              ]
}
