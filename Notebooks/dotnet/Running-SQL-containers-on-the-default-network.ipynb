{
    "metadata":  {
                     "kernelspec":  {
                                        "name":  ".net-powershell",
                                        "language":  "PowerShell",
                                        "display_name":  ".NET (PowerShell)"
                                    }
                 },
    "language_info":  {
                          "name":  "PowerShell",
                          "version":  "7.0",
                          "pygments_lexer":  "powershell",
                          "mimetype":  "text/x-powershell",
                          "file_extension":  ".ps1"
                      },
    "nbformat_minor":  4,
    "nbformat":  4,
    "cells":  [
                  {
                      "cell_type":  "markdown",
                      "source":  [
                                     "\r\n",
                                     "By default, docker provides a default bridge network that we deploy containers on when we don\u0027t specify any network in our container run statement: -\r\n",
                                     "\r\n"
                                 ],
                      "metadata":  {
                                       "azdata_cell_guid":  "0279afa8-4ed3-42e3-aaf0-7f8d343a46fe"
                                   }
                  },
                  {
                      "cell_type":  "code",
                      "source":  [
                                     "    docker container run -d `\r\n",
                                     "    --publish 15789:1433 `\r\n",
                                     "    --env ACCEPT_EULA=Y `\r\n",
                                     "    --env SA_PASSWORD=Testing1122 `\r\n",
                                     "    --name sqlcontainer1 `\r\n",
                                     "    mcr.microsoft.com/mssql/server:2019-CU5-ubuntu-18.04\r\n"
                                 ],
                      "metadata":  {
                                       "azdata_cell_guid":  "05ec1cc7-85d4-4fff-a7cd-5fc4f623cf2a"
                                   },
                      "outputs":  [

                                  ],
                      "execution_count":  0
                  },
                  {
                      "cell_type":  "markdown",
                      "source":  [
                                     "\r\n",
                                     "![](../images/5.ContainerNetworking/RunningContainersOnDefaultNetwork/1.RunAContainer.png)\r\n",
                                     "We can view the networks available to us by running: -\r\n"
                                 ],
                      "metadata":  {
                                       "azdata_cell_guid":  "65abe950-fc02-4db2-80c0-afe0ccc7edec"
                                   }
                  },
                  {
                      "cell_type":  "code",
                      "source":  [
                                     "    \r\n",
                                     "    docker network ls\r\n"
                                 ],
                      "metadata":  {
                                       "azdata_cell_guid":  "ea724fd6-2997-41a8-ad18-26495b3bbf47"
                                   },
                      "outputs":  [

                                  ],
                      "execution_count":  0
                  },
                  {
                      "cell_type":  "markdown",
                      "source":  [
                                     "\r\n",
                                     "![](../images/5.ContainerNetworking/RunningContainersOnDefaultNetwork/2.ListNetworks.png)\r\n",
                                     "1. bridge - the default network. In Docker, a bridge network is a software bridge that allows all containers connected to it to communicate.\r\n",
                                     "2. host - removes network isolation between the container and the host, aka use the host\u0027s network directly.\r\n",
                                     "3. none - disables the containers networking stack. Useful for running very isolated containers.\r\n",
                                     "If we inspect the default bridge network we can see our container attached to it: -\r\n",
                                     "\r\n"
                                 ],
                      "metadata":  {
                                       "azdata_cell_guid":  "b374c250-02a6-4a51-932a-1e92f5e3da97"
                                   }
                  },
                  {
                      "cell_type":  "code",
                      "source":  [
                                     "    docker network inspect bridge\r\n"
                                 ],
                      "metadata":  {
                                       "azdata_cell_guid":  "8a56b306-9838-4c94-8461-0e4b32548fd2"
                                   },
                      "outputs":  [

                                  ],
                      "execution_count":  0
                  },
                  {
                      "cell_type":  "markdown",
                      "source":  [
                                     "\r\n",
                                     "![](../images/5.ContainerNetworking/RunningContainersOnDefaultNetwork/3.InspectBridgeNetwork.png)\r\n",
                                     "All containers on the default bridge network can communicate via their IP address. Let\u0027s blow that first container away: -\r\n",
                                     "\r\n"
                                 ],
                      "metadata":  {
                                       "azdata_cell_guid":  "67c3368f-684f-4279-9284-f33b6bff5e02"
                                   }
                  },
                  {
                      "cell_type":  "code",
                      "source":  [
                                     "    docker container rm sqlcontainer1 -f\r\n"
                                 ],
                      "metadata":  {
                                       "azdata_cell_guid":  "f78bcf1f-4f91-4dab-9acd-03fef03e371f"
                                   },
                      "outputs":  [

                                  ],
                      "execution_count":  0
                  },
                  {
                      "cell_type":  "markdown",
                      "source":  [
                                     "\r\n",
                                     "![](../images/5.ContainerNetworking/RunningContainersOnDefaultNetwork/4.DeleteContainer.png)\r\n",
                                     "And spin up another two containers with ping installed (this is a custom image running SQL Server 2019 with ping installed): -\r\n",
                                     "\r\n"
                                 ],
                      "metadata":  {
                                       "azdata_cell_guid":  "07b1c19b-b3e8-43ee-81bd-fdb9338110d9"
                                   }
                  },
                  {
                      "cell_type":  "code",
                      "source":  [
                                     "    docker container run -d `\r\n",
                                     "    --env ACCEPT_EULA=Y `\r\n",
                                     "    --env MSSQL_SA_PASSWORD=Testing1122 `\r\n",
                                     "    --name sqlcontainer2 `\r\n",
                                     "    ghcr.io/dbafromthecold/customsql2019-tools:cu5\r\n"
                                 ],
                      "metadata":  {
                                       "azdata_cell_guid":  "65c87735-168c-4157-a02c-13a134b5963a"
                                   },
                      "outputs":  [

                                  ],
                      "execution_count":  0
                  },
                  {
                      "cell_type":  "markdown",
                      "source":  [
                                     "\r\n",
                                     "and the second one\r\n",
                                     "\r\n"
                                 ],
                      "metadata":  {
                                       "azdata_cell_guid":  "616e7c9b-f299-4f22-9a88-07b29a14afd5"
                                   }
                  },
                  {
                      "cell_type":  "code",
                      "source":  [
                                     "    docker container run -d `\r\n",
                                     "    --env ACCEPT_EULA=Y `\r\n",
                                     "    --env MSSQL_SA_PASSWORD=Testing1122 `\r\n",
                                     "    --name sqlcontainer3 `\r\n",
                                     "    ghcr.io/dbafromthecold/customsql2019-tools:cu5\r\n"
                                 ],
                      "metadata":  {
                                       "azdata_cell_guid":  "371cb4ae-340a-4498-a1fd-548f4fbf3d90"
                                   },
                      "outputs":  [

                                  ],
                      "execution_count":  0
                  },
                  {
                      "cell_type":  "markdown",
                      "source":  [
                                     "\r\n",
                                     "![](../images/5.ContainerNetworking/RunningContainersOnDefaultNetwork/5.RunTwoOtherContainers.png)\r\n",
                                     "N.B. - Notice that we haven\u0027t specified the --publish flag for either of these containers! So we can\u0027t connect to SQL via localhost,PORTNUMBER, we would have to use the container\u0027s IP addresses.\r\n",
                                     "Let\u0027s have a look at the bridge network again: -\r\n",
                                     "\r\n"
                                 ],
                      "metadata":  {
                                       "azdata_cell_guid":  "5f402b0b-7311-41cc-82ef-dfaa7f2b9eaa"
                                   }
                  },
                  {
                      "cell_type":  "code",
                      "source":  [
                                     "    docker network inspect bridge\r\n"
                                 ],
                      "metadata":  {
                                       "azdata_cell_guid":  "6e17e556-0137-4c3d-ad3e-b059b61d4912"
                                   },
                      "outputs":  [

                                  ],
                      "execution_count":  0
                  },
                  {
                      "cell_type":  "markdown",
                      "source":  [
                                     "\r\n",
                                     "![](../images/5.ContainerNetworking/RunningContainersOnDefaultNetwork/6.InspectBridgeNetworkAgain.png)\r\n",
                                     "And there we can see our two containers, with their IP addresses.\r\n",
                                     "We can grab the IP addresses directly with: -\r\n",
                                     "\r\n"
                                 ],
                      "metadata":  {
                                       "azdata_cell_guid":  "fab9c5f8-fb20-4f84-9df6-ccaf76aa4533"
                                   }
                  },
                  {
                      "cell_type":  "code",
                      "source":  [
                                     "     docker inspect sqlcontainer2 --format \u0027{{ .NetworkSettings.IPAddress }}\u0027\r\n",
                                     "     docker inspect sqlcontainer3 --format \u0027{{ .NetworkSettings.IPAddress }}\u0027\r\n"
                                 ],
                      "metadata":  {
                                       "azdata_cell_guid":  "567a7c2e-e0bb-446b-9386-02b95c90980c"
                                   },
                      "outputs":  [

                                  ],
                      "execution_count":  0
                  },
                  {
                      "cell_type":  "markdown",
                      "source":  [
                                     "\r\n",
                                     "![](../images/5.ContainerNetworking/RunningContainersOnDefaultNetwork/7.GetContainerIpAddresses.png)\r\n",
                                     "Cool. Let\u0027s test communication between the two containers: -\r\n",
                                     "\r\n"
                                 ],
                      "metadata":  {
                                       "azdata_cell_guid":  "e7c0f311-f1d6-4bf9-bafb-1a795caaa0c2"
                                   }
                  },
                  {
                      "cell_type":  "code",
                      "source":  [
                                     "     docker exec sqlcontainer2 ping 172.17.0.3 -c 4\r\n",
                                     "     docker exec sqlcontainer2 ping 172.17.0.2 -c 4\r\n"
                                 ],
                      "metadata":  {
                                       "azdata_cell_guid":  "c8df392c-d92c-4c70-b6c9-e80abe63ab0f"
                                   },
                      "outputs":  [

                                  ],
                      "execution_count":  0
                  },
                  {
                      "cell_type":  "markdown",
                      "source":  [
                                     "\r\n",
                                     "![](../images/5.ContainerNetworking/RunningContainersOnDefaultNetwork/8.PingContainers.png)\r\n",
                                     "That works! But referencing the container by name doesn\u0027t: -\r\n",
                                     "\r\n"
                                 ],
                      "metadata":  {
                                       "azdata_cell_guid":  "01e90be5-7e1b-411b-978c-112282ce5e8d"
                                   }
                  },
                  {
                      "cell_type":  "code",
                      "source":  [
                                     "    docker exec sqlcontainer2 ping sqlcontainer3 -c 4\r\n"
                                 ],
                      "metadata":  {
                                       "azdata_cell_guid":  "f1048892-813a-42a4-af09-f3d147a798e2"
                                   },
                      "outputs":  [

                                  ],
                      "execution_count":  0
                  },
                  {
                      "cell_type":  "markdown",
                      "source":  [
                                     "\r\n",
                                     "![](../images/5.ContainerNetworking/RunningContainersOnDefaultNetwork/9.PingContainerByName.png)\r\n",
                                     "The default bridge network doesn\u0027t allow for DNS resolution of container names to IP addresses.\r\n",
                                     "There is an option we can use to get around this though. Let\u0027s blow those containers away: -\r\n",
                                     "\r\n"
                                 ],
                      "metadata":  {
                                       "azdata_cell_guid":  "e9a0ecf9-27cc-4ceb-91b1-1b251b4d2151"
                                   }
                  },
                  {
                      "cell_type":  "code",
                      "source":  [
                                     "    docker rm sqlcontainer2 sqlcontainer3 -f\r\n"
                                 ],
                      "metadata":  {
                                       "azdata_cell_guid":  "18721154-327e-4441-a0ec-98ad83d5e399"
                                   },
                      "outputs":  [

                                  ],
                      "execution_count":  0
                  },
                  {
                      "cell_type":  "markdown",
                      "source":  [
                                     "\r\n",
                                     "![](../images/5.ContainerNetworking/RunningContainersOnDefaultNetwork/10.DeleteContainers.png)\r\n",
                                     "And spin up two new containers, using the --add-host flag: -\r\n",
                                     "\r\n"
                                 ],
                      "metadata":  {
                                       "azdata_cell_guid":  "e9013e7b-dabe-4737-9171-6abcaa9a62fa"
                                   }
                  },
                  {
                      "cell_type":  "code",
                      "source":  [
                                     "    docker container run -d `\r\n",
                                     "    --env ACCEPT_EULA=Y `\r\n",
                                     "    --env MSSQL_SA_PASSWORD=Testing1122 `\r\n",
                                     "    --add-host=sqlcontainer5:172.17.0.3 `\r\n",
                                     "    --name sqlcontainer4 `\r\n",
                                     "    ghcr.io/dbafromthecold/customsql2019-tools:cu5\r\n",
                                     "    \r\n",
                                     "    docker container run -d `\r\n",
                                     "    --env ACCEPT_EULA=Y `\r\n",
                                     "    --env MSSQL_SA_PASSWORD=Testing1122 `\r\n",
                                     "    --add-host=sqlcontainer4:172.17.0.2 `\r\n",
                                     "    --name sqlcontainer5 `\r\n",
                                     "    ghcr.io/dbafromthecold/customsql2019-tools:cu5\r\n"
                                 ],
                      "metadata":  {
                                       "azdata_cell_guid":  "e4880176-ec57-472b-aac3-8db3ddbf26a0"
                                   },
                      "outputs":  [

                                  ],
                      "execution_count":  0
                  },
                  {
                      "cell_type":  "markdown",
                      "source":  [
                                     "\r\n",
                                     "![](../images/5.ContainerNetworking/RunningContainersOnDefaultNetwork/11.RunTwoMoreContainers.png)\r\n",
                                     "What this does is add an entry into the container host file. We can check that by running: -\r\n",
                                     "\r\n"
                                 ],
                      "metadata":  {
                                       "azdata_cell_guid":  "11bf7c0a-aace-4fe9-8499-7b5d762f0f70"
                                   }
                  },
                  {
                      "cell_type":  "code",
                      "source":  [
                                     "    docker exec sqlcontainer4 cat /etc/hosts\r\n",
                                     "    docker exec sqlcontainer5 cat /etc/hosts\r\n"
                                 ],
                      "metadata":  {
                                       "azdata_cell_guid":  "d072e8fc-b550-4af8-bf0c-11b775d00928"
                                   },
                      "outputs":  [

                                  ],
                      "execution_count":  0
                  },
                  {
                      "cell_type":  "markdown",
                      "source":  [
                                     "\r\n",
                                     "![](../images/5.ContainerNetworking/RunningContainersOnDefaultNetwork/12.ViewHostsFile.png)\r\n",
                                     "And there we see an entry for the other container in each. So that means we can now reference the other container by name: -\r\n",
                                     "\r\n"
                                 ],
                      "metadata":  {
                                       "azdata_cell_guid":  "4dce3c84-9edc-4404-9a73-98896367f445"
                                   }
                  },
                  {
                      "cell_type":  "code",
                      "source":  [
                                     "    docker exec sqlcontainer4 ping sqlcontainer5 -c 4\r\n",
                                     "    docker exec sqlcontainer5 ping sqlcontainer4 -c 4\r\n"
                                 ],
                      "metadata":  {
                                       "azdata_cell_guid":  "8c983d0f-14d9-404d-a719-16e8a485e921"
                                   },
                      "outputs":  [

                                  ],
                      "execution_count":  0
                  }
              ]
}
