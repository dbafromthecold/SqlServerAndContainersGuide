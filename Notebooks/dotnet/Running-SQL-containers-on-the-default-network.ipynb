{
    "metadata":  {
                     "kernelspec":  {
                                        "name":  ".net-powershell",
                                        "language":  "PowerShell",
                                        "display_name":  ".NET (PowerShell)"
                                    }
                 },
    "language_info":  {
                          "name":  "PowerShell",
                          "version":  "7.0",
                          "pygments_lexer":  "powershell",
                          "mimetype":  "text/x-powershell",
                          "file_extension":  ".ps1"
                      },
    "nbformat_minor":  4,
    "nbformat":  4,
    "cells":  [
                  {
                      "cell_type":  "markdown",
                      "source":  [
                                     "\r\n",
                                     "By default, docker provides a default bridge network that we deploy containers on when we don\u0027t specify any network in our container run statement: -\r\n",
                                     "\r\n"
                                 ],
                      "metadata":  {
                                       "azdata_cell_guid":  "8956f129-2282-4e62-bd32-5923577683a6"
                                   }
                  },
                  {
                      "cell_type":  "code",
                      "source":  [
                                     "    docker container run -d `\r\n",
                                     "    --publish 15789:1433 `\r\n",
                                     "    --env ACCEPT_EULA=Y `\r\n",
                                     "    --env SA_PASSWORD=Testing1122 `\r\n",
                                     "    --name sqlcontainer1 `\r\n",
                                     "    mcr.microsoft.com/mssql/server:2019-CU5-ubuntu-18.04\r\n"
                                 ],
                      "metadata":  {
                                       "azdata_cell_guid":  "6067b2a8-0d98-4fd4-af2e-20679857cf12"
                                   },
                      "outputs":  [

                                  ],
                      "execution_count":  0
                  },
                  {
                      "cell_type":  "markdown",
                      "source":  [
                                     "\r\n",
                                     "![](../images/5.ContainerNetworking/RunningContainersOnDefaultNetwork/1.RunAContainer.png)\r\n",
                                     "We can view the networks available to us by running: -\r\n"
                                 ],
                      "metadata":  {
                                       "azdata_cell_guid":  "046dbbd7-45a4-4e52-a67d-17137fd4d2ed"
                                   }
                  },
                  {
                      "cell_type":  "code",
                      "source":  [
                                     "    \r\n",
                                     "    docker network ls\r\n"
                                 ],
                      "metadata":  {
                                       "azdata_cell_guid":  "712b7989-52f4-4f59-959c-f5f1195bc1bc"
                                   },
                      "outputs":  [

                                  ],
                      "execution_count":  0
                  },
                  {
                      "cell_type":  "markdown",
                      "source":  [
                                     "\r\n",
                                     "![](../images/5.ContainerNetworking/RunningContainersOnDefaultNetwork/2.ListNetworks.png)\r\n",
                                     "1. bridge - the default network. In Docker, a bridge network is a software bridge that allows all containers connected to it to communicate.\r\n",
                                     "2. host - removes network isolation between the container and the host, aka use the host\u0027s network directly.\r\n",
                                     "3. none - disables the containers networking stack. Useful for running very isolated containers.\r\n",
                                     "If we inspect the default bridge network we can see our container attached to it: -\r\n",
                                     "\r\n"
                                 ],
                      "metadata":  {
                                       "azdata_cell_guid":  "c34e5de8-fc9f-42d7-a01a-10d613c44e4c"
                                   }
                  },
                  {
                      "cell_type":  "code",
                      "source":  [
                                     "    docker network inspect bridge\r\n"
                                 ],
                      "metadata":  {
                                       "azdata_cell_guid":  "3126a75e-9fc6-47af-ae40-b2abd37ada18"
                                   },
                      "outputs":  [

                                  ],
                      "execution_count":  0
                  },
                  {
                      "cell_type":  "markdown",
                      "source":  [
                                     "\r\n",
                                     "![](../images/5.ContainerNetworking/RunningContainersOnDefaultNetwork/3.InspectBridgeNetwork.png)\r\n",
                                     "All containers on the default bridge network can communicate via their IP address. Let\u0027s blow that first container away: -\r\n",
                                     "\r\n"
                                 ],
                      "metadata":  {
                                       "azdata_cell_guid":  "cba248ea-a4ae-44cd-bf32-fdb3f86e3a71"
                                   }
                  },
                  {
                      "cell_type":  "code",
                      "source":  [
                                     "    docker container rm sqlcontainer1 -f\r\n"
                                 ],
                      "metadata":  {
                                       "azdata_cell_guid":  "4bef5db1-4bb8-4849-b227-dc77452ce068"
                                   },
                      "outputs":  [

                                  ],
                      "execution_count":  0
                  },
                  {
                      "cell_type":  "markdown",
                      "source":  [
                                     "\r\n",
                                     "![](../images/5.ContainerNetworking/RunningContainersOnDefaultNetwork/4.DeleteContainer.png)\r\n",
                                     "And spin up another two containers with ping installed (this is a custom image running SQL Server 2019 with ping installed): -\r\n",
                                     "\r\n"
                                 ],
                      "metadata":  {
                                       "azdata_cell_guid":  "82517e77-8994-4c43-984a-cdc452eb84ff"
                                   }
                  },
                  {
                      "cell_type":  "code",
                      "source":  [
                                     "    docker container run -d `\r\n",
                                     "    --env ACCEPT_EULA=Y `\r\n",
                                     "    --env MSSQL_SA_PASSWORD=Testing1122 `\r\n",
                                     "    --name sqlcontainer2 `\r\n",
                                     "    ghcr.io/dbafromthecold/customsql2019-tools:cu5\r\n"
                                 ],
                      "metadata":  {
                                       "azdata_cell_guid":  "c9c34178-db01-41c2-8f26-d1afad6fcc14"
                                   },
                      "outputs":  [

                                  ],
                      "execution_count":  0
                  },
                  {
                      "cell_type":  "markdown",
                      "source":  [
                                     "\r\n",
                                     "and the second one\r\n",
                                     "\r\n"
                                 ],
                      "metadata":  {
                                       "azdata_cell_guid":  "d817bd5c-669d-445d-9080-9e841ee58a9b"
                                   }
                  },
                  {
                      "cell_type":  "code",
                      "source":  [
                                     "    docker container run -d `\r\n",
                                     "    --env ACCEPT_EULA=Y `\r\n",
                                     "    --env MSSQL_SA_PASSWORD=Testing1122 `\r\n",
                                     "    --name sqlcontainer3 `\r\n",
                                     "    ghcr.io/dbafromthecold/customsql2019-tools:cu5\r\n"
                                 ],
                      "metadata":  {
                                       "azdata_cell_guid":  "33f2d509-f81c-402e-ae19-1ef57cec5089"
                                   },
                      "outputs":  [

                                  ],
                      "execution_count":  0
                  },
                  {
                      "cell_type":  "markdown",
                      "source":  [
                                     "\r\n",
                                     "![](../images/5.ContainerNetworking/RunningContainersOnDefaultNetwork/5.RunTwoOtherContainers.png)\r\n",
                                     "N.B. - Notice that we haven\u0027t specified the --publish flag for either of these containers! So we can\u0027t connect to SQL via localhost,PORTNUMBER, we would have to use the container\u0027s IP addresses.\r\n",
                                     "Let\u0027s have a look at the bridge network again: -\r\n",
                                     "\r\n"
                                 ],
                      "metadata":  {
                                       "azdata_cell_guid":  "b13f7ffe-742a-4ec7-8f6d-937ff99eac2b"
                                   }
                  },
                  {
                      "cell_type":  "code",
                      "source":  [
                                     "    docker network inspect bridge\r\n"
                                 ],
                      "metadata":  {
                                       "azdata_cell_guid":  "d56b04c0-e3f4-4505-aa70-7067b93e3175"
                                   },
                      "outputs":  [

                                  ],
                      "execution_count":  0
                  },
                  {
                      "cell_type":  "markdown",
                      "source":  [
                                     "\r\n",
                                     "![](../images/5.ContainerNetworking/RunningContainersOnDefaultNetwork/6.InspectBridgeNetworkAgain.png)\r\n",
                                     "And there we can see our two containers, with their IP addresses.\r\n",
                                     "We can grab the IP addresses directly with: -\r\n",
                                     "\r\n"
                                 ],
                      "metadata":  {
                                       "azdata_cell_guid":  "3fd25539-059f-4111-9d53-f5d828a63829"
                                   }
                  },
                  {
                      "cell_type":  "code",
                      "source":  [
                                     "     docker inspect sqlcontainer2 --format \u0027{{ .NetworkSettings.IPAddress }}\u0027\r\n",
                                     "     docker inspect sqlcontainer3 --format \u0027{{ .NetworkSettings.IPAddress }}\u0027\r\n"
                                 ],
                      "metadata":  {
                                       "azdata_cell_guid":  "2ac03db1-1b25-4cc0-8832-7b5de3e2c214"
                                   },
                      "outputs":  [

                                  ],
                      "execution_count":  0
                  },
                  {
                      "cell_type":  "markdown",
                      "source":  [
                                     "\r\n",
                                     "![](../images/5.ContainerNetworking/RunningContainersOnDefaultNetwork/7.GetContainerIpAddresses.png)\r\n",
                                     "Cool. Let\u0027s test communication between the two containers: -\r\n",
                                     "\r\n"
                                 ],
                      "metadata":  {
                                       "azdata_cell_guid":  "ac7b6f72-d96d-4c61-9aff-55ad61fea6d1"
                                   }
                  },
                  {
                      "cell_type":  "code",
                      "source":  [
                                     "     docker exec sqlcontainer2 ping 172.17.0.3 -c 4\r\n",
                                     "     docker exec sqlcontainer2 ping 172.17.0.2 -c 4\r\n"
                                 ],
                      "metadata":  {
                                       "azdata_cell_guid":  "91177e56-5c1f-4ebd-9ffa-30d08f4d3acb"
                                   },
                      "outputs":  [

                                  ],
                      "execution_count":  0
                  },
                  {
                      "cell_type":  "markdown",
                      "source":  [
                                     "\r\n",
                                     "![](../images/5.ContainerNetworking/RunningContainersOnDefaultNetwork/8.PingContainers.png)\r\n",
                                     "That works! But referencing the container by name doesn\u0027t: -\r\n",
                                     "\r\n"
                                 ],
                      "metadata":  {
                                       "azdata_cell_guid":  "1da7acf9-38d2-402b-bc37-107a217229c7"
                                   }
                  },
                  {
                      "cell_type":  "code",
                      "source":  [
                                     "    docker exec sqlcontainer2 ping sqlcontainer3 -c 4\r\n"
                                 ],
                      "metadata":  {
                                       "azdata_cell_guid":  "8ec34245-277b-4316-ad0e-30585c92dffd"
                                   },
                      "outputs":  [

                                  ],
                      "execution_count":  0
                  },
                  {
                      "cell_type":  "markdown",
                      "source":  [
                                     "\r\n",
                                     "![](../images/5.ContainerNetworking/RunningContainersOnDefaultNetwork/9.PingContainerByName.png)\r\n",
                                     "The default bridge network doesn\u0027t allow for DNS resolution of container names to IP addresses.\r\n",
                                     "There is an option we can use to get around this though. Let\u0027s blow those containers away: -\r\n",
                                     "\r\n"
                                 ],
                      "metadata":  {
                                       "azdata_cell_guid":  "1d0e3531-90d1-4df3-9ffb-dedb213e7ef9"
                                   }
                  },
                  {
                      "cell_type":  "code",
                      "source":  [
                                     "    docker rm sqlcontainer2 sqlcontainer3 -f\r\n"
                                 ],
                      "metadata":  {
                                       "azdata_cell_guid":  "2db1c279-78c0-4899-b149-632a091dbfff"
                                   },
                      "outputs":  [

                                  ],
                      "execution_count":  0
                  },
                  {
                      "cell_type":  "markdown",
                      "source":  [
                                     "\r\n",
                                     "![](../images/5.ContainerNetworking/RunningContainersOnDefaultNetwork/10.DeleteContainers.png)\r\n",
                                     "And spin up two new containers, using the --add-host flag: -\r\n",
                                     "\r\n"
                                 ],
                      "metadata":  {
                                       "azdata_cell_guid":  "cf1d8846-0a13-4b83-9b13-9f5fcdb19e26"
                                   }
                  },
                  {
                      "cell_type":  "code",
                      "source":  [
                                     "    docker container run -d `\r\n",
                                     "    --env ACCEPT_EULA=Y `\r\n",
                                     "    --env MSSQL_SA_PASSWORD=Testing1122 `\r\n",
                                     "    --add-host=sqlcontainer5:172.17.0.3 `\r\n",
                                     "    --name sqlcontainer4 `\r\n",
                                     "    ghcr.io/dbafromthecold/customsql2019-tools:cu5\r\n",
                                     "    \r\n",
                                     "    docker container run -d `\r\n",
                                     "    --env ACCEPT_EULA=Y `\r\n",
                                     "    --env MSSQL_SA_PASSWORD=Testing1122 `\r\n",
                                     "    --add-host=sqlcontainer4:172.17.0.2 `\r\n",
                                     "    --name sqlcontainer5 `\r\n",
                                     "    ghcr.io/dbafromthecold/customsql2019-tools:cu5\r\n"
                                 ],
                      "metadata":  {
                                       "azdata_cell_guid":  "bd678e80-5199-4568-ada5-de80ea5e9688"
                                   },
                      "outputs":  [

                                  ],
                      "execution_count":  0
                  },
                  {
                      "cell_type":  "markdown",
                      "source":  [
                                     "\r\n",
                                     "![](../images/5.ContainerNetworking/RunningContainersOnDefaultNetwork/11.RunTwoMoreContainers.png)\r\n",
                                     "What this does is add an entry into the container host file. We can check that by running: -\r\n",
                                     "\r\n"
                                 ],
                      "metadata":  {
                                       "azdata_cell_guid":  "7b4c0731-1468-4ac2-b915-297bdca2714b"
                                   }
                  },
                  {
                      "cell_type":  "code",
                      "source":  [
                                     "    docker exec sqlcontainer4 cat /etc/hosts\r\n",
                                     "    docker exec sqlcontainer5 cat /etc/hosts\r\n"
                                 ],
                      "metadata":  {
                                       "azdata_cell_guid":  "aac70abd-cf74-4269-af7e-8e94beb6ca9a"
                                   },
                      "outputs":  [

                                  ],
                      "execution_count":  0
                  },
                  {
                      "cell_type":  "markdown",
                      "source":  [
                                     "\r\n",
                                     "![](../images/5.ContainerNetworking/RunningContainersOnDefaultNetwork/12.ViewHostsFile.png)\r\n",
                                     "And there we see an entry for the other container in each. So that means we can now reference the other container by name: -\r\n",
                                     "\r\n"
                                 ],
                      "metadata":  {
                                       "azdata_cell_guid":  "19213306-0434-42de-8503-5d69e0050d47"
                                   }
                  },
                  {
                      "cell_type":  "code",
                      "source":  [
                                     "    docker exec sqlcontainer4 ping sqlcontainer5 -c 4\r\n",
                                     "    docker exec sqlcontainer5 ping sqlcontainer4 -c 4\r\n"
                                 ],
                      "metadata":  {
                                       "azdata_cell_guid":  "d029fa3b-b8fb-4eba-b5cf-f4ff0d90fd3f"
                                   },
                      "outputs":  [

                                  ],
                      "execution_count":  0
                  },
                  {
                      "cell_type":  "markdown",
                      "source":  [
                                     "\r\n",
                                     "![](../images/5.ContainerNetworking/RunningContainersOnDefaultNetwork/13.PingContainersByName.png)\r\n",
                                     "Ok, that does mean that we would need to know the IP address of the containers in order to add it to our container run statement.\r\n",
                                     "If we wanted to have DNS resolution of container name to IP addresses automatically, we would need to a custom network.\r\n"
                                 ],
                      "metadata":  {
                                       "azdata_cell_guid":  "ffafa8df-06cf-44f3-a962-f92a34be0178"
                                   }
                  }
              ]
}
