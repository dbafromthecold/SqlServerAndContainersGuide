{
    "metadata":  {
                     "kernelspec":  {
                                        "name":  ".net-powershell",
                                        "language":  "PowerShell",
                                        "display_name":  ".NET (PowerShell)"
                                    }
                 },
    "language_info":  {
                          "name":  "PowerShell",
                          "version":  "7.0",
                          "pygments_lexer":  "powershell",
                          "mimetype":  "text/x-powershell",
                          "file_extension":  ".ps1"
                      },
    "nbformat_minor":  4,
    "nbformat":  4,
    "cells":  [
                  {
                      "cell_type":  "markdown",
                      "source":  [
                                     "\r\n",
                                     "For the quick start, we ran the following: -\r\n",
                                     "\r\n"
                                 ],
                      "metadata":  {
                                       "azdata_cell_guid":  "75d9e3d9-b7dc-4e8e-92a3-22e823ae2019"
                                   }
                  },
                  {
                      "cell_type":  "code",
                      "source":  [
                                     "    docker container run -d -p 1433:1433 `\r\n",
                                     "    --env ACCEPT_EULA=Y `\r\n",
                                     "    --env MSSQL_SA_PASSWORD=Testing1122 `\r\n",
                                     "    --name sqlcontainer1 `\r\n",
                                     "    mcr.microsoft.com/mssql/server:2019-latest\r\n"
                                 ],
                      "metadata":  {
                                       "azdata_cell_guid":  "fb5b5e62-bb0f-4b16-8540-a9eb74f419c4"
                                   },
                      "outputs":  [

                                  ],
                      "execution_count":  0
                  },
                  {
                      "cell_type":  "markdown",
                      "source":  [
                                     "\r\n",
                                     "Let\u0027s go through this [docker container run](https://docs.docker.com/engine/reference/commandline/container_run/) statement line by line, starting with: -\r\n",
                                     "\r\n"
                                 ],
                      "metadata":  {
                                       "azdata_cell_guid":  "ee8400fe-1453-4961-9c10-afa351d01adc"
                                   }
                  },
                  {
                      "cell_type":  "code",
                      "source":  [
                                     "    docker container run -d\r\n"
                                 ],
                      "metadata":  {
                                       "azdata_cell_guid":  "c7c148fd-6c41-46b0-b9b7-a44bb85cdc94"
                                   },
                      "outputs":  [

                                  ],
                      "execution_count":  0
                  },
                  {
                      "cell_type":  "markdown",
                      "source":  [
                                     "\r\n",
                                     "This is saying that we want to run a container in the background (the -d) so that we can continue using our shell.\r\n",
                                     "Next we map some ports: -\r\n",
                                     "\r\n"
                                 ],
                      "metadata":  {
                                       "azdata_cell_guid":  "e8d2022a-2755-4c08-a111-afbb15b1c77c"
                                   }
                  },
                  {
                      "cell_type":  "code",
                      "source":  [
                                     "     -p 1433:1433\r\n"
                                 ],
                      "metadata":  {
                                       "azdata_cell_guid":  "2a2e531a-15d1-4885-9999-0807be70a051"
                                   },
                      "outputs":  [

                                  ],
                      "execution_count":  0
                  },
                  {
                      "cell_type":  "markdown",
                      "source":  [
                                     "\r\n",
                                     "What this does is map port 1433 on the host (our laptop) to port 1433 within our container. This allows us to use localhost in SSMS or ADS to connect to SQL running within the container.\r\n",
                                     "Now we specify a couple of environment variables: -\r\n",
                                     "\r\n"
                                 ],
                      "metadata":  {
                                       "azdata_cell_guid":  "4ea952a3-707d-4da6-ab58-577cd6a87f2c"
                                   }
                  },
                  {
                      "cell_type":  "code",
                      "source":  [
                                     "    --env ACCEPT_EULA=Y\r\n",
                                     "    --env MSSQL_SA_PASSWORD=Testing1122\r\n"
                                 ],
                      "metadata":  {
                                       "azdata_cell_guid":  "50037043-0aeb-48ac-8b1a-66da012b0db2"
                                   },
                      "outputs":  [

                                  ],
                      "execution_count":  0
                  },
                  {
                      "cell_type":  "markdown",
                      "source":  [
                                     "\r\n",
                                     "This accepts the SQL end user license agreement, which has to be done for each container spun up running SQL Server, and sets the password for the SA account to Testing1122. This is needed as Windows authentication is not supported for SQL running in a container.\r\n",
                                     "Then we give our container a name: -\r\n",
                                     "\r\n"
                                 ],
                      "metadata":  {
                                       "azdata_cell_guid":  "03c511ab-4137-466a-9a14-b73835ae9266"
                                   }
                  },
                  {
                      "cell_type":  "code",
                      "source":  [
                                     "    --name sqlcontainer1\r\n"
                                 ],
                      "metadata":  {
                                       "azdata_cell_guid":  "658909aa-a4ef-4e90-831c-f529ef995832"
                                   },
                      "outputs":  [

                                  ],
                      "execution_count":  0
                  },
                  {
                      "cell_type":  "markdown",
                      "source":  [
                                     "\r\n",
                                     "And finally specify the image that we want to spin the container up from: -\r\n",
                                     "\r\n"
                                 ],
                      "metadata":  {
                                       "azdata_cell_guid":  "83d2f21f-e22c-41d0-b01f-9473369f52cf"
                                   }
                  },
                  {
                      "cell_type":  "code",
                      "source":  [
                                     "     mcr.microsoft.com/mssql/server:2019-latest\r\n"
                                 ],
                      "metadata":  {
                                       "azdata_cell_guid":  "de465576-06d7-4652-ba5d-a38c8c8d4647"
                                   },
                      "outputs":  [

                                  ],
                      "execution_count":  0
                  },
                  {
                      "cell_type":  "markdown",
                      "source":  [
                                     "\r\n",
                                     "This is going to pull down the latest SQL Server 2019 container running on Ubuntu (if it is not already present on the host).\r\n"
                                 ],
                      "metadata":  {
                                       "azdata_cell_guid":  "d169e824-1d63-434c-88d3-5d362e086cd8"
                                   }
                  }
              ]
}
