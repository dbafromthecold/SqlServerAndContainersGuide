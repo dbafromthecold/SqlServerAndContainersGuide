{
    "metadata":  {
                     "kernelspec":  {
                                        "name":  ".net-powershell",
                                        "language":  "PowerShell",
                                        "display_name":  ".NET (PowerShell)"
                                    }
                 },
    "language_info":  {
                          "name":  "PowerShell",
                          "version":  "7.0",
                          "pygments_lexer":  "powershell",
                          "mimetype":  "text/x-powershell",
                          "file_extension":  ".ps1"
                      },
    "nbformat_minor":  4,
    "nbformat":  4,
    "cells":  [
                  {
                      "cell_type":  "markdown",
                      "source":  [
                                     "\r\n",
                                     "For the quick start, we ran the following: -\r\n",
                                     "\r\n"
                                 ],
                      "metadata":  {
                                       "azdata_cell_guid":  "18c817df-4d22-48f4-8281-fe4f7f551649"
                                   }
                  },
                  {
                      "cell_type":  "code",
                      "source":  [
                                     "    docker container run -d -p 1433:1433 `\r\n",
                                     "    --env ACCEPT_EULA=Y `\r\n",
                                     "    --env MSSQL_SA_PASSWORD=Testing1122 `\r\n",
                                     "    --name sqlcontainer1 `\r\n",
                                     "    mcr.microsoft.com/mssql/server:2019-latest\r\n"
                                 ],
                      "metadata":  {
                                       "azdata_cell_guid":  "4c24937b-75a1-4337-8d35-d7be5deb98fd"
                                   },
                      "outputs":  [

                                  ],
                      "execution_count":  0
                  },
                  {
                      "cell_type":  "markdown",
                      "source":  [
                                     "\r\n",
                                     "Let\u0027s go through this [docker container run](https://docs.docker.com/engine/reference/commandline/container_run/) statement line by line, starting with: -\r\n",
                                     "\r\n"
                                 ],
                      "metadata":  {
                                       "azdata_cell_guid":  "60b3e5a5-ca84-4e17-8503-0afe75ab8901"
                                   }
                  },
                  {
                      "cell_type":  "code",
                      "source":  [
                                     "    docker container run -d\r\n"
                                 ],
                      "metadata":  {
                                       "azdata_cell_guid":  "5307426d-5b3f-474a-b5e0-3f2fa5d55a7c"
                                   },
                      "outputs":  [

                                  ],
                      "execution_count":  0
                  },
                  {
                      "cell_type":  "markdown",
                      "source":  [
                                     "\r\n",
                                     "This is saying that we want to run a container in the background (the -d) so that we can continue using our shell.\r\n",
                                     "Next we map some ports: -\r\n",
                                     "\r\n"
                                 ],
                      "metadata":  {
                                       "azdata_cell_guid":  "e4c72237-1b52-42ae-b934-86d2e83be347"
                                   }
                  },
                  {
                      "cell_type":  "code",
                      "source":  [
                                     "     -p 1433:1433\r\n"
                                 ],
                      "metadata":  {
                                       "azdata_cell_guid":  "41767363-2f6b-4a66-8b99-15e247715b05"
                                   },
                      "outputs":  [

                                  ],
                      "execution_count":  0
                  },
                  {
                      "cell_type":  "markdown",
                      "source":  [
                                     "\r\n",
                                     "What this does is map port 1433 on the host (our laptop) to port 1433 within our container. This allows us to use localhost in SSMS or ADS to connect to SQL running within the container.\r\n",
                                     "Now we specify a couple of environment variables: -\r\n",
                                     "\r\n"
                                 ],
                      "metadata":  {
                                       "azdata_cell_guid":  "794d19a2-2cab-4f87-a28f-d5ec96fe6127"
                                   }
                  },
                  {
                      "cell_type":  "code",
                      "source":  [
                                     "    --env ACCEPT_EULA=Y\r\n",
                                     "    --env MSSQL_SA_PASSWORD=Testing1122\r\n"
                                 ],
                      "metadata":  {
                                       "azdata_cell_guid":  "aab56fa0-a4d1-48e3-8390-bb365b3c268f"
                                   },
                      "outputs":  [

                                  ],
                      "execution_count":  0
                  },
                  {
                      "cell_type":  "markdown",
                      "source":  [
                                     "\r\n",
                                     "This accepts the SQL end user license agreement, which has to be done for each container spun up running SQL Server, and sets the password for the SA account to Testing1122. This is needed as Windows authentication is not supported for SQL running in a container.\r\n",
                                     "Then we give our container a name: -\r\n",
                                     "\r\n"
                                 ],
                      "metadata":  {
                                       "azdata_cell_guid":  "45366b27-0e2a-4f6f-ad05-d1d2cb063d12"
                                   }
                  },
                  {
                      "cell_type":  "code",
                      "source":  [
                                     "    --name sqlcontainer1\r\n"
                                 ],
                      "metadata":  {
                                       "azdata_cell_guid":  "1cd97033-c4cb-4302-bea7-cddb2ea13132"
                                   },
                      "outputs":  [

                                  ],
                      "execution_count":  0
                  },
                  {
                      "cell_type":  "markdown",
                      "source":  [
                                     "\r\n",
                                     "And finally specify the image that we want to spin the container up from: -\r\n",
                                     "\r\n"
                                 ],
                      "metadata":  {
                                       "azdata_cell_guid":  "80e9806d-645c-429c-a28e-a7d8f04cffb5"
                                   }
                  },
                  {
                      "cell_type":  "code",
                      "source":  [
                                     "     mcr.microsoft.com/mssql/server:2019-latest\r\n"
                                 ],
                      "metadata":  {
                                       "azdata_cell_guid":  "8a93e669-388d-4ae3-a86b-f5e770fe0d02"
                                   },
                      "outputs":  [

                                  ],
                      "execution_count":  0
                  }
              ]
}
