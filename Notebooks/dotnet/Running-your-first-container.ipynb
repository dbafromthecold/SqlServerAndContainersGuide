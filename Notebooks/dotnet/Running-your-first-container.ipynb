{
    "metadata":  {
                     "kernelspec":  {
                                        "name":  ".net-powershell",
                                        "language":  "PowerShell",
                                        "display_name":  ".NET (PowerShell)"
                                    }
                 },
    "language_info":  {
                          "name":  "PowerShell",
                          "version":  "7.0",
                          "pygments_lexer":  "powershell",
                          "mimetype":  "text/x-powershell",
                          "file_extension":  ".ps1"
                      },
    "nbformat_minor":  4,
    "nbformat":  4,
    "cells":  [
                  {
                      "cell_type":  "markdown",
                      "source":  [
                                     "\r\n",
                                     "This page will take you through pulling a SQL Server image down from the Microsoft Container Registry and spinning up a container.\r\n",
                                     "We used to be able to search the Docker Hub for SQL Server container images: -\r\n",
                                     "\r\n"
                                 ],
                      "metadata":  {
                                       "azdata_cell_guid":  "6bd4b310-3a4d-49b3-abe8-2077ee825beb"
                                   }
                  },
                  {
                      "cell_type":  "code",
                      "source":  [
                                     "    docker search mssql\r\n"
                                 ],
                      "metadata":  {
                                       "azdata_cell_guid":  "dabbe1a2-81ea-40cc-8bc0-2da2ccf2328e"
                                   },
                      "outputs":  [

                                  ],
                      "execution_count":  0
                  },
                  {
                      "cell_type":  "markdown",
                      "source":  [
                                     "\r\n",
                                     "However, Microsoft have moved their container images to the Microsoft Container Registry (MCR) so now we have to run the following: -\r\n",
                                     "\r\n"
                                 ],
                      "metadata":  {
                                       "azdata_cell_guid":  "846c61cf-e9f9-4935-96ec-4c0eff6f3edd"
                                   }
                  },
                  {
                      "cell_type":  "code",
                      "source":  [
                                     "    $repo1 = invoke-webrequest https://mcr.microsoft.com/v2/mssql/server/tags/list\r\n",
                                     "    $repo2 = invoke-webrequest https://mcr.microsoft.com/v2/mssql/rhel/server/tags/list\r\n",
                                     "    $tags = $repo1.content + $repo2.content\r\n",
                                     "    $tags\r\n"
                                 ],
                      "metadata":  {
                                       "azdata_cell_guid":  "d9b3c2c9-43ce-43cd-8a96-9710fd305a2c"
                                   },
                      "outputs":  [

                                  ],
                      "execution_count":  0
                  },
                  {
                      "cell_type":  "markdown",
                      "source":  [
                                     "\r\n",
                                     "This will show us all the Ubuntu and Red Hat SQL Server container images that are available to us.\r\n",
                                     "So now we can pull down an image with: -\r\n",
                                     "\r\n"
                                 ],
                      "metadata":  {
                                       "azdata_cell_guid":  "3096d712-fbbf-4942-b747-639ed4aa7dc0"
                                   }
                  },
                  {
                      "cell_type":  "code",
                      "source":  [
                                     "    docker image pull mcr.microsoft.com/mssql/server:2019-CU5-ubuntu-18.04\r\n"
                                 ],
                      "metadata":  {
                                       "azdata_cell_guid":  "85663fcf-936d-4717-ad9c-b71cb80936d0"
                                   },
                      "outputs":  [

                                  ],
                      "execution_count":  0
                  },
                  {
                      "cell_type":  "markdown",
                      "source":  [
                                     "\r\n",
                                     "![](../images/2.RunningYourFirstContainer/RunningAContainer/1.docker_image_pull.png)\r\n",
                                     "Here we\u0027re pulling down SQL Server 2019 CU5 Ubuntu 18.04 image. I know we could just put the image into our docker container run statement but I like to pull my images down first.\r\n",
                                     "Once the pull is complete we can verify that the image is on our local machine with: -\r\n",
                                     "\r\n"
                                 ],
                      "metadata":  {
                                       "azdata_cell_guid":  "5b687a87-73d3-4013-b0db-20d9b31dbb5b"
                                   }
                  },
                  {
                      "cell_type":  "code",
                      "source":  [
                                     "    docker image ls\r\n"
                                 ],
                      "metadata":  {
                                       "azdata_cell_guid":  "7746dfa6-ea94-4859-bb53-fe06dd59051d"
                                   },
                      "outputs":  [

                                  ],
                      "execution_count":  0
                  },
                  {
                      "cell_type":  "markdown",
                      "source":  [
                                     "\r\n",
                                     "![](../images/2.RunningYourFirstContainer/RunningAContainer/2.docker_image_ls.png)\r\n",
                                     "So now we can run a container from that image: -\r\n",
                                     "\r\n"
                                 ],
                      "metadata":  {
                                       "azdata_cell_guid":  "39152573-0b62-4864-ad9c-efa0a2e356c2"
                                   }
                  },
                  {
                      "cell_type":  "code",
                      "source":  [
                                     "    docker container run -d `\r\n",
                                     "    -p 15789:1433 `\r\n",
                                     "    --env ACCEPT_EULA=Y `\r\n",
                                     "    --env MSSQL_SA_PASSWORD=Testing1122 `\r\n",
                                     "    --name sqlcontainer1 `\r\n",
                                     "    mcr.microsoft.com/mssql/server:2019-CU5-ubuntu-18.04\r\n"
                                 ],
                      "metadata":  {
                                       "azdata_cell_guid":  "ec002a06-d1c0-46d5-99d1-7ffa9c22c727"
                                   },
                      "outputs":  [

                                  ],
                      "execution_count":  0
                  },
                  {
                      "cell_type":  "markdown",
                      "source":  [
                                     "\r\n",
                                     "![](../images/2.RunningYourFirstContainer/RunningAContainer/3.docker_container_run.png)\r\n",
                                     "Here we are spinning up a container called sqlcontainer1, accepting the EULA, setting the SA pasword to Testing1122, and mapping port 15789 on our host to port 1433 within the container.\r\n",
                                     "But before we connect, we can check that the container is up and running with: -\r\n",
                                     "\r\n"
                                 ],
                      "metadata":  {
                                       "azdata_cell_guid":  "8b18ec71-b287-4761-81c7-1bba1fbae7c9"
                                   }
                  },
                  {
                      "cell_type":  "code",
                      "source":  [
                                     "    docker container ls -a\r\n"
                                 ],
                      "metadata":  {
                                       "azdata_cell_guid":  "bf94ebca-c236-4264-a74e-7ce4e81e6382"
                                   },
                      "outputs":  [

                                  ],
                      "execution_count":  0
                  },
                  {
                      "cell_type":  "markdown",
                      "source":  [
                                     "\r\n",
                                     "![](../images/2.RunningYourFirstContainer/RunningAContainer/4.docker_container_ls.png)\r\n",
                                     "The -a flag shows all containers and the [container ls]( https://docs.docker.com/engine/reference/commandline/container_ls/) command by default will only show running containers.\r\n",
                                     "If we want to clean up the output of that a little bit we could run: -\r\n",
                                     "\r\n"
                                 ],
                      "metadata":  {
                                       "azdata_cell_guid":  "a298e04d-0758-43b2-b598-6a9a86ce68b6"
                                   }
                  },
                  {
                      "cell_type":  "code",
                      "source":  [
                                     "    docker container ls -a --format \"table {{.Names }}\\t{{ .Image }}\\t{{ .Status }}\\t{{.Ports}}\"\r\n"
                                 ],
                      "metadata":  {
                                       "azdata_cell_guid":  "61bca973-0e26-4436-8a9e-a99d929a8e5b"
                                   },
                      "outputs":  [

                                  ],
                      "execution_count":  0
                  },
                  {
                      "cell_type":  "markdown",
                      "source":  [
                                     "\r\n",
                                     "![](../images/2.RunningYourFirstContainer/RunningAContainer/5.docker_container_ls2.png)\r\n",
                                     "I\u0027ll go through this in more detail in a later wiki page but for now, let\u0027s move on and check the SQL logs: -\r\n",
                                     "\r\n"
                                 ],
                      "metadata":  {
                                       "azdata_cell_guid":  "34c4200a-c4fc-4a61-995f-c3ff82f40a98"
                                   }
                  },
                  {
                      "cell_type":  "code",
                      "source":  [
                                     "    docker container logs sqlcontainer1\r\n"
                                 ],
                      "metadata":  {
                                       "azdata_cell_guid":  "e6f3024c-c42c-40e9-a88f-754886a0f3ef"
                                   },
                      "outputs":  [

                                  ],
                      "execution_count":  0
                  },
                  {
                      "cell_type":  "markdown",
                      "source":  [
                                     "\r\n",
                                     "![](../images/2.RunningYourFirstContainer/RunningAContainer/6.docker_container_logs.png)\r\n",
                                     "Cool! A nice and easy way to view the SQL Server error log!\r\n",
                                     "Let\u0027s connect to SQL. We could connect in SSMS with localhost,15789 or with the [mssql-cli](https://docs.microsoft.com/en-us/sql/tools/mssql-cli): -\r\n",
                                     "\r\n"
                                 ],
                      "metadata":  {
                                       "azdata_cell_guid":  "1f61c927-ffff-4048-a47b-b62044991c70"
                                   }
                  },
                  {
                      "cell_type":  "code",
                      "source":  [
                                     "    mssql-cli -S \u0027localhost,15789\u0027 -U sa -P Testing1122 -Q \"SELECT @@VERSION AS [Version]\"\r\n"
                                 ],
                      "metadata":  {
                                       "azdata_cell_guid":  "100e5f80-b4f0-42b1-be40-e1e226703eff"
                                   },
                      "outputs":  [

                                  ],
                      "execution_count":  0
                  },
                  {
                      "cell_type":  "markdown",
                      "source":  [
                                     "\r\n",
                                     "![](../images/2.RunningYourFirstContainer/RunningAContainer/7.mssql_cli_version.png)\r\n",
                                     "If we wanted to jump into the container itself, we can run: -\r\n",
                                     "\r\n"
                                 ],
                      "metadata":  {
                                       "azdata_cell_guid":  "0fcc8a7d-ae3a-41fd-a6e0-fb5f6b97f527"
                                   }
                  },
                  {
                      "cell_type":  "code",
                      "source":  [
                                     "    docker container exec -it sqlcontainer1 bash\r\n"
                                 ],
                      "metadata":  {
                                       "azdata_cell_guid":  "5e69a2fc-bfa1-4d37-ab92-41f529c14a50"
                                   },
                      "outputs":  [

                                  ],
                      "execution_count":  0
                  },
                  {
                      "cell_type":  "markdown",
                      "source":  [
                                     "\r\n",
                                     "And then run the following to have a look at the system databases: -\r\n",
                                     "\r\n"
                                 ],
                      "metadata":  {
                                       "azdata_cell_guid":  "5115df21-f3df-423f-81b4-748c30eaf871"
                                   }
                  },
                  {
                      "cell_type":  "code",
                      "source":  [
                                     "    cd /var/opt/mssql/data\r\n",
                                     "    ls -al\r\n",
                                     "    exit\r\n"
                                 ],
                      "metadata":  {
                                       "azdata_cell_guid":  "5796d739-1986-447b-bbba-8621f2c537a7"
                                   },
                      "outputs":  [

                                  ],
                      "execution_count":  0
                  },
                  {
                      "cell_type":  "markdown",
                      "source":  [
                                     "\r\n",
                                     "![](../images/2.RunningYourFirstContainer/RunningAContainer/8.docker_exec.png)\r\n",
                                     "But we don\u0027t have to jump into the container at all to run those commands, we could instead run: -\r\n",
                                     "\r\n"
                                 ],
                      "metadata":  {
                                       "azdata_cell_guid":  "a93df059-9946-4189-a169-858881b7bd5b"
                                   }
                  },
                  {
                      "cell_type":  "code",
                      "source":  [
                                     "    docker exec sqlcontainer1 ls -al /var/opt/mssql/data\r\n"
                                 ],
                      "metadata":  {
                                       "azdata_cell_guid":  "0fddcae8-3853-4995-b758-dafe01de6c8a"
                                   },
                      "outputs":  [

                                  ],
                      "execution_count":  0
                  },
                  {
                      "cell_type":  "markdown",
                      "source":  [
                                     "\r\n",
                                     "![](../images/2.RunningYourFirstContainer/RunningAContainer/9.docker_exec2.png)\r\n",
                                     "I think that\u0027s a little tidier :-)\r\n",
                                     "OK, so that how to pull an image down, spin up a container, and poke around a little bit!\r\n"
                                 ],
                      "metadata":  {
                                       "azdata_cell_guid":  "4f965a01-f14a-42da-8ac6-f25f24451b09"
                                   }
                  }
              ]
}
