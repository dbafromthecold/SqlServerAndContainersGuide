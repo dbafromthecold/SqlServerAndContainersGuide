{
    "metadata":  {
                     "kernelspec":  {
                                        "name":  ".net-powershell",
                                        "language":  "PowerShell",
                                        "display_name":  ".NET (PowerShell)"
                                    }
                 },
    "language_info":  {
                          "name":  "PowerShell",
                          "version":  "7.0",
                          "pygments_lexer":  "powershell",
                          "mimetype":  "text/x-powershell",
                          "file_extension":  ".ps1"
                      },
    "nbformat_minor":  4,
    "nbformat":  4,
    "cells":  [
                  {
                      "cell_type":  "markdown",
                      "source":  [
                                     "\r\n",
                                     "This page will take you through pulling a SQL Server image down from the Microsoft Container Registry and spinning up a container.\r\n",
                                     "We used to be able to search the Docker Hub for SQL Server container images: -\r\n",
                                     "\r\n"
                                 ],
                      "metadata":  {
                                       "azdata_cell_guid":  "2e39d2ff-8812-4e74-b78a-b5fe6c1dbe13"
                                   }
                  },
                  {
                      "cell_type":  "code",
                      "source":  [
                                     "    docker search mssql\r\n"
                                 ],
                      "metadata":  {
                                       "azdata_cell_guid":  "6220daa2-e769-414e-810d-58375b50548a"
                                   },
                      "outputs":  [

                                  ],
                      "execution_count":  0
                  },
                  {
                      "cell_type":  "markdown",
                      "source":  [
                                     "\r\n",
                                     "However, Microsoft have moved their container images to the Microsoft Container Registry (MCR) so now we have to run the following: -\r\n",
                                     "\r\n"
                                 ],
                      "metadata":  {
                                       "azdata_cell_guid":  "c8f28c24-f19d-419f-af69-0a9da54ad499"
                                   }
                  },
                  {
                      "cell_type":  "code",
                      "source":  [
                                     "    $repo1 = invoke-webrequest https://mcr.microsoft.com/v2/mssql/server/tags/list\r\n",
                                     "    $repo2 = invoke-webrequest https://mcr.microsoft.com/v2/mssql/rhel/server/tags/list\r\n",
                                     "    $tags = $repo1.content + $repo2.content\r\n",
                                     "    $tags\r\n"
                                 ],
                      "metadata":  {
                                       "azdata_cell_guid":  "8bec1ff7-0879-41e2-8f93-78722e4c93bd"
                                   },
                      "outputs":  [

                                  ],
                      "execution_count":  0
                  },
                  {
                      "cell_type":  "markdown",
                      "source":  [
                                     "\r\n",
                                     "This will show us all the Ubuntu and Red Hat SQL Server container images that are available to us.\r\n",
                                     "So now we can pull down an image with: -\r\n",
                                     "\r\n"
                                 ],
                      "metadata":  {
                                       "azdata_cell_guid":  "bd1b34c2-d2f5-433c-bfcb-d77644850401"
                                   }
                  },
                  {
                      "cell_type":  "code",
                      "source":  [
                                     "    docker image pull mcr.microsoft.com/mssql/server:2019-CU5-ubuntu-18.04\r\n"
                                 ],
                      "metadata":  {
                                       "azdata_cell_guid":  "6a89b36e-948d-4775-a4a8-71daa7af4f25"
                                   },
                      "outputs":  [

                                  ],
                      "execution_count":  0
                  },
                  {
                      "cell_type":  "markdown",
                      "source":  [
                                     "\r\n",
                                     "![](../images/2.RunningYourFirstContainer/RunningAContainer/1.docker_image_pull.png)\r\n",
                                     "Here we\u0027re pulling down SQL Server 2019 CU5 Ubuntu 18.04 image. I know we could just put the image into our docker container run statement but I like to pull my images down first.\r\n",
                                     "Once the pull is complete we can verify that the image is on our local machine with: -\r\n",
                                     "\r\n"
                                 ],
                      "metadata":  {
                                       "azdata_cell_guid":  "040c98da-30d9-427b-a73e-4a6b5ff9026b"
                                   }
                  },
                  {
                      "cell_type":  "code",
                      "source":  [
                                     "    docker image ls\r\n"
                                 ],
                      "metadata":  {
                                       "azdata_cell_guid":  "f4b72cfb-8b46-470e-8cdb-ed46eef696f4"
                                   },
                      "outputs":  [

                                  ],
                      "execution_count":  0
                  },
                  {
                      "cell_type":  "markdown",
                      "source":  [
                                     "\r\n",
                                     "![](../images/2.RunningYourFirstContainer/RunningAContainer/2.docker_image_ls.png)\r\n",
                                     "So now we can run a container from that image: -\r\n",
                                     "\r\n"
                                 ],
                      "metadata":  {
                                       "azdata_cell_guid":  "160f0d41-f67b-4ae7-9e6a-727c2da99978"
                                   }
                  },
                  {
                      "cell_type":  "code",
                      "source":  [
                                     "    docker container run -d `\r\n",
                                     "    -p 15789:1433 `\r\n",
                                     "    --env ACCEPT_EULA=Y `\r\n",
                                     "    --env MSSQL_SA_PASSWORD=Testing1122 `\r\n",
                                     "    --name sqlcontainer1 `\r\n",
                                     "    mcr.microsoft.com/mssql/server:2019-CU5-ubuntu-18.04\r\n"
                                 ],
                      "metadata":  {
                                       "azdata_cell_guid":  "5c9c611b-3381-4242-b0ff-ed1eef3c995f"
                                   },
                      "outputs":  [

                                  ],
                      "execution_count":  0
                  },
                  {
                      "cell_type":  "markdown",
                      "source":  [
                                     "\r\n",
                                     "![](../images/2.RunningYourFirstContainer/RunningAContainer/3.docker_container_run.png)\r\n",
                                     "Here we are spinning up a container called sqlcontainer1, accepting the EULA, setting the SA pasword to Testing1122, and mapping port 15789 on our host to port 1433 within the container.\r\n",
                                     "But before we connect, we can check that the container is up and running with: -\r\n",
                                     "\r\n"
                                 ],
                      "metadata":  {
                                       "azdata_cell_guid":  "62d4332c-9425-4795-badb-442166ba62b2"
                                   }
                  },
                  {
                      "cell_type":  "code",
                      "source":  [
                                     "    docker container ls -a\r\n"
                                 ],
                      "metadata":  {
                                       "azdata_cell_guid":  "99070f22-8210-4c3c-9643-72283addcb4c"
                                   },
                      "outputs":  [

                                  ],
                      "execution_count":  0
                  },
                  {
                      "cell_type":  "markdown",
                      "source":  [
                                     "\r\n",
                                     "![](../images/2.RunningYourFirstContainer/RunningAContainer/4.docker_container_ls.png)\r\n",
                                     "The -a flag shows all containers and the [container ls]( https://docs.docker.com/engine/reference/commandline/container_ls/) command by default will only show running containers.\r\n",
                                     "If we want to clean up the output of that a little bit we could run: -\r\n",
                                     "\r\n"
                                 ],
                      "metadata":  {
                                       "azdata_cell_guid":  "4041eb7c-3f75-48ef-9324-1fd0530411c3"
                                   }
                  },
                  {
                      "cell_type":  "code",
                      "source":  [
                                     "    docker container ls -a --format \"table {{.Names }}\\t{{ .Image }}\\t{{ .Status }}\\t{{.Ports}}\"\r\n"
                                 ],
                      "metadata":  {
                                       "azdata_cell_guid":  "cfc8a717-b9ea-429d-974e-bc15e3303559"
                                   },
                      "outputs":  [

                                  ],
                      "execution_count":  0
                  },
                  {
                      "cell_type":  "markdown",
                      "source":  [
                                     "\r\n",
                                     "![](../images/2.RunningYourFirstContainer/RunningAContainer/5.docker_container_ls2.png)\r\n",
                                     "I\u0027ll go through this in more detail in a later wiki page but for now, let\u0027s move on and check the SQL logs: -\r\n",
                                     "\r\n"
                                 ],
                      "metadata":  {
                                       "azdata_cell_guid":  "21470e65-84d1-4323-9b00-6252a824c812"
                                   }
                  },
                  {
                      "cell_type":  "code",
                      "source":  [
                                     "    docker container logs sqlcontainer1\r\n"
                                 ],
                      "metadata":  {
                                       "azdata_cell_guid":  "9f0e0a15-035d-489e-a79a-5bd6fbfff503"
                                   },
                      "outputs":  [

                                  ],
                      "execution_count":  0
                  },
                  {
                      "cell_type":  "markdown",
                      "source":  [
                                     "\r\n",
                                     "![](../images/2.RunningYourFirstContainer/RunningAContainer/6.docker_container_logs.png)\r\n",
                                     "Cool! A nice and easy way to view the SQL Server error log!\r\n",
                                     "Let\u0027s connect to SQL. We could connect in SSMS with localhost,15789 or with the [mssql-cli](https://docs.microsoft.com/en-us/sql/tools/mssql-cli): -\r\n",
                                     "\r\n"
                                 ],
                      "metadata":  {
                                       "azdata_cell_guid":  "8837919f-5805-4ae7-87d4-0acdbea6ddf2"
                                   }
                  },
                  {
                      "cell_type":  "code",
                      "source":  [
                                     "    mssql-cli -S \u0027localhost,15789\u0027 -U sa -P Testing1122 -Q \"SELECT @@VERSION AS [Version]\"\r\n"
                                 ],
                      "metadata":  {
                                       "azdata_cell_guid":  "457c6df4-de9d-4612-b04e-164e9f6c533c"
                                   },
                      "outputs":  [

                                  ],
                      "execution_count":  0
                  },
                  {
                      "cell_type":  "markdown",
                      "source":  [
                                     "\r\n",
                                     "![](../images/2.RunningYourFirstContainer/RunningAContainer/7.mssql_cli_version.png)\r\n",
                                     "If we wanted to jump into the container itself, we can run: -\r\n",
                                     "\r\n"
                                 ],
                      "metadata":  {
                                       "azdata_cell_guid":  "19f2fa41-35d7-4fc5-b026-2af76f388a9d"
                                   }
                  },
                  {
                      "cell_type":  "code",
                      "source":  [
                                     "    docker container exec -it sqlcontainer1 bash\r\n"
                                 ],
                      "metadata":  {
                                       "azdata_cell_guid":  "a8d8e5a9-8e5a-4e82-874f-0e9ca39e67e3"
                                   },
                      "outputs":  [

                                  ],
                      "execution_count":  0
                  },
                  {
                      "cell_type":  "markdown",
                      "source":  [
                                     "\r\n",
                                     "And then run the following to have a look at the system databases: -\r\n",
                                     "\r\n"
                                 ],
                      "metadata":  {
                                       "azdata_cell_guid":  "d715e9b0-b4a2-426d-89b4-e60832d9a5d9"
                                   }
                  },
                  {
                      "cell_type":  "code",
                      "source":  [
                                     "    cd /var/opt/mssql/data\r\n",
                                     "    ls -al\r\n",
                                     "    exit\r\n"
                                 ],
                      "metadata":  {
                                       "azdata_cell_guid":  "ab5a6022-3114-44e3-b5b8-46afb2704d59"
                                   },
                      "outputs":  [

                                  ],
                      "execution_count":  0
                  },
                  {
                      "cell_type":  "markdown",
                      "source":  [
                                     "\r\n",
                                     "![](../images/2.RunningYourFirstContainer/RunningAContainer/8.docker_exec.png)\r\n",
                                     "But we don\u0027t have to jump into the container at all to run those commands, we could instead run: -\r\n",
                                     "\r\n"
                                 ],
                      "metadata":  {
                                       "azdata_cell_guid":  "6af07a97-0b49-400e-81a1-c90241865d61"
                                   }
                  },
                  {
                      "cell_type":  "code",
                      "source":  [
                                     "    docker exec sqlcontainer1 ls -al /var/opt/mssql/data\r\n"
                                 ],
                      "metadata":  {
                                       "azdata_cell_guid":  "927ceee5-e252-4c09-b5c9-d4a558f0aca1"
                                   },
                      "outputs":  [

                                  ],
                      "execution_count":  0
                  }
              ]
}
