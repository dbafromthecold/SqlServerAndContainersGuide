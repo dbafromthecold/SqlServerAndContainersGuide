{
    "metadata": {
        "kernelspec": {
            "name": "SQL",
            "display_name": "SQL",
            "language": "sql"
        },
        "language_info": {
            "name": "sql",
            "version": ""
        }
    },
    "nbformat_minor": 2,
    "nbformat": 4,
    "cells": [
        {
            "cell_type": "markdown",
            "source": [
                "\r\n",
                "One of the really cool things that we can do with building custom images is to have our databases (schema only...let's not go nuts) ready to go when our container spins up. <br>\r\n",
                "This is pretty neat as it means we don't have to restore any databases when the container comes up and our database are at a known version.<br><br>\r\n",
                "It's simple to do but there is one trick to it, let's have a look at a dockerfile: -<br>\r\n",
                "\r\n",
                ""
            ],
            "metadata": {
                "azdata_cell_guid": "d27233f5-7f96-424f-bedf-4772cdde17e7"
            }
        },
        {
            "cell_type": "code",
            "source": [
                "    FROM mcr.microsoft.com/mssql/server:2019-CU5-ubuntu-18.04\r\n",
                "    \r\n",
                "    USER root\r\n",
                "    \r\n",
                "    RUN mkdir /var/opt/sqlserver\r\n",
                "    \r\n",
                "    COPY testdatabase.mdf /var/opt/sqlserver\r\n",
                "    COPY testdatabase_log.ldf /var/opt/sqlserver\r\n",
                "    COPY attach-db.sh /var/opt/sqlserver\r\n",
                "    \r\n",
                "    RUN chown -R mssql:mssql /var/opt/sqlserver\r\n",
                "    \r\n",
                "    RUN chmod +x /var/opt/sqlserver/attach-db.sh\r\n",
                "    \r\n",
                "    USER mssql\r\n",
                "    \r\n",
                "    CMD /var/opt/sqlserver/attach-db.sh & /opt/mssql/bin/sqlservr\r\n"
            ],
            "metadata": {
                "azdata_cell_guid": "cf507598-b387-47df-bd0a-0d4da838019a"
            },
            "outputs": [],
            "execution_count": null
        },
        {
            "cell_type": "markdown",
            "source": [
                "\r\n",
                "Let's go over the steps in this dockerfile.\r\n",
                "1. Building from the SQL Server 2019 official image\r\n",
                "2. Switching to the root user\r\n",
                "3. Creating a custom directory for our database\r\n",
                "4. Copying the database files (mdf and ldf) and a script called attach-db.sh into the image\r\n",
                "5. Changing the owner of our custom directory to the mssql user\r\n",
                "6. Making the attach-db.sh script executable\r\n",
                "7. Switching to the mssql user\r\n",
                "8. Executing the attach-db.sh script and then starting up SQL Server<br>\r\n",
                "But hang on a second? Are we running a script to attach databases and THEN starting SQL Server?<br>\r\n",
                "That seems the wrong way round yeah? How can we attach a database to SQL before we start SQL Server?<br>\r\n",
                "<br>\r\n",
                "Let's have a look at that attach-db.sh script: -\r\n",
                "\r\n",
                ""
            ],
            "metadata": {
                "azdata_cell_guid": "808bb3c8-b485-4483-aeb2-c0f32c475c61"
            }
        },
        {
            "cell_type": "code",
            "source": [
                "    sleep 30s\r\n",
                ""
            ],
            "metadata": {
                "azdata_cell_guid": "5270061a-58c4-4e49-ab74-90b16d00fa4e"
            },
            "outputs": [],
            "execution_count": null
        },
        {
            "cell_type": "markdown",
            "source": [
                " \r\n"
            ],
            "metadata": {
                "azdata_cell_guid": "6a92b456-ddf5-4e89-86ab-be051cb4beb4"
            }
        },
        {
            "cell_type": "code",
            "source": [
                "    /opt/mssql-tools/bin/sqlcmd -S localhost -U sa -P Testing1122 \\\r\n",
                "    -Q \"CREATE DATABASE [testdatabase] ON (FILENAME = '/var/opt/sqlserver/testdatabase.mdf'),(FILENAME = '/var/opt/sqlserver/testdatabase_log.ldf') FOR ATTACH\"\r\n"
            ],
            "metadata": {
                "azdata_cell_guid": "4a7fcaa6-667c-431b-8047-541beca40987"
            },
            "outputs": [],
            "execution_count": null
        },
        {
            "cell_type": "markdown",
            "source": [
                "\r\n",
                "The first thing that script does is wait for SQL to spin up (sleep 30s) and then runs an CREATE DATABASE...FOR ATTACH statement.<br>\r\n",
                "The reason for this is that a container always needs a process running, otherwise the container will stop.<br>\r\n",
                "If we started SQL Server up and then ran the attach script, the attach script becomes the main running process and the container will shut down once it completes.<br>\r\n",
                "So by sleeping for 30 seconds and then starting SQL...SQL becomes the main running process, the script executes the CREATE DATABASE...FOR ATTACH after 30 seconds and the container stays up and running!<br>\r\n",
                "<br>\r\n",
                "So let's build the image: -\r\n",
                "\r\n",
                ""
            ],
            "metadata": {
                "azdata_cell_guid": "470884db-6082-4105-a376-8ce21b74a623"
            }
        },
        {
            "cell_type": "code",
            "source": [
                "    docker build -t customsqlimage1 .\r\n"
            ],
            "metadata": {
                "azdata_cell_guid": "e8b97b06-137c-478b-9a56-7656cc0f02ec"
            },
            "outputs": [],
            "execution_count": null
        },
        {
            "cell_type": "markdown",
            "source": [
                "\r\n",
                "![](../images/4.BuildingACustomImage\\CustomImageWithDatabase/1.BuildCustomImage.png)<br>\r\n",
                "<br>\r\n",
                "And then check that the image is there: -\r\n",
                "\r\n",
                ""
            ],
            "metadata": {
                "azdata_cell_guid": "deb4a4c1-1bff-4403-9c64-a10775b28e11"
            }
        },
        {
            "cell_type": "code",
            "source": [
                "    docker image ls\r\n"
            ],
            "metadata": {
                "azdata_cell_guid": "133e64f4-910e-43b4-ad66-46e27a753906"
            },
            "outputs": [],
            "execution_count": null
        },
        {
            "cell_type": "markdown",
            "source": [
                "\r\n",
                "![](../images/4.BuildingACustomImage\\CustomImageWithDatabase/2.ViewImages.png)<br>\r\n",
                "<br>\r\n",
                "So now we can run a container from that image: -\r\n",
                "\r\n",
                ""
            ],
            "metadata": {
                "azdata_cell_guid": "476d317b-7aff-457f-a2b3-dd035ebe976b"
            }
        },
        {
            "cell_type": "code",
            "source": [
                "    docker container run -d `\r\n",
                "    -p 15789:1433 `\r\n",
                "    --env ACCEPT_EULA=Y `\r\n",
                "    --env MSSQL_SA_PASSWORD=Testing1122 `\r\n",
                "    --name sqlcontainer1 `\r\n",
                "    customsqlimage1\r\n"
            ],
            "metadata": {
                "azdata_cell_guid": "81b78245-cc93-414e-b422-220a8c5f9ea1"
            },
            "outputs": [],
            "execution_count": null
        },
        {
            "cell_type": "markdown",
            "source": [
                "\r\n",
                "![](../images/4.BuildingACustomImage\\CustomImageWithDatabase/3.RunContainer.png)<br>\r\n",
                "<br>\r\n",
                "Wait for 30 seconds...and our database is there!\r\n",
                "\r\n",
                ""
            ],
            "metadata": {
                "azdata_cell_guid": "eb22a520-b44c-45ac-9ec5-220bbc889bce"
            }
        },
        {
            "cell_type": "code",
            "source": [
                "    mssql-cli -S localhost,15789 -U sa -P Testing1122 -Q \"SELECT [name] FROM sys.databases;\"\r\n"
            ],
            "metadata": {
                "azdata_cell_guid": "5cb7e901-600a-4177-b9b9-02a7893784e0"
            },
            "outputs": [],
            "execution_count": null
        },
        {
            "cell_type": "markdown",
            "source": [
                "\r\n",
                "![](../images/4.BuildingACustomImage\\CustomImageWithDatabase/4.ViewDatabases.png)\r\n"
            ],
            "metadata": {
                "azdata_cell_guid": "acf8908b-b669-45ca-b576-cbe0b9566459"
            }
        },
        {
            "cell_type": "markdown",
            "source": [
                "<span style=\"color: rgb(248, 248, 242); font-family: Consolas, &quot;Courier New&quot;, monospace; white-space: pre;\">How powerful is that? We can spin up SQLServer in a container with our databases ready to go! Incredibly useful when deploying development environments.</span>"
            ],
            "metadata": {
                "azdata_cell_guid": "5c6dc422-0a97-4264-bfde-6b2d0ef846d5"
            }
        }
    ]
}