{
    "metadata": {
        "kernelspec": {
            "name": "SQL",
            "display_name": "SQL",
            "language": "sql"
        },
        "language_info": {
            "name": "sql",
            "version": ""
        }
    },
    "nbformat_minor": 2,
    "nbformat": 4,
    "cells": [
        {
            "cell_type": "markdown",
            "source": [
                "\r\n",
                "One of the really cool things that we can do with building custom images is to have our databases (schema only...let's not go nuts) ready to go when our container spins up. \r\n",
                "This is pretty neat as it means we don't have to restore any databases when the container comes up and our database are at a known version.\r\n",
                "It's simple to do but there is one trick to it, let's have a look at a dockerfile: -\r\n",
                "\r\n"
            ],
            "metadata": {
                "azdata_cell_guid": "8c9bb169-0245-4a7e-baa8-9deb6683b501"
            }
        },
        {
            "cell_type": "code",
            "source": [
                "    FROM mcr.microsoft.com/mssql/server:2019-CU5-ubuntu-18.04\r\n",
                "    \r\n",
                "    USER root\r\n",
                "    \r\n",
                "    RUN mkdir /var/opt/sqlserver\r\n",
                "    \r\n",
                "    COPY testdatabase.mdf /var/opt/sqlserver\r\n",
                "    COPY testdatabase_log.ldf /var/opt/sqlserver\r\n",
                "    COPY attach-db.sh /var/opt/sqlserver\r\n",
                "    \r\n",
                "    RUN chown -R mssql:mssql /var/opt/sqlserver\r\n",
                "    \r\n",
                "    RUN chmod +x /var/opt/sqlserver/attach-db.sh\r\n",
                "    \r\n",
                "    USER mssql\r\n",
                "    \r\n",
                "    CMD /var/opt/sqlserver/attach-db.sh & /opt/mssql/bin/sqlservr\r\n"
            ],
            "metadata": {
                "azdata_cell_guid": "4b322839-b940-41b5-a51b-62eed4db96a1"
            },
            "outputs": [],
            "execution_count": 0
        },
        {
            "cell_type": "markdown",
            "source": [
                "\r\n",
                "Let's go over the steps in this dockerfile.\r\n",
                "1. Building from the SQL Server 2019 official image\r\n",
                "2. Switching to the root user\r\n",
                "3. Creating a custom directory for our database\r\n",
                "4. Copying the database files (mdf and ldf) and a script called attach-db.sh into the image\r\n",
                "5. Changing the owner of our custom directory to the mssql user\r\n",
                "6. Making the attach-db.sh script executable\r\n",
                "7. Switching to the mssql user\r\n",
                "8. Executing the attach-db.sh script and then starting up SQL Server<br>\r\n",
                "But hang on a second? Are we running a script to attach databases and THEN starting SQL Server?<br>\r\n",
                "That seems the wrong way round yeah? <br>\r\n",
                "How can we attach a database to SQL before we start SQL Server?<br>\r\n",
                "<br>\r\n",
                "Let's have a look at that attach-db.sh script: -<br>\r\n",
                "\r\n",
                ""
            ],
            "metadata": {
                "azdata_cell_guid": "ed76fab2-437f-4776-8d80-216683d871b6"
            }
        },
        {
            "cell_type": "code",
            "source": [
                "    sleep 15s\r\n"
            ],
            "metadata": {
                "azdata_cell_guid": "920fda86-71d0-446b-84a9-7d56354d9db1"
            },
            "outputs": [],
            "execution_count": 0
        },
        {
            "cell_type": "markdown",
            "source": [
                " \r\n"
            ],
            "metadata": {
                "azdata_cell_guid": "2f927a76-c036-409a-9fff-0049fd9c8a2a"
            }
        },
        {
            "cell_type": "code",
            "source": [
                "    /opt/mssql-tools/bin/sqlcmd -S localhost -U sa -P Testing1122 \\\r\n",
                "    -Q \"CREATE DATABASE [testdatabase] ON (FILENAME = '/var/opt/sqlserver/testdatabase.mdf'),(FILENAME = '/var/opt/sqlserver/testdatabase_log.ldf') FOR ATTACH\"\r\n"
            ],
            "metadata": {
                "azdata_cell_guid": "c68a39e3-32b6-4182-9474-090a2abc0240"
            },
            "outputs": [],
            "execution_count": 0
        },
        {
            "cell_type": "markdown",
            "source": [
                "\r\n",
                "The first thing that script does is wait for SQL to spin up (sleep 15s) and then runs an CREATE DATABASE...FOR ATTACH statement.<br>\r\n",
                "The reason for this is that a container always needs a process running, otherwise the container will stop.<br>\r\n",
                "If we started SQL Server up and then ran the attach script, the attach script becomes the main running process and the container will shut down once it completes.<br>\r\n",
                "So by sleeping for 15 seconds and then starting SQL...SQL becomes the main running process, the script executes the CREATE DATABASE...FOR ATTACH after 15 seconds and the container stays up and running!<br>\r\n",
                "So let's build the image: -\r\n",
                "\r\n",
                ""
            ],
            "metadata": {
                "azdata_cell_guid": "9e03e56d-6cc6-4194-bb7b-2f0683237704"
            }
        },
        {
            "cell_type": "code",
            "source": [
                "    docker build customsqlimage1 .\r\n"
            ],
            "metadata": {
                "azdata_cell_guid": "c6e8c975-e51c-4f34-a4be-4c7ab16f0095"
            },
            "outputs": [],
            "execution_count": 0
        },
        {
            "cell_type": "markdown",
            "source": [
                "\r\n",
                "And then check that the image is there: -\r\n",
                "\r\n"
            ],
            "metadata": {
                "azdata_cell_guid": "798a93e9-d6bb-43f6-8367-f1519cf6d939"
            }
        },
        {
            "cell_type": "code",
            "source": [
                "    docker image ls\r\n"
            ],
            "metadata": {
                "azdata_cell_guid": "c5fdbc72-589c-4cc2-adb3-ada0314a843a"
            },
            "outputs": [],
            "execution_count": 0
        },
        {
            "cell_type": "markdown",
            "source": [
                "\r\n",
                "So now we can run a container from that image: -\r\n",
                "\r\n"
            ],
            "metadata": {
                "azdata_cell_guid": "65fc0a55-be8c-4eaf-a037-8663cded479f"
            }
        },
        {
            "cell_type": "code",
            "source": [
                "    docker container run -d `\r\n",
                "    -p 15789:1433 `\r\n",
                "    --env ACCEPT_EULA=Y `\r\n",
                "    --env MSSQL_SA_PASSWORD=Testing1122 `\r\n",
                "    --name sqlcontainer1 `\r\n",
                "    customsqlimage1\r\n"
            ],
            "metadata": {
                "azdata_cell_guid": "38dbea05-98b6-4409-b4a0-69666e7785a9"
            },
            "outputs": [],
            "execution_count": 0
        },
        {
            "cell_type": "markdown",
            "source": [
                "\r\n",
                "Wait for 15 seconds...and our database is there!\r\n"
            ],
            "metadata": {
                "azdata_cell_guid": "5b9c6b1b-1c9f-48bf-b2b3-711f8ce28fa3"
            }
        }
    ]
}