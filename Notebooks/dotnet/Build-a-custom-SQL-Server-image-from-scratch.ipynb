{
    "metadata":  {
                     "kernelspec":  {
                                        "name":  ".net-powershell",
                                        "language":  "PowerShell",
                                        "display_name":  ".NET (PowerShell)"
                                    }
                 },
    "language_info":  {
                          "name":  "PowerShell",
                          "version":  "7.0",
                          "pygments_lexer":  "powershell",
                          "mimetype":  "text/x-powershell",
                          "file_extension":  ".ps1"
                      },
    "nbformat_minor":  4,
    "nbformat":  4,
    "cells":  [
                  {
                      "cell_type":  "markdown",
                      "source":  [
                                     "\r\n",
                                     "In a previous wiki we built a [custom SQL Server docker image from the SQL 2019 CU5 image](https://github.com/dbafromthecold/SqlServerAndContainersGuide/wiki/Building-a-custom-image) in order to grant permissions to custom directories.\r\n",
                                     "In this wiki we\u0027ll go through how to build a custom SQL image from \"scratch\". Ok, not exactly _scratch_, what we\u0027re going to do is start off with the Ubuntu 18.04 image and install SQL on it.\r\n",
                                     "Here is the dockerfile: -\r\n",
                                     "\r\n"
                                 ],
                      "metadata":  {
                                       "azdata_cell_guid":  "44f7e165-03c5-4827-84a4-b2082629468e"
                                   }
                  },
                  {
                      "cell_type":  "code",
                      "source":  [
                                     "    FROM ubuntu:18.04\r\n",
                                     "     \r\n",
                                     "    RUN useradd -u 10001 mssql\r\n",
                                     "     \r\n",
                                     "    RUN apt-get update \u0026\u0026 apt-get install -y wget software-properties-common apt-transport-https\r\n",
                                     "     \r\n",
                                     "    RUN wget -qO- https://packages.microsoft.com/keys/microsoft.asc | apt-key add -\r\n",
                                     "     \r\n",
                                     "    RUN add-apt-repository \"$(wget -qO- https://packages.microsoft.com/config/ubuntu/18.04/mssql-server-2019.list)\"\r\n",
                                     "     \r\n",
                                     "    RUN apt-get update \u0026\u0026 apt-get install -y mssql-server\r\n",
                                     "     \r\n",
                                     "    RUN chown -R mssql:mssql /var/opt/mssql\r\n",
                                     "         \r\n",
                                     "    USER mssql\r\n",
                                     "    \r\n",
                                     "    CMD /opt/mssql/bin/sqlservr\r\n"
                                 ],
                      "metadata":  {
                                       "azdata_cell_guid":  "a4ed3b3e-4056-4d0f-aeca-7b2455ccbaee"
                                   },
                      "outputs":  [

                                  ],
                      "execution_count":  0
                  },
                  {
                      "cell_type":  "markdown",
                      "source":  [
                                     "\r\n",
                                     "Let\u0027s go over each step in the dockerfile: -\r\n",
                                     "1. Building from the Ubuntu 18.04 image\r\n",
                                     "2. Creating the mssql user with ID 10001\r\n",
                                     "3. Installing required packages\r\n",
                                     "4. Import the Microsoft public repository GPG keys\r\n",
                                     "5. Adding the SQL Server 2019 repository\r\n",
                                     "6. Installing SQL Server\r\n",
                                     "7. Setting the owner of the mssql directory to the mssql user\r\n",
                                     "8. Switching to the mssql user from root\r\n",
                                     "9. Starting SQL Server\r\n",
                                     "Ok, now we can build the image: -\r\n",
                                     "\r\n"
                                 ],
                      "metadata":  {
                                       "azdata_cell_guid":  "243935a9-5666-486e-9819-728c77f4a0a3"
                                   }
                  },
                  {
                      "cell_type":  "code",
                      "source":  [
                                     "    docker build -t customsqlimage1 .\r\n"
                                 ],
                      "metadata":  {
                                       "azdata_cell_guid":  "3a5c292b-9ba3-4428-ac97-45d3a583c9ca"
                                   },
                      "outputs":  [

                                  ],
                      "execution_count":  0
                  },
                  {
                      "cell_type":  "markdown",
                      "source":  [
                                     "\r\n",
                                     "![](../images/4.BuildingACustomImage/CustomImageFromScratch/1.BuildImage.png)\r\n",
                                     "Once that\u0027s complete we can check the image is available: -\r\n",
                                     "\r\n"
                                 ],
                      "metadata":  {
                                       "azdata_cell_guid":  "48ad5ea8-4313-464d-b42e-f3d993f167b8"
                                   }
                  },
                  {
                      "cell_type":  "code",
                      "source":  [
                                     "    docker image ls\r\n"
                                 ],
                      "metadata":  {
                                       "azdata_cell_guid":  "d7d2070f-e3d4-4e0f-a88e-7822c01412d6"
                                   },
                      "outputs":  [

                                  ],
                      "execution_count":  0
                  },
                  {
                      "cell_type":  "markdown",
                      "source":  [
                                     "\r\n",
                                     "![](../images/4.BuildingACustomImage/CustomImageFromScratch/2.ConfirmImage.png)\r\n",
                                     "Now we can spin up a container from the image: -\r\n",
                                     "\r\n"
                                 ],
                      "metadata":  {
                                       "azdata_cell_guid":  "4f9d7aee-d4b8-4b15-a5ae-31c73247c8e5"
                                   }
                  },
                  {
                      "cell_type":  "code",
                      "source":  [
                                     "    docker container run -d `\r\n",
                                     "    -p 15789:1433 `\r\n",
                                     "    --env ACCEPT_EULA=Y `\r\n",
                                     "    --env MSSQL_SA_PASSWORD=Testing1122 `\r\n",
                                     "    --name sqlcontainer1 `\r\n",
                                     "    customsqlimage1\r\n"
                                 ],
                      "metadata":  {
                                       "azdata_cell_guid":  "291c4f52-d3a8-4710-9a8e-7800434e2eac"
                                   },
                      "outputs":  [

                                  ],
                      "execution_count":  0
                  },
                  {
                      "cell_type":  "markdown",
                      "source":  [
                                     "\r\n",
                                     "![](../images/4.BuildingACustomImage/CustomImageFromScratch/3.RunAContainer.png)\r\n",
                                     "And confirm that the container is running: -\r\n",
                                     "\r\n"
                                 ],
                      "metadata":  {
                                       "azdata_cell_guid":  "e86f42b7-63aa-4cf1-8851-7bfc2fdf024c"
                                   }
                  },
                  {
                      "cell_type":  "code",
                      "source":  [
                                     "    docker container ls -a\r\n"
                                 ],
                      "metadata":  {
                                       "azdata_cell_guid":  "1872d5ca-4e36-4579-8095-9d6141fff89c"
                                   },
                      "outputs":  [

                                  ],
                      "execution_count":  0
                  },
                  {
                      "cell_type":  "markdown",
                      "source":  [
                                     "\r\n",
                                     "![](../images/4.BuildingACustomImage/CustomImageFromScratch/4.ConfirmContainerRunning.png)\r\n",
                                     "Finally, check that we can connect to SQL within the container: -\r\n",
                                     "\r\n"
                                 ],
                      "metadata":  {
                                       "azdata_cell_guid":  "c3327e9c-8a08-43ae-9e2d-69c5c48eac74"
                                   }
                  },
                  {
                      "cell_type":  "code",
                      "source":  [
                                     "    mssql-cli -S localhost,15789 -U sa -P Testing1122 -Q \"SELECT @@VERSION AS [Version];\"\r\n"
                                 ],
                      "metadata":  {
                                       "azdata_cell_guid":  "0d2ef113-1eef-4511-8353-fc7aec1336dc"
                                   },
                      "outputs":  [

                                  ],
                      "execution_count":  0
                  }
              ]
}
