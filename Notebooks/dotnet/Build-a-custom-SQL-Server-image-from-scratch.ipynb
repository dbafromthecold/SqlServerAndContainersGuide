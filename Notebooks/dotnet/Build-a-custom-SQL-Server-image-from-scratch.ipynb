{
    "metadata":  {
                     "kernelspec":  {
                                        "name":  ".net-powershell",
                                        "language":  "PowerShell",
                                        "display_name":  ".NET (PowerShell)"
                                    }
                 },
    "language_info":  {
                          "name":  "PowerShell",
                          "version":  "7.0",
                          "pygments_lexer":  "powershell",
                          "mimetype":  "text/x-powershell",
                          "file_extension":  ".ps1"
                      },
    "nbformat_minor":  4,
    "nbformat":  4,
    "cells":  [
                  {
                      "cell_type":  "markdown",
                      "source":  [
                                     "\r\n",
                                     "In a previous wiki we built a [custom SQL Server docker image from the SQL 2019 CU5 image](https://github.com/dbafromthecold/SqlServerAndContainersGuide/wiki/Building-a-custom-image) in order to grant permissions to custom directories.\r\n",
                                     "In this wiki we\u0027ll go through how to build a custom SQL image from \"scratch\". Ok, not exactly _scratch_, what we\u0027re going to do is start off with the Ubuntu 18.04 image and install SQL on it.\r\n",
                                     "Here is the dockerfile: -\r\n",
                                     "\r\n"
                                 ],
                      "metadata":  {
                                       "azdata_cell_guid":  "2dfb3693-33e6-4ef0-9351-619fbe8326dc"
                                   }
                  },
                  {
                      "cell_type":  "code",
                      "source":  [
                                     "    FROM ubuntu:18.04\r\n",
                                     "     \r\n",
                                     "    RUN useradd -u 10001 mssql\r\n",
                                     "     \r\n",
                                     "    RUN apt-get update \u0026\u0026 apt-get install -y wget software-properties-common apt-transport-https\r\n",
                                     "     \r\n",
                                     "    RUN wget -qO- https://packages.microsoft.com/keys/microsoft.asc | apt-key add -\r\n",
                                     "     \r\n",
                                     "    RUN add-apt-repository \"$(wget -qO- https://packages.microsoft.com/config/ubuntu/18.04/mssql-server-2019.list)\"\r\n",
                                     "     \r\n",
                                     "    RUN apt-get update \u0026\u0026 apt-get install -y mssql-server\r\n",
                                     "     \r\n",
                                     "    RUN chown -R mssql:mssql /var/opt/mssql\r\n",
                                     "         \r\n",
                                     "    USER mssql\r\n",
                                     "    \r\n",
                                     "    CMD /opt/mssql/bin/sqlservr\r\n"
                                 ],
                      "metadata":  {
                                       "azdata_cell_guid":  "2e4552f9-ffa3-4a09-b36d-8a320a0d13bf"
                                   },
                      "outputs":  [

                                  ],
                      "execution_count":  0
                  },
                  {
                      "cell_type":  "markdown",
                      "source":  [
                                     "\r\n",
                                     "Let\u0027s go over each step in the dockerfile: -\r\n",
                                     "1. Building from the Ubuntu 18.04 image\r\n",
                                     "2. Creating the mssql user with ID 10001\r\n",
                                     "3. Installing required packages\r\n",
                                     "4. Import the Microsoft public repository GPG keys\r\n",
                                     "5. Adding the SQL Server 2019 repository\r\n",
                                     "6. Installing SQL Server\r\n",
                                     "7. Setting the owner of the mssql directory to the mssql user\r\n",
                                     "8. Switching to the mssql user from root\r\n",
                                     "9. Starting SQL Server\r\n",
                                     "Ok, now we can build the image: -\r\n",
                                     "\r\n"
                                 ],
                      "metadata":  {
                                       "azdata_cell_guid":  "f326346d-14e8-4bef-b247-43f3404cf227"
                                   }
                  },
                  {
                      "cell_type":  "code",
                      "source":  [
                                     "    docker build -t customsqlimage1 .\r\n"
                                 ],
                      "metadata":  {
                                       "azdata_cell_guid":  "60a284f3-44fc-470b-94ba-a9b5f72cdfb8"
                                   },
                      "outputs":  [

                                  ],
                      "execution_count":  0
                  },
                  {
                      "cell_type":  "markdown",
                      "source":  [
                                     "\r\n",
                                     "![](../images/4.BuildingACustomImage/CustomImageFromScratch/1.BuildImage.png)\r\n",
                                     "Once that\u0027s complete we can check the image is available: -\r\n",
                                     "\r\n"
                                 ],
                      "metadata":  {
                                       "azdata_cell_guid":  "967a590a-26c5-41c4-b01b-2151ec4f1b75"
                                   }
                  },
                  {
                      "cell_type":  "code",
                      "source":  [
                                     "    docker image ls\r\n"
                                 ],
                      "metadata":  {
                                       "azdata_cell_guid":  "d5b1706c-d230-472e-87bc-7c81f3a7153d"
                                   },
                      "outputs":  [

                                  ],
                      "execution_count":  0
                  },
                  {
                      "cell_type":  "markdown",
                      "source":  [
                                     "\r\n",
                                     "![](../images/4.BuildingACustomImage/CustomImageFromScratch/2.ConfirmImage.png)\r\n",
                                     "Now we can spin up a container from the image: -\r\n",
                                     "\r\n"
                                 ],
                      "metadata":  {
                                       "azdata_cell_guid":  "1b2e4277-a647-4d0b-81d8-213829f05e84"
                                   }
                  },
                  {
                      "cell_type":  "code",
                      "source":  [
                                     "    docker container run -d `\r\n",
                                     "    -p 15789:1433 `\r\n",
                                     "    --env ACCEPT_EULA=Y `\r\n",
                                     "    --env MSSQL_SA_PASSWORD=Testing1122 `\r\n",
                                     "    --name sqlcontainer1 `\r\n",
                                     "    customsqlimage1\r\n"
                                 ],
                      "metadata":  {
                                       "azdata_cell_guid":  "8946aa2a-6658-4d86-be55-88d6f8a95706"
                                   },
                      "outputs":  [

                                  ],
                      "execution_count":  0
                  },
                  {
                      "cell_type":  "markdown",
                      "source":  [
                                     "\r\n",
                                     "![](../images/4.BuildingACustomImage/CustomImageFromScratch/3.RunAContainer.png)\r\n",
                                     "And confirm that the container is running: -\r\n",
                                     "\r\n"
                                 ],
                      "metadata":  {
                                       "azdata_cell_guid":  "fd4ca79c-5b12-41be-8041-d28062b918a5"
                                   }
                  },
                  {
                      "cell_type":  "code",
                      "source":  [
                                     "    docker container ls -a\r\n"
                                 ],
                      "metadata":  {
                                       "azdata_cell_guid":  "a5314816-150e-4f76-bfc1-7c3be5f7d08b"
                                   },
                      "outputs":  [

                                  ],
                      "execution_count":  0
                  },
                  {
                      "cell_type":  "markdown",
                      "source":  [
                                     "\r\n",
                                     "![](../images/4.BuildingACustomImage/CustomImageFromScratch/4.ConfirmContainerRunning.png)\r\n",
                                     "Finally, check that we can connect to SQL within the container: -\r\n",
                                     "\r\n"
                                 ],
                      "metadata":  {
                                       "azdata_cell_guid":  "dbfdfcb0-a3c6-4db1-b3ec-7d3322b28c60"
                                   }
                  },
                  {
                      "cell_type":  "code",
                      "source":  [
                                     "    mssql-cli -S localhost,15789 -U sa -P Testing1122 -Q \"SELECT @@VERSION AS [Version];\"\r\n"
                                 ],
                      "metadata":  {
                                       "azdata_cell_guid":  "2b1f7268-39e4-42cd-aa83-a799ddd4267f"
                                   },
                      "outputs":  [

                                  ],
                      "execution_count":  0
                  },
                  {
                      "cell_type":  "markdown",
                      "source":  [
                                     "\r\n",
                                     "![](../images/4.BuildingACustomImage/CustomImageFromScratch/5.ConnectToSql.png)\r\n",
                                     "And that\u0027s us connected to SQL running in a container that was built from our custom image!\r\n"
                                 ],
                      "metadata":  {
                                       "azdata_cell_guid":  "6fcac6af-467d-422b-a2f1-d2788f15fbb0"
                                   }
                  }
              ]
}
