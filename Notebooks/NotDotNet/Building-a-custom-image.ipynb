{
    "metadata":  {
                     "kernelspec":  {
                                        "name":  "powershell",
                                        "display_name":  "PowerShell"
                                    }
                 },
    "language_info":  {
                          "name":  "powershell",
                          "version":  "",
                          "codemirror_mode":  "shell",
                          "mimetype":  "text/x-sh",
                          "file_extension":  ".ps1"
                      },
    "nbformat_minor":  2,
    "nbformat":  4,
    "cells":  [
                  {
                      "cell_type":  "markdown",
                      "source":  [
                                     "\r\n",
                                     "In the [Persisting Data using Named Volumes](https://github.com/dbafromthecold/SqlServerAndContainersGuide/wiki/Persisting-data-using-named-volumes) section of this wiki we used docker named volumes to persist databases from one container to another but we had a manual step to perform before we could create a database in a custom location: -\r\n",
                                     "\r\n"
                                 ],
                      "metadata":  {
                                       "azdata_cell_guid":  "c6125084-c670-4ef0-8b63-391f2e1a0e33"
                                   }
                  },
                  {
                      "cell_type":  "code",
                      "source":  [
                                     "    docker exec -u 0 testcontainer8 bash -c \"chown -R mssql /var/opt/sqlserver\"\r\n"
                                 ],
                      "metadata":  {
                                       "azdata_cell_guid":  "b6138ec3-f0c3-4869-a97b-4f78da631d72"
                                   },
                      "outputs":  [

                                  ],
                      "execution_count":  0
                  },
                  {
                      "cell_type":  "markdown",
                      "source":  [
                                     "\r\n",
                                     "We had to do this as SQL Server 2019 does not run as root in a container, it runs as the user _**mssql**_ and as such does not have access to that custom location.\r\n",
                                     "So let\u0027s build a new container image that already has granted the _**mssql**_ user access to _**/var/opt/sqlserver**_. To do this we use a _**dockerfile**_, which is just a file on our docker host that contains some instructions for the Docker Engine: -\r\n",
                                     "\r\n"
                                 ],
                      "metadata":  {
                                       "azdata_cell_guid":  "d01d5c54-f3cd-4c6c-8c13-cb2375eb9ab5"
                                   }
                  },
                  {
                      "cell_type":  "code",
                      "source":  [
                                     "    FROM mcr.microsoft.com/mssql/server:2019-CU5-ubuntu-18.04\r\n",
                                     "          \r\n",
                                     "    USER root\r\n",
                                     "        \r\n",
                                     "    RUN mkdir /var/opt/sqlserver\r\n",
                                     "        \r\n",
                                     "    RUN chown -R mssql /var/opt/sqlserver\r\n",
                                     "            \r\n",
                                     "    ENV MSSQL_BACKUP_DIR=\"/var/opt/sqlserver\"\r\n",
                                     "    ENV MSSQL_DATA_DIR=\"/var/opt/sqlserver\"\r\n",
                                     "    ENV MSSQL_LOG_DIR=\"/var/opt/sqlserver\"\r\n",
                                     "        \r\n",
                                     "    USER mssql\r\n",
                                     "        \r\n",
                                     "    CMD /opt/mssql/bin/sqlservr\r\n"
                                 ],
                      "metadata":  {
                                       "azdata_cell_guid":  "c07fc21c-3253-4fb8-b02f-308745723bff"
                                   },
                      "outputs":  [

                                  ],
                      "execution_count":  0
                  },
                  {
                      "cell_type":  "markdown",
                      "source":  [
                                     "\r\n",
                                     "Here\u0027s what each step in the _**dockerfile**_ does: -\r\n",
                                     "1. We start from the SQL Server 2019 CU5 Ubuntu 18.04 image. So our custom image will be based on this\r\n",
                                     "2. Make sure that we\u0027re running the following commands as the root user\r\n",
                                     "3. Create the /var/opt/sqlserver location within the container\r\n",
                                     "4. Change the owner of the /var/opt/sqlserver folder to the mssql user\r\n",
                                     "5. The next three lines use environment variables to set the default data/log/backup locations to the /var/opt/sqlserver folder\r\n",
                                     "6. Switch to the mssql user\r\n",
                                     "7. Start SQL Server\r\n",
                                     "So let\u0027s go ahead and build our custom image: -\r\n",
                                     "\r\n"
                                 ],
                      "metadata":  {
                                       "azdata_cell_guid":  "e1d9b8d7-731b-4428-8454-471c2c26cfee"
                                   }
                  },
                  {
                      "cell_type":  "code",
                      "source":  [
                                     "    docker image build -t sqlimage1 .\r\n"
                                 ],
                      "metadata":  {
                                       "azdata_cell_guid":  "3911f0aa-a6e8-4c70-b107-89eb3918a75a"
                                   },
                      "outputs":  [

                                  ],
                      "execution_count":  0
                  },
                  {
                      "cell_type":  "markdown",
                      "source":  [
                                     "\r\n",
                                     "![](../images/4.BuildingACustomImage/CustomImage/1.docker_build.png)\r\n",
                                     "Note the \".\" at the end. This is saying that the dockerfile is in the current location that I\u0027m at in my terminal. You can specify a filepath here.\r\n",
                                     "Let the command complete and then we can check our local images: -\r\n",
                                     "\r\n"
                                 ],
                      "metadata":  {
                                       "azdata_cell_guid":  "c364f86c-34e7-4270-9d95-86a50f2fa2df"
                                   }
                  },
                  {
                      "cell_type":  "code",
                      "source":  [
                                     "    docker image ls\r\n"
                                 ],
                      "metadata":  {
                                       "azdata_cell_guid":  "026025cd-f10f-47d8-ad94-8717bc06927b"
                                   },
                      "outputs":  [

                                  ],
                      "execution_count":  0
                  },
                  {
                      "cell_type":  "markdown",
                      "source":  [
                                     "\r\n",
                                     "![](../images/4.BuildingACustomImage/CustomImage/2.docker_image_ls.png)\r\n",
                                     "Cool! Let\u0027s go ahead and run a container from that image: -\r\n",
                                     "\r\n"
                                 ],
                      "metadata":  {
                                       "azdata_cell_guid":  "f71050b3-0253-46d2-b123-9a642c943420"
                                   }
                  },
                  {
                      "cell_type":  "code",
                      "source":  [
                                     "    docker container run -d `\r\n",
                                     "    -p 15789:1433 `\r\n",
                                     "    --env ACCEPT_EULA=Y `\r\n",
                                     "    --env MSSQL_SA_PASSWORD=Testing1122 `\r\n",
                                     "    --name sqlcontainer1 `\r\n",
                                     "    sqlimage1\r\n"
                                 ],
                      "metadata":  {
                                       "azdata_cell_guid":  "3bc1f044-d1fd-45b8-849e-48807a35e8fb"
                                   },
                      "outputs":  [

                                  ],
                      "execution_count":  0
                  },
                  {
                      "cell_type":  "markdown",
                      "source":  [
                                     "\r\n",
                                     "![](../images/4.BuildingACustomImage/CustomImage/3.docker_container_run.png)\r\n",
                                     "Confirm that the container is running: -\r\n",
                                     "\r\n"
                                 ],
                      "metadata":  {
                                       "azdata_cell_guid":  "2f86ed65-8926-497b-888f-94fdaad64ec1"
                                   }
                  },
                  {
                      "cell_type":  "code",
                      "source":  [
                                     "    docker container ls -a\r\n"
                                 ],
                      "metadata":  {
                                       "azdata_cell_guid":  "13ab15a6-482c-4738-80ed-ab5f37e33c44"
                                   },
                      "outputs":  [

                                  ],
                      "execution_count":  0
                  },
                  {
                      "cell_type":  "markdown",
                      "source":  [
                                     "\r\n",
                                     "![](../images/4.BuildingACustomImage/CustomImage/4.docker_container_ls.png)\r\n",
                                     "And let\u0027s check the folder: -\r\n",
                                     "\r\n"
                                 ],
                      "metadata":  {
                                       "azdata_cell_guid":  "e53301d7-1ddf-409e-bb6b-ed7c9826c34e"
                                   }
                  },
                  {
                      "cell_type":  "code",
                      "source":  [
                                     "    docker exec sqlcontainer1 /bin/bash -c \"ls -al /var/opt/\"\r\n"
                                 ],
                      "metadata":  {
                                       "azdata_cell_guid":  "392acd74-521b-4d12-b820-0b848bd4d159"
                                   },
                      "outputs":  [

                                  ],
                      "execution_count":  0
                  },
                  {
                      "cell_type":  "markdown",
                      "source":  [
                                     "\r\n",
                                     "![](../images/4.BuildingACustomImage/CustomImage/5.docker_exec.png)\r\n",
                                     "The mssql user is the owner! Ok that means we can run: -\r\n",
                                     "\r\n"
                                 ],
                      "metadata":  {
                                       "azdata_cell_guid":  "2e6c653f-5590-4b44-98df-bdd686ec622b"
                                   }
                  },
                  {
                      "cell_type":  "code",
                      "source":  [
                                     "    mssql-cli -S localhost,15789 -U sa -P Testing1122 -Q \"CREATE DATABASE [testdatabase];\"\r\n"
                                 ],
                      "metadata":  {
                                       "azdata_cell_guid":  "f3a0b3e6-d869-46a1-a545-365445c7d8ce"
                                   },
                      "outputs":  [

                                  ],
                      "execution_count":  0
                  },
                  {
                      "cell_type":  "markdown",
                      "source":  [
                                     "\r\n",
                                     "![](../images/4.BuildingACustomImage/CustomImage/6.mssql_cli_create_database.png)\r\n",
                                     "No need to manually go in and change the owner! Our database is created!\r\n",
                                     "We can check it\u0027s there by running: -\r\n",
                                     "\r\n"
                                 ],
                      "metadata":  {
                                       "azdata_cell_guid":  "122c5373-c257-46cf-9d97-4391761ad703"
                                   }
                  },
                  {
                      "cell_type":  "code",
                      "source":  [
                                     "    mssql-cli -S localhost,15789 -U sa -P Testing1122 -Q \"SELECT [name] FROM sys.databases;\"\r\n"
                                 ],
                      "metadata":  {
                                       "azdata_cell_guid":  "4c4498c5-12ee-4862-8c91-247d627975d9"
                                   },
                      "outputs":  [

                                  ],
                      "execution_count":  0
                  },
                  {
                      "cell_type":  "markdown",
                      "source":  [
                                     "\r\n",
                                     "![](../images/4.BuildingACustomImage/CustomImage/7.mssql_cli_get_databases.png)\r\n",
                                     "And confirm it\u0027s file locations: -\r\n",
                                     "\r\n"
                                 ],
                      "metadata":  {
                                       "azdata_cell_guid":  "3412249a-cc0b-4013-9f63-0ae2afd106a8"
                                   }
                  },
                  {
                      "cell_type":  "code",
                      "source":  [
                                     "    mssql-cli -S localhost,15789 -U sa -P Testing1122 -Q \"USE [testdatabase]; EXEC sp_helpfile;\"\r\n"
                                 ],
                      "metadata":  {
                                       "azdata_cell_guid":  "2dd30235-7fe3-45fe-b9b8-0456de001122"
                                   },
                      "outputs":  [

                                  ],
                      "execution_count":  0
                  }
              ]
}
