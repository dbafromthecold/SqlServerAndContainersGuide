{
    "metadata":  {
                     "kernelspec":  {
                                        "name":  "powershell",
                                        "display_name":  "PowerShell"
                                    }
                 },
    "language_info":  {
                          "name":  "powershell",
                          "version":  "",
                          "codemirror_mode":  "shell",
                          "mimetype":  "text/x-sh",
                          "file_extension":  ".ps1"
                      },
    "nbformat_minor":  2,
    "nbformat":  4,
    "cells":  [
                  {
                      "cell_type":  "markdown",
                      "source":  [
                                     "\r\n",
                                     "In the [Persisting Data using Named Volumes](https://github.com/dbafromthecold/SqlServerAndContainersGuide/wiki/Persisting-data-using-named-volumes) section of this wiki we used docker named volumes to persist databases from one container to another but we had a manual step to perform before we could create a database in a custom location: -\r\n",
                                     "\r\n"
                                 ],
                      "metadata":  {
                                       "azdata_cell_guid":  "9efd28f6-1964-4434-8730-88be6848ac38"
                                   }
                  },
                  {
                      "cell_type":  "code",
                      "source":  [
                                     "    docker exec -u 0 testcontainer8 bash -c \"chown -R mssql /var/opt/sqlserver\"\r\n"
                                 ],
                      "metadata":  {
                                       "azdata_cell_guid":  "dd2e1f69-9320-4e61-9341-823e898e88b8"
                                   },
                      "outputs":  [

                                  ],
                      "execution_count":  0
                  },
                  {
                      "cell_type":  "markdown",
                      "source":  [
                                     "\r\n",
                                     "We had to do this as SQL Server 2019 does not run as root in a container, it runs as the user _**mssql**_ and as such does not have access to that custom location.\r\n",
                                     "So let\u0027s build a new container image that already has granted the _**mssql**_ user access to _**/var/opt/sqlserver**_. To do this we use a _**dockerfile**_, which is just a file on our docker host that contains some instructions for the Docker Engine: -\r\n",
                                     "\r\n"
                                 ],
                      "metadata":  {
                                       "azdata_cell_guid":  "4effbdf8-ad38-4a9f-a9a6-af81d2e18298"
                                   }
                  },
                  {
                      "cell_type":  "code",
                      "source":  [
                                     "    FROM mcr.microsoft.com/mssql/server:2019-CU5-ubuntu-18.04\r\n",
                                     "          \r\n",
                                     "    USER root\r\n",
                                     "        \r\n",
                                     "    RUN mkdir /var/opt/sqlserver\r\n",
                                     "        \r\n",
                                     "    RUN chown -R mssql /var/opt/sqlserver\r\n",
                                     "            \r\n",
                                     "    ENV MSSQL_BACKUP_DIR=\"/var/opt/sqlserver\"\r\n",
                                     "    ENV MSSQL_DATA_DIR=\"/var/opt/sqlserver\"\r\n",
                                     "    ENV MSSQL_LOG_DIR=\"/var/opt/sqlserver\"\r\n",
                                     "        \r\n",
                                     "    USER mssql\r\n",
                                     "        \r\n",
                                     "    CMD /opt/mssql/bin/sqlservr\r\n"
                                 ],
                      "metadata":  {
                                       "azdata_cell_guid":  "b78b1eea-0f78-4291-929c-368695c414ec"
                                   },
                      "outputs":  [

                                  ],
                      "execution_count":  0
                  },
                  {
                      "cell_type":  "markdown",
                      "source":  [
                                     "\r\n",
                                     "Here\u0027s what each step in the _**dockerfile**_ does: -\r\n",
                                     "1. We start from the SQL Server 2019 CU5 Ubuntu 18.04 image. So our custom image will be based on this\r\n",
                                     "2. Make sure that we\u0027re running the following commands as the root user\r\n",
                                     "3. Create the /var/opt/sqlserver location within the container\r\n",
                                     "4. Change the owner of the /var/opt/sqlserver folder to the mssql user\r\n",
                                     "5. The next three lines use environment variables to set the default data/log/backup locations to the /var/opt/sqlserver folder\r\n",
                                     "6. Switch to the mssql user\r\n",
                                     "7. Start SQL Server\r\n",
                                     "So let\u0027s go ahead and build our custom image: -\r\n",
                                     "\r\n"
                                 ],
                      "metadata":  {
                                       "azdata_cell_guid":  "23e54a6f-0d52-4905-b872-5d173a35605d"
                                   }
                  },
                  {
                      "cell_type":  "code",
                      "source":  [
                                     "    docker image build -t sqlimage1 .\r\n"
                                 ],
                      "metadata":  {
                                       "azdata_cell_guid":  "e9a6d14b-ad8d-4a9f-b8b0-7287d8bb69c7"
                                   },
                      "outputs":  [

                                  ],
                      "execution_count":  0
                  },
                  {
                      "cell_type":  "markdown",
                      "source":  [
                                     "\r\n",
                                     "![](../images/4.BuildingACustomImage/CustomImage/1.docker_build.png)\r\n",
                                     "Note the \".\" at the end. This is saying that the dockerfile is in the current location that I\u0027m at in my terminal. You can specify a filepath here.\r\n",
                                     "Let the command complete and then we can check our local images: -\r\n",
                                     "\r\n"
                                 ],
                      "metadata":  {
                                       "azdata_cell_guid":  "be59771d-58b9-4be7-afca-1a667e3c3970"
                                   }
                  },
                  {
                      "cell_type":  "code",
                      "source":  [
                                     "    docker image ls\r\n"
                                 ],
                      "metadata":  {
                                       "azdata_cell_guid":  "bff1e8c2-0fd9-4cb5-bbfb-e6a1c7e63685"
                                   },
                      "outputs":  [

                                  ],
                      "execution_count":  0
                  },
                  {
                      "cell_type":  "markdown",
                      "source":  [
                                     "\r\n",
                                     "![](../images/4.BuildingACustomImage/CustomImage/2.docker_image_ls.png)\r\n",
                                     "Cool! Let\u0027s go ahead and run a container from that image: -\r\n",
                                     "\r\n"
                                 ],
                      "metadata":  {
                                       "azdata_cell_guid":  "23d42b3c-dbd6-4d6e-82fe-1d045f4ebb8a"
                                   }
                  },
                  {
                      "cell_type":  "code",
                      "source":  [
                                     "    docker container run -d `\r\n",
                                     "    -p 15789:1433 `\r\n",
                                     "    --env ACCEPT_EULA=Y `\r\n",
                                     "    --env MSSQL_SA_PASSWORD=Testing1122 `\r\n",
                                     "    --name sqlcontainer1 `\r\n",
                                     "    sqlimage1\r\n"
                                 ],
                      "metadata":  {
                                       "azdata_cell_guid":  "b22da447-532a-4c3b-8e85-d10049b95e47"
                                   },
                      "outputs":  [

                                  ],
                      "execution_count":  0
                  },
                  {
                      "cell_type":  "markdown",
                      "source":  [
                                     "\r\n",
                                     "![](../images/4.BuildingACustomImage/CustomImage/3.docker_container_run.png)\r\n",
                                     "Confirm that the container is running: -\r\n",
                                     "\r\n"
                                 ],
                      "metadata":  {
                                       "azdata_cell_guid":  "60aba114-3731-4df2-8799-9605a2682a5a"
                                   }
                  },
                  {
                      "cell_type":  "code",
                      "source":  [
                                     "    docker container ls -a\r\n"
                                 ],
                      "metadata":  {
                                       "azdata_cell_guid":  "abca8ff8-c578-4c5e-9ecd-d1a9ffd5e676"
                                   },
                      "outputs":  [

                                  ],
                      "execution_count":  0
                  },
                  {
                      "cell_type":  "markdown",
                      "source":  [
                                     "\r\n",
                                     "![](../images/4.BuildingACustomImage/CustomImage/4.docker_container_ls.png)\r\n",
                                     "And let\u0027s check the folder: -\r\n",
                                     "\r\n"
                                 ],
                      "metadata":  {
                                       "azdata_cell_guid":  "b8143df8-9a9d-4bba-a83c-fa1d9c6a67f4"
                                   }
                  },
                  {
                      "cell_type":  "code",
                      "source":  [
                                     "    docker exec sqlcontainer1 /bin/bash -c \"ls -al /var/opt/\"\r\n"
                                 ],
                      "metadata":  {
                                       "azdata_cell_guid":  "4a203063-efe8-4a58-91c4-4501c184b937"
                                   },
                      "outputs":  [

                                  ],
                      "execution_count":  0
                  },
                  {
                      "cell_type":  "markdown",
                      "source":  [
                                     "\r\n",
                                     "![](../images/4.BuildingACustomImage/CustomImage/5.docker_exec.png)\r\n",
                                     "The mssql user is the owner! Ok that means we can run: -\r\n",
                                     "\r\n"
                                 ],
                      "metadata":  {
                                       "azdata_cell_guid":  "08c6c807-58c5-4f93-b3fa-6dc445c262c4"
                                   }
                  },
                  {
                      "cell_type":  "code",
                      "source":  [
                                     "    mssql-cli -S localhost,15789 -U sa -P Testing1122 -Q \"CREATE DATABASE [testdatabase];\"\r\n"
                                 ],
                      "metadata":  {
                                       "azdata_cell_guid":  "ded6d3f0-ffb5-44a1-8a4c-cf8204d4be7b"
                                   },
                      "outputs":  [

                                  ],
                      "execution_count":  0
                  },
                  {
                      "cell_type":  "markdown",
                      "source":  [
                                     "\r\n",
                                     "![](../images/4.BuildingACustomImage/CustomImage/6.mssql_cli_create_database.png)\r\n",
                                     "No need to manually go in and change the owner! Our database is created!\r\n",
                                     "We can check it\u0027s there by running: -\r\n",
                                     "\r\n"
                                 ],
                      "metadata":  {
                                       "azdata_cell_guid":  "4b0bfa5d-9221-4877-b0b5-1c56f2ae7a8a"
                                   }
                  },
                  {
                      "cell_type":  "code",
                      "source":  [
                                     "    mssql-cli -S localhost,15789 -U sa -P Testing1122 -Q \"SELECT [name] FROM sys.databases;\"\r\n"
                                 ],
                      "metadata":  {
                                       "azdata_cell_guid":  "89e35543-a82b-404e-bc09-8275156c17e7"
                                   },
                      "outputs":  [

                                  ],
                      "execution_count":  0
                  },
                  {
                      "cell_type":  "markdown",
                      "source":  [
                                     "\r\n",
                                     "![](../images/4.BuildingACustomImage/CustomImage/7.mssql_cli_get_databases.png)\r\n",
                                     "And confirm it\u0027s file locations: -\r\n",
                                     "\r\n"
                                 ],
                      "metadata":  {
                                       "azdata_cell_guid":  "92c317c5-b755-4625-86f7-09a40ed3acd2"
                                   }
                  },
                  {
                      "cell_type":  "code",
                      "source":  [
                                     "    mssql-cli -S localhost,15789 -U sa -P Testing1122 -Q \"USE [testdatabase]; EXEC sp_helpfile;\"\r\n"
                                 ],
                      "metadata":  {
                                       "azdata_cell_guid":  "62b3eb8a-a126-40d5-9a11-32631145b1fa"
                                   },
                      "outputs":  [

                                  ],
                      "execution_count":  0
                  },
                  {
                      "cell_type":  "markdown",
                      "source":  [
                                     "\r\n",
                                     "![](../images/4.BuildingACustomImage/CustomImage/8.mssql_cli_get_files.png)\r\n",
                                     "So that\u0027s how to use a custom image to allow us to create databases in a custom location for SQL Server 2019 without having to manually grant the mssql user access to the folder.\r\n"
                                 ],
                      "metadata":  {
                                       "azdata_cell_guid":  "199004e8-0593-438d-a16e-02d0526d08d1"
                                   }
                  }
              ]
}
