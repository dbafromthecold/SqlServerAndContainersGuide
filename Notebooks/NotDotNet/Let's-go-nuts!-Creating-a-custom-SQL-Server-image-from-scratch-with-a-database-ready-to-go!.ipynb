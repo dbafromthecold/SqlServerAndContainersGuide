{
    "metadata": {
        "kernelspec": {
            "name": "powershell",
            "display_name": "PowerShell",
            "language": "powershell"
        },
        "language_info": {
            "name": "powershell",
            "codemirror_mode": "shell",
            "mimetype": "text/x-sh",
            "file_extension": ".ps1"
        }
    },
    "nbformat_minor": 2,
    "nbformat": 4,
    "cells": [
        {
            "cell_type": "markdown",
            "source": [
                "\r\n",
                "Ok, so let's put everything we've gone through in the last few wiki pages and build a custom SQL Server image, built from scratch, with a database ready to go!\r\n",
                "Here's the dockerfile: -    \r\n"
            ],
            "metadata": {
                "azdata_cell_guid": "b7ebdbdb-a199-4e1f-9036-25543ada2ac3"
            }
        },
        {
            "cell_type": "code",
            "source": [
                "    FROM ubuntu:18.04\r\n",
                "    \r\n",
                "    LABEL maintainer=\"dbafromthecold@gmail.com\"\r\n",
                "\r\n",
                "    RUN useradd -u 10001 mssql\r\n",
                "\r\n",
                "    RUN apt-get update && apt-get install -y wget software-properties-common apt-transport-https\r\n",
                "    RUN wget -qO- https://packages.microsoft.com/keys/microsoft.asc | apt-key add -\r\n",
                "    RUN add-apt-repository \"$(wget -qO- https://packages.microsoft.com/config/ubuntu/18.04/mssql-server-2019.list)\"\r\n",
                "    RUN apt-get update && apt-get install -y mssql-server\r\n",
                "    \r\n",
                "    RUN add-apt-repository \"$(wget -qO- https://packages.microsoft.com/config/ubuntu/18.04/prod.list)\"\r\n",
                "    RUN apt-get update\r\n",
                "    RUN ACCEPT_EULA=Y apt-get install -y msodbcsql17 mssql-tools\r\n",
                "    \r\n",
                "    RUN mkdir /var/opt/sqlserver\r\n",
                "    RUN mkdir /var/opt/sqlserver/data\r\n",
                "    RUN mkdir /var/opt/sqlserver/log\r\n",
                "    RUN mkdir /var/opt/sqlserver/backups\r\n",
                "    \r\n",
                "    COPY testdatabase.mdf /var/opt/sqlserver/data\r\n",
                "    COPY testdatabase_log.ldf /var/opt/sqlserver/log\r\n",
                "    COPY attach-db.sh /var/opt/sqlserver\r\n",
                "    \r\n",
                "    RUN chown -R mssql:mssql /var/opt/mssql\r\n",
                "    RUN chown -R mssql:mssql /var/opt/sqlserver\r\n",
                "    \r\n",
                "    RUN chmod +x /var/opt/sqlserver/attach-db.sh\r\n",
                "    \r\n",
                "    ENV ACCEPT_EULA=\"Y\"\r\n",
                "    ENV MSSQL_PID=\"Developer\"\r\n",
                "    ENV MSSQL_AGENT_ENABLED=True\r\n",
                "    ENV MSSQL_DATA_DIR=/var/opt/sqlserver/sqldata\r\n",
                "    ENV MSSQL_LOG_DIR=/var/opt/sqlserver/sqllog\r\n",
                "    ENV MSSQL_BACKUP_DIR=/var/opt/sqlserver/sqlbackups\r\n",
                "    \r\n",
                "    USER mssql\r\n",
                "    \r\n",
                "    CMD /var/opt/sqlserver/attach-db.sh & /opt/mssql/bin/sqlservr\r\n",
                ""
            ],
            "metadata": {
                "azdata_cell_guid": "379c735e-9dfd-47ff-8146-f4c119a3bd1e"
            },
            "outputs": [],
            "execution_count": null
        },
        {
            "cell_type": "markdown",
            "source": [
                "Here's what each step does: -\n",
                "\n",
                "1. Building from the ubuntu:18.04 image\n",
                "2. Adding a label to the metadata of the image, specifying the \"maintainer\" (me)\n",
                "3. Creating the mssql user\n",
                "4. Installing SQL Server\n",
                "5. Installing SQL Server tools (sqlcmd so that we can add the database later)\n",
                "6. Creating custom directories for our database\n",
                "7. Copying the database files and the attach-db.sh script into image\n",
                "8. Changing permissions on our custom directory and the /var/opt/mssql directory (default directory for SQL Server)\n",
                "9. Making the attach-db.sh script executable\n",
                "10. Setting a whole bunch of environment variables (so that we don't have to specify them at container runtime)\n",
                "11. Switching to the mssql user\n",
                "12. Running the attach-db.sh script and then starting SQL Server"
            ],
            "metadata": {
                "azdata_cell_guid": "e5e59a05-2657-44df-bca1-41bc4ae7c966"
            }
        },
        {
            "cell_type": "markdown",
            "source": [
                "Now we can build the image as usual: -"
            ],
            "metadata": {
                "azdata_cell_guid": "e7ee7e67-772b-442e-a4a2-5dc09ba73e30"
            }
        },
        {
            "cell_type": "code",
            "source": [
                "    docker build -t customsqlimage1 .\r\n"
            ],
            "metadata": {
                "azdata_cell_guid": "661cd43a-2c93-4749-99a6-3c67e203f0c8"
            },
            "outputs": [],
            "execution_count": null
        },
        {
            "cell_type": "markdown",
            "source": [
                "\r\n",
                "And then check that the image is there: -\r\n",
                "\r\n"
            ],
            "metadata": {
                "azdata_cell_guid": "8db91206-452f-401e-a315-e422eb4ee75e"
            }
        },
        {
            "cell_type": "code",
            "source": [
                "    docker image ls\r\n"
            ],
            "metadata": {
                "azdata_cell_guid": "a30661ad-752d-46cc-afb3-cce5cab1ea0f"
            },
            "outputs": [],
            "execution_count": null
        },
        {
            "cell_type": "markdown",
            "source": [
                "\r\n",
                "So now we can run a container from that image: -\r\n",
                "\r\n"
            ],
            "metadata": {
                "azdata_cell_guid": "7d5ad440-5540-472a-a0f6-e03ae0ab15cf"
            }
        },
        {
            "cell_type": "code",
            "source": [
                "    docker container run -d `\r\n",
                "    -p 15789:1433 `\r\n",
                "    --env ACCEPT_EULA=Y `\r\n",
                "    --env MSSQL_SA_PASSWORD=Testing1122 `\r\n",
                "    --name sqlcontainer1 `\r\n",
                "    customsqlimage1\r\n"
            ],
            "metadata": {
                "azdata_cell_guid": "7d2cd040-304f-4139-906d-7d7da02fc1e0"
            },
            "outputs": [],
            "execution_count": null
        },
        {
            "cell_type": "markdown",
            "source": [
                "\r\n",
                "Wait for 30 seconds...and our database is there!\r\n",
                "\r\n"
            ],
            "metadata": {
                "azdata_cell_guid": "0abc0466-1a73-4c16-9ab5-1c61c6211691"
            }
        },
        {
            "cell_type": "code",
            "source": [
                "    mssql-cli -S localhost,15789 -U sa -P Testing1122 -Q \"SELECT [name] FROM sys.databases;\"\r\n"
            ],
            "metadata": {
                "azdata_cell_guid": "5403f78a-6905-437d-ba70-ba211b95b827"
            },
            "outputs": [],
            "execution_count": null
        },
        {
            "cell_type": "markdown",
            "source": [
                "So that's a custom SQL Server image, with sqlcmd installed, built from scratch (well, the ubuntu image), a bunch of environment variables set, and a database ready to go!\n",
                "\n",
                "You can do some cool stuff with dockerfiles, eh? :-)<br>"
            ],
            "metadata": {
                "azdata_cell_guid": "2e9c97af-1045-4aa6-8f53-79a525aa88a3"
            }
        }
    ]
}