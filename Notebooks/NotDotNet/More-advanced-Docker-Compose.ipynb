{
    "metadata":  {
                     "kernelspec":  {
                                        "name":  "powershell",
                                        "display_name":  "PowerShell"
                                    }
                 },
    "language_info":  {
                          "name":  "powershell",
                          "version":  "",
                          "codemirror_mode":  "shell",
                          "mimetype":  "text/x-sh",
                          "file_extension":  ".ps1"
                      },
    "nbformat_minor":  2,
    "nbformat":  4,
    "cells":  [
                  {
                      "cell_type":  "markdown",
                      "source":  [
                                     "\r\n",
                                     "In a previous wiki entry we went through a simple docker compose file to easily spin up one SQL Server container.\r\n",
                                     "Here we\u0027ll go through a more advanced setup, using a dockerfile to create a SQL image from scratch and env files to hold our environment variables.\r\n",
                                     "These are the files we\u0027re going to use: -\r\n",
                                     "\r\n"
                                 ],
                      "metadata":  {
                                       "azdata_cell_guid":  "953a524f-54a8-4309-b88f-28d87e3c32e1"
                                   }
                  },
                  {
                      "cell_type":  "code",
                      "source":  [
                                     "    dockerfile\r\n",
                                     "    docker-compose.yaml\r\n",
                                     "    sqlserver.env\r\n",
                                     "    sapassword.env\r\n"
                                 ],
                      "metadata":  {
                                       "azdata_cell_guid":  "29eb0976-49b6-4c82-a9c1-f367ea53a5e8"
                                   },
                      "outputs":  [

                                  ],
                      "execution_count":  0
                  },
                  {
                      "cell_type":  "markdown",
                      "source":  [
                                     "\r\n",
                                     "Let\u0027s have a look at the dockerfile first: -\r\n",
                                     "\r\n"
                                 ],
                      "metadata":  {
                                       "azdata_cell_guid":  "ac17dd4f-1c2a-4952-abfb-6ba980ebe977"
                                   }
                  },
                  {
                      "cell_type":  "code",
                      "source":  [
                                     "    # build from the Ubuntu 18.04 image\r\n",
                                     "    FROM ubuntu:18.04\r\n",
                                     "     \r\n",
                                     "    # create the mssql user\r\n",
                                     "    RUN useradd -u 10001 mssql\r\n",
                                     "     \r\n",
                                     "    # installing SQL Server\r\n",
                                     "    RUN apt-get update \u0026\u0026 apt-get install -y wget software-properties-common apt-transport-https\r\n",
                                     "    RUN wget -qO- https://packages.microsoft.com/keys/microsoft.asc | apt-key add -\r\n",
                                     "    RUN add-apt-repository \"$(wget -qO- https://packages.microsoft.com/config/ubuntu/18.04/mssql-server-2019.list)\"\r\n",
                                     "    RUN apt-get update \u0026\u0026 apt-get install -y mssql-server\r\n",
                                     "     \r\n",
                                     "    # creating directories\r\n",
                                     "    RUN mkdir /var/opt/sqlserver\r\n",
                                     "    RUN mkdir /var/opt/sqlserver/data\r\n",
                                     "    RUN mkdir /var/opt/sqlserver/log\r\n",
                                     "    RUN mkdir /var/opt/sqlserver/backup\r\n",
                                     "     \r\n",
                                     "    # set permissions on directories\r\n",
                                     "    RUN chown -R mssql:mssql /var/opt/sqlserver\r\n",
                                     "    RUN chown -R mssql:mssql /var/opt/mssql\r\n",
                                     "     \r\n",
                                     "    # switching to the mssql user\r\n",
                                     "    USER mssql\r\n",
                                     "     \r\n",
                                     "    # starting SQL Server\r\n",
                                     "    CMD /opt/mssql/bin/sqlservr\r\n"
                                 ],
                      "metadata":  {
                                       "azdata_cell_guid":  "84e3b40d-622c-415b-bd40-b2c2a9080ad5"
                                   },
                      "outputs":  [

                                  ],
                      "execution_count":  0
                  },
                  {
                      "cell_type":  "markdown",
                      "source":  [
                                     "\r\n",
                                     "So this is going to: -\r\n",
                                     "\r\n"
                                 ],
                      "metadata":  {
                                       "azdata_cell_guid":  "cb9488bf-0f87-4ef0-ad7f-2a7634cce1c2"
                                   }
                  },
                  {
                      "cell_type":  "code",
                      "source":  [
                                     "    1. Pull down the Ubuntu 18.04 image and base this new image off it\r\n",
                                     "    2. Create the mssql user\r\n",
                                     "    3. Install SQL Server as you would on Linux\r\n",
                                     "    4. Create the required directories\r\n",
                                     "    5. Change the owner of those directories to the mssql user\r\n",
                                     "    6. Switch over to run the next command as the mssql user\r\n",
                                     "    7. Start SQL Server\r\n"
                                 ],
                      "metadata":  {
                                       "azdata_cell_guid":  "fe42535c-4a2a-44bc-b164-e0769e293f36"
                                   },
                      "outputs":  [

                                  ],
                      "execution_count":  0
                  },
                  {
                      "cell_type":  "markdown",
                      "source":  [
                                     "\r\n",
                                     "Great stuff, we have a dockerfile that\u0027ll create us a custom SQL image. Now let\u0027s have a look at the docker-compose.yaml file: -\r\n",
                                     "\r\n"
                                 ],
                      "metadata":  {
                                       "azdata_cell_guid":  "cc93730a-323d-44e8-9851-1958bddb2e87"
                                   }
                  },
                  {
                      "cell_type":  "code",
                      "source":  [
                                     "    version: \u00273.7\u0027\r\n",
                                     "    services:\r\n",
                                     "        sqlserver1:\r\n",
                                     "            build: \r\n",
                                     "              context: .\r\n",
                                     "              dockerfile: dockerfile\r\n",
                                     "            ports:  \r\n",
                                     "              - \"15789:1433\"\r\n",
                                     "            env_file:\r\n",
                                     "              - sqlserver.env\r\n",
                                     "              - sapassword.env\r\n",
                                     "            volumes: \r\n",
                                     "              - sqlsystem:/var/opt/mssql/\r\n",
                                     "              - sqldata:/var/opt/sqlserver/data\r\n",
                                     "              - sqllog:/var/opt/sqlserver/log\r\n",
                                     "              - sqlbackup:/var/opt/sqlserver/backup\r\n",
                                     "    volumes:\r\n",
                                     "      sqlsystem:\r\n",
                                     "      sqldata:\r\n",
                                     "      sqllog:\r\n",
                                     "      sqlbackup:\r\n"
                                 ],
                      "metadata":  {
                                       "azdata_cell_guid":  "4ac9cf1f-82ee-47cd-a6c3-e76ee1939167"
                                   },
                      "outputs":  [

                                  ],
                      "execution_count":  0
                  },
                  {
                      "cell_type":  "markdown",
                      "source":  [
                                     "\r\n",
                                     "Stepping through this we: –\r\n",
                                     "\r\n"
                                 ],
                      "metadata":  {
                                       "azdata_cell_guid":  "89a072e9-763e-4944-b5d7-5c2ad29f7e66"
                                   }
                  },
                  {
                      "cell_type":  "code",
                      "source":  [
                                     "    1. Define a service called sqlserver1, setting a build context to the current directory and specifying our dockerfile\r\n",
                                     "    2. Set our ports, mapping 15789 on the host to 1433 in the container\r\n",
                                     "    3. Specify our environment variable files\r\n",
                                     "    4. Then set our volumes, matching the directories created in the dockerfile\r\n"
                                 ],
                      "metadata":  {
                                       "azdata_cell_guid":  "922bb9fa-ba77-472d-bdbc-a2cc42683689"
                                   },
                      "outputs":  [

                                  ],
                      "execution_count":  0
                  },
                  {
                      "cell_type":  "markdown",
                      "source":  [
                                     "\r\n",
                                     "Cool! Ok, finally let\u0027s have a look at the env files: -\r\n",
                                     "\r\n"
                                 ],
                      "metadata":  {
                                       "azdata_cell_guid":  "873890f6-765f-430a-8473-ec0294cd4325"
                                   }
                  },
                  {
                      "cell_type":  "code",
                      "source":  [
                                     "    ACCEPT_EULA=Y\r\n",
                                     "    MSSQL_DATA_DIR=/var/opt/sqlserver/data\r\n",
                                     "    MSSQL_LOG_DIR=/var/opt/sqlserver/log\r\n",
                                     "    MSSQL_BACKUP_DIR=/var/opt/sqlserver/backup\r\n"
                                 ],
                      "metadata":  {
                                       "azdata_cell_guid":  "22616396-530a-4130-a87e-f75102ac19b2"
                                   },
                      "outputs":  [

                                  ],
                      "execution_count":  0
                  },
                  {
                      "cell_type":  "markdown",
                      "source":  [
                                     "\r\n",
                                     "And: -\r\n"
                                 ],
                      "metadata":  {
                                       "azdata_cell_guid":  "73590099-cdbf-480c-9514-3a586b98971c"
                                   }
                  },
                  {
                      "cell_type":  "code",
                      "source":  [
                                     "    \r\n",
                                     "    MSSQL_SA_PASSWORD=Testing1122\r\n"
                                 ],
                      "metadata":  {
                                       "azdata_cell_guid":  "b3ce0c7e-6ba0-4045-91f7-56e3d217f9f2"
                                   },
                      "outputs":  [

                                  ],
                      "execution_count":  0
                  },
                  {
                      "cell_type":  "markdown",
                      "source":  [
                                     "\r\n",
                                     "We\u0027ve used a separate file for the SA password so that we could drop it into a .gitignore file to prevent it being pushed to a public git repo.\r\n",
                                     "OK, we have our files...let\u0027s navigate to them in powershell and spin up a container: -\r\n",
                                     "\r\n"
                                 ],
                      "metadata":  {
                                       "azdata_cell_guid":  "a9036b9d-2c46-4b97-b8e5-627fd3c2b12e"
                                   }
                  },
                  {
                      "cell_type":  "code",
                      "source":  [
                                     "    docker-compose up -d\r\n"
                                 ],
                      "metadata":  {
                                       "azdata_cell_guid":  "4fe2ba22-0d42-478d-8e5b-49b09469902c"
                                   },
                      "outputs":  [

                                  ],
                      "execution_count":  0
                  },
                  {
                      "cell_type":  "markdown",
                      "source":  [
                                     "\r\n",
                                     "We can see our custom image being built, our custom network being created, and the named volumes: -\r\n",
                                     "![](../images/6.DockerCompose/Advanced/1.RunComposeUp.png)\r\n",
                                     "_N.B. - I\u0027ve cheated slightly with this screenshot as I built the image in the dockerfile beforehand. That\u0027s why you see **Using cache** under each step._\r\n",
                                     "_When run for the first time, you\u0027ll see the ubuntu 18.04 pulled down and then SQL being installed._\r\n",
                                     "Once that\u0027s completed we can check everything created by running: -\r\n",
                                     "\r\n"
                                 ],
                      "metadata":  {
                                       "azdata_cell_guid":  "3e6bcabe-3e02-42cd-a871-c7c1f513b781"
                                   }
                  },
                  {
                      "cell_type":  "code",
                      "source":  [
                                     "    docker network ls\r\n",
                                     "    docker volume ls\r\n",
                                     "    docker image ls\r\n",
                                     "    docker container ls\r\n"
                                 ],
                      "metadata":  {
                                       "azdata_cell_guid":  "24e9ed86-9d60-49f8-8809-4453416015d3"
                                   },
                      "outputs":  [

                                  ],
                      "execution_count":  0
                  },
                  {
                      "cell_type":  "markdown",
                      "source":  [
                                     "\r\n",
                                     "![](../images/6.DockerCompose/Advanced/2.ObjectsCreated.png)\r\n",
                                     "And now we can connect to SQL using: -\r\n",
                                     "\r\n"
                                 ],
                      "metadata":  {
                                       "azdata_cell_guid":  "3f456e4a-7a57-491d-b6cf-5d02cd931ab0"
                                   }
                  },
                  {
                      "cell_type":  "code",
                      "source":  [
                                     "    mssql-cli -S localhost,15789 -U sa -P Testing1122 -Q \"SELECT @@VERSION AS [Version];\"\r\n"
                                 ],
                      "metadata":  {
                                       "azdata_cell_guid":  "d5817864-07c5-46a6-8e82-3847234c63e8"
                                   },
                      "outputs":  [

                                  ],
                      "execution_count":  0
                  },
                  {
                      "cell_type":  "markdown",
                      "source":  [
                                     "\r\n",
                                     "![](../images/6.DockerCompose/Advanced/3.GetSqlVersion.png)\r\n",
                                     "Awesome stuff! We can work away with SQL in the container and when we\u0027re done: -\r\n",
                                     "\r\n"
                                 ],
                      "metadata":  {
                                       "azdata_cell_guid":  "b2880aef-6fb1-4c0f-abea-443c2848fe64"
                                   }
                  },
                  {
                      "cell_type":  "code",
                      "source":  [
                                     "    docker-compose down\r\n"
                                 ],
                      "metadata":  {
                                       "azdata_cell_guid":  "74eb30d5-530c-4252-b2cd-635e31e7a0de"
                                   },
                      "outputs":  [

                                  ],
                      "execution_count":  0
                  },
                  {
                      "cell_type":  "markdown",
                      "source":  [
                                     "\r\n",
                                     "![](../images/6.DockerCompose/Advanced/4.ComposeDown.png)\r\n",
                                     "That\u0027s spin down our container, drop our custom network, but we\u0027ll still have the custom image and the named volumes so we can spin another container up and not have lost any of our work!\r\n"
                                 ],
                      "metadata":  {
                                       "azdata_cell_guid":  "6e829536-4e0e-477e-9bfa-eb46d606de2d"
                                   }
                  }
              ]
}
