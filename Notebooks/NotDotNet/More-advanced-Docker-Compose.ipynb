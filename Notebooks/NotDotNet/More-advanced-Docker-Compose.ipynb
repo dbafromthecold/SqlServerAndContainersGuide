{
    "metadata":  {
                     "kernelspec":  {
                                        "name":  "powershell",
                                        "display_name":  "PowerShell"
                                    }
                 },
    "language_info":  {
                          "name":  "powershell",
                          "version":  "",
                          "codemirror_mode":  "shell",
                          "mimetype":  "text/x-sh",
                          "file_extension":  ".ps1"
                      },
    "nbformat_minor":  2,
    "nbformat":  4,
    "cells":  [
                  {
                      "cell_type":  "markdown",
                      "source":  [
                                     "\r\n",
                                     "In a previous wiki entry we went through a simple docker compose file to easily spin up one SQL Server container.\r\n",
                                     "Here we\u0027ll go through a more advanced setup, using a dockerfile to create a SQL image from scratch and env files to hold our environment variables.\r\n",
                                     "These are the files we\u0027re going to use: -\r\n",
                                     "\r\n"
                                 ],
                      "metadata":  {
                                       "azdata_cell_guid":  "07aa84e5-270e-4910-ace4-899a00fe45d3"
                                   }
                  },
                  {
                      "cell_type":  "code",
                      "source":  [
                                     "    dockerfile\r\n",
                                     "    docker-compose.yaml\r\n",
                                     "    sqlserver.env\r\n",
                                     "    sapassword.env\r\n"
                                 ],
                      "metadata":  {
                                       "azdata_cell_guid":  "943e8c97-e7bf-4bbf-9d2c-30d73e050d46"
                                   },
                      "outputs":  [

                                  ],
                      "execution_count":  0
                  },
                  {
                      "cell_type":  "markdown",
                      "source":  [
                                     "\r\n",
                                     "Let\u0027s have a look at the dockerfile first: -\r\n",
                                     "\r\n"
                                 ],
                      "metadata":  {
                                       "azdata_cell_guid":  "7dca709b-86fb-4090-92b5-36604fd2e174"
                                   }
                  },
                  {
                      "cell_type":  "code",
                      "source":  [
                                     "    # build from the Ubuntu 18.04 image\r\n",
                                     "    FROM ubuntu:18.04\r\n",
                                     "     \r\n",
                                     "    # create the mssql user\r\n",
                                     "    RUN useradd -u 10001 mssql\r\n",
                                     "     \r\n",
                                     "    # installing SQL Server\r\n",
                                     "    RUN apt-get update \u0026\u0026 apt-get install -y wget software-properties-common apt-transport-https\r\n",
                                     "    RUN wget -qO- https://packages.microsoft.com/keys/microsoft.asc | apt-key add -\r\n",
                                     "    RUN add-apt-repository \"$(wget -qO- https://packages.microsoft.com/config/ubuntu/18.04/mssql-server-2019.list)\"\r\n",
                                     "    RUN apt-get update \u0026\u0026 apt-get install -y mssql-server\r\n",
                                     "     \r\n",
                                     "    # creating directories\r\n",
                                     "    RUN mkdir /var/opt/sqlserver\r\n",
                                     "    RUN mkdir /var/opt/sqlserver/data\r\n",
                                     "    RUN mkdir /var/opt/sqlserver/log\r\n",
                                     "    RUN mkdir /var/opt/sqlserver/backup\r\n",
                                     "     \r\n",
                                     "    # set permissions on directories\r\n",
                                     "    RUN chown -R mssql:mssql /var/opt/sqlserver\r\n",
                                     "    RUN chown -R mssql:mssql /var/opt/mssql\r\n",
                                     "     \r\n",
                                     "    # switching to the mssql user\r\n",
                                     "    USER mssql\r\n",
                                     "     \r\n",
                                     "    # starting SQL Server\r\n",
                                     "    CMD /opt/mssql/bin/sqlservr\r\n"
                                 ],
                      "metadata":  {
                                       "azdata_cell_guid":  "c90d917d-157f-44a3-9b2a-b942356bc2f4"
                                   },
                      "outputs":  [

                                  ],
                      "execution_count":  0
                  },
                  {
                      "cell_type":  "markdown",
                      "source":  [
                                     "\r\n",
                                     "So this is going to: -\r\n",
                                     "\r\n"
                                 ],
                      "metadata":  {
                                       "azdata_cell_guid":  "a412e839-fd64-4630-ad07-c929aaafe75b"
                                   }
                  },
                  {
                      "cell_type":  "code",
                      "source":  [
                                     "    1. Pull down the Ubuntu 18.04 image and base this new image off it\r\n",
                                     "    2. Create the mssql user\r\n",
                                     "    3. Install SQL Server as you would on Linux\r\n",
                                     "    4. Create the required directories\r\n",
                                     "    5. Change the owner of those directories to the mssql user\r\n",
                                     "    6. Switch over to run the next command as the mssql user\r\n",
                                     "    7. Start SQL Server\r\n"
                                 ],
                      "metadata":  {
                                       "azdata_cell_guid":  "e08ff92d-df26-4515-8384-cf6f305348c9"
                                   },
                      "outputs":  [

                                  ],
                      "execution_count":  0
                  },
                  {
                      "cell_type":  "markdown",
                      "source":  [
                                     "\r\n",
                                     "Great stuff, we have a dockerfile that\u0027ll create us a custom SQL image. Now let\u0027s have a look at the docker-compose.yaml file: -\r\n",
                                     "\r\n"
                                 ],
                      "metadata":  {
                                       "azdata_cell_guid":  "62cc7337-7bf1-4e5d-941d-69388a409a07"
                                   }
                  },
                  {
                      "cell_type":  "code",
                      "source":  [
                                     "    version: \u00273.7\u0027\r\n",
                                     "    services:\r\n",
                                     "        sqlserver1:\r\n",
                                     "            build: \r\n",
                                     "              context: .\r\n",
                                     "              dockerfile: dockerfile\r\n",
                                     "            ports:  \r\n",
                                     "              - \"15789:1433\"\r\n",
                                     "            env_file:\r\n",
                                     "              - sqlserver.env\r\n",
                                     "              - sapassword.env\r\n",
                                     "            volumes: \r\n",
                                     "              - sqlsystem:/var/opt/mssql/\r\n",
                                     "              - sqldata:/var/opt/sqlserver/data\r\n",
                                     "              - sqllog:/var/opt/sqlserver/log\r\n",
                                     "              - sqlbackup:/var/opt/sqlserver/backup\r\n",
                                     "    volumes:\r\n",
                                     "      sqlsystem:\r\n",
                                     "      sqldata:\r\n",
                                     "      sqllog:\r\n",
                                     "      sqlbackup:\r\n"
                                 ],
                      "metadata":  {
                                       "azdata_cell_guid":  "9e57f2cc-7c18-42ef-b033-a2288177c65a"
                                   },
                      "outputs":  [

                                  ],
                      "execution_count":  0
                  },
                  {
                      "cell_type":  "markdown",
                      "source":  [
                                     "\r\n",
                                     "Stepping through this we: –\r\n",
                                     "\r\n"
                                 ],
                      "metadata":  {
                                       "azdata_cell_guid":  "e84d9c59-b7bd-4dd4-9fee-f9801e8ba3e7"
                                   }
                  },
                  {
                      "cell_type":  "code",
                      "source":  [
                                     "    1. Define a service called sqlserver1, setting a build context to the current directory and specifying our dockerfile\r\n",
                                     "    2. Set our ports, mapping 15789 on the host to 1433 in the container\r\n",
                                     "    3. Specify our environment variable files\r\n",
                                     "    4. Then set our volumes, matching the directories created in the dockerfile\r\n"
                                 ],
                      "metadata":  {
                                       "azdata_cell_guid":  "714ebf3e-84b6-457d-8de8-563a2f60cb97"
                                   },
                      "outputs":  [

                                  ],
                      "execution_count":  0
                  },
                  {
                      "cell_type":  "markdown",
                      "source":  [
                                     "\r\n",
                                     "Cool! Ok, finally let\u0027s have a look at the env files: -\r\n",
                                     "\r\n"
                                 ],
                      "metadata":  {
                                       "azdata_cell_guid":  "3659d575-4311-4921-9e25-33b675c129e5"
                                   }
                  },
                  {
                      "cell_type":  "code",
                      "source":  [
                                     "    ACCEPT_EULA=Y\r\n",
                                     "    MSSQL_DATA_DIR=/var/opt/sqlserver/data\r\n",
                                     "    MSSQL_LOG_DIR=/var/opt/sqlserver/log\r\n",
                                     "    MSSQL_BACKUP_DIR=/var/opt/sqlserver/backup\r\n"
                                 ],
                      "metadata":  {
                                       "azdata_cell_guid":  "7b76b658-e0be-477f-930d-3fbef7b930eb"
                                   },
                      "outputs":  [

                                  ],
                      "execution_count":  0
                  },
                  {
                      "cell_type":  "markdown",
                      "source":  [
                                     "\r\n",
                                     "And: -\r\n"
                                 ],
                      "metadata":  {
                                       "azdata_cell_guid":  "7311280f-7f3d-4d06-8714-cf161fe75090"
                                   }
                  },
                  {
                      "cell_type":  "code",
                      "source":  [
                                     "    \r\n",
                                     "    MSSQL_SA_PASSWORD=Testing1122\r\n"
                                 ],
                      "metadata":  {
                                       "azdata_cell_guid":  "74e9992f-80d7-4d53-9912-1cf27779f7c6"
                                   },
                      "outputs":  [

                                  ],
                      "execution_count":  0
                  },
                  {
                      "cell_type":  "markdown",
                      "source":  [
                                     "\r\n",
                                     "We\u0027ve used a separate file for the SA password so that we could drop it into a .gitignore file to prevent it being pushed to a public git repo.\r\n",
                                     "OK, we have our files...let\u0027s navigate to them in powershell and spin up a container: -\r\n",
                                     "\r\n"
                                 ],
                      "metadata":  {
                                       "azdata_cell_guid":  "bd17a4ac-ea2e-46f9-b3a7-ba5f035cfa77"
                                   }
                  },
                  {
                      "cell_type":  "code",
                      "source":  [
                                     "    docker-compose up -d\r\n"
                                 ],
                      "metadata":  {
                                       "azdata_cell_guid":  "583557d3-b988-4300-a791-f58997be69e5"
                                   },
                      "outputs":  [

                                  ],
                      "execution_count":  0
                  },
                  {
                      "cell_type":  "markdown",
                      "source":  [
                                     "\r\n",
                                     "We can see our custom image being built, our custom network being created, and the named volumes: -\r\n",
                                     "![](../images/6.DockerCompose/Advanced/1.RunComposeUp.png)\r\n",
                                     "_N.B. - I\u0027ve cheated slightly with this screenshot as I built the image in the dockerfile beforehand. That\u0027s why you see **Using cache** under each step._\r\n",
                                     "_When run for the first time, you\u0027ll see the ubuntu 18.04 pulled down and then SQL being installed._\r\n",
                                     "Once that\u0027s completed we can check everything created by running: -\r\n",
                                     "\r\n"
                                 ],
                      "metadata":  {
                                       "azdata_cell_guid":  "0a720b78-2c04-47f7-8031-99515b749eae"
                                   }
                  },
                  {
                      "cell_type":  "code",
                      "source":  [
                                     "    docker network ls\r\n",
                                     "    docker volume ls\r\n",
                                     "    docker image ls\r\n",
                                     "    docker container ls\r\n"
                                 ],
                      "metadata":  {
                                       "azdata_cell_guid":  "d971cda8-f8b5-4429-90f5-b18f63afa863"
                                   },
                      "outputs":  [

                                  ],
                      "execution_count":  0
                  },
                  {
                      "cell_type":  "markdown",
                      "source":  [
                                     "\r\n",
                                     "![](../images/6.DockerCompose/Advanced/2.ObjectsCreated.png)\r\n",
                                     "And now we can connect to SQL using: -\r\n",
                                     "\r\n"
                                 ],
                      "metadata":  {
                                       "azdata_cell_guid":  "af86ddf0-c159-4b13-aea4-aeb496b49523"
                                   }
                  },
                  {
                      "cell_type":  "code",
                      "source":  [
                                     "    mssql-cli -S localhost,15789 -U sa -P Testing1122 -Q \"SELECT @@VERSION AS [Version];\"\r\n"
                                 ],
                      "metadata":  {
                                       "azdata_cell_guid":  "ec7183cd-4f78-4d0c-a6e7-cda6fdfe4916"
                                   },
                      "outputs":  [

                                  ],
                      "execution_count":  0
                  },
                  {
                      "cell_type":  "markdown",
                      "source":  [
                                     "\r\n",
                                     "![](../images/6.DockerCompose/Advanced/3.GetSqlVersion.png)\r\n",
                                     "Awesome stuff! We can work away with SQL in the container and when we\u0027re done: -\r\n",
                                     "\r\n"
                                 ],
                      "metadata":  {
                                       "azdata_cell_guid":  "16b5c458-ea30-48c3-8ff4-4a553959504a"
                                   }
                  },
                  {
                      "cell_type":  "code",
                      "source":  [
                                     "    docker-compose down\r\n"
                                 ],
                      "metadata":  {
                                       "azdata_cell_guid":  "7b41f954-37d5-4dbe-9097-22ee7f362cac"
                                   },
                      "outputs":  [

                                  ],
                      "execution_count":  0
                  }
              ]
}
