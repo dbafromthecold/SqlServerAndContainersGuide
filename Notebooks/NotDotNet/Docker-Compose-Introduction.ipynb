{
    "metadata":  {
                     "kernelspec":  {
                                        "name":  "powershell",
                                        "display_name":  "PowerShell"
                                    }
                 },
    "language_info":  {
                          "name":  "powershell",
                          "version":  "",
                          "codemirror_mode":  "shell",
                          "mimetype":  "text/x-sh",
                          "file_extension":  ".ps1"
                      },
    "nbformat_minor":  2,
    "nbformat":  4,
    "cells":  [
                  {
                      "cell_type":  "markdown",
                      "source":  [
                                     "\r\n",
                                     "[Docker Compose](https://docs.docker.com/compose/) is a really handy tool for spinning up 1+ containers. In this wiki we\u0027ll go through a very basic compose file and how to use it to spin up SQL Server 2019.\r\n",
                                     "Here is a basic compose file: -\r\n",
                                     "\r\n"
                                 ],
                      "metadata":  {
                                       "azdata_cell_guid":  "e0b0db37-c34b-4516-88d9-a014fb3b206d"
                                   }
                  },
                  {
                      "cell_type":  "code",
                      "source":  [
                                     "    version: \u00273.7\u0027\r\n",
                                     "    services:\r\n",
                                     "        sqlserver1:\r\n",
                                     "            image: mcr.microsoft.com/mssql/server:2019-CU5-ubuntu-18.04\r\n",
                                     "            ports:  \r\n",
                                     "                - \"1433:1433\"\r\n",
                                     "            environment:\r\n",
                                     "                - MSSQL_SA_PASSWORD=Testing1122\r\n",
                                     "                - ACCEPT_EULA=Y\r\n"
                                 ],
                      "metadata":  {
                                       "azdata_cell_guid":  "26795bab-1d53-4860-b9c8-771788056c6b"
                                   },
                      "outputs":  [

                                  ],
                      "execution_count":  0
                  },
                  {
                      "cell_type":  "markdown",
                      "source":  [
                                     "\r\n",
                                     "In here we\u0027re: -\r\n",
                                     "1. Using the SQL Server 2019 CU5 Ubuntu 18.04 image, \r\n",
                                     "2. Mapping port 1433 on the host to 1433 within the container\r\n",
                                     "3. Setting the SA password to Testing1122 and accepting the end user license agreement\r\n",
                                     "So let\u0027s spin up a container using Docker Compose!\r\n",
                                     "Navigate to where the docker-compose file is and to spin up a container from our compose file run: -\r\n"
                                 ],
                      "metadata":  {
                                       "azdata_cell_guid":  "fedc18a1-e1d9-4641-89d8-e5d8464dde08"
                                   }
                  },
                  {
                      "cell_type":  "code",
                      "source":  [
                                     "    \r\n",
                                     "    docker-compose up -d\r\n"
                                 ],
                      "metadata":  {
                                       "azdata_cell_guid":  "faf7ec05-137b-4cdc-9fbd-5ee769d228e0"
                                   },
                      "outputs":  [

                                  ],
                      "execution_count":  0
                  },
                  {
                      "cell_type":  "markdown",
                      "source":  [
                                     "\r\n",
                                     "![](../images/6.DockerCompose/Introduction/1.docker_compose_up.png)\r\n",
                                     "Let\u0027s check that the container is running: -\r\n",
                                     "\r\n"
                                 ],
                      "metadata":  {
                                       "azdata_cell_guid":  "e7f67dcc-a7f0-4ca0-8929-ffb60b52de73"
                                   }
                  },
                  {
                      "cell_type":  "code",
                      "source":  [
                                     "    docker container ls -a\r\n"
                                 ],
                      "metadata":  {
                                       "azdata_cell_guid":  "b4dfba13-b550-4293-a363-8b9dfb1a38e5"
                                   },
                      "outputs":  [

                                  ],
                      "execution_count":  0
                  },
                  {
                      "cell_type":  "markdown",
                      "source":  [
                                     "\r\n",
                                     "![](../images/6.DockerCompose/Introduction/2.docker_container_ls.png)\r\n",
                                     "We also have a custom network created, more on this later: -\r\n",
                                     "\r\n"
                                 ],
                      "metadata":  {
                                       "azdata_cell_guid":  "2f290b4d-847a-4c3b-85f4-5dd17c0b9712"
                                   }
                  },
                  {
                      "cell_type":  "code",
                      "source":  [
                                     "    docker network ls\r\n"
                                 ],
                      "metadata":  {
                                       "azdata_cell_guid":  "81e7b8f2-7409-4c59-804a-5b8d00d903b3"
                                   },
                      "outputs":  [

                                  ],
                      "execution_count":  0
                  },
                  {
                      "cell_type":  "markdown",
                      "source":  [
                                     "\r\n",
                                     "![](../images/6.DockerCompose/Introduction/3.docker_network_ls.png)\r\n",
                                     "Let\u0027s check that we can connect to SQL within our container: -\r\n",
                                     "\r\n"
                                 ],
                      "metadata":  {
                                       "azdata_cell_guid":  "7e6bc639-1621-4163-bd16-6af77e066db0"
                                   }
                  },
                  {
                      "cell_type":  "code",
                      "source":  [
                                     "     mssql-cli -S localhost -U sa -P Testing1122 -Q \"SELECT @@VERSION AS [Version];\"\r\n"
                                 ],
                      "metadata":  {
                                       "azdata_cell_guid":  "183c836e-a38c-4bc4-8969-d114283e58fb"
                                   },
                      "outputs":  [

                                  ],
                      "execution_count":  0
                  },
                  {
                      "cell_type":  "markdown",
                      "source":  [
                                     "\r\n",
                                     "![](../images/6.DockerCompose/Introduction/4.mssql_cli_get_version.png)\r\n",
                                     "To remove the container: -\r\n",
                                     "\r\n"
                                 ],
                      "metadata":  {
                                       "azdata_cell_guid":  "bae9c3dd-b921-432a-98f1-3486cb4d43d1"
                                   }
                  },
                  {
                      "cell_type":  "code",
                      "source":  [
                                     "    docker-compose down\r\n"
                                 ],
                      "metadata":  {
                                       "azdata_cell_guid":  "27a4ad97-f6ac-4a5d-9b79-bfa1cfe965ef"
                                   },
                      "outputs":  [

                                  ],
                      "execution_count":  0
                  },
                  {
                      "cell_type":  "markdown",
                      "source":  [
                                     "\r\n",
                                     "![](../images/6.DockerCompose/Introduction/5.docker_compose_down.png)\r\n",
                                     "That\u0027s a brief introduction to using Docker Compose to spin up a container running SQL Server.\r\n"
                                 ],
                      "metadata":  {
                                       "azdata_cell_guid":  "41773887-456c-4d66-b73e-933e0b3ff497"
                                   }
                  }
              ]
}
