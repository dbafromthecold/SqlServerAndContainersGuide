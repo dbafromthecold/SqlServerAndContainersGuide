{
    "metadata":  {
                     "kernelspec":  {
                                        "name":  "powershell",
                                        "display_name":  "PowerShell"
                                    }
                 },
    "language_info":  {
                          "name":  "powershell",
                          "version":  "",
                          "codemirror_mode":  "shell",
                          "mimetype":  "text/x-sh",
                          "file_extension":  ".ps1"
                      },
    "nbformat_minor":  2,
    "nbformat":  4,
    "cells":  [
                  {
                      "cell_type":  "markdown",
                      "source":  [
                                     "\r\n",
                                     "[Docker Compose](https://docs.docker.com/compose/) is a really handy tool for spinning up 1+ containers. In this wiki we\u0027ll go through a very basic compose file and how to use it to spin up SQL Server 2019.\r\n",
                                     "Here is a basic compose file: -\r\n",
                                     "\r\n"
                                 ],
                      "metadata":  {
                                       "azdata_cell_guid":  "9aebda11-f503-49a8-afb3-9df56b645fac"
                                   }
                  },
                  {
                      "cell_type":  "code",
                      "source":  [
                                     "    version: \u00273.7\u0027\r\n",
                                     "    services:\r\n",
                                     "        sqlserver1:\r\n",
                                     "            image: mcr.microsoft.com/mssql/server:2019-CU5-ubuntu-18.04\r\n",
                                     "            ports:  \r\n",
                                     "                - \"1433:1433\"\r\n",
                                     "            environment:\r\n",
                                     "                - MSSQL_SA_PASSWORD=Testing1122\r\n",
                                     "                - ACCEPT_EULA=Y\r\n"
                                 ],
                      "metadata":  {
                                       "azdata_cell_guid":  "71e1de5f-8f90-4656-8edc-8c949a55bc4c"
                                   },
                      "outputs":  [

                                  ],
                      "execution_count":  0
                  },
                  {
                      "cell_type":  "markdown",
                      "source":  [
                                     "\r\n",
                                     "In here we\u0027re: -\r\n",
                                     "1. Using the SQL Server 2019 CU5 Ubuntu 18.04 image, \r\n",
                                     "2. Mapping port 1433 on the host to 1433 within the container\r\n",
                                     "3. Setting the SA password to Testing1122 and accepting the end user license agreement\r\n",
                                     "So let\u0027s spin up a container using Docker Compose!\r\n",
                                     "Navigate to where the docker-compose file is and to spin up a container from our compose file run: -\r\n"
                                 ],
                      "metadata":  {
                                       "azdata_cell_guid":  "9d22829c-937b-49c4-80df-526f024c7bdd"
                                   }
                  },
                  {
                      "cell_type":  "code",
                      "source":  [
                                     "    \r\n",
                                     "    docker-compose up -d\r\n"
                                 ],
                      "metadata":  {
                                       "azdata_cell_guid":  "791500cd-7d92-4c60-900c-a78c1100cd85"
                                   },
                      "outputs":  [

                                  ],
                      "execution_count":  0
                  },
                  {
                      "cell_type":  "markdown",
                      "source":  [
                                     "\r\n",
                                     "![](../images/6.DockerCompose/Introduction/1.docker_compose_up.png)\r\n",
                                     "Let\u0027s check that the container is running: -\r\n",
                                     "\r\n"
                                 ],
                      "metadata":  {
                                       "azdata_cell_guid":  "15f9ae36-1b07-47a7-8e65-f127ae3b6d42"
                                   }
                  },
                  {
                      "cell_type":  "code",
                      "source":  [
                                     "    docker container ls -a\r\n"
                                 ],
                      "metadata":  {
                                       "azdata_cell_guid":  "9ca0ff90-18a1-4f03-9882-a92f7a255215"
                                   },
                      "outputs":  [

                                  ],
                      "execution_count":  0
                  },
                  {
                      "cell_type":  "markdown",
                      "source":  [
                                     "\r\n",
                                     "![](../images/6.DockerCompose/Introduction/2.docker_container_ls.png)\r\n",
                                     "We also have a custom network created, more on this later: -\r\n",
                                     "\r\n"
                                 ],
                      "metadata":  {
                                       "azdata_cell_guid":  "fd229bac-6df0-4b19-87b8-8cd34dbdeca0"
                                   }
                  },
                  {
                      "cell_type":  "code",
                      "source":  [
                                     "    docker network ls\r\n"
                                 ],
                      "metadata":  {
                                       "azdata_cell_guid":  "34f5365c-c87a-4599-9576-963796fac81c"
                                   },
                      "outputs":  [

                                  ],
                      "execution_count":  0
                  },
                  {
                      "cell_type":  "markdown",
                      "source":  [
                                     "\r\n",
                                     "![](../images/6.DockerCompose/Introduction/3.docker_network_ls.png)\r\n",
                                     "Let\u0027s check that we can connect to SQL within our container: -\r\n",
                                     "\r\n"
                                 ],
                      "metadata":  {
                                       "azdata_cell_guid":  "87d7d672-2c28-413d-96c2-afa6c89eaddc"
                                   }
                  },
                  {
                      "cell_type":  "code",
                      "source":  [
                                     "     mssql-cli -S localhost -U sa -P Testing1122 -Q \"SELECT @@VERSION AS [Version];\"\r\n"
                                 ],
                      "metadata":  {
                                       "azdata_cell_guid":  "da6c2219-4383-4926-8379-97a14a86551c"
                                   },
                      "outputs":  [

                                  ],
                      "execution_count":  0
                  },
                  {
                      "cell_type":  "markdown",
                      "source":  [
                                     "\r\n",
                                     "![](../images/6.DockerCompose/Introduction/4.mssql_cli_get_version.png)\r\n",
                                     "To remove the container: -\r\n",
                                     "\r\n"
                                 ],
                      "metadata":  {
                                       "azdata_cell_guid":  "9571cd28-5efb-469c-84eb-ae3ffae06f74"
                                   }
                  },
                  {
                      "cell_type":  "code",
                      "source":  [
                                     "    docker-compose down\r\n"
                                 ],
                      "metadata":  {
                                       "azdata_cell_guid":  "e337add5-78c2-4469-aeaf-d3f2bab6bad8"
                                   },
                      "outputs":  [

                                  ],
                      "execution_count":  0
                  }
              ]
}
