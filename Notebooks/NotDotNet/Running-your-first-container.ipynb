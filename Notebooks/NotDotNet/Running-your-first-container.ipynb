{
    "metadata":  {
                     "kernelspec":  {
                                        "name":  "powershell",
                                        "display_name":  "PowerShell"
                                    }
                 },
    "language_info":  {
                          "name":  "powershell",
                          "version":  "",
                          "codemirror_mode":  "shell",
                          "mimetype":  "text/x-sh",
                          "file_extension":  ".ps1"
                      },
    "nbformat_minor":  2,
    "nbformat":  4,
    "cells":  [
                  {
                      "cell_type":  "markdown",
                      "source":  [
                                     "\r\n",
                                     "This page will take you through pulling a SQL Server image down from the Microsoft Container Registry and spinning up a container.\r\n",
                                     "We used to be able to search the Docker Hub for SQL Server container images: -\r\n",
                                     "\r\n"
                                 ],
                      "metadata":  {
                                       "azdata_cell_guid":  "2084d488-6804-42e7-b4ed-94121ee5d6a6"
                                   }
                  },
                  {
                      "cell_type":  "code",
                      "source":  [
                                     "    docker search mssql\r\n"
                                 ],
                      "metadata":  {
                                       "azdata_cell_guid":  "697e0378-5ae7-4f7a-9596-b7967ff53a3e"
                                   },
                      "outputs":  [

                                  ],
                      "execution_count":  0
                  },
                  {
                      "cell_type":  "markdown",
                      "source":  [
                                     "\r\n",
                                     "However, Microsoft have moved their container images to the Microsoft Container Registry (MCR) so now we have to run the following: -\r\n",
                                     "\r\n"
                                 ],
                      "metadata":  {
                                       "azdata_cell_guid":  "e77653ed-0f8f-4001-9974-472f9a236aab"
                                   }
                  },
                  {
                      "cell_type":  "code",
                      "source":  [
                                     "    $repo1 = invoke-webrequest https://mcr.microsoft.com/v2/mssql/server/tags/list\r\n",
                                     "    $repo2 = invoke-webrequest https://mcr.microsoft.com/v2/mssql/rhel/server/tags/list\r\n",
                                     "    $tags = $repo1.content + $repo2.content\r\n",
                                     "    $tags\r\n"
                                 ],
                      "metadata":  {
                                       "azdata_cell_guid":  "36cec623-ea4c-4734-ad7d-a450ba6ce6c5"
                                   },
                      "outputs":  [

                                  ],
                      "execution_count":  0
                  },
                  {
                      "cell_type":  "markdown",
                      "source":  [
                                     "\r\n",
                                     "This will show us all the Ubuntu and Red Hat SQL Server container images that are available to us.\r\n",
                                     "So now we can pull down an image with: -\r\n",
                                     "\r\n"
                                 ],
                      "metadata":  {
                                       "azdata_cell_guid":  "5863a07f-6687-460c-8d28-714753657d6d"
                                   }
                  },
                  {
                      "cell_type":  "code",
                      "source":  [
                                     "    docker image pull mcr.microsoft.com/mssql/server:2019-CU5-ubuntu-18.04\r\n"
                                 ],
                      "metadata":  {
                                       "azdata_cell_guid":  "19611ec0-20c0-4089-a5d0-30867e6f7213"
                                   },
                      "outputs":  [

                                  ],
                      "execution_count":  0
                  },
                  {
                      "cell_type":  "markdown",
                      "source":  [
                                     "\r\n",
                                     "![](../images/2.RunningYourFirstContainer/RunningAContainer/1.docker_image_pull.png)\r\n",
                                     "Here we\u0027re pulling down SQL Server 2019 CU5 Ubuntu 18.04 image. I know we could just put the image into our docker container run statement but I like to pull my images down first.\r\n",
                                     "Once the pull is complete we can verify that the image is on our local machine with: -\r\n",
                                     "\r\n"
                                 ],
                      "metadata":  {
                                       "azdata_cell_guid":  "45c61abd-5352-4afb-8ad7-0a8734ebe18d"
                                   }
                  },
                  {
                      "cell_type":  "code",
                      "source":  [
                                     "    docker image ls\r\n"
                                 ],
                      "metadata":  {
                                       "azdata_cell_guid":  "b8a4da51-23d7-4894-b7a9-1e252a522e7e"
                                   },
                      "outputs":  [

                                  ],
                      "execution_count":  0
                  },
                  {
                      "cell_type":  "markdown",
                      "source":  [
                                     "\r\n",
                                     "![](../images/2.RunningYourFirstContainer/RunningAContainer/2.docker_image_ls.png)\r\n",
                                     "So now we can run a container from that image: -\r\n",
                                     "\r\n"
                                 ],
                      "metadata":  {
                                       "azdata_cell_guid":  "9f0f57ee-f99d-4ba4-87dc-a28ca32b1255"
                                   }
                  },
                  {
                      "cell_type":  "code",
                      "source":  [
                                     "    docker container run -d `\r\n",
                                     "    -p 15789:1433 `\r\n",
                                     "    --env ACCEPT_EULA=Y `\r\n",
                                     "    --env MSSQL_SA_PASSWORD=Testing1122 `\r\n",
                                     "    --name sqlcontainer1 `\r\n",
                                     "    mcr.microsoft.com/mssql/server:2019-CU5-ubuntu-18.04\r\n"
                                 ],
                      "metadata":  {
                                       "azdata_cell_guid":  "37ec0d5c-386c-462d-bb8f-3422968fd4c5"
                                   },
                      "outputs":  [

                                  ],
                      "execution_count":  0
                  },
                  {
                      "cell_type":  "markdown",
                      "source":  [
                                     "\r\n",
                                     "![](../images/2.RunningYourFirstContainer/RunningAContainer/3.docker_container_run.png)\r\n",
                                     "Here we are spinning up a container called sqlcontainer1, accepting the EULA, setting the SA pasword to Testing1122, and mapping port 15789 on our host to port 1433 within the container.\r\n",
                                     "But before we connect, we can check that the container is up and running with: -\r\n",
                                     "\r\n"
                                 ],
                      "metadata":  {
                                       "azdata_cell_guid":  "5bb0fc1a-96b5-410b-8ba4-4dbb4235faf0"
                                   }
                  },
                  {
                      "cell_type":  "code",
                      "source":  [
                                     "    docker container ls -a\r\n"
                                 ],
                      "metadata":  {
                                       "azdata_cell_guid":  "3c65ba68-d8dd-4365-af60-7300f46cd2d0"
                                   },
                      "outputs":  [

                                  ],
                      "execution_count":  0
                  },
                  {
                      "cell_type":  "markdown",
                      "source":  [
                                     "\r\n",
                                     "![](../images/2.RunningYourFirstContainer/RunningAContainer/4.docker_container_ls.png)\r\n",
                                     "The -a flag shows all containers and the [container ls]( https://docs.docker.com/engine/reference/commandline/container_ls/) command by default will only show running containers.\r\n",
                                     "If we want to clean up the output of that a little bit we could run: -\r\n",
                                     "\r\n"
                                 ],
                      "metadata":  {
                                       "azdata_cell_guid":  "2bf0f3cb-18b9-4838-87d7-fcb9d14af1db"
                                   }
                  },
                  {
                      "cell_type":  "code",
                      "source":  [
                                     "    docker container ls -a --format \"table {{.Names }}\\t{{ .Image }}\\t{{ .Status }}\\t{{.Ports}}\"\r\n"
                                 ],
                      "metadata":  {
                                       "azdata_cell_guid":  "45e840a4-3419-49bb-8ac6-cb5118c01a00"
                                   },
                      "outputs":  [

                                  ],
                      "execution_count":  0
                  },
                  {
                      "cell_type":  "markdown",
                      "source":  [
                                     "\r\n",
                                     "![](../images/2.RunningYourFirstContainer/RunningAContainer/5.docker_container_ls2.png)\r\n",
                                     "I\u0027ll go through this in more detail in a later wiki page but for now, let\u0027s move on and check the SQL logs: -\r\n",
                                     "\r\n"
                                 ],
                      "metadata":  {
                                       "azdata_cell_guid":  "84cfb4de-56b8-45f7-8f1c-d42c8d50f7a8"
                                   }
                  },
                  {
                      "cell_type":  "code",
                      "source":  [
                                     "    docker container logs sqlcontainer1\r\n"
                                 ],
                      "metadata":  {
                                       "azdata_cell_guid":  "529e2a86-20e6-4039-8bc5-dfd2cee5695e"
                                   },
                      "outputs":  [

                                  ],
                      "execution_count":  0
                  },
                  {
                      "cell_type":  "markdown",
                      "source":  [
                                     "\r\n",
                                     "![](../images/2.RunningYourFirstContainer/RunningAContainer/6.docker_container_logs.png)\r\n",
                                     "Cool! A nice and easy way to view the SQL Server error log!\r\n",
                                     "Let\u0027s connect to SQL. We could connect in SSMS with localhost,15789 or with the [mssql-cli](https://docs.microsoft.com/en-us/sql/tools/mssql-cli): -\r\n",
                                     "\r\n"
                                 ],
                      "metadata":  {
                                       "azdata_cell_guid":  "bc175758-7389-481a-ae7e-9b4e490926c3"
                                   }
                  },
                  {
                      "cell_type":  "code",
                      "source":  [
                                     "    mssql-cli -S \u0027localhost,15789\u0027 -U sa -P Testing1122 -Q \"SELECT @@VERSION AS [Version]\"\r\n"
                                 ],
                      "metadata":  {
                                       "azdata_cell_guid":  "4420a602-b703-430d-a657-e34e8821d9fe"
                                   },
                      "outputs":  [

                                  ],
                      "execution_count":  0
                  },
                  {
                      "cell_type":  "markdown",
                      "source":  [
                                     "\r\n",
                                     "![](../images/2.RunningYourFirstContainer/RunningAContainer/7.mssql_cli_version.png)\r\n",
                                     "If we wanted to jump into the container itself, we can run: -\r\n",
                                     "\r\n"
                                 ],
                      "metadata":  {
                                       "azdata_cell_guid":  "b0520a57-bc3a-4d84-a2c3-7d3fed6fa3fb"
                                   }
                  },
                  {
                      "cell_type":  "code",
                      "source":  [
                                     "    docker container exec -it sqlcontainer1 bash\r\n"
                                 ],
                      "metadata":  {
                                       "azdata_cell_guid":  "f4387545-bbeb-431f-ac09-480aee39f26c"
                                   },
                      "outputs":  [

                                  ],
                      "execution_count":  0
                  },
                  {
                      "cell_type":  "markdown",
                      "source":  [
                                     "\r\n",
                                     "And then run the following to have a look at the system databases: -\r\n",
                                     "\r\n"
                                 ],
                      "metadata":  {
                                       "azdata_cell_guid":  "e160adce-6b2f-4061-ab20-1b9062862f82"
                                   }
                  },
                  {
                      "cell_type":  "code",
                      "source":  [
                                     "    cd /var/opt/mssql/data\r\n",
                                     "    ls -al\r\n",
                                     "    exit\r\n"
                                 ],
                      "metadata":  {
                                       "azdata_cell_guid":  "17d247b7-203b-4eb5-ad87-9c25dbd8264b"
                                   },
                      "outputs":  [

                                  ],
                      "execution_count":  0
                  },
                  {
                      "cell_type":  "markdown",
                      "source":  [
                                     "\r\n",
                                     "![](../images/2.RunningYourFirstContainer/RunningAContainer/8.docker_exec.png)\r\n",
                                     "But we don\u0027t have to jump into the container at all to run those commands, we could instead run: -\r\n",
                                     "\r\n"
                                 ],
                      "metadata":  {
                                       "azdata_cell_guid":  "18873671-775d-4c5b-9e8e-6f8f685d14a5"
                                   }
                  },
                  {
                      "cell_type":  "code",
                      "source":  [
                                     "    docker exec sqlcontainer1 ls -al /var/opt/mssql/data\r\n"
                                 ],
                      "metadata":  {
                                       "azdata_cell_guid":  "2044af7a-fef0-4c11-9a93-53751dc8cc22"
                                   },
                      "outputs":  [

                                  ],
                      "execution_count":  0
                  }
              ]
}
