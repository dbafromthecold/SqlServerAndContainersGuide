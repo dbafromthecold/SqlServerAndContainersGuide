{
    "metadata":  {
                     "kernelspec":  {
                                        "name":  "powershell",
                                        "display_name":  "PowerShell"
                                    }
                 },
    "language_info":  {
                          "name":  "powershell",
                          "version":  "",
                          "codemirror_mode":  "shell",
                          "mimetype":  "text/x-sh",
                          "file_extension":  ".ps1"
                      },
    "nbformat_minor":  2,
    "nbformat":  4,
    "cells":  [
                  {
                      "cell_type":  "markdown",
                      "source":  [
                                     "\r\n",
                                     "This page will take you through pulling a SQL Server image down from the Microsoft Container Registry and spinning up a container.\r\n",
                                     "We used to be able to search the Docker Hub for SQL Server container images: -\r\n",
                                     "\r\n"
                                 ],
                      "metadata":  {
                                       "azdata_cell_guid":  "f54a6de2-5bc1-475f-9a66-2af20e26ae33"
                                   }
                  },
                  {
                      "cell_type":  "code",
                      "source":  [
                                     "    docker search mssql\r\n"
                                 ],
                      "metadata":  {
                                       "azdata_cell_guid":  "fea5f0a6-984c-41f9-8533-5aaff42708ae"
                                   },
                      "outputs":  [

                                  ],
                      "execution_count":  0
                  },
                  {
                      "cell_type":  "markdown",
                      "source":  [
                                     "\r\n",
                                     "However, Microsoft have moved their container images to the Microsoft Container Registry (MCR) so now we have to run the following: -\r\n",
                                     "\r\n"
                                 ],
                      "metadata":  {
                                       "azdata_cell_guid":  "79b47a12-5e22-4a78-8985-f488a85b5073"
                                   }
                  },
                  {
                      "cell_type":  "code",
                      "source":  [
                                     "    $repo1 = invoke-webrequest https://mcr.microsoft.com/v2/mssql/server/tags/list\r\n",
                                     "    $repo2 = invoke-webrequest https://mcr.microsoft.com/v2/mssql/rhel/server/tags/list\r\n",
                                     "    $tags = $repo1.content + $repo2.content\r\n",
                                     "    $tags\r\n"
                                 ],
                      "metadata":  {
                                       "azdata_cell_guid":  "107d29af-927d-4752-9495-40a74f1ae7ab"
                                   },
                      "outputs":  [

                                  ],
                      "execution_count":  0
                  },
                  {
                      "cell_type":  "markdown",
                      "source":  [
                                     "\r\n",
                                     "This will show us all the Ubuntu and Red Hat SQL Server container images that are available to us.\r\n",
                                     "So now we can pull down an image with: -\r\n",
                                     "\r\n"
                                 ],
                      "metadata":  {
                                       "azdata_cell_guid":  "12ec49c0-a3aa-4dae-9f07-0ccfb644736f"
                                   }
                  },
                  {
                      "cell_type":  "code",
                      "source":  [
                                     "    docker image pull mcr.microsoft.com/mssql/server:2019-CU5-ubuntu-18.04\r\n"
                                 ],
                      "metadata":  {
                                       "azdata_cell_guid":  "79880a91-1cdc-4f65-a087-26a461bb5a54"
                                   },
                      "outputs":  [

                                  ],
                      "execution_count":  0
                  },
                  {
                      "cell_type":  "markdown",
                      "source":  [
                                     "\r\n",
                                     "![](../images/2.RunningYourFirstContainer/RunningAContainer/1.docker_image_pull.png)\r\n",
                                     "Here we\u0027re pulling down SQL Server 2019 CU5 Ubuntu 18.04 image. I know we could just put the image into our docker container run statement but I like to pull my images down first.\r\n",
                                     "Once the pull is complete we can verify that the image is on our local machine with: -\r\n",
                                     "\r\n"
                                 ],
                      "metadata":  {
                                       "azdata_cell_guid":  "75031d72-5735-46b7-9a1d-34494bae83f5"
                                   }
                  },
                  {
                      "cell_type":  "code",
                      "source":  [
                                     "    docker image ls\r\n"
                                 ],
                      "metadata":  {
                                       "azdata_cell_guid":  "5c6b0c5d-710b-485a-9ba1-7582954c72cf"
                                   },
                      "outputs":  [

                                  ],
                      "execution_count":  0
                  },
                  {
                      "cell_type":  "markdown",
                      "source":  [
                                     "\r\n",
                                     "![](../images/2.RunningYourFirstContainer/RunningAContainer/2.docker_image_ls.png)\r\n",
                                     "So now we can run a container from that image: -\r\n",
                                     "\r\n"
                                 ],
                      "metadata":  {
                                       "azdata_cell_guid":  "df558581-3e49-419c-9157-6eb11a6fdf74"
                                   }
                  },
                  {
                      "cell_type":  "code",
                      "source":  [
                                     "    docker container run -d `\r\n",
                                     "    -p 15789:1433 `\r\n",
                                     "    --env ACCEPT_EULA=Y `\r\n",
                                     "    --env MSSQL_SA_PASSWORD=Testing1122 `\r\n",
                                     "    --name sqlcontainer1 `\r\n",
                                     "    mcr.microsoft.com/mssql/server:2019-CU5-ubuntu-18.04\r\n"
                                 ],
                      "metadata":  {
                                       "azdata_cell_guid":  "6fc8910d-e134-462a-b80b-c0c8b24e6047"
                                   },
                      "outputs":  [

                                  ],
                      "execution_count":  0
                  },
                  {
                      "cell_type":  "markdown",
                      "source":  [
                                     "\r\n",
                                     "![](../images/2.RunningYourFirstContainer/RunningAContainer/3.docker_container_run.png)\r\n",
                                     "Here we are spinning up a container called sqlcontainer1, accepting the EULA, setting the SA pasword to Testing1122, and mapping port 15789 on our host to port 1433 within the container.\r\n",
                                     "But before we connect, we can check that the container is up and running with: -\r\n",
                                     "\r\n"
                                 ],
                      "metadata":  {
                                       "azdata_cell_guid":  "3dd35c88-e56f-48fb-a794-d3d1c872426f"
                                   }
                  },
                  {
                      "cell_type":  "code",
                      "source":  [
                                     "    docker container ls -a\r\n"
                                 ],
                      "metadata":  {
                                       "azdata_cell_guid":  "9407e807-0ad6-49bd-a8fe-6c14dec3a254"
                                   },
                      "outputs":  [

                                  ],
                      "execution_count":  0
                  },
                  {
                      "cell_type":  "markdown",
                      "source":  [
                                     "\r\n",
                                     "![](../images/2.RunningYourFirstContainer/RunningAContainer/4.docker_container_ls.png)\r\n",
                                     "The -a flag shows all containers and the [container ls]( https://docs.docker.com/engine/reference/commandline/container_ls/) command by default will only show running containers.\r\n",
                                     "If we want to clean up the output of that a little bit we could run: -\r\n",
                                     "\r\n"
                                 ],
                      "metadata":  {
                                       "azdata_cell_guid":  "7ffeddbb-22ab-4040-b6fb-e06b0f25ead8"
                                   }
                  },
                  {
                      "cell_type":  "code",
                      "source":  [
                                     "    docker container ls -a --format \"table {{.Names }}\\t{{ .Image }}\\t{{ .Status }}\\t{{.Ports}}\"\r\n"
                                 ],
                      "metadata":  {
                                       "azdata_cell_guid":  "ac0a56f2-4112-4278-aad5-a8eba523d5ee"
                                   },
                      "outputs":  [

                                  ],
                      "execution_count":  0
                  },
                  {
                      "cell_type":  "markdown",
                      "source":  [
                                     "\r\n",
                                     "![](../images/2.RunningYourFirstContainer/RunningAContainer/5.docker_container_ls2.png)\r\n",
                                     "I\u0027ll go through this in more detail in a later wiki page but for now, let\u0027s move on and check the SQL logs: -\r\n",
                                     "\r\n"
                                 ],
                      "metadata":  {
                                       "azdata_cell_guid":  "837d0a4c-a911-458a-8e66-51ca65869d8c"
                                   }
                  },
                  {
                      "cell_type":  "code",
                      "source":  [
                                     "    docker container logs sqlcontainer1\r\n"
                                 ],
                      "metadata":  {
                                       "azdata_cell_guid":  "fc4448d6-782b-4331-87f0-51d806b2aa13"
                                   },
                      "outputs":  [

                                  ],
                      "execution_count":  0
                  },
                  {
                      "cell_type":  "markdown",
                      "source":  [
                                     "\r\n",
                                     "![](../images/2.RunningYourFirstContainer/RunningAContainer/6.docker_container_logs.png)\r\n",
                                     "Cool! A nice and easy way to view the SQL Server error log!\r\n",
                                     "Let\u0027s connect to SQL. We could connect in SSMS with localhost,15789 or with the [mssql-cli](https://docs.microsoft.com/en-us/sql/tools/mssql-cli): -\r\n",
                                     "\r\n"
                                 ],
                      "metadata":  {
                                       "azdata_cell_guid":  "87f40e38-d098-4768-a9c1-9f60c60798fd"
                                   }
                  },
                  {
                      "cell_type":  "code",
                      "source":  [
                                     "    mssql-cli -S \u0027localhost,15789\u0027 -U sa -P Testing1122 -Q \"SELECT @@VERSION AS [Version]\"\r\n"
                                 ],
                      "metadata":  {
                                       "azdata_cell_guid":  "4e29adb0-ad3a-4aff-aca1-868890987681"
                                   },
                      "outputs":  [

                                  ],
                      "execution_count":  0
                  },
                  {
                      "cell_type":  "markdown",
                      "source":  [
                                     "\r\n",
                                     "![](../images/2.RunningYourFirstContainer/RunningAContainer/7.mssql_cli_version.png)\r\n",
                                     "If we wanted to jump into the container itself, we can run: -\r\n",
                                     "\r\n"
                                 ],
                      "metadata":  {
                                       "azdata_cell_guid":  "9e5c5f56-b140-47d2-8da8-054a6a13009b"
                                   }
                  },
                  {
                      "cell_type":  "code",
                      "source":  [
                                     "    docker container exec -it sqlcontainer1 bash\r\n"
                                 ],
                      "metadata":  {
                                       "azdata_cell_guid":  "253733ec-fae5-4bba-a8d6-f0462692cbb9"
                                   },
                      "outputs":  [

                                  ],
                      "execution_count":  0
                  },
                  {
                      "cell_type":  "markdown",
                      "source":  [
                                     "\r\n",
                                     "And then run the following to have a look at the system databases: -\r\n",
                                     "\r\n"
                                 ],
                      "metadata":  {
                                       "azdata_cell_guid":  "99e680ec-b0e4-4063-a08d-9b05a02e0c43"
                                   }
                  },
                  {
                      "cell_type":  "code",
                      "source":  [
                                     "    cd /var/opt/mssql/data\r\n",
                                     "    ls -al\r\n",
                                     "    exit\r\n"
                                 ],
                      "metadata":  {
                                       "azdata_cell_guid":  "94693510-2a21-4e8e-83ed-f9be4f6ee704"
                                   },
                      "outputs":  [

                                  ],
                      "execution_count":  0
                  },
                  {
                      "cell_type":  "markdown",
                      "source":  [
                                     "\r\n",
                                     "![](../images/2.RunningYourFirstContainer/RunningAContainer/8.docker_exec.png)\r\n",
                                     "But we don\u0027t have to jump into the container at all to run those commands, we could instead run: -\r\n",
                                     "\r\n"
                                 ],
                      "metadata":  {
                                       "azdata_cell_guid":  "e68e59bc-50f1-4f19-95ea-b3bf72d3eac1"
                                   }
                  },
                  {
                      "cell_type":  "code",
                      "source":  [
                                     "    docker exec sqlcontainer1 ls -al /var/opt/mssql/data\r\n"
                                 ],
                      "metadata":  {
                                       "azdata_cell_guid":  "bfd105a5-4f58-4544-a4ca-89744a3a5397"
                                   },
                      "outputs":  [

                                  ],
                      "execution_count":  0
                  },
                  {
                      "cell_type":  "markdown",
                      "source":  [
                                     "\r\n",
                                     "![](../images/2.RunningYourFirstContainer/RunningAContainer/9.docker_exec2.png)\r\n",
                                     "I think that\u0027s a little tidier :-)\r\n",
                                     "OK, so that how to pull an image down, spin up a container, and poke around a little bit!\r\n"
                                 ],
                      "metadata":  {
                                       "azdata_cell_guid":  "3b361de2-dc08-4434-86d0-d0d5374e57cb"
                                   }
                  }
              ]
}
