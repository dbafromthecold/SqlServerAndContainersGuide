{
    "metadata":  {
                     "kernelspec":  {
                                        "name":  "powershell",
                                        "display_name":  "PowerShell"
                                    }
                 },
    "language_info":  {
                          "name":  "powershell",
                          "version":  "",
                          "codemirror_mode":  "shell",
                          "mimetype":  "text/x-sh",
                          "file_extension":  ".ps1"
                      },
    "nbformat_minor":  2,
    "nbformat":  4,
    "cells":  [
                  {
                      "cell_type":  "markdown",
                      "source":  [
                                     "\r\n",
                                     "By default, docker provides a default bridge network that we deploy containers on when we don\u0027t specify any network in our container run statement: -\r\n",
                                     "\r\n"
                                 ],
                      "metadata":  {
                                       "azdata_cell_guid":  "0f057db9-4135-48b3-ba87-d4be38a86120"
                                   }
                  },
                  {
                      "cell_type":  "code",
                      "source":  [
                                     "    docker container run -d `\r\n",
                                     "    --publish 15789:1433 `\r\n",
                                     "    --env ACCEPT_EULA=Y `\r\n",
                                     "    --env SA_PASSWORD=Testing1122 `\r\n",
                                     "    --name sqlcontainer1 `\r\n",
                                     "    mcr.microsoft.com/mssql/server:2019-CU5-ubuntu-18.04\r\n"
                                 ],
                      "metadata":  {
                                       "azdata_cell_guid":  "e868d394-4922-44f5-be16-4660f7046c8e"
                                   },
                      "outputs":  [

                                  ],
                      "execution_count":  0
                  },
                  {
                      "cell_type":  "markdown",
                      "source":  [
                                     "\r\n",
                                     "![](../images/5.ContainerNetworking/RunningContainersOnDefaultNetwork/1.RunAContainer.png)\r\n",
                                     "We can view the networks available to us by running: -\r\n"
                                 ],
                      "metadata":  {
                                       "azdata_cell_guid":  "ce59eb19-44c2-45de-9132-4604e3ee827a"
                                   }
                  },
                  {
                      "cell_type":  "code",
                      "source":  [
                                     "    \r\n",
                                     "    docker network ls\r\n"
                                 ],
                      "metadata":  {
                                       "azdata_cell_guid":  "aee0a68d-c36d-4ab1-a75b-306a25bcfeae"
                                   },
                      "outputs":  [

                                  ],
                      "execution_count":  0
                  },
                  {
                      "cell_type":  "markdown",
                      "source":  [
                                     "\r\n",
                                     "![](../images/5.ContainerNetworking/RunningContainersOnDefaultNetwork/2.ListNetworks.png)\r\n",
                                     "1. bridge - the default network. In Docker, a bridge network is a software bridge that allows all containers connected to it to communicate.\r\n",
                                     "2. host - removes network isolation between the container and the host, aka use the host\u0027s network directly.\r\n",
                                     "3. none - disables the containers networking stack. Useful for running very isolated containers.\r\n",
                                     "If we inspect the default bridge network we can see our container attached to it: -\r\n",
                                     "\r\n"
                                 ],
                      "metadata":  {
                                       "azdata_cell_guid":  "d1a836c4-7ff1-4676-b7f4-6ed58b572de6"
                                   }
                  },
                  {
                      "cell_type":  "code",
                      "source":  [
                                     "    docker network inspect bridge\r\n"
                                 ],
                      "metadata":  {
                                       "azdata_cell_guid":  "62c7f1d5-aa49-4cac-ab7a-a93beae31a0e"
                                   },
                      "outputs":  [

                                  ],
                      "execution_count":  0
                  },
                  {
                      "cell_type":  "markdown",
                      "source":  [
                                     "\r\n",
                                     "![](../images/5.ContainerNetworking/RunningContainersOnDefaultNetwork/3.InspectBridgeNetwork.png)\r\n",
                                     "All containers on the default bridge network can communicate via their IP address. Let\u0027s blow that first container away: -\r\n",
                                     "\r\n"
                                 ],
                      "metadata":  {
                                       "azdata_cell_guid":  "8cadf9b3-c1eb-4eac-bcf0-e7c6a807f4ef"
                                   }
                  },
                  {
                      "cell_type":  "code",
                      "source":  [
                                     "    docker container rm sqlcontainer1 -f\r\n"
                                 ],
                      "metadata":  {
                                       "azdata_cell_guid":  "216fa1d3-756f-45c7-906d-d85ffa7f9eb1"
                                   },
                      "outputs":  [

                                  ],
                      "execution_count":  0
                  },
                  {
                      "cell_type":  "markdown",
                      "source":  [
                                     "\r\n",
                                     "![](../images/5.ContainerNetworking/RunningContainersOnDefaultNetwork/4.DeleteContainer.png)\r\n",
                                     "And spin up another two containers with ping installed (this is a custom image running SQL Server 2019 with ping installed): -\r\n",
                                     "\r\n"
                                 ],
                      "metadata":  {
                                       "azdata_cell_guid":  "fb77c36f-33d4-422a-9d67-b0b95e261a6d"
                                   }
                  },
                  {
                      "cell_type":  "code",
                      "source":  [
                                     "    docker container run -d `\r\n",
                                     "    --env ACCEPT_EULA=Y `\r\n",
                                     "    --env MSSQL_SA_PASSWORD=Testing1122 `\r\n",
                                     "    --name sqlcontainer2 `\r\n",
                                     "    ghcr.io/dbafromthecold/customsql2019-tools:cu5\r\n"
                                 ],
                      "metadata":  {
                                       "azdata_cell_guid":  "7574a6db-8783-41d8-b5a7-37889ce88ca1"
                                   },
                      "outputs":  [

                                  ],
                      "execution_count":  0
                  },
                  {
                      "cell_type":  "markdown",
                      "source":  [
                                     "\r\n",
                                     "and the second one\r\n",
                                     "\r\n"
                                 ],
                      "metadata":  {
                                       "azdata_cell_guid":  "50f756a5-d239-418d-9a51-6736b54bf15e"
                                   }
                  },
                  {
                      "cell_type":  "code",
                      "source":  [
                                     "    docker container run -d `\r\n",
                                     "    --env ACCEPT_EULA=Y `\r\n",
                                     "    --env MSSQL_SA_PASSWORD=Testing1122 `\r\n",
                                     "    --name sqlcontainer3 `\r\n",
                                     "    ghcr.io/dbafromthecold/customsql2019-tools:cu5\r\n"
                                 ],
                      "metadata":  {
                                       "azdata_cell_guid":  "61f7410a-83c1-462c-952b-d2c15e350fbd"
                                   },
                      "outputs":  [

                                  ],
                      "execution_count":  0
                  },
                  {
                      "cell_type":  "markdown",
                      "source":  [
                                     "\r\n",
                                     "![](../images/5.ContainerNetworking/RunningContainersOnDefaultNetwork/5.RunTwoOtherContainers.png)\r\n",
                                     "N.B. - Notice that we haven\u0027t specified the --publish flag for either of these containers! So we can\u0027t connect to SQL via localhost,PORTNUMBER, we would have to use the container\u0027s IP addresses.\r\n",
                                     "Let\u0027s have a look at the bridge network again: -\r\n",
                                     "\r\n"
                                 ],
                      "metadata":  {
                                       "azdata_cell_guid":  "adb7f8fe-14b1-4f77-ab8d-20d70d16fd9f"
                                   }
                  },
                  {
                      "cell_type":  "code",
                      "source":  [
                                     "    docker network inspect bridge\r\n"
                                 ],
                      "metadata":  {
                                       "azdata_cell_guid":  "16b4d51b-31d9-4408-b049-c6e7dd03db8f"
                                   },
                      "outputs":  [

                                  ],
                      "execution_count":  0
                  },
                  {
                      "cell_type":  "markdown",
                      "source":  [
                                     "\r\n",
                                     "![](../images/5.ContainerNetworking/RunningContainersOnDefaultNetwork/6.InspectBridgeNetworkAgain.png)\r\n",
                                     "And there we can see our two containers, with their IP addresses.\r\n",
                                     "We can grab the IP addresses directly with: -\r\n",
                                     "\r\n"
                                 ],
                      "metadata":  {
                                       "azdata_cell_guid":  "77356812-dbc9-4a29-bbb3-9dcb1f8857dc"
                                   }
                  },
                  {
                      "cell_type":  "code",
                      "source":  [
                                     "     docker inspect sqlcontainer2 --format \u0027{{ .NetworkSettings.IPAddress }}\u0027\r\n",
                                     "     docker inspect sqlcontainer3 --format \u0027{{ .NetworkSettings.IPAddress }}\u0027\r\n"
                                 ],
                      "metadata":  {
                                       "azdata_cell_guid":  "8ef775a1-42be-46be-9c11-058cff5304bf"
                                   },
                      "outputs":  [

                                  ],
                      "execution_count":  0
                  },
                  {
                      "cell_type":  "markdown",
                      "source":  [
                                     "\r\n",
                                     "![](../images/5.ContainerNetworking/RunningContainersOnDefaultNetwork/7.GetContainerIpAddresses.png)\r\n",
                                     "Cool. Let\u0027s test communication between the two containers: -\r\n",
                                     "\r\n"
                                 ],
                      "metadata":  {
                                       "azdata_cell_guid":  "237e7171-e114-43da-a04a-42ba3154ebd4"
                                   }
                  },
                  {
                      "cell_type":  "code",
                      "source":  [
                                     "     docker exec sqlcontainer2 ping 172.17.0.3 -c 4\r\n",
                                     "     docker exec sqlcontainer2 ping 172.17.0.2 -c 4\r\n"
                                 ],
                      "metadata":  {
                                       "azdata_cell_guid":  "0138b44c-1534-4408-a2d3-0958f94834f3"
                                   },
                      "outputs":  [

                                  ],
                      "execution_count":  0
                  },
                  {
                      "cell_type":  "markdown",
                      "source":  [
                                     "\r\n",
                                     "![](../images/5.ContainerNetworking/RunningContainersOnDefaultNetwork/8.PingContainers.png)\r\n",
                                     "That works! But referencing the container by name doesn\u0027t: -\r\n",
                                     "\r\n"
                                 ],
                      "metadata":  {
                                       "azdata_cell_guid":  "6124b2d8-a0f7-471a-955d-96c5a9503235"
                                   }
                  },
                  {
                      "cell_type":  "code",
                      "source":  [
                                     "    docker exec sqlcontainer2 ping sqlcontainer3 -c 4\r\n"
                                 ],
                      "metadata":  {
                                       "azdata_cell_guid":  "5d2f9639-f013-4be8-9406-ce9d79f1ef0d"
                                   },
                      "outputs":  [

                                  ],
                      "execution_count":  0
                  },
                  {
                      "cell_type":  "markdown",
                      "source":  [
                                     "\r\n",
                                     "![](../images/5.ContainerNetworking/RunningContainersOnDefaultNetwork/9.PingContainerByName.png)\r\n",
                                     "The default bridge network doesn\u0027t allow for DNS resolution of container names to IP addresses.\r\n",
                                     "There is an option we can use to get around this though. Let\u0027s blow those containers away: -\r\n",
                                     "\r\n"
                                 ],
                      "metadata":  {
                                       "azdata_cell_guid":  "87dd42c0-cf53-4874-bde5-0ab03ceb6be2"
                                   }
                  },
                  {
                      "cell_type":  "code",
                      "source":  [
                                     "    docker rm sqlcontainer2 sqlcontainer3 -f\r\n"
                                 ],
                      "metadata":  {
                                       "azdata_cell_guid":  "d935fc7b-437c-4f0d-a39d-f7036e93d663"
                                   },
                      "outputs":  [

                                  ],
                      "execution_count":  0
                  },
                  {
                      "cell_type":  "markdown",
                      "source":  [
                                     "\r\n",
                                     "![](../images/5.ContainerNetworking/RunningContainersOnDefaultNetwork/10.DeleteContainers.png)\r\n",
                                     "And spin up two new containers, using the --add-host flag: -\r\n",
                                     "\r\n"
                                 ],
                      "metadata":  {
                                       "azdata_cell_guid":  "f2fa335d-7027-4d13-a63d-60abad8d94f2"
                                   }
                  },
                  {
                      "cell_type":  "code",
                      "source":  [
                                     "    docker container run -d `\r\n",
                                     "    --env ACCEPT_EULA=Y `\r\n",
                                     "    --env MSSQL_SA_PASSWORD=Testing1122 `\r\n",
                                     "    --add-host=sqlcontainer5:172.17.0.3 `\r\n",
                                     "    --name sqlcontainer4 `\r\n",
                                     "    ghcr.io/dbafromthecold/customsql2019-tools:cu5\r\n",
                                     "    \r\n",
                                     "    docker container run -d `\r\n",
                                     "    --env ACCEPT_EULA=Y `\r\n",
                                     "    --env MSSQL_SA_PASSWORD=Testing1122 `\r\n",
                                     "    --add-host=sqlcontainer4:172.17.0.2 `\r\n",
                                     "    --name sqlcontainer5 `\r\n",
                                     "    ghcr.io/dbafromthecold/customsql2019-tools:cu5\r\n"
                                 ],
                      "metadata":  {
                                       "azdata_cell_guid":  "52f269be-a98a-4794-b69d-65a2a5278c23"
                                   },
                      "outputs":  [

                                  ],
                      "execution_count":  0
                  },
                  {
                      "cell_type":  "markdown",
                      "source":  [
                                     "\r\n",
                                     "![](../images/5.ContainerNetworking/RunningContainersOnDefaultNetwork/11.RunTwoMoreContainers.png)\r\n",
                                     "What this does is add an entry into the container host file. We can check that by running: -\r\n",
                                     "\r\n"
                                 ],
                      "metadata":  {
                                       "azdata_cell_guid":  "650af0e2-92a5-4759-89f0-8e858c5ae390"
                                   }
                  },
                  {
                      "cell_type":  "code",
                      "source":  [
                                     "    docker exec sqlcontainer4 cat /etc/hosts\r\n",
                                     "    docker exec sqlcontainer5 cat /etc/hosts\r\n"
                                 ],
                      "metadata":  {
                                       "azdata_cell_guid":  "fc1f1d57-d02f-42bf-b49d-1e7e5c7a0463"
                                   },
                      "outputs":  [

                                  ],
                      "execution_count":  0
                  },
                  {
                      "cell_type":  "markdown",
                      "source":  [
                                     "\r\n",
                                     "![](../images/5.ContainerNetworking/RunningContainersOnDefaultNetwork/12.ViewHostsFile.png)\r\n",
                                     "And there we see an entry for the other container in each. So that means we can now reference the other container by name: -\r\n",
                                     "\r\n"
                                 ],
                      "metadata":  {
                                       "azdata_cell_guid":  "4d2e2be0-84e6-422f-8833-554f032b92cd"
                                   }
                  },
                  {
                      "cell_type":  "code",
                      "source":  [
                                     "    docker exec sqlcontainer4 ping sqlcontainer5 -c 4\r\n",
                                     "    docker exec sqlcontainer5 ping sqlcontainer4 -c 4\r\n"
                                 ],
                      "metadata":  {
                                       "azdata_cell_guid":  "0e7417ce-da1b-4c5a-ba4a-e215a03ec9f3"
                                   },
                      "outputs":  [

                                  ],
                      "execution_count":  0
                  },
                  {
                      "cell_type":  "markdown",
                      "source":  [
                                     "\r\n",
                                     "![](../images/5.ContainerNetworking/RunningContainersOnDefaultNetwork/13.PingContainersByName.png)\r\n",
                                     "Ok, that does mean that we would need to know the IP address of the containers in order to add it to our container run statement.\r\n",
                                     "If we wanted to have DNS resolution of container name to IP addresses automatically, we would need to a custom network.\r\n"
                                 ],
                      "metadata":  {
                                       "azdata_cell_guid":  "c29ba940-8106-405f-977d-6e5d44f3e013"
                                   }
                  }
              ]
}
