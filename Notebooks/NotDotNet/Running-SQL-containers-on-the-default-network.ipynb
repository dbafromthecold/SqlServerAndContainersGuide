{
    "metadata":  {
                     "kernelspec":  {
                                        "name":  "powershell",
                                        "display_name":  "PowerShell"
                                    }
                 },
    "language_info":  {
                          "name":  "powershell",
                          "version":  "",
                          "codemirror_mode":  "shell",
                          "mimetype":  "text/x-sh",
                          "file_extension":  ".ps1"
                      },
    "nbformat_minor":  2,
    "nbformat":  4,
    "cells":  [
                  {
                      "cell_type":  "markdown",
                      "source":  [
                                     "\r\n",
                                     "By default, docker provides a default bridge network that we deploy containers on when we don\u0027t specify any network in our container run statement: -\r\n",
                                     "\r\n"
                                 ],
                      "metadata":  {
                                       "azdata_cell_guid":  "c162f9d2-e84b-4494-91d1-35da541114de"
                                   }
                  },
                  {
                      "cell_type":  "code",
                      "source":  [
                                     "    docker container run -d `\r\n",
                                     "    --publish 15789:1433 `\r\n",
                                     "    --env ACCEPT_EULA=Y `\r\n",
                                     "    --env SA_PASSWORD=Testing1122 `\r\n",
                                     "    --name sqlcontainer1 `\r\n",
                                     "    mcr.microsoft.com/mssql/server:2019-CU5-ubuntu-18.04\r\n"
                                 ],
                      "metadata":  {
                                       "azdata_cell_guid":  "69ca20cd-2aee-4b37-979b-81f3a61a92bb"
                                   },
                      "outputs":  [

                                  ],
                      "execution_count":  0
                  },
                  {
                      "cell_type":  "markdown",
                      "source":  [
                                     "\r\n",
                                     "![](../images/5.ContainerNetworking/RunningContainersOnDefaultNetwork/1.RunAContainer.png)\r\n",
                                     "We can view the networks available to us by running: -\r\n"
                                 ],
                      "metadata":  {
                                       "azdata_cell_guid":  "ff259746-d14a-4e8f-8b1b-674344053947"
                                   }
                  },
                  {
                      "cell_type":  "code",
                      "source":  [
                                     "    \r\n",
                                     "    docker network ls\r\n"
                                 ],
                      "metadata":  {
                                       "azdata_cell_guid":  "d5d86ece-6ebd-4208-b78f-f687a1cc1591"
                                   },
                      "outputs":  [

                                  ],
                      "execution_count":  0
                  },
                  {
                      "cell_type":  "markdown",
                      "source":  [
                                     "\r\n",
                                     "![](../images/5.ContainerNetworking/RunningContainersOnDefaultNetwork/2.ListNetworks.png)\r\n",
                                     "1. bridge - the default network. In Docker, a bridge network is a software bridge that allows all containers connected to it to communicate.\r\n",
                                     "2. host - removes network isolation between the container and the host, aka use the host\u0027s network directly.\r\n",
                                     "3. none - disables the containers networking stack. Useful for running very isolated containers.\r\n",
                                     "If we inspect the default bridge network we can see our container attached to it: -\r\n",
                                     "\r\n"
                                 ],
                      "metadata":  {
                                       "azdata_cell_guid":  "7b64316c-7d80-4e86-8497-e85409ca8fa0"
                                   }
                  },
                  {
                      "cell_type":  "code",
                      "source":  [
                                     "    docker network inspect bridge\r\n"
                                 ],
                      "metadata":  {
                                       "azdata_cell_guid":  "0b1d417c-03c4-4e8b-b0b8-f56b5fcb2791"
                                   },
                      "outputs":  [

                                  ],
                      "execution_count":  0
                  },
                  {
                      "cell_type":  "markdown",
                      "source":  [
                                     "\r\n",
                                     "![](../images/5.ContainerNetworking/RunningContainersOnDefaultNetwork/3.InspectBridgeNetwork.png)\r\n",
                                     "All containers on the default bridge network can communicate via their IP address. Let\u0027s blow that first container away: -\r\n",
                                     "\r\n"
                                 ],
                      "metadata":  {
                                       "azdata_cell_guid":  "37885e59-2e88-4f77-818b-be7a70d43bd8"
                                   }
                  },
                  {
                      "cell_type":  "code",
                      "source":  [
                                     "    docker container rm sqlcontainer1 -f\r\n"
                                 ],
                      "metadata":  {
                                       "azdata_cell_guid":  "e2c6ee10-5885-42a0-a339-7b7cfbca4afe"
                                   },
                      "outputs":  [

                                  ],
                      "execution_count":  0
                  },
                  {
                      "cell_type":  "markdown",
                      "source":  [
                                     "\r\n",
                                     "![](../images/5.ContainerNetworking/RunningContainersOnDefaultNetwork/4.DeleteContainer.png)\r\n",
                                     "And spin up another two containers with ping installed (this is a custom image running SQL Server 2019 with ping installed): -\r\n",
                                     "\r\n"
                                 ],
                      "metadata":  {
                                       "azdata_cell_guid":  "e20ca7a4-28e0-479f-9774-fd9f37bef1d7"
                                   }
                  },
                  {
                      "cell_type":  "code",
                      "source":  [
                                     "    docker container run -d `\r\n",
                                     "    --env ACCEPT_EULA=Y `\r\n",
                                     "    --env MSSQL_SA_PASSWORD=Testing1122 `\r\n",
                                     "    --name sqlcontainer2 `\r\n",
                                     "    ghcr.io/dbafromthecold/customsql2019-tools:cu5\r\n"
                                 ],
                      "metadata":  {
                                       "azdata_cell_guid":  "95c7b808-5d1b-4168-9344-e26d390ac289"
                                   },
                      "outputs":  [

                                  ],
                      "execution_count":  0
                  },
                  {
                      "cell_type":  "markdown",
                      "source":  [
                                     "\r\n",
                                     "and the second one\r\n",
                                     "\r\n"
                                 ],
                      "metadata":  {
                                       "azdata_cell_guid":  "66959c63-5934-41f2-9af9-d4f8fe9bc2d6"
                                   }
                  },
                  {
                      "cell_type":  "code",
                      "source":  [
                                     "    docker container run -d `\r\n",
                                     "    --env ACCEPT_EULA=Y `\r\n",
                                     "    --env MSSQL_SA_PASSWORD=Testing1122 `\r\n",
                                     "    --name sqlcontainer3 `\r\n",
                                     "    ghcr.io/dbafromthecold/customsql2019-tools:cu5\r\n"
                                 ],
                      "metadata":  {
                                       "azdata_cell_guid":  "445f9151-cb11-4e3e-859b-703d8c1a9251"
                                   },
                      "outputs":  [

                                  ],
                      "execution_count":  0
                  },
                  {
                      "cell_type":  "markdown",
                      "source":  [
                                     "\r\n",
                                     "![](../images/5.ContainerNetworking/RunningContainersOnDefaultNetwork/5.RunTwoOtherContainers.png)\r\n",
                                     "N.B. - Notice that we haven\u0027t specified the --publish flag for either of these containers! So we can\u0027t connect to SQL via localhost,PORTNUMBER, we would have to use the container\u0027s IP addresses.\r\n",
                                     "Let\u0027s have a look at the bridge network again: -\r\n",
                                     "\r\n"
                                 ],
                      "metadata":  {
                                       "azdata_cell_guid":  "18dd2140-9b0a-42b0-bc1c-d63d3a97b03a"
                                   }
                  },
                  {
                      "cell_type":  "code",
                      "source":  [
                                     "    docker network inspect bridge\r\n"
                                 ],
                      "metadata":  {
                                       "azdata_cell_guid":  "5c5a64d5-3009-45d7-b09d-115ef706f178"
                                   },
                      "outputs":  [

                                  ],
                      "execution_count":  0
                  },
                  {
                      "cell_type":  "markdown",
                      "source":  [
                                     "\r\n",
                                     "![](../images/5.ContainerNetworking/RunningContainersOnDefaultNetwork/6.InspectBridgeNetworkAgain.png)\r\n",
                                     "And there we can see our two containers, with their IP addresses.\r\n",
                                     "We can grab the IP addresses directly with: -\r\n",
                                     "\r\n"
                                 ],
                      "metadata":  {
                                       "azdata_cell_guid":  "d5045107-1575-4e71-921f-a5b709085c23"
                                   }
                  },
                  {
                      "cell_type":  "code",
                      "source":  [
                                     "     docker inspect sqlcontainer2 --format \u0027{{ .NetworkSettings.IPAddress }}\u0027\r\n",
                                     "     docker inspect sqlcontainer3 --format \u0027{{ .NetworkSettings.IPAddress }}\u0027\r\n"
                                 ],
                      "metadata":  {
                                       "azdata_cell_guid":  "1997c390-34b5-4299-be65-a8e900aec918"
                                   },
                      "outputs":  [

                                  ],
                      "execution_count":  0
                  },
                  {
                      "cell_type":  "markdown",
                      "source":  [
                                     "\r\n",
                                     "![](../images/5.ContainerNetworking/RunningContainersOnDefaultNetwork/7.GetContainerIpAddresses.png)\r\n",
                                     "Cool. Let\u0027s test communication between the two containers: -\r\n",
                                     "\r\n"
                                 ],
                      "metadata":  {
                                       "azdata_cell_guid":  "056af152-a0d0-41ef-84a7-4b4ec7ac6a4e"
                                   }
                  },
                  {
                      "cell_type":  "code",
                      "source":  [
                                     "     docker exec sqlcontainer2 ping 172.17.0.3 -c 4\r\n",
                                     "     docker exec sqlcontainer2 ping 172.17.0.2 -c 4\r\n"
                                 ],
                      "metadata":  {
                                       "azdata_cell_guid":  "ed31c515-f146-45b2-a63e-b687ee2366df"
                                   },
                      "outputs":  [

                                  ],
                      "execution_count":  0
                  },
                  {
                      "cell_type":  "markdown",
                      "source":  [
                                     "\r\n",
                                     "![](../images/5.ContainerNetworking/RunningContainersOnDefaultNetwork/8.PingContainers.png)\r\n",
                                     "That works! But referencing the container by name doesn\u0027t: -\r\n",
                                     "\r\n"
                                 ],
                      "metadata":  {
                                       "azdata_cell_guid":  "e24d7eeb-eab3-4c21-bd0d-ae92d0bb9a92"
                                   }
                  },
                  {
                      "cell_type":  "code",
                      "source":  [
                                     "    docker exec sqlcontainer2 ping sqlcontainer3 -c 4\r\n"
                                 ],
                      "metadata":  {
                                       "azdata_cell_guid":  "294cd61b-415d-494c-8c4a-fbeca7d72196"
                                   },
                      "outputs":  [

                                  ],
                      "execution_count":  0
                  },
                  {
                      "cell_type":  "markdown",
                      "source":  [
                                     "\r\n",
                                     "![](../images/5.ContainerNetworking/RunningContainersOnDefaultNetwork/9.PingContainerByName.png)\r\n",
                                     "The default bridge network doesn\u0027t allow for DNS resolution of container names to IP addresses.\r\n",
                                     "There is an option we can use to get around this though. Let\u0027s blow those containers away: -\r\n",
                                     "\r\n"
                                 ],
                      "metadata":  {
                                       "azdata_cell_guid":  "fee1ba94-86e3-4a6b-b674-f323889ea8cf"
                                   }
                  },
                  {
                      "cell_type":  "code",
                      "source":  [
                                     "    docker rm sqlcontainer2 sqlcontainer3 -f\r\n"
                                 ],
                      "metadata":  {
                                       "azdata_cell_guid":  "681dee27-8362-43b0-ba2c-d276cb28622a"
                                   },
                      "outputs":  [

                                  ],
                      "execution_count":  0
                  },
                  {
                      "cell_type":  "markdown",
                      "source":  [
                                     "\r\n",
                                     "![](../images/5.ContainerNetworking/RunningContainersOnDefaultNetwork/10.DeleteContainers.png)\r\n",
                                     "And spin up two new containers, using the --add-host flag: -\r\n",
                                     "\r\n"
                                 ],
                      "metadata":  {
                                       "azdata_cell_guid":  "19b44f78-474b-497a-b392-b89265b358e5"
                                   }
                  },
                  {
                      "cell_type":  "code",
                      "source":  [
                                     "    docker container run -d `\r\n",
                                     "    --env ACCEPT_EULA=Y `\r\n",
                                     "    --env MSSQL_SA_PASSWORD=Testing1122 `\r\n",
                                     "    --add-host=sqlcontainer5:172.17.0.3 `\r\n",
                                     "    --name sqlcontainer4 `\r\n",
                                     "    ghcr.io/dbafromthecold/customsql2019-tools:cu5\r\n",
                                     "    \r\n",
                                     "    docker container run -d `\r\n",
                                     "    --env ACCEPT_EULA=Y `\r\n",
                                     "    --env MSSQL_SA_PASSWORD=Testing1122 `\r\n",
                                     "    --add-host=sqlcontainer4:172.17.0.2 `\r\n",
                                     "    --name sqlcontainer5 `\r\n",
                                     "    ghcr.io/dbafromthecold/customsql2019-tools:cu5\r\n"
                                 ],
                      "metadata":  {
                                       "azdata_cell_guid":  "e820b2b5-a8f2-4b01-b457-36055af7fa46"
                                   },
                      "outputs":  [

                                  ],
                      "execution_count":  0
                  },
                  {
                      "cell_type":  "markdown",
                      "source":  [
                                     "\r\n",
                                     "![](../images/5.ContainerNetworking/RunningContainersOnDefaultNetwork/11.RunTwoMoreContainers.png)\r\n",
                                     "What this does is add an entry into the container host file. We can check that by running: -\r\n",
                                     "\r\n"
                                 ],
                      "metadata":  {
                                       "azdata_cell_guid":  "46e4e50b-ad08-4fe2-bba0-5bcc4feac951"
                                   }
                  },
                  {
                      "cell_type":  "code",
                      "source":  [
                                     "    docker exec sqlcontainer4 cat /etc/hosts\r\n",
                                     "    docker exec sqlcontainer5 cat /etc/hosts\r\n"
                                 ],
                      "metadata":  {
                                       "azdata_cell_guid":  "deaccce1-4b25-46b6-b1c2-747214667740"
                                   },
                      "outputs":  [

                                  ],
                      "execution_count":  0
                  },
                  {
                      "cell_type":  "markdown",
                      "source":  [
                                     "\r\n",
                                     "![](../images/5.ContainerNetworking/RunningContainersOnDefaultNetwork/12.ViewHostsFile.png)\r\n",
                                     "And there we see an entry for the other container in each. So that means we can now reference the other container by name: -\r\n",
                                     "\r\n"
                                 ],
                      "metadata":  {
                                       "azdata_cell_guid":  "2f29ab58-d4a7-4079-83c9-5e5260a6e412"
                                   }
                  },
                  {
                      "cell_type":  "code",
                      "source":  [
                                     "    docker exec sqlcontainer4 ping sqlcontainer5 -c 4\r\n",
                                     "    docker exec sqlcontainer5 ping sqlcontainer4 -c 4\r\n"
                                 ],
                      "metadata":  {
                                       "azdata_cell_guid":  "38482aa1-7348-4816-a126-e65668722f3f"
                                   },
                      "outputs":  [

                                  ],
                      "execution_count":  0
                  }
              ]
}
