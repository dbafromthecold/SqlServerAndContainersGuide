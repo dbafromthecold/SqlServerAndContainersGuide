{
    "metadata":  {
                     "kernelspec":  {
                                        "name":  "powershell",
                                        "display_name":  "PowerShell"
                                    }
                 },
    "language_info":  {
                          "name":  "powershell",
                          "version":  "",
                          "codemirror_mode":  "shell",
                          "mimetype":  "text/x-sh",
                          "file_extension":  ".ps1"
                      },
    "nbformat_minor":  2,
    "nbformat":  4,
    "cells":  [
                  {
                      "cell_type":  "markdown",
                      "source":  [
                                     "\r\n",
                                     "On previous pages we\u0027ve gone through how to persist databases from one container to another by using: -\r\n",
                                     "> [Named Volumes](https://github.com/dbafromthecold/SqlServerAndContainersGuide/wiki/Persisting-data-using-named-volumes)<br>\r\n",
                                     "> [Data Volume Containers](https://github.com/dbafromthecold/SqlServerAndContainersGuide/wiki/Persisting-data-using-data-volume-containers)\r\n",
                                     "Another way to is mount a volume from the Docker host into a container.\r\n",
                                     "Let\u0027s create a couple of directories on the host: -\r\n",
                                     "\r\n"
                                 ],
                      "metadata":  {
                                       "azdata_cell_guid":  "ee483668-83f3-48ec-b0d1-02d13580f01c"
                                   }
                  },
                  {
                      "cell_type":  "code",
                      "source":  [
                                     "    mkdir C:\\sqlserver\\data\r\n",
                                     "    mkdir C:\\sqlserver\\log\r\n"
                                 ],
                      "metadata":  {
                                       "azdata_cell_guid":  "103bf21f-6f7c-41a1-af6f-5e5aa02eadf5"
                                   },
                      "outputs":  [

                                  ],
                      "execution_count":  0
                  },
                  {
                      "cell_type":  "markdown",
                      "source":  [
                                     "\r\n",
                                     "![](../images/3.PersistingData/BindMounts/1.CreateVolumesOnHost.png)\r\n",
                                     "Now, run a container: -\r\n",
                                     "\r\n"
                                 ],
                      "metadata":  {
                                       "azdata_cell_guid":  "fa0ffec8-605e-43e2-9526-5a90722163f0"
                                   }
                  },
                  {
                      "cell_type":  "code",
                      "source":  [
                                     "    docker container run -d  `\r\n",
                                     "    --publish 15789:1433 `\r\n",
                                     "    --volume C:\\sqlserver\\data:/opt/sqlserver/data `\r\n",
                                     "    --volume C:\\sqlserver\\log:/opt/sqlserver/log `\r\n",
                                     "    --env ACCEPT_EULA=Y `\r\n",
                                     "    --env MSSQL_SA_PASSWORD=Testing1122 `\r\n",
                                     "    --env MSSQL_DATA_DIR=/opt/sqlserver/data `\r\n",
                                     "    --env MSSQL_LOG_DIR=/opt/sqlserver/log `\r\n",
                                     "    --name sqlcontainer1 `\r\n",
                                     "    mcr.microsoft.com/mssql/server:2019-CU5-ubuntu-18.04\r\n"
                                 ],
                      "metadata":  {
                                       "azdata_cell_guid":  "8d45c75c-3942-47ec-8e24-91c01ebf6d4e"
                                   },
                      "outputs":  [

                                  ],
                      "execution_count":  0
                  },
                  {
                      "cell_type":  "markdown",
                      "source":  [
                                     "\r\n",
                                     "This will map the volumes on the host to /opt/sqlserver/data and /opt/sqlserver/log in the container. \r\n",
                                     "We\u0027re also using environment variables to set the SQL Server default data and log locations to those volumes in the container.\r\n",
                                     "Let\u0027s confirm that the container is up: -\r\n",
                                     "\r\n"
                                 ],
                      "metadata":  {
                                       "azdata_cell_guid":  "d75d9e2c-3941-411a-8f12-f360fcbeb098"
                                   }
                  },
                  {
                      "cell_type":  "code",
                      "source":  [
                                     "    docker container ls -a\r\n"
                                 ],
                      "metadata":  {
                                       "azdata_cell_guid":  "3eb75e8b-e44c-496d-8636-b755b0605639"
                                   },
                      "outputs":  [

                                  ],
                      "execution_count":  0
                  },
                  {
                      "cell_type":  "markdown",
                      "source":  [
                                     "\r\n",
                                     "![](../images/3.PersistingData/BindMounts/2.RunSqlContainer.png)\r\n",
                                     "And now let\u0027s create a database: -\r\n",
                                     "\r\n"
                                 ],
                      "metadata":  {
                                       "azdata_cell_guid":  "14b1367c-ad57-4384-b40c-e36b4c9354ec"
                                   }
                  },
                  {
                      "cell_type":  "code",
                      "source":  [
                                     "    mssql-cli -S localhost,15789 -U sa -P Testing1122 -Q \"CREATE DATABASE [testdatabase]\"\r\n"
                                 ],
                      "metadata":  {
                                       "azdata_cell_guid":  "3d443273-1528-40ca-acda-6ad8897c3a88"
                                   },
                      "outputs":  [

                                  ],
                      "execution_count":  0
                  },
                  {
                      "cell_type":  "markdown",
                      "source":  [
                                     "\r\n",
                                     "No need to set the data and log file location as we\u0027ve set the defaults to the volumes in the container that are mapped to the volumes on the host.\r\n",
                                     "We can check the database files by running: -\r\n",
                                     "\r\n"
                                 ],
                      "metadata":  {
                                       "azdata_cell_guid":  "1842761d-1915-4967-a28f-ea3b930e82e0"
                                   }
                  },
                  {
                      "cell_type":  "code",
                      "source":  [
                                     "    mssql-cli -S localhost,15789 -U sa -P Testing1122 -Q \"USE [testdatabase]; EXEC sp_helpfile;\"\r\n"
                                 ],
                      "metadata":  {
                                       "azdata_cell_guid":  "9597ca37-e3b1-432a-b4fd-ecfa63c4633f"
                                   },
                      "outputs":  [

                                  ],
                      "execution_count":  0
                  },
                  {
                      "cell_type":  "markdown",
                      "source":  [
                                     "\r\n",
                                     "![](../images/3.PersistingData/BindMounts/3.ConfirmDatabaseFileLocation.png)\r\n",
                                     "And we can confirm the files on the host by running: -\r\n",
                                     "\r\n"
                                 ],
                      "metadata":  {
                                       "azdata_cell_guid":  "9b51ffdd-0d65-455f-aaa5-cdc9925068f6"
                                   }
                  },
                  {
                      "cell_type":  "code",
                      "source":  [
                                     "    ls C:\\sqlserver\\data\r\n",
                                     "    ls C:\\sqlserver\\log\r\n"
                                 ],
                      "metadata":  {
                                       "azdata_cell_guid":  "73ec8e16-7758-4094-84af-28f040f944ca"
                                   },
                      "outputs":  [

                                  ],
                      "execution_count":  0
                  },
                  {
                      "cell_type":  "markdown",
                      "source":  [
                                     "\r\n",
                                     "![](../images/3.PersistingData/BindMounts/4.ConfirmDatabaseFilesOnHost.png)\r\n",
                                     "And there are the database files on the host!\r\n",
                                     "Ok, blow the container away: -\r\n",
                                     "\r\n"
                                 ],
                      "metadata":  {
                                       "azdata_cell_guid":  "aa5112f0-8e82-4522-a8f2-951c73d491f7"
                                   }
                  },
                  {
                      "cell_type":  "code",
                      "source":  [
                                     "    docker rm sqlcontainer1 -f\r\n"
                                 ],
                      "metadata":  {
                                       "azdata_cell_guid":  "964377f2-ff1f-42ec-899a-dd92457e37f6"
                                   },
                      "outputs":  [

                                  ],
                      "execution_count":  0
                  },
                  {
                      "cell_type":  "markdown",
                      "source":  [
                                     "\r\n",
                                     "And spin up a new container, remapping the volumes from the host: -\r\n",
                                     "\r\n"
                                 ],
                      "metadata":  {
                                       "azdata_cell_guid":  "09456f56-a431-46aa-9023-88fec04249e2"
                                   }
                  },
                  {
                      "cell_type":  "code",
                      "source":  [
                                     "    docker container run -d  `\r\n",
                                     "    --publish 15799:1433 `\r\n",
                                     "    --volume C:\\sqlserver\\data:/opt/sqlserver/data `\r\n",
                                     "    --volume C:\\sqlserver\\log:/opt/sqlserver/log `\r\n",
                                     "    --env ACCEPT_EULA=Y `\r\n",
                                     "    --env MSSQL_SA_PASSWORD=Testing1122 `\r\n",
                                     "    --env MSSQL_DATA_DIR=/opt/sqlserver/data `\r\n",
                                     "    --env MSSQL_LOG_DIR=/opt/sqlserver/log `\r\n",
                                     "    --name sqlcontainer2 `\r\n",
                                     "    mcr.microsoft.com/mssql/server:2019-CU5-ubuntu-18.04\r\n"
                                 ],
                      "metadata":  {
                                       "azdata_cell_guid":  "9974b6e8-4293-4871-94a0-bd7ac1b91d77"
                                   },
                      "outputs":  [

                                  ],
                      "execution_count":  0
                  },
                  {
                      "cell_type":  "markdown",
                      "source":  [
                                     "\r\n",
                                     "Confirm the container is up and running: -\r\n",
                                     "\r\n"
                                 ],
                      "metadata":  {
                                       "azdata_cell_guid":  "8e7971e7-77f0-4827-928c-6d5ad2307d20"
                                   }
                  },
                  {
                      "cell_type":  "code",
                      "source":  [
                                     "     docker container ls -a\r\n"
                                 ],
                      "metadata":  {
                                       "azdata_cell_guid":  "d0f2c309-bf74-4a0b-bda2-a1dbf6c6b38e"
                                   },
                      "outputs":  [

                                  ],
                      "execution_count":  0
                  },
                  {
                      "cell_type":  "markdown",
                      "source":  [
                                     "\r\n",
                                     "![](../images/3.PersistingData/BindMounts/5.RunSecondSqlContainer.png)\r\n",
                                     "Cool. Ok, now as we didn\u0027t persist the master database location we\u0027ll need to manually attach the database into SQL in the new container: -\r\n",
                                     "\r\n"
                                 ],
                      "metadata":  {
                                       "azdata_cell_guid":  "d13997bb-f681-4d48-abcc-ca7b45e7afdd"
                                   }
                  },
                  {
                      "cell_type":  "code",
                      "source":  [
                                     "     mssql-cli -S localhost,15799 -U sa -P Testing1122 `\r\n",
                                     "     -Q \"CREATE DATABASE [testdatabase1] ON PRIMARY (NAME=\u0027testdatabase1\u0027,FILENAME=\u0027/var/opt/sqlserver/data testdatabase1.mdf\u0027) LOG ON (NAME=\u0027testdatabase1_log\u0027,FILENAME=\u0027/var/opt/sqlserver/log/testdatabase1_log.ldf\u0027) FOR ATTACH;\"\r\n"
                                 ],
                      "metadata":  {
                                       "azdata_cell_guid":  "c858deb7-0819-4850-9f2f-fa660916ce87"
                                   },
                      "outputs":  [

                                  ],
                      "execution_count":  0
                  },
                  {
                      "cell_type":  "markdown",
                      "source":  [
                                     "\r\n",
                                     "And now check that the database is there: -\r\n",
                                     "\r\n"
                                 ],
                      "metadata":  {
                                       "azdata_cell_guid":  "5886b193-6c8e-4a9f-bd21-30fcbe89940e"
                                   }
                  },
                  {
                      "cell_type":  "code",
                      "source":  [
                                     "     mssql-cli -S localhost,15799 -U sa -P Testing1122 -Q \"SELECT [name] FROM sys.databases;\"\r\n"
                                 ],
                      "metadata":  {
                                       "azdata_cell_guid":  "2887f108-a029-47b4-86e8-d5fc54a12333"
                                   },
                      "outputs":  [

                                  ],
                      "execution_count":  0
                  },
                  {
                      "cell_type":  "markdown",
                      "source":  [
                                     "\r\n",
                                     "![](../images/3.PersistingData/BindMounts/6.AttachDatabaseToSql.png)\r\n",
                                     "And there\u0027s the database! We\u0027ve persisted a database from one container to another by mounting volumes from the host.\r\n"
                                 ],
                      "metadata":  {
                                       "azdata_cell_guid":  "e356ebf7-d77f-458f-9873-c4fd2f99a22f"
                                   }
                  }
              ]
}
