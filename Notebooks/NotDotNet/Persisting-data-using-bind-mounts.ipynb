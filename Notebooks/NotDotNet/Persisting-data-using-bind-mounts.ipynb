{
    "metadata":  {
                     "kernelspec":  {
                                        "name":  "powershell",
                                        "display_name":  "PowerShell"
                                    }
                 },
    "language_info":  {
                          "name":  "powershell",
                          "version":  "",
                          "codemirror_mode":  "shell",
                          "mimetype":  "text/x-sh",
                          "file_extension":  ".ps1"
                      },
    "nbformat_minor":  2,
    "nbformat":  4,
    "cells":  [
                  {
                      "cell_type":  "markdown",
                      "source":  [
                                     "\r\n",
                                     "On previous pages we\u0027ve gone through how to persist databases from one container to another by using: -\r\n",
                                     "> [Named Volumes](https://github.com/dbafromthecold/SqlServerAndContainersGuide/wiki/Persisting-data-using-named-volumes)<br>\r\n",
                                     "> [Data Volume Containers](https://github.com/dbafromthecold/SqlServerAndContainersGuide/wiki/Persisting-data-using-data-volume-containers)\r\n",
                                     "Another way to is mount a volume from the Docker host into a container.\r\n",
                                     "Let\u0027s create a couple of directories on the host: -\r\n",
                                     "\r\n"
                                 ],
                      "metadata":  {
                                       "azdata_cell_guid":  "e4b62d83-d5ab-4adf-a9c4-bd33bb9b6e54"
                                   }
                  },
                  {
                      "cell_type":  "code",
                      "source":  [
                                     "    mkdir C:\\sqlserver\\data\r\n",
                                     "    mkdir C:\\sqlserver\\log\r\n"
                                 ],
                      "metadata":  {
                                       "azdata_cell_guid":  "74f28c82-40cb-4f4a-81b4-f90f8512f4e8"
                                   },
                      "outputs":  [

                                  ],
                      "execution_count":  0
                  },
                  {
                      "cell_type":  "markdown",
                      "source":  [
                                     "\r\n",
                                     "![](../images/3.PersistingData/BindMounts/1.CreateVolumesOnHost.png)\r\n",
                                     "Now, run a container: -\r\n",
                                     "\r\n"
                                 ],
                      "metadata":  {
                                       "azdata_cell_guid":  "13987d52-6290-4617-a0b2-01aab1358085"
                                   }
                  },
                  {
                      "cell_type":  "code",
                      "source":  [
                                     "    docker container run -d  `\r\n",
                                     "    --publish 15789:1433 `\r\n",
                                     "    --volume C:\\sqlserver\\data:/opt/sqlserver/data `\r\n",
                                     "    --volume C:\\sqlserver\\log:/opt/sqlserver/log `\r\n",
                                     "    --env ACCEPT_EULA=Y `\r\n",
                                     "    --env MSSQL_SA_PASSWORD=Testing1122 `\r\n",
                                     "    --env MSSQL_DATA_DIR=/opt/sqlserver/data `\r\n",
                                     "    --env MSSQL_LOG_DIR=/opt/sqlserver/log `\r\n",
                                     "    --name sqlcontainer1 `\r\n",
                                     "    mcr.microsoft.com/mssql/server:2019-CU5-ubuntu-18.04\r\n"
                                 ],
                      "metadata":  {
                                       "azdata_cell_guid":  "b9dc9329-aa99-4663-878b-86c30d8b99ba"
                                   },
                      "outputs":  [

                                  ],
                      "execution_count":  0
                  },
                  {
                      "cell_type":  "markdown",
                      "source":  [
                                     "\r\n",
                                     "This will map the volumes on the host to /opt/sqlserver/data and /opt/sqlserver/log in the container. \r\n",
                                     "We\u0027re also using environment variables to set the SQL Server default data and log locations to those volumes in the container.\r\n",
                                     "Let\u0027s confirm that the container is up: -\r\n",
                                     "\r\n"
                                 ],
                      "metadata":  {
                                       "azdata_cell_guid":  "9a25ce70-6919-463b-9de8-508599164db5"
                                   }
                  },
                  {
                      "cell_type":  "code",
                      "source":  [
                                     "    docker container ls -a\r\n"
                                 ],
                      "metadata":  {
                                       "azdata_cell_guid":  "ba205a66-7e05-4427-aa2e-7d5a6666cd91"
                                   },
                      "outputs":  [

                                  ],
                      "execution_count":  0
                  },
                  {
                      "cell_type":  "markdown",
                      "source":  [
                                     "\r\n",
                                     "![](../images/3.PersistingData/BindMounts/2.RunSqlContainer.png)\r\n",
                                     "And now let\u0027s create a database: -\r\n",
                                     "\r\n"
                                 ],
                      "metadata":  {
                                       "azdata_cell_guid":  "c26bf578-64fe-4958-a408-e491940a10f0"
                                   }
                  },
                  {
                      "cell_type":  "code",
                      "source":  [
                                     "    mssql-cli -S localhost,15789 -U sa -P Testing1122 -Q \"CREATE DATABASE [testdatabase]\"\r\n"
                                 ],
                      "metadata":  {
                                       "azdata_cell_guid":  "0556d4d5-f1ba-42b9-97ed-f2f6462abe30"
                                   },
                      "outputs":  [

                                  ],
                      "execution_count":  0
                  },
                  {
                      "cell_type":  "markdown",
                      "source":  [
                                     "\r\n",
                                     "No need to set the data and log file location as we\u0027ve set the defaults to the volumes in the container that are mapped to the volumes on the host.\r\n",
                                     "We can check the database files by running: -\r\n",
                                     "\r\n"
                                 ],
                      "metadata":  {
                                       "azdata_cell_guid":  "eca4b28d-495b-4a88-9baa-cfe13cdc97dd"
                                   }
                  },
                  {
                      "cell_type":  "code",
                      "source":  [
                                     "    mssql-cli -S localhost,15789 -U sa -P Testing1122 -Q \"USE [testdatabase]; EXEC sp_helpfile;\"\r\n"
                                 ],
                      "metadata":  {
                                       "azdata_cell_guid":  "526e880c-f620-43c8-afee-aec140109f52"
                                   },
                      "outputs":  [

                                  ],
                      "execution_count":  0
                  },
                  {
                      "cell_type":  "markdown",
                      "source":  [
                                     "\r\n",
                                     "![](../images/3.PersistingData/BindMounts/3.ConfirmDatabaseFileLocation.png)\r\n",
                                     "And we can confirm the files on the host by running: -\r\n",
                                     "\r\n"
                                 ],
                      "metadata":  {
                                       "azdata_cell_guid":  "ae6583c3-03df-48b2-8dde-3a2e3498304d"
                                   }
                  },
                  {
                      "cell_type":  "code",
                      "source":  [
                                     "    ls C:\\sqlserver\\data\r\n",
                                     "    ls C:\\sqlserver\\log\r\n"
                                 ],
                      "metadata":  {
                                       "azdata_cell_guid":  "9911e2b4-3b77-43d1-bcaf-c16af03d9a86"
                                   },
                      "outputs":  [

                                  ],
                      "execution_count":  0
                  },
                  {
                      "cell_type":  "markdown",
                      "source":  [
                                     "\r\n",
                                     "![](../images/3.PersistingData/BindMounts/4.ConfirmDatabaseFilesOnHost.png)\r\n",
                                     "And there are the database files on the host!\r\n",
                                     "Ok, blow the container away: -\r\n",
                                     "\r\n"
                                 ],
                      "metadata":  {
                                       "azdata_cell_guid":  "f1b71f8a-13fc-413e-bf9c-9b8c27055dc0"
                                   }
                  },
                  {
                      "cell_type":  "code",
                      "source":  [
                                     "    docker rm sqlcontainer1 -f\r\n"
                                 ],
                      "metadata":  {
                                       "azdata_cell_guid":  "2684fb9f-39a5-490c-a4a3-72da71d1c177"
                                   },
                      "outputs":  [

                                  ],
                      "execution_count":  0
                  },
                  {
                      "cell_type":  "markdown",
                      "source":  [
                                     "\r\n",
                                     "And spin up a new container, remapping the volumes from the host: -\r\n",
                                     "\r\n"
                                 ],
                      "metadata":  {
                                       "azdata_cell_guid":  "2feeaf82-e334-40e9-8627-189a3b7e8ea6"
                                   }
                  },
                  {
                      "cell_type":  "code",
                      "source":  [
                                     "    docker container run -d  `\r\n",
                                     "    --publish 15799:1433 `\r\n",
                                     "    --volume C:\\sqlserver\\data:/opt/sqlserver/data `\r\n",
                                     "    --volume C:\\sqlserver\\log:/opt/sqlserver/log `\r\n",
                                     "    --env ACCEPT_EULA=Y `\r\n",
                                     "    --env MSSQL_SA_PASSWORD=Testing1122 `\r\n",
                                     "    --env MSSQL_DATA_DIR=/opt/sqlserver/data `\r\n",
                                     "    --env MSSQL_LOG_DIR=/opt/sqlserver/log `\r\n",
                                     "    --name sqlcontainer2 `\r\n",
                                     "    mcr.microsoft.com/mssql/server:2019-CU5-ubuntu-18.04\r\n"
                                 ],
                      "metadata":  {
                                       "azdata_cell_guid":  "dae82e3f-f9ac-4664-bddb-65a50d4c5d51"
                                   },
                      "outputs":  [

                                  ],
                      "execution_count":  0
                  },
                  {
                      "cell_type":  "markdown",
                      "source":  [
                                     "\r\n",
                                     "Confirm the container is up and running: -\r\n",
                                     "\r\n"
                                 ],
                      "metadata":  {
                                       "azdata_cell_guid":  "af01cd6d-f528-400b-b5a2-b20617387655"
                                   }
                  },
                  {
                      "cell_type":  "code",
                      "source":  [
                                     "     docker container ls -a\r\n"
                                 ],
                      "metadata":  {
                                       "azdata_cell_guid":  "757a7da1-d35c-4ac9-8293-baa62730b92b"
                                   },
                      "outputs":  [

                                  ],
                      "execution_count":  0
                  },
                  {
                      "cell_type":  "markdown",
                      "source":  [
                                     "\r\n",
                                     "![](../images/3.PersistingData/BindMounts/5.RunSecondSqlContainer.png)\r\n",
                                     "Cool. Ok, now as we didn\u0027t persist the master database location we\u0027ll need to manually attach the database into SQL in the new container: -\r\n",
                                     "\r\n"
                                 ],
                      "metadata":  {
                                       "azdata_cell_guid":  "59ea8272-c66d-40aa-853b-fbc90a4cb2c8"
                                   }
                  },
                  {
                      "cell_type":  "code",
                      "source":  [
                                     "     mssql-cli -S localhost,15799 -U sa -P Testing1122 `\r\n",
                                     "     -Q \"CREATE DATABASE [testdatabase1] ON PRIMARY (NAME=\u0027testdatabase1\u0027,FILENAME=\u0027/var/opt/sqlserver/data testdatabase1.mdf\u0027) LOG ON (NAME=\u0027testdatabase1_log\u0027,FILENAME=\u0027/var/opt/sqlserver/log/testdatabase1_log.ldf\u0027) FOR ATTACH;\"\r\n"
                                 ],
                      "metadata":  {
                                       "azdata_cell_guid":  "64d6b348-3e42-41ab-8d2b-6d55210c6f49"
                                   },
                      "outputs":  [

                                  ],
                      "execution_count":  0
                  },
                  {
                      "cell_type":  "markdown",
                      "source":  [
                                     "\r\n",
                                     "And now check that the database is there: -\r\n",
                                     "\r\n"
                                 ],
                      "metadata":  {
                                       "azdata_cell_guid":  "d25c0b33-b6dc-4375-9b6b-e0ea81e91385"
                                   }
                  },
                  {
                      "cell_type":  "code",
                      "source":  [
                                     "     mssql-cli -S localhost,15799 -U sa -P Testing1122 -Q \"SELECT [name] FROM sys.databases;\"\r\n"
                                 ],
                      "metadata":  {
                                       "azdata_cell_guid":  "5bd3873b-64b0-4d04-a825-9475fd0050ad"
                                   },
                      "outputs":  [

                                  ],
                      "execution_count":  0
                  }
              ]
}
