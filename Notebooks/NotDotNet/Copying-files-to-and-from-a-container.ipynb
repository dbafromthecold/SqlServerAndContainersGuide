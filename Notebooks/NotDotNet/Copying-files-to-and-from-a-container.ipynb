{
    "metadata":  {
                     "kernelspec":  {
                                        "name":  "powershell",
                                        "display_name":  "PowerShell"
                                    }
                 },
    "language_info":  {
                          "name":  "powershell",
                          "version":  "",
                          "codemirror_mode":  "shell",
                          "mimetype":  "text/x-sh",
                          "file_extension":  ".ps1"
                      },
    "nbformat_minor":  2,
    "nbformat":  4,
    "cells":  [
                  {
                      "cell_type":  "markdown",
                      "source":  [
                                     "\r\n",
                                     "Sometimes we need to pull files out of a container or copy files into one.\r\n",
                                     "This is nice and easy to do in Docker using the [docker container cp](https://docs.docker.com/engine/reference/commandline/container_cp/) command.\r\n",
                                     "Let\u0027s spin up a container running SQL Server: -\r\n",
                                     "\r\n"
                                 ],
                      "metadata":  {
                                       "azdata_cell_guid":  "42e1ca84-d3bc-4185-bb03-1d9ae2fbff01"
                                   }
                  },
                  {
                      "cell_type":  "code",
                      "source":  [
                                     "    docker container run -d `\r\n",
                                     "    -p 15789:1433 `\r\n",
                                     "    --env ACCEPT_EULA=Y `\r\n",
                                     "    --env MSSQL_SA_PASSWORD=Testing1122 `\r\n",
                                     "    --name sqlcontainer1 `\r\n",
                                     "    mcr.microsoft.com/mssql/server:2019-CU5-ubuntu-18.04\r\n"
                                 ],
                      "metadata":  {
                                       "azdata_cell_guid":  "ab09228c-69c0-4833-926b-0d254f26a970"
                                   },
                      "outputs":  [

                                  ],
                      "execution_count":  0
                  },
                  {
                      "cell_type":  "markdown",
                      "source":  [
                                     "\r\n",
                                     "And we want to copy a backup of a database into that container: -\r\n",
                                     "\r\n"
                                 ],
                      "metadata":  {
                                       "azdata_cell_guid":  "8248b5fc-60ac-41ee-a5b5-5f2f62ee6dc9"
                                   }
                  },
                  {
                      "cell_type":  "code",
                      "source":  [
                                     "    ls\r\n"
                                 ],
                      "metadata":  {
                                       "azdata_cell_guid":  "11f99b7e-55c5-4e1c-a7c7-f650bce45608"
                                   },
                      "outputs":  [

                                  ],
                      "execution_count":  0
                  },
                  {
                      "cell_type":  "markdown",
                      "source":  [
                                     "\r\n",
                                     "![](../images/7.DockerCommands/CopyingFiles/1.ViewBackupFileOnHost.png)\r\n",
                                     "In order to copy the backup files into the container we run: - \r\n",
                                     "\r\n"
                                 ],
                      "metadata":  {
                                       "azdata_cell_guid":  "2e22d807-be91-4bd5-b859-dce3cf679138"
                                   }
                  },
                  {
                      "cell_type":  "code",
                      "source":  [
                                     "    docker container cp testdatabase.bak sqlcontainer1:/var/opt/mssql/data\r\n"
                                 ],
                      "metadata":  {
                                       "azdata_cell_guid":  "d6ab5517-98d2-491c-b11e-ae9abc7384c1"
                                   },
                      "outputs":  [

                                  ],
                      "execution_count":  0
                  },
                  {
                      "cell_type":  "markdown",
                      "source":  [
                                     "\r\n",
                                     "This copies the backup file testdatabase.bak into the directory /var/opt/mssql/data in the container.\r\n",
                                     "We can check that the backup has been copied in by running: -\r\n",
                                     "\r\n"
                                 ],
                      "metadata":  {
                                       "azdata_cell_guid":  "bc5333d2-4603-4d7e-86ab-626436bc878d"
                                   }
                  },
                  {
                      "cell_type":  "code",
                      "source":  [
                                     "    docker exec sqlcontainer1 ls -al /var/opt/mssql/data\r\n"
                                 ],
                      "metadata":  {
                                       "azdata_cell_guid":  "fd1058ae-409b-4fbe-af13-29bc7a38268e"
                                   },
                      "outputs":  [

                                  ],
                      "execution_count":  0
                  },
                  {
                      "cell_type":  "markdown",
                      "source":  [
                                     "\r\n",
                                     "![](../images/7.DockerCommands/CopyingFiles/2.CheckFileCopiedIntoContainer.png)\r\n",
                                     "Now, let\u0027s copy that file back out of the container, onto our Docker host: -\r\n",
                                     "\r\n"
                                 ],
                      "metadata":  {
                                       "azdata_cell_guid":  "a8664ce8-f252-47d9-b0dd-2c93e32bff7b"
                                   }
                  },
                  {
                      "cell_type":  "code",
                      "source":  [
                                     "     docker container cp sqlcontainer1:/var/opt/mssql/data/testdatabase.bak C:\\temp\r\n"
                                 ],
                      "metadata":  {
                                       "azdata_cell_guid":  "5cac492e-59b2-4e46-8a55-a1637433429a"
                                   },
                      "outputs":  [

                                  ],
                      "execution_count":  0
                  },
                  {
                      "cell_type":  "markdown",
                      "source":  [
                                     "\r\n",
                                     "![](../images/7.DockerCommands/CopyingFiles/3.CopyFileOutOfContainer.png)\r\n",
                                     "And that\u0027s all there is to it!\r\n"
                                 ],
                      "metadata":  {
                                       "azdata_cell_guid":  "2ff4ee7d-8dda-4612-a183-ec0bf66c5c0c"
                                   }
                  }
              ]
}
