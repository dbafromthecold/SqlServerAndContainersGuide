{
    "metadata":  {
                     "kernelspec":  {
                                        "name":  "powershell",
                                        "display_name":  "PowerShell"
                                    }
                 },
    "language_info":  {
                          "name":  "powershell",
                          "version":  "",
                          "codemirror_mode":  "shell",
                          "mimetype":  "text/x-sh",
                          "file_extension":  ".ps1"
                      },
    "nbformat_minor":  2,
    "nbformat":  4,
    "cells":  [
                  {
                      "cell_type":  "markdown",
                      "source":  [
                                     "\r\n",
                                     "Sometimes we need to pull files out of a container or copy files into one.\r\n",
                                     "This is nice and easy to do in Docker using the [docker container cp](https://docs.docker.com/engine/reference/commandline/container_cp/) command.\r\n",
                                     "Let\u0027s spin up a container running SQL Server: -\r\n",
                                     "\r\n"
                                 ],
                      "metadata":  {
                                       "azdata_cell_guid":  "8d8e0a4e-fa88-4565-80b5-7dec467b3641"
                                   }
                  },
                  {
                      "cell_type":  "code",
                      "source":  [
                                     "    docker container run -d `\r\n",
                                     "    -p 15789:1433 `\r\n",
                                     "    --env ACCEPT_EULA=Y `\r\n",
                                     "    --env MSSQL_SA_PASSWORD=Testing1122 `\r\n",
                                     "    --name sqlcontainer1 `\r\n",
                                     "    mcr.microsoft.com/mssql/server:2019-CU5-ubuntu-18.04\r\n"
                                 ],
                      "metadata":  {
                                       "azdata_cell_guid":  "29552118-6b2e-470e-a123-26ff588e6ee7"
                                   },
                      "outputs":  [

                                  ],
                      "execution_count":  0
                  },
                  {
                      "cell_type":  "markdown",
                      "source":  [
                                     "\r\n",
                                     "And we want to copy a backup of a database into that container: -\r\n",
                                     "\r\n"
                                 ],
                      "metadata":  {
                                       "azdata_cell_guid":  "b19205c0-e781-4d2a-9178-db5cee29fbb9"
                                   }
                  },
                  {
                      "cell_type":  "code",
                      "source":  [
                                     "    ls\r\n"
                                 ],
                      "metadata":  {
                                       "azdata_cell_guid":  "5a05f277-2f00-427e-a1e4-567294e40f6d"
                                   },
                      "outputs":  [

                                  ],
                      "execution_count":  0
                  },
                  {
                      "cell_type":  "markdown",
                      "source":  [
                                     "\r\n",
                                     "![](../images/7.DockerCommands/CopyingFiles/1.ViewBackupFileOnHost.png)\r\n",
                                     "In order to copy the backup files into the container we run: - \r\n",
                                     "\r\n"
                                 ],
                      "metadata":  {
                                       "azdata_cell_guid":  "ae3d4d91-0255-4a5f-9948-5bc9c89f0f3b"
                                   }
                  },
                  {
                      "cell_type":  "code",
                      "source":  [
                                     "    docker container cp testdatabase.bak sqlcontainer1:/var/opt/mssql/data\r\n"
                                 ],
                      "metadata":  {
                                       "azdata_cell_guid":  "e232d58c-20c7-450f-8234-4ab24775c425"
                                   },
                      "outputs":  [

                                  ],
                      "execution_count":  0
                  },
                  {
                      "cell_type":  "markdown",
                      "source":  [
                                     "\r\n",
                                     "This copies the backup file testdatabase.bak into the directory /var/opt/mssql/data in the container.\r\n",
                                     "We can check that the backup has been copied in by running: -\r\n",
                                     "\r\n"
                                 ],
                      "metadata":  {
                                       "azdata_cell_guid":  "dd639532-9806-47e7-b033-218a24717e43"
                                   }
                  },
                  {
                      "cell_type":  "code",
                      "source":  [
                                     "    docker exec sqlcontainer1 ls -al /var/opt/mssql/data\r\n"
                                 ],
                      "metadata":  {
                                       "azdata_cell_guid":  "4ba1c710-ef56-4086-a259-ca3c72fa1f57"
                                   },
                      "outputs":  [

                                  ],
                      "execution_count":  0
                  },
                  {
                      "cell_type":  "markdown",
                      "source":  [
                                     "\r\n",
                                     "![](../images/7.DockerCommands/CopyingFiles/2.CheckFileCopiedIntoContainer.png)\r\n",
                                     "Now, let\u0027s copy that file back out of the container, onto our Docker host: -\r\n",
                                     "\r\n"
                                 ],
                      "metadata":  {
                                       "azdata_cell_guid":  "22f6e025-a7a1-4dfc-9527-e96479da759b"
                                   }
                  },
                  {
                      "cell_type":  "code",
                      "source":  [
                                     "     docker container cp sqlcontainer1:/var/opt/mssql/data/testdatabase.bak C:\\temp\r\n"
                                 ],
                      "metadata":  {
                                       "azdata_cell_guid":  "76f900ca-1935-40a5-a60e-750785ae0093"
                                   },
                      "outputs":  [

                                  ],
                      "execution_count":  0
                  }
              ]
}
