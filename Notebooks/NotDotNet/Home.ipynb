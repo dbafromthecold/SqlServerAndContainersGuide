{
    "metadata":  {
                     "kernelspec":  {
                                        "name":  "powershell",
                                        "display_name":  "PowerShell"
                                    }
                 },
    "language_info":  {
                          "name":  "powershell",
                          "version":  "",
                          "codemirror_mode":  "shell",
                          "mimetype":  "text/x-sh",
                          "file_extension":  ".ps1"
                      },
    "nbformat_minor":  2,
    "nbformat":  4,
    "cells":  [
                  {
                      "cell_type":  "markdown",
                      "source":  [
                                     "\r\n",
                                     "## Welcome to the SQL Server and Containers Guide!\r\n",
                                     "This guide will take you through all the different aspects of running SQL Server in a container.\r\n",
                                     "All the code here is run in Docker Desktop on Windows 10 using the WSL2 backend, executed in powershell v7. The commands should mostly work on other platforms but they would not have been tested.\r\n",
                                     "If you have any questions, please contact me at dbafromthecold@gmail.com\r\n",
                                     "## Contents\r\n",
                                     "### 1. Quick Start\r\n",
                                     "> [Quick Start - Get up and running with SQL Server in a container](https://github.com/dbafromthecold/SqlServerAndContainersGuide/wiki/Quick-Start)<br>\r\n",
                                     "> [The Quick Start walkthrough](https://github.com/dbafromthecold/SqlServerAndContainersGuide/wiki/Quick-Start-Explained)\r\n",
                                     "### 2. Running SQL containers\r\n",
                                     "> [Pull down an image and spin up a container](https://github.com/dbafromthecold/SqlServerAndContainersGuide/wiki/Running-your-first-container)<br>\r\n",
                                     "> [Docker environment variables](https://github.com/dbafromthecold/SqlServerAndContainersGuide/wiki/Docker-environment-variables)\r\n",
                                     "### 3. Persisting Data\r\n",
                                     "> [Persisting data using named volumes](https://github.com/dbafromthecold/SqlServerAndContainersGuide/wiki/Persisting-data-using-named-volumes)<br>\r\n",
                                     "> [Persisting data using data volume containers](https://github.com/dbafromthecold/SqlServerAndContainersGuide/wiki/Persisting-data-using-data-volume-containers)<br>\r\n",
                                     "> [Persisting data using bind mounts (volumes from the host)](https://github.com/dbafromthecold/SqlServerAndContainersGuide/wiki/Persisting-data-using-bind-mounts)\r\n",
                                     "### 4. Docker Images\r\n",
                                     "> [Learn how to build a custom SQL Server 2019 container image](https://github.com/dbafromthecold/SqlServerAndContainersGuide/wiki/Building-a-custom-image)<br>\r\n",
                                     "> [Build a custom SQL Server image from scratch](https://github.com/dbafromthecold/SqlServerAndContainersGuide/wiki/Build-a-custom-SQL-Server-image-from-scratch)<br>\r\n",
                                     "> [Pushing an image to the Docker Hub](https://github.com/dbafromthecold/SqlServerAndContainersGuide/wiki/Pushing-an-image-to-the-Docker-Hub)<br>\r\n",
                                     "> [Exporting and importing Docker images](https://github.com/dbafromthecold/SqlServerAndContainersGuide/wiki/Exporting-and-Importing-Container-Images)\r\n",
                                     "### 5. Container Networking\r\n",
                                     "> [Running SQL Containers on the default network](https://github.com/dbafromthecold/SqlServerAndContainersGuide/wiki/Running-SQL-containers-on-the-default-network)<br>\r\n",
                                     "> [Running SQL Containers on a custom network](https://github.com/dbafromthecold/SqlServerAndContainersGuide/wiki/Running-SQL-containers-on-a-custom-network)\r\n",
                                     "### 6. Docker Compose\r\n",
                                     "> [An introduction to Docker Compose](https://github.com/dbafromthecold/SqlServerAndContainersGuide/wiki/Docker-Compose-Introduction)<br>\r\n",
                                     "> [More advanced Docker Compose](https://github.com/dbafromthecold/SqlServerAndContainersGuide/wiki/More-advanced-Docker-Compose)\r\n",
                                     "### 7. Docker Commands\r\n",
                                     "> [Copying files to/from a container](https://github.com/dbafromthecold/SqlServerAndContainersGuide/wiki/Copying-files-to-and-from-a-container)<br>\r\n",
                                     "> [Viewing container logs](https://github.com/dbafromthecold/SqlServerAndContainersGuide/wiki/Viewing-container-logs)<br>\r\n",
                                     "> [Executing commands against a container](https://github.com/dbafromthecold/SqlServerAndContainersGuide/wiki/Executing-commands-against-a-container)\r\n"
                                 ],
                      "metadata":  {
                                       "azdata_cell_guid":  "cbaedda9-d32a-47ad-bdd9-04d914310c56"
                                   }
                  }
              ]
}
