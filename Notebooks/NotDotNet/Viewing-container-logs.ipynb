{
    "metadata":  {
                     "kernelspec":  {
                                        "name":  "powershell",
                                        "display_name":  "PowerShell"
                                    }
                 },
    "language_info":  {
                          "name":  "powershell",
                          "version":  "",
                          "codemirror_mode":  "shell",
                          "mimetype":  "text/x-sh",
                          "file_extension":  ".ps1"
                      },
    "nbformat_minor":  2,
    "nbformat":  4,
    "cells":  [
                  {
                      "cell_type":  "markdown",
                      "source":  [
                                     "\r\n",
                                     "In order to troubleshoot issues or confirm settings the docker command, [docker container logs](https://docs.docker.com/engine/reference/commandline/container_logs/) is really useful.\r\n",
                                     "Let\u0027s spin up a container: -\r\n",
                                     "\r\n"
                                 ],
                      "metadata":  {
                                       "azdata_cell_guid":  "b5014e43-4932-4648-9b00-4ada659a45c1"
                                   }
                  },
                  {
                      "cell_type":  "code",
                      "source":  [
                                     "    docker container run -d `\r\n",
                                     "    --publish 15789:1433 `\r\n",
                                     "    --env ACCEPT_EULA=Y `\r\n",
                                     "    --env SA_PASSWORD=Testing1122 `\r\n",
                                     "    --name sqlcontainer1 `\r\n",
                                     "    mcr.microsoft.com/mssql/server:2019-CU5-ubuntu-18.04\r\n"
                                 ],
                      "metadata":  {
                                       "azdata_cell_guid":  "c8cfc7da-9204-4010-a28a-8e5822c26256"
                                   },
                      "outputs":  [

                                  ],
                      "execution_count":  0
                  },
                  {
                      "cell_type":  "markdown",
                      "source":  [
                                     "\r\n",
                                     "Run the following to view the logs: -\r\n",
                                     "\r\n"
                                 ],
                      "metadata":  {
                                       "azdata_cell_guid":  "999c94b0-0cc3-4a6f-b564-79cf8c3a17d7"
                                   }
                  },
                  {
                      "cell_type":  "code",
                      "source":  [
                                     "    docker container logs sqlcontainer1\r\n"
                                 ],
                      "metadata":  {
                                       "azdata_cell_guid":  "12a6a1ce-e15e-4d79-82e9-54c64b9a585a"
                                   },
                      "outputs":  [

                                  ],
                      "execution_count":  0
                  }
              ]
}
