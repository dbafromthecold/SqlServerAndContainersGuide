{
    "metadata":  {
                     "kernelspec":  {
                                        "name":  "powershell",
                                        "display_name":  "PowerShell"
                                    }
                 },
    "language_info":  {
                          "name":  "powershell",
                          "version":  "",
                          "codemirror_mode":  "shell",
                          "mimetype":  "text/x-sh",
                          "file_extension":  ".ps1"
                      },
    "nbformat_minor":  2,
    "nbformat":  4,
    "cells":  [
                  {
                      "cell_type":  "markdown",
                      "source":  [
                                     "\r\n",
                                     "When investigating issues with SQL running in a container or just exploring, executing commands against a running container can be really handy.\r\n",
                                     "And it\u0027s easy to do with the docker container exec command.\r\n",
                                     "Let\u0027s run a SQL container: -\r\n",
                                     "\r\n"
                                 ],
                      "metadata":  {
                                       "azdata_cell_guid":  "3ce6e974-1d2f-4afb-b24c-f6673a351645"
                                   }
                  },
                  {
                      "cell_type":  "code",
                      "source":  [
                                     "    docker container run -d `\r\n",
                                     "    --publish 15789:1433 `\r\n",
                                     "    --env ACCEPT_EULA=Y `\r\n",
                                     "    --env SA_PASSWORD=Testing1122 `\r\n",
                                     "    --name sqlcontainer1 `\r\n",
                                     "    mcr.microsoft.com/mssql/server:2019-CU5-ubuntu-18.04\r\n"
                                 ],
                      "metadata":  {
                                       "azdata_cell_guid":  "d0d7ddfb-5aa4-4d81-b753-cfbef7c5dfcd"
                                   },
                      "outputs":  [

                                  ],
                      "execution_count":  0
                  },
                  {
                      "cell_type":  "markdown",
                      "source":  [
                                     "\r\n",
                                     "Confirm that the container is running: -\r\n",
                                     "\r\n"
                                 ],
                      "metadata":  {
                                       "azdata_cell_guid":  "2f8f10de-c86f-4019-8c7e-3f8888ce7802"
                                   }
                  },
                  {
                      "cell_type":  "code",
                      "source":  [
                                     "    docker container ls -a\r\n"
                                 ],
                      "metadata":  {
                                       "azdata_cell_guid":  "b867aa20-6e92-41a4-8ee5-1cfb845d1f52"
                                   },
                      "outputs":  [

                                  ],
                      "execution_count":  0
                  },
                  {
                      "cell_type":  "markdown",
                      "source":  [
                                     "\r\n",
                                     "![](../images/7.DockerCommands/ExecutingCommands/1.RunAContainer.png)\r\n",
                                     "Ok, let\u0027s run some commands against that container. First, let\u0027s list the files in the master database location: -\r\n",
                                     "\r\n"
                                 ],
                      "metadata":  {
                                       "azdata_cell_guid":  "9c539201-679d-451d-91f7-1117942a3425"
                                   }
                  },
                  {
                      "cell_type":  "code",
                      "source":  [
                                     "    docker container exec sqlcontainer1 ls -al /var/opt/mssql/data\r\n"
                                 ],
                      "metadata":  {
                                       "azdata_cell_guid":  "080cb959-dee3-46cf-9f84-4640e16b9b7b"
                                   },
                      "outputs":  [

                                  ],
                      "execution_count":  0
                  },
                  {
                      "cell_type":  "markdown",
                      "source":  [
                                     "\r\n",
                                     "![](../images/7.DockerCommands/ExecutingCommands/2.ListFiles.png)\r\n",
                                     "So the format of the container exec command is: -\r\n",
                                     "\r\n"
                                 ],
                      "metadata":  {
                                       "azdata_cell_guid":  "b1530fb1-2295-4491-ba87-b0e779cd4fdc"
                                   }
                  },
                  {
                      "cell_type":  "code",
                      "source":  [
                                     "    docker container exec CONTAINERNAME COMMAND\r\n"
                                 ],
                      "metadata":  {
                                       "azdata_cell_guid":  "db56c400-7604-4867-a365-ea7481bcaaa8"
                                   },
                      "outputs":  [

                                  ],
                      "execution_count":  0
                  },
                  {
                      "cell_type":  "markdown",
                      "source":  [
                                     "\r\n",
                                     "Let\u0027s see the processes running within the container: -\r\n",
                                     "\r\n"
                                 ],
                      "metadata":  {
                                       "azdata_cell_guid":  "dedd3d08-ebb6-4eff-b6a3-b843df176395"
                                   }
                  },
                  {
                      "cell_type":  "code",
                      "source":  [
                                     "    docker container exec sqlcontainer1 ps aux\r\n"
                                 ],
                      "metadata":  {
                                       "azdata_cell_guid":  "a332eda7-8f55-4ea8-ad15-4f34549513bf"
                                   },
                      "outputs":  [

                                  ],
                      "execution_count":  0
                  },
                  {
                      "cell_type":  "markdown",
                      "source":  [
                                     "\r\n",
                                     "![](../images/7.DockerCommands/ExecutingCommands/3.ListProcesses.png)\r\n",
                                     "By default, we run commands as the user of the process running in the container: -\r\n",
                                     "\r\n"
                                 ],
                      "metadata":  {
                                       "azdata_cell_guid":  "84804456-22ef-49b5-905b-d60d729eb92d"
                                   }
                  },
                  {
                      "cell_type":  "code",
                      "source":  [
                                     "    docker container exec sqlcontainer1 whoami\r\n"
                                 ],
                      "metadata":  {
                                       "azdata_cell_guid":  "752ae99b-b013-4cb2-8460-cae9acc150db"
                                   },
                      "outputs":  [

                                  ],
                      "execution_count":  0
                  },
                  {
                      "cell_type":  "markdown",
                      "source":  [
                                     "\r\n",
                                     "![](../images/7.DockerCommands/ExecutingCommands/4.WhoAmI-MSSQL.png)\r\n",
                                     "But this can be changed by using the u (user) flag: -\r\n",
                                     "\r\n"
                                 ],
                      "metadata":  {
                                       "azdata_cell_guid":  "56fd2ec9-468d-486a-8c7a-d97a81062f48"
                                   }
                  },
                  {
                      "cell_type":  "code",
                      "source":  [
                                     "    docker container exec -u 0 sqlcontainer1 whoami\r\n"
                                 ],
                      "metadata":  {
                                       "azdata_cell_guid":  "25744d8d-1416-41e7-8661-9ccb6cb8ab0b"
                                   },
                      "outputs":  [

                                  ],
                      "execution_count":  0
                  },
                  {
                      "cell_type":  "markdown",
                      "source":  [
                                     "\r\n",
                                     "![](../images/7.DockerCommands/ExecutingCommands/5.WhoAmI-ROOT.png)\r\n",
                                     "By setting the user to 0, we can execute commands as root within the container!\r\n",
                                     "We can also jump into the container itself using: -\r\n",
                                     "\r\n"
                                 ],
                      "metadata":  {
                                       "azdata_cell_guid":  "206ee14e-93aa-470e-adc7-600df074f691"
                                   }
                  },
                  {
                      "cell_type":  "code",
                      "source":  [
                                     "    docker container exec -it sqlcontainer1 bash\r\n"
                                 ],
                      "metadata":  {
                                       "azdata_cell_guid":  "7a0cc58a-a5d1-4ee3-a181-3cfd08c13244"
                                   },
                      "outputs":  [

                                  ],
                      "execution_count":  0
                  },
                  {
                      "cell_type":  "markdown",
                      "source":  [
                                     "\r\n",
                                     "The i flag gives us an interactive session and the t flag opens a psuedo terminal, then we run bash to get a shell in the container.\r\n",
                                     "Using this, we can dig around in the container, run our commands and then exit out: -\r\n",
                                     "\r\n"
                                 ],
                      "metadata":  {
                                       "azdata_cell_guid":  "dc79503e-f31c-432a-9696-818a7b947e64"
                                   }
                  },
                  {
                      "cell_type":  "code",
                      "source":  [
                                     "    ls /var/opt/mssql/data\r\n",
                                     "    ps aux\r\n",
                                     "    exit\r\n"
                                 ],
                      "metadata":  {
                                       "azdata_cell_guid":  "d5bc823d-8329-498f-bb6b-338864221fbf"
                                   },
                      "outputs":  [

                                  ],
                      "execution_count":  0
                  }
              ]
}
