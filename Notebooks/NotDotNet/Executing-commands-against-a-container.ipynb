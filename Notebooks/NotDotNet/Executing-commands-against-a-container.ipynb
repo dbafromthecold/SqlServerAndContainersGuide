{
    "metadata":  {
                     "kernelspec":  {
                                        "name":  "powershell",
                                        "display_name":  "PowerShell"
                                    }
                 },
    "language_info":  {
                          "name":  "powershell",
                          "version":  "",
                          "codemirror_mode":  "shell",
                          "mimetype":  "text/x-sh",
                          "file_extension":  ".ps1"
                      },
    "nbformat_minor":  2,
    "nbformat":  4,
    "cells":  [
                  {
                      "cell_type":  "markdown",
                      "source":  [
                                     "\r\n",
                                     "When investigating issues with SQL running in a container or just exploring, executing commands against a running container can be really handy.\r\n",
                                     "And it\u0027s easy to do with the docker container exec command.\r\n",
                                     "Let\u0027s run a SQL container: -\r\n",
                                     "\r\n"
                                 ],
                      "metadata":  {
                                       "azdata_cell_guid":  "228c99af-dc7e-40fc-a6e4-6d33d5650647"
                                   }
                  },
                  {
                      "cell_type":  "code",
                      "source":  [
                                     "    docker container run -d `\r\n",
                                     "    --publish 15789:1433 `\r\n",
                                     "    --env ACCEPT_EULA=Y `\r\n",
                                     "    --env SA_PASSWORD=Testing1122 `\r\n",
                                     "    --name sqlcontainer1 `\r\n",
                                     "    mcr.microsoft.com/mssql/server:2019-CU5-ubuntu-18.04\r\n"
                                 ],
                      "metadata":  {
                                       "azdata_cell_guid":  "f5d8a57d-429e-4918-a432-d0032f29a621"
                                   },
                      "outputs":  [

                                  ],
                      "execution_count":  0
                  },
                  {
                      "cell_type":  "markdown",
                      "source":  [
                                     "\r\n",
                                     "Confirm that the container is running: -\r\n",
                                     "\r\n"
                                 ],
                      "metadata":  {
                                       "azdata_cell_guid":  "5454b924-5241-444e-942a-dded1323a479"
                                   }
                  },
                  {
                      "cell_type":  "code",
                      "source":  [
                                     "    docker container ls -a\r\n"
                                 ],
                      "metadata":  {
                                       "azdata_cell_guid":  "0a1542ae-47e9-4941-b1d1-df73e85cc782"
                                   },
                      "outputs":  [

                                  ],
                      "execution_count":  0
                  },
                  {
                      "cell_type":  "markdown",
                      "source":  [
                                     "\r\n",
                                     "![](../images/7.DockerCommands/ExecutingCommands/1.RunAContainer.png)\r\n",
                                     "Ok, let\u0027s run some commands against that container. First, let\u0027s list the files in the master database location: -\r\n",
                                     "\r\n"
                                 ],
                      "metadata":  {
                                       "azdata_cell_guid":  "2a8795da-9dc2-4d19-a060-1a87e91a7946"
                                   }
                  },
                  {
                      "cell_type":  "code",
                      "source":  [
                                     "    docker container exec sqlcontainer1 ls -al /var/opt/mssql/data\r\n"
                                 ],
                      "metadata":  {
                                       "azdata_cell_guid":  "df52bcb3-dd07-4fc4-99ce-406a68ba4e3d"
                                   },
                      "outputs":  [

                                  ],
                      "execution_count":  0
                  },
                  {
                      "cell_type":  "markdown",
                      "source":  [
                                     "\r\n",
                                     "![](../images/7.DockerCommands/ExecutingCommands/2.ListFiles.png)\r\n",
                                     "So the format of the container exec command is: -\r\n",
                                     "\r\n"
                                 ],
                      "metadata":  {
                                       "azdata_cell_guid":  "cb61c1a3-2bab-498f-abef-39653176e1df"
                                   }
                  },
                  {
                      "cell_type":  "code",
                      "source":  [
                                     "    docker container exec CONTAINERNAME COMMAND\r\n"
                                 ],
                      "metadata":  {
                                       "azdata_cell_guid":  "1574a8d5-d3d6-4a47-b046-114ab93b2bb2"
                                   },
                      "outputs":  [

                                  ],
                      "execution_count":  0
                  },
                  {
                      "cell_type":  "markdown",
                      "source":  [
                                     "\r\n",
                                     "Let\u0027s see the processes running within the container: -\r\n",
                                     "\r\n"
                                 ],
                      "metadata":  {
                                       "azdata_cell_guid":  "08d302a5-33d2-46d4-80ca-ab2931fdc3cb"
                                   }
                  },
                  {
                      "cell_type":  "code",
                      "source":  [
                                     "    docker container exec sqlcontainer1 ps aux\r\n"
                                 ],
                      "metadata":  {
                                       "azdata_cell_guid":  "99431350-9b10-489c-b6a8-64132d3e8280"
                                   },
                      "outputs":  [

                                  ],
                      "execution_count":  0
                  },
                  {
                      "cell_type":  "markdown",
                      "source":  [
                                     "\r\n",
                                     "![](../images/7.DockerCommands/ExecutingCommands/3.ListProcesses.png)\r\n",
                                     "By default, we run commands as the user of the process running in the container: -\r\n",
                                     "\r\n"
                                 ],
                      "metadata":  {
                                       "azdata_cell_guid":  "60344978-2798-45ca-a58b-07acde1ec067"
                                   }
                  },
                  {
                      "cell_type":  "code",
                      "source":  [
                                     "    docker container exec sqlcontainer1 whoami\r\n"
                                 ],
                      "metadata":  {
                                       "azdata_cell_guid":  "534086be-61a7-4063-a984-c5a43f8babbc"
                                   },
                      "outputs":  [

                                  ],
                      "execution_count":  0
                  },
                  {
                      "cell_type":  "markdown",
                      "source":  [
                                     "\r\n",
                                     "![](../images/7.DockerCommands/ExecutingCommands/4.WhoAmI-MSSQL.png)\r\n",
                                     "But this can be changed by using the u (user) flag: -\r\n",
                                     "\r\n"
                                 ],
                      "metadata":  {
                                       "azdata_cell_guid":  "65ba8f1e-ed8f-4a23-8d17-9e92a9b1e241"
                                   }
                  },
                  {
                      "cell_type":  "code",
                      "source":  [
                                     "    docker container exec -u 0 sqlcontainer1 whoami\r\n"
                                 ],
                      "metadata":  {
                                       "azdata_cell_guid":  "0d0b726d-3887-4222-8117-5ccb6fb59672"
                                   },
                      "outputs":  [

                                  ],
                      "execution_count":  0
                  },
                  {
                      "cell_type":  "markdown",
                      "source":  [
                                     "\r\n",
                                     "![](../images/7.DockerCommands/ExecutingCommands/5.WhoAmI-ROOT.png)\r\n",
                                     "By setting the user to 0, we can execute commands as root within the container!\r\n",
                                     "We can also jump into the container itself using: -\r\n",
                                     "\r\n"
                                 ],
                      "metadata":  {
                                       "azdata_cell_guid":  "0ba0ab8e-e6dc-4108-8048-9892dfaa5bcb"
                                   }
                  },
                  {
                      "cell_type":  "code",
                      "source":  [
                                     "    docker container exec -it sqlcontainer1 bash\r\n"
                                 ],
                      "metadata":  {
                                       "azdata_cell_guid":  "e1d02835-eb7b-4123-bd74-10f45a8c8595"
                                   },
                      "outputs":  [

                                  ],
                      "execution_count":  0
                  },
                  {
                      "cell_type":  "markdown",
                      "source":  [
                                     "\r\n",
                                     "The i flag gives us an interactive session and the t flag opens a psuedo terminal, then we run bash to get a shell in the container.\r\n",
                                     "Using this, we can dig around in the container, run our commands and then exit out: -\r\n",
                                     "\r\n"
                                 ],
                      "metadata":  {
                                       "azdata_cell_guid":  "f4cb0146-124e-4cb6-a7a5-dd90567aa328"
                                   }
                  },
                  {
                      "cell_type":  "code",
                      "source":  [
                                     "    ls /var/opt/mssql/data\r\n",
                                     "    ps aux\r\n",
                                     "    exit\r\n"
                                 ],
                      "metadata":  {
                                       "azdata_cell_guid":  "e6f65fcd-c7a6-4113-a44b-779ee210222e"
                                   },
                      "outputs":  [

                                  ],
                      "execution_count":  0
                  },
                  {
                      "cell_type":  "markdown",
                      "source":  [
                                     "\r\n",
                                     "![](../images/7.DockerCommands/ExecutingCommands/6.JumpIntoTheContainer.png)\r\n"
                                 ],
                      "metadata":  {
                                       "azdata_cell_guid":  "5d0d9062-1dab-4151-b86d-0e781b6bd7b8"
                                   }
                  }
              ]
}
