{
    "metadata":  {
                     "kernelspec":  {
                                        "name":  "powershell",
                                        "display_name":  "PowerShell"
                                    }
                 },
    "language_info":  {
                          "name":  "powershell",
                          "version":  "",
                          "codemirror_mode":  "shell",
                          "mimetype":  "text/x-sh",
                          "file_extension":  ".ps1"
                      },
    "nbformat_minor":  2,
    "nbformat":  4,
    "cells":  [
                  {
                      "cell_type":  "markdown",
                      "source":  [
                                     "\r\n",
                                     "In a previous wiki we built a [custom SQL Server docker image from the SQL 2019 CU5 image](https://github.com/dbafromthecold/SqlServerAndContainersGuide/wiki/Building-a-custom-image) in order to grant permissions to custom directories.\r\n",
                                     "In this wiki we\u0027ll go through how to build a custom SQL image from \"scratch\". Ok, not exactly _scratch_, what we\u0027re going to do is start off with the Ubuntu 18.04 image and install SQL on it.\r\n",
                                     "Here is the dockerfile: -\r\n",
                                     "\r\n"
                                 ],
                      "metadata":  {
                                       "azdata_cell_guid":  "f9435bf1-5592-48e2-89ad-f79abe63f2c8"
                                   }
                  },
                  {
                      "cell_type":  "code",
                      "source":  [
                                     "    FROM ubuntu:18.04\r\n",
                                     "     \r\n",
                                     "    RUN useradd -u 10001 mssql\r\n",
                                     "     \r\n",
                                     "    RUN apt-get update \u0026\u0026 apt-get install -y wget software-properties-common apt-transport-https\r\n",
                                     "     \r\n",
                                     "    RUN wget -qO- https://packages.microsoft.com/keys/microsoft.asc | apt-key add -\r\n",
                                     "     \r\n",
                                     "    RUN add-apt-repository \"$(wget -qO- https://packages.microsoft.com/config/ubuntu/18.04/mssql-server-2019.list)\"\r\n",
                                     "     \r\n",
                                     "    RUN apt-get update \u0026\u0026 apt-get install -y mssql-server\r\n",
                                     "     \r\n",
                                     "    RUN chown -R mssql:mssql /var/opt/mssql\r\n",
                                     "         \r\n",
                                     "    USER mssql\r\n",
                                     "    \r\n",
                                     "    CMD /opt/mssql/bin/sqlservr\r\n"
                                 ],
                      "metadata":  {
                                       "azdata_cell_guid":  "7ca89628-635c-4fd0-952b-c7a52f5e8f12"
                                   },
                      "outputs":  [

                                  ],
                      "execution_count":  0
                  },
                  {
                      "cell_type":  "markdown",
                      "source":  [
                                     "\r\n",
                                     "Let\u0027s go over each step in the dockerfile: -\r\n",
                                     "1. Building from the Ubuntu 18.04 image\r\n",
                                     "2. Creating the mssql user with ID 10001\r\n",
                                     "3. Installing required packages\r\n",
                                     "4. Import the Microsoft public repository GPG keys\r\n",
                                     "5. Adding the SQL Server 2019 repository\r\n",
                                     "6. Installing SQL Server\r\n",
                                     "7. Setting the owner of the mssql directory to the mssql user\r\n",
                                     "8. Switching to the mssql user from root\r\n",
                                     "9. Starting SQL Server\r\n",
                                     "Ok, now we can build the image: -\r\n",
                                     "\r\n"
                                 ],
                      "metadata":  {
                                       "azdata_cell_guid":  "5da71196-28f8-48be-bcb8-e1e844befd82"
                                   }
                  },
                  {
                      "cell_type":  "code",
                      "source":  [
                                     "    docker build -t customsqlimage1 .\r\n"
                                 ],
                      "metadata":  {
                                       "azdata_cell_guid":  "f95099d1-b0ea-4ef9-b140-178129d71be5"
                                   },
                      "outputs":  [

                                  ],
                      "execution_count":  0
                  },
                  {
                      "cell_type":  "markdown",
                      "source":  [
                                     "\r\n",
                                     "![](../images/4.BuildingACustomImage/CustomImageFromScratch/1.BuildImage.png)\r\n",
                                     "Once that\u0027s complete we can check the image is available: -\r\n",
                                     "\r\n"
                                 ],
                      "metadata":  {
                                       "azdata_cell_guid":  "3ba2f08f-3df9-4fdb-8916-299e8fa7e0b5"
                                   }
                  },
                  {
                      "cell_type":  "code",
                      "source":  [
                                     "    docker image ls\r\n"
                                 ],
                      "metadata":  {
                                       "azdata_cell_guid":  "2c37d389-e321-4ef5-8f71-74b97b59d407"
                                   },
                      "outputs":  [

                                  ],
                      "execution_count":  0
                  },
                  {
                      "cell_type":  "markdown",
                      "source":  [
                                     "\r\n",
                                     "![](../images/4.BuildingACustomImage/CustomImageFromScratch/2.ConfirmImage.png)\r\n",
                                     "Now we can spin up a container from the image: -\r\n",
                                     "\r\n"
                                 ],
                      "metadata":  {
                                       "azdata_cell_guid":  "6dc33268-5c13-42df-aa01-a86d0d35703e"
                                   }
                  },
                  {
                      "cell_type":  "code",
                      "source":  [
                                     "    docker container run -d `\r\n",
                                     "    -p 15789:1433 `\r\n",
                                     "    --env ACCEPT_EULA=Y `\r\n",
                                     "    --env MSSQL_SA_PASSWORD=Testing1122 `\r\n",
                                     "    --name sqlcontainer1 `\r\n",
                                     "    customsqlimage1\r\n"
                                 ],
                      "metadata":  {
                                       "azdata_cell_guid":  "dc098736-b285-47ca-bb74-f5df6a82b1d0"
                                   },
                      "outputs":  [

                                  ],
                      "execution_count":  0
                  },
                  {
                      "cell_type":  "markdown",
                      "source":  [
                                     "\r\n",
                                     "![](../images/4.BuildingACustomImage/CustomImageFromScratch/3.RunAContainer.png)\r\n",
                                     "And confirm that the container is running: -\r\n",
                                     "\r\n"
                                 ],
                      "metadata":  {
                                       "azdata_cell_guid":  "eb70a334-10c9-4929-bebe-81f8b02e2437"
                                   }
                  },
                  {
                      "cell_type":  "code",
                      "source":  [
                                     "    docker container ls -a\r\n"
                                 ],
                      "metadata":  {
                                       "azdata_cell_guid":  "b5116680-582e-425a-bc5f-8159017596e8"
                                   },
                      "outputs":  [

                                  ],
                      "execution_count":  0
                  },
                  {
                      "cell_type":  "markdown",
                      "source":  [
                                     "\r\n",
                                     "![](../images/4.BuildingACustomImage/CustomImageFromScratch/4.ConfirmContainerRunning.png)\r\n",
                                     "Finally, check that we can connect to SQL within the container: -\r\n",
                                     "\r\n"
                                 ],
                      "metadata":  {
                                       "azdata_cell_guid":  "e40cbe7b-fcb8-446c-b214-f0a6cec3590e"
                                   }
                  },
                  {
                      "cell_type":  "code",
                      "source":  [
                                     "    mssql-cli -S localhost,15789 -U sa -P Testing1122 -Q \"SELECT @@VERSION AS [Version];\"\r\n"
                                 ],
                      "metadata":  {
                                       "azdata_cell_guid":  "7cde74fd-4944-423c-bb6a-60efbbc83164"
                                   },
                      "outputs":  [

                                  ],
                      "execution_count":  0
                  }
              ]
}
