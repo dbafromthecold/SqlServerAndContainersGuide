{
    "metadata":  {
                     "kernelspec":  {
                                        "name":  "powershell",
                                        "display_name":  "PowerShell"
                                    }
                 },
    "language_info":  {
                          "name":  "powershell",
                          "version":  "",
                          "codemirror_mode":  "shell",
                          "mimetype":  "text/x-sh",
                          "file_extension":  ".ps1"
                      },
    "nbformat_minor":  2,
    "nbformat":  4,
    "cells":  [
                  {
                      "cell_type":  "markdown",
                      "source":  [
                                     "\r\n",
                                     "In a previous wiki we built a [custom SQL Server docker image from the SQL 2019 CU5 image](https://github.com/dbafromthecold/SqlServerAndContainersGuide/wiki/Building-a-custom-image) in order to grant permissions to custom directories.\r\n",
                                     "In this wiki we\u0027ll go through how to build a custom SQL image from \"scratch\". Ok, not exactly _scratch_, what we\u0027re going to do is start off with the Ubuntu 18.04 image and install SQL on it.\r\n",
                                     "Here is the dockerfile: -\r\n",
                                     "\r\n"
                                 ],
                      "metadata":  {
                                       "azdata_cell_guid":  "baaa0712-d4ac-4583-8020-2b39983abe7c"
                                   }
                  },
                  {
                      "cell_type":  "code",
                      "source":  [
                                     "    FROM ubuntu:18.04\r\n",
                                     "     \r\n",
                                     "    RUN useradd -u 10001 mssql\r\n",
                                     "     \r\n",
                                     "    RUN apt-get update \u0026\u0026 apt-get install -y wget software-properties-common apt-transport-https\r\n",
                                     "     \r\n",
                                     "    RUN wget -qO- https://packages.microsoft.com/keys/microsoft.asc | apt-key add -\r\n",
                                     "     \r\n",
                                     "    RUN add-apt-repository \"$(wget -qO- https://packages.microsoft.com/config/ubuntu/18.04/mssql-server-2019.list)\"\r\n",
                                     "     \r\n",
                                     "    RUN apt-get update \u0026\u0026 apt-get install -y mssql-server\r\n",
                                     "     \r\n",
                                     "    RUN chown -R mssql:mssql /var/opt/mssql\r\n",
                                     "         \r\n",
                                     "    USER mssql\r\n",
                                     "    \r\n",
                                     "    CMD /opt/mssql/bin/sqlservr\r\n"
                                 ],
                      "metadata":  {
                                       "azdata_cell_guid":  "ae25a5e7-644e-4ab8-bcd2-6fd00d8ff874"
                                   },
                      "outputs":  [

                                  ],
                      "execution_count":  0
                  },
                  {
                      "cell_type":  "markdown",
                      "source":  [
                                     "\r\n",
                                     "Let\u0027s go over each step in the dockerfile: -\r\n",
                                     "1. Building from the Ubuntu 18.04 image\r\n",
                                     "2. Creating the mssql user with ID 10001\r\n",
                                     "3. Installing required packages\r\n",
                                     "4. Import the Microsoft public repository GPG keys\r\n",
                                     "5. Adding the SQL Server 2019 repository\r\n",
                                     "6. Installing SQL Server\r\n",
                                     "7. Setting the owner of the mssql directory to the mssql user\r\n",
                                     "8. Switching to the mssql user from root\r\n",
                                     "9. Starting SQL Server\r\n",
                                     "Ok, now we can build the image: -\r\n",
                                     "\r\n"
                                 ],
                      "metadata":  {
                                       "azdata_cell_guid":  "64491b9b-d59f-4b5b-b55c-37d5f5372a4d"
                                   }
                  },
                  {
                      "cell_type":  "code",
                      "source":  [
                                     "    docker build -t customsqlimage1 .\r\n"
                                 ],
                      "metadata":  {
                                       "azdata_cell_guid":  "d18b2335-650f-4624-a6c3-250049146661"
                                   },
                      "outputs":  [

                                  ],
                      "execution_count":  0
                  },
                  {
                      "cell_type":  "markdown",
                      "source":  [
                                     "\r\n",
                                     "![](../images/4.BuildingACustomImage/CustomImageFromScratch/1.BuildImage.png)\r\n",
                                     "Once that\u0027s complete we can check the image is available: -\r\n",
                                     "\r\n"
                                 ],
                      "metadata":  {
                                       "azdata_cell_guid":  "b1626ee3-a2b1-4fdc-bb58-d79b1071fc0f"
                                   }
                  },
                  {
                      "cell_type":  "code",
                      "source":  [
                                     "    docker image ls\r\n"
                                 ],
                      "metadata":  {
                                       "azdata_cell_guid":  "90d4cd22-13f9-4d9e-8445-ad6ab971c18e"
                                   },
                      "outputs":  [

                                  ],
                      "execution_count":  0
                  },
                  {
                      "cell_type":  "markdown",
                      "source":  [
                                     "\r\n",
                                     "![](../images/4.BuildingACustomImage/CustomImageFromScratch/2.ConfirmImage.png)\r\n",
                                     "Now we can spin up a container from the image: -\r\n",
                                     "\r\n"
                                 ],
                      "metadata":  {
                                       "azdata_cell_guid":  "a00fab5d-b494-4df7-9948-dd95afe97dcd"
                                   }
                  },
                  {
                      "cell_type":  "code",
                      "source":  [
                                     "    docker container run -d `\r\n",
                                     "    -p 15789:1433 `\r\n",
                                     "    --env ACCEPT_EULA=Y `\r\n",
                                     "    --env MSSQL_SA_PASSWORD=Testing1122 `\r\n",
                                     "    --name sqlcontainer1 `\r\n",
                                     "    customsqlimage1\r\n"
                                 ],
                      "metadata":  {
                                       "azdata_cell_guid":  "8fc18607-cd81-40e8-8bf8-33d998716ca6"
                                   },
                      "outputs":  [

                                  ],
                      "execution_count":  0
                  },
                  {
                      "cell_type":  "markdown",
                      "source":  [
                                     "\r\n",
                                     "![](../images/4.BuildingACustomImage/CustomImageFromScratch/3.RunAContainer.png)\r\n",
                                     "And confirm that the container is running: -\r\n",
                                     "\r\n"
                                 ],
                      "metadata":  {
                                       "azdata_cell_guid":  "f97fdd14-b83a-4945-8bd9-c2da238f01e1"
                                   }
                  },
                  {
                      "cell_type":  "code",
                      "source":  [
                                     "    docker container ls -a\r\n"
                                 ],
                      "metadata":  {
                                       "azdata_cell_guid":  "8e55c424-c614-4d7a-aaa1-0a5e0e698c28"
                                   },
                      "outputs":  [

                                  ],
                      "execution_count":  0
                  },
                  {
                      "cell_type":  "markdown",
                      "source":  [
                                     "\r\n",
                                     "![](../images/4.BuildingACustomImage/CustomImageFromScratch/4.ConfirmContainerRunning.png)\r\n",
                                     "Finally, check that we can connect to SQL within the container: -\r\n",
                                     "\r\n"
                                 ],
                      "metadata":  {
                                       "azdata_cell_guid":  "54d6a5d9-15f8-48a7-ae54-445107f39545"
                                   }
                  },
                  {
                      "cell_type":  "code",
                      "source":  [
                                     "    mssql-cli -S localhost,15789 -U sa -P Testing1122 -Q \"SELECT @@VERSION AS [Version];\"\r\n"
                                 ],
                      "metadata":  {
                                       "azdata_cell_guid":  "f4bd1975-1994-44b2-8ab7-4edbf8b0c874"
                                   },
                      "outputs":  [

                                  ],
                      "execution_count":  0
                  },
                  {
                      "cell_type":  "markdown",
                      "source":  [
                                     "\r\n",
                                     "![](../images/4.BuildingACustomImage/CustomImageFromScratch/5.ConnectToSql.png)\r\n",
                                     "And that\u0027s us connected to SQL running in a container that was built from our custom image!\r\n"
                                 ],
                      "metadata":  {
                                       "azdata_cell_guid":  "e3bf252d-cdc1-41b8-b3e5-33fccc507568"
                                   }
                  }
              ]
}
