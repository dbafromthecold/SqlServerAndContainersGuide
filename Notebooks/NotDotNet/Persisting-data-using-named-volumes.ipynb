{
    "metadata":  {
                     "kernelspec":  {
                                        "name":  "powershell",
                                        "display_name":  "PowerShell"
                                    }
                 },
    "language_info":  {
                          "name":  "powershell",
                          "version":  "",
                          "codemirror_mode":  "shell",
                          "mimetype":  "text/x-sh",
                          "file_extension":  ".ps1"
                      },
    "nbformat_minor":  2,
    "nbformat":  4,
    "cells":  [
                  {
                      "cell_type":  "markdown",
                      "source":  [
                                     "\r\n",
                                     "So far in this guide we\u0027ve gone through spinning up a container and connecting to SQL Server. However containers are ephemeral by default so any changes made in SQL will be lost when we delete the container. Meaning that any databases we create will be lost, really lost. There\u0027s no way to get them back.\r\n",
                                     "So let\u0027s run through how we can persist our databases from one container to another by using _**docker named volumes**_.\r\n",
                                     "To create a named volume run: -\r\n",
                                     "\r\n"
                                 ],
                      "metadata":  {
                                       "azdata_cell_guid":  "c5999d68-1303-4d81-81b4-01b52f85fbfb"
                                   }
                  },
                  {
                      "cell_type":  "code",
                      "source":  [
                                     "    docker volume create mssqlsystem\r\n",
                                     "    docker volume create mssqluser\r\n"
                                 ],
                      "metadata":  {
                                       "azdata_cell_guid":  "20ee7b46-ef57-4d17-8f49-dd148907ff7a"
                                   },
                      "outputs":  [

                                  ],
                      "execution_count":  0
                  },
                  {
                      "cell_type":  "markdown",
                      "source":  [
                                     "\r\n",
                                     "![](../images/3.PersistingData/NamedVolumes/1.docker_volume_create.png)\r\n",
                                     "Notice we\u0027re creating two volumes here, one will be for the system databases and one will be for our user databases.\r\n",
                                     "To check the volumes: -\r\n",
                                     "\r\n"
                                 ],
                      "metadata":  {
                                       "azdata_cell_guid":  "26f915f4-3099-44f5-b886-a1c2ea6792b8"
                                   }
                  },
                  {
                      "cell_type":  "code",
                      "source":  [
                                     "    docker volume ls\r\n"
                                 ],
                      "metadata":  {
                                       "azdata_cell_guid":  "73843580-9e7c-48c8-9b01-7c2ee3329684"
                                   },
                      "outputs":  [

                                  ],
                      "execution_count":  0
                  },
                  {
                      "cell_type":  "markdown",
                      "source":  [
                                     "\r\n",
                                     "![](../images/3.PersistingData/NamedVolumes/2.docker_volume_ls.png)\r\n",
                                     "Now we can spin up a container with those volumes mapped: -\r\n",
                                     "\r\n"
                                 ],
                      "metadata":  {
                                       "azdata_cell_guid":  "e9a9020a-2e4f-4aee-a8e0-a31dafe1e1e9"
                                   }
                  },
                  {
                      "cell_type":  "code",
                      "source":  [
                                     "    docker container run -d `\r\n",
                                     "    -p 15789:1433 `\r\n",
                                     "    --volume mssqlsystem:/var/opt/mssql `\r\n",
                                     "    --volume mssqluser:/var/opt/sqlserver `\r\n",
                                     "    --env ACCEPT_EULA=Y `\r\n",
                                     "    --env MSSQL_SA_PASSWORD=Testing1122 `\r\n",
                                     "    --name sqlcontainer1 `\r\n",
                                     "    mcr.microsoft.com/mssql/server:2019-CU5-ubuntu-18.04\r\n"
                                 ],
                      "metadata":  {
                                       "azdata_cell_guid":  "66bc8837-d68f-454a-876f-76a839274a2e"
                                   },
                      "outputs":  [

                                  ],
                      "execution_count":  0
                  },
                  {
                      "cell_type":  "markdown",
                      "source":  [
                                     "\r\n",
                                     "![](../images/3.PersistingData/NamedVolumes/3.docker_container_run.png)\r\n",
                                     "The _**mssqlsystem**_ volume is mapped to _**/var/opt/mssql**_ which is the location of the system databases.\r\n",
                                     "The _**mssqluser**_ volume is mapped to _**/var/opt/sqlserver**_ which will be created for us.\r\n",
                                     "By persisting the system databases we won\u0027t have to manually attach any user databases we create in any further containers that use these volumes. The master database will be persisted which will have a record of the database(s).\r\n",
                                     "Let\u0027s run through that here.\r\n",
                                     "First thing we need to do is grant the mssql user access to the location mapped to the mssqluser volume. We need to do this as SQL Server 2019 by default does not run as root within the container, it runs under the mssql user: -\r\n",
                                     "\r\n"
                                 ],
                      "metadata":  {
                                       "azdata_cell_guid":  "1f6cde7c-2ad4-418b-bff6-c5d1357c75d4"
                                   }
                  },
                  {
                      "cell_type":  "code",
                      "source":  [
                                     "    docker exec -u 0 sqlcontainer1 bash -c \"chown -R mssql /var/opt/sqlserver\"\r\n"
                                 ],
                      "metadata":  {
                                       "azdata_cell_guid":  "7f20fa53-3b42-4362-b894-cc4a743d733e"
                                   },
                      "outputs":  [

                                  ],
                      "execution_count":  0
                  },
                  {
                      "cell_type":  "markdown",
                      "source":  [
                                     "\r\n",
                                     "Now we can create a database: -\r\n",
                                     "\r\n"
                                 ],
                      "metadata":  {
                                       "azdata_cell_guid":  "efe2d33d-5ba4-4702-96a3-ad1821c55414"
                                   }
                  },
                  {
                      "cell_type":  "code",
                      "source":  [
                                     "    mssql-cli -S localhost,15789 -U sa -P Testing1122 `\r\n",
                                     "    -Q \"CREATE DATABASE [testdatabase] ON PRIMARY (NAME=\u0027testdatabase\u0027,FILENAME=\u0027/var/opt/sqlserver/testdatabase.mdf\u0027) LOG ON (NAME=\u0027testdatabase_log\u0027,FILENAME=\u0027/var/opt/sqlserver/testdatabase_log.ldf\u0027);\"\r\n"
                                 ],
                      "metadata":  {
                                       "azdata_cell_guid":  "4eec8097-7eb6-4e6a-9760-28d50440cdf4"
                                   },
                      "outputs":  [

                                  ],
                      "execution_count":  0
                  },
                  {
                      "cell_type":  "markdown",
                      "source":  [
                                     "\r\n",
                                     "![](../images/3.PersistingData/NamedVolumes/4.mssql_cli_create_database.png)\r\n",
                                     "Check that the database has been created: -\r\n",
                                     "\r\n"
                                 ],
                      "metadata":  {
                                       "azdata_cell_guid":  "051bd318-ceb5-4f61-8afb-1bdb111b5e93"
                                   }
                  },
                  {
                      "cell_type":  "code",
                      "source":  [
                                     "    mssql-cli -S localhost,15789 -U sa -P Testing1122 -Q \"SELECT [name] FROM sys.databases;\"\r\n"
                                 ],
                      "metadata":  {
                                       "azdata_cell_guid":  "de9df797-68df-4309-a9da-3a44b0e5060a"
                                   },
                      "outputs":  [

                                  ],
                      "execution_count":  0
                  },
                  {
                      "cell_type":  "markdown",
                      "source":  [
                                     "\r\n",
                                     "![](../images/3.PersistingData/NamedVolumes/5.mssql_cli_get_databases.png)\r\n",
                                     "And now let\u0027s blow away that container: -\r\n",
                                     "\r\n"
                                 ],
                      "metadata":  {
                                       "azdata_cell_guid":  "e9eb747a-6b85-407f-b488-33f7c329f2b7"
                                   }
                  },
                  {
                      "cell_type":  "code",
                      "source":  [
                                     "    docker container rm sqlcontainer1 -f\r\n"
                                 ],
                      "metadata":  {
                                       "azdata_cell_guid":  "d52436d0-c5a0-47d5-9ec9-c49edf14ad51"
                                   },
                      "outputs":  [

                                  ],
                      "execution_count":  0
                  },
                  {
                      "cell_type":  "markdown",
                      "source":  [
                                     "\r\n",
                                     "![](../images/3.PersistingData/NamedVolumes/6.docker_container_rm.png)\r\n",
                                     "Confirm that it\u0027s gone: -\r\n",
                                     "\r\n"
                                 ],
                      "metadata":  {
                                       "azdata_cell_guid":  "f25a8c7b-cb4c-472f-bc29-0162d5ce5bf3"
                                   }
                  },
                  {
                      "cell_type":  "code",
                      "source":  [
                                     "    docker container ls -a\r\n"
                                 ],
                      "metadata":  {
                                       "azdata_cell_guid":  "313d3969-cfa3-4eab-9dd2-b55479f7fa5f"
                                   },
                      "outputs":  [

                                  ],
                      "execution_count":  0
                  },
                  {
                      "cell_type":  "markdown",
                      "source":  [
                                     "\r\n",
                                     "![](../images/3.PersistingData/NamedVolumes/7.docker_container_ls.png)\r\n",
                                     "OK, container is gone but we still have our volumes: -\r\n",
                                     "\r\n"
                                 ],
                      "metadata":  {
                                       "azdata_cell_guid":  "743a65bc-52fc-426c-aa0c-b53e746030f5"
                                   }
                  },
                  {
                      "cell_type":  "code",
                      "source":  [
                                     "    docker volume ls\r\n"
                                 ],
                      "metadata":  {
                                       "azdata_cell_guid":  "5c70371b-ffff-4c16-89e6-fa69b60e61e5"
                                   },
                      "outputs":  [

                                  ],
                      "execution_count":  0
                  },
                  {
                      "cell_type":  "markdown",
                      "source":  [
                                     "\r\n",
                                     "![](../images/3.PersistingData/NamedVolumes/2.docker_volume_ls.png)\r\n",
                                     "So let\u0027s now spin up another container, remapping the volumes: -\r\n",
                                     "\r\n"
                                 ],
                      "metadata":  {
                                       "azdata_cell_guid":  "c78fbe90-aa2d-467a-8c8a-5aa2b1072f95"
                                   }
                  },
                  {
                      "cell_type":  "code",
                      "source":  [
                                     "    docker container run -d `\r\n",
                                     "    -p 15799:1433 `\r\n",
                                     "    --volume mssqlsystem:/var/opt/mssql `\r\n",
                                     "    --volume mssqluser:/var/opt/sqlserver `\r\n",
                                     "    --env ACCEPT_EULA=Y `\r\n",
                                     "    --env MSSQL_SA_PASSWORD=Testing1122 `\r\n",
                                     "    --name sqlcontainer2 `\r\n",
                                     "    mcr.microsoft.com/mssql/server:2019-CU5-ubuntu-18.04\r\n"
                                 ],
                      "metadata":  {
                                       "azdata_cell_guid":  "1b618a9a-0658-448d-9499-52065050a98c"
                                   },
                      "outputs":  [

                                  ],
                      "execution_count":  0
                  },
                  {
                      "cell_type":  "markdown",
                      "source":  [
                                     "\r\n",
                                     "![](../images/3.PersistingData/NamedVolumes/8.docker_container_run2.png)\r\n",
                                     "And let\u0027s check that our database is there: -\r\n",
                                     "\r\n"
                                 ],
                      "metadata":  {
                                       "azdata_cell_guid":  "a5d8a5bd-58c9-4957-a575-beb4b119cfda"
                                   }
                  },
                  {
                      "cell_type":  "code",
                      "source":  [
                                     "    mssql-cli -S localhost,15799 -U sa -P Testing1122 -Q \"SELECT [name] FROM sys.databases;\"\r\n"
                                 ],
                      "metadata":  {
                                       "azdata_cell_guid":  "d16157c4-962b-4313-bb3f-1171fbd27a5c"
                                   },
                      "outputs":  [

                                  ],
                      "execution_count":  0
                  }
              ]
}
