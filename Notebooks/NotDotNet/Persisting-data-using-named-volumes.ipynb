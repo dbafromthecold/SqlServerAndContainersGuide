{
    "metadata":  {
                     "kernelspec":  {
                                        "name":  "powershell",
                                        "display_name":  "PowerShell"
                                    }
                 },
    "language_info":  {
                          "name":  "powershell",
                          "version":  "",
                          "codemirror_mode":  "shell",
                          "mimetype":  "text/x-sh",
                          "file_extension":  ".ps1"
                      },
    "nbformat_minor":  2,
    "nbformat":  4,
    "cells":  [
                  {
                      "cell_type":  "markdown",
                      "source":  [
                                     "\r\n",
                                     "So far in this guide we\u0027ve gone through spinning up a container and connecting to SQL Server. However containers are ephemeral by default so any changes made in SQL will be lost when we delete the container. Meaning that any databases we create will be lost, really lost. There\u0027s no way to get them back.\r\n",
                                     "So let\u0027s run through how we can persist our databases from one container to another by using _**docker named volumes**_.\r\n",
                                     "To create a named volume run: -\r\n",
                                     "\r\n"
                                 ],
                      "metadata":  {
                                       "azdata_cell_guid":  "ec55ed4f-d55c-49f2-b68b-99b9f3d8b715"
                                   }
                  },
                  {
                      "cell_type":  "code",
                      "source":  [
                                     "    docker volume create mssqlsystem\r\n",
                                     "    docker volume create mssqluser\r\n"
                                 ],
                      "metadata":  {
                                       "azdata_cell_guid":  "1a4ef235-79e7-4922-af8f-e7e5290802fa"
                                   },
                      "outputs":  [

                                  ],
                      "execution_count":  0
                  },
                  {
                      "cell_type":  "markdown",
                      "source":  [
                                     "\r\n",
                                     "![](../images/3.PersistingData/NamedVolumes/1.docker_volume_create.png)\r\n",
                                     "Notice we\u0027re creating two volumes here, one will be for the system databases and one will be for our user databases.\r\n",
                                     "To check the volumes: -\r\n",
                                     "\r\n"
                                 ],
                      "metadata":  {
                                       "azdata_cell_guid":  "86f47c4e-703c-4377-bab5-c0fdc1ca5f77"
                                   }
                  },
                  {
                      "cell_type":  "code",
                      "source":  [
                                     "    docker volume ls\r\n"
                                 ],
                      "metadata":  {
                                       "azdata_cell_guid":  "e391aadf-cbab-4dca-b7ae-bd07f0daf508"
                                   },
                      "outputs":  [

                                  ],
                      "execution_count":  0
                  },
                  {
                      "cell_type":  "markdown",
                      "source":  [
                                     "\r\n",
                                     "![](../images/3.PersistingData/NamedVolumes/2.docker_volume_ls.png)\r\n",
                                     "Now we can spin up a container with those volumes mapped: -\r\n",
                                     "\r\n"
                                 ],
                      "metadata":  {
                                       "azdata_cell_guid":  "83ab96e0-3aab-4fce-83cf-744518c0ef0c"
                                   }
                  },
                  {
                      "cell_type":  "code",
                      "source":  [
                                     "    docker container run -d `\r\n",
                                     "    -p 15789:1433 `\r\n",
                                     "    --volume mssqlsystem:/var/opt/mssql `\r\n",
                                     "    --volume mssqluser:/var/opt/sqlserver `\r\n",
                                     "    --env ACCEPT_EULA=Y `\r\n",
                                     "    --env MSSQL_SA_PASSWORD=Testing1122 `\r\n",
                                     "    --name sqlcontainer1 `\r\n",
                                     "    mcr.microsoft.com/mssql/server:2019-CU5-ubuntu-18.04\r\n"
                                 ],
                      "metadata":  {
                                       "azdata_cell_guid":  "d1cca2b3-8584-4b1b-b2b3-d6101344935e"
                                   },
                      "outputs":  [

                                  ],
                      "execution_count":  0
                  },
                  {
                      "cell_type":  "markdown",
                      "source":  [
                                     "\r\n",
                                     "![](../images/3.PersistingData/NamedVolumes/3.docker_container_run.png)\r\n",
                                     "The _**mssqlsystem**_ volume is mapped to _**/var/opt/mssql**_ which is the location of the system databases.\r\n",
                                     "The _**mssqluser**_ volume is mapped to _**/var/opt/sqlserver**_ which will be created for us.\r\n",
                                     "By persisting the system databases we won\u0027t have to manually attach any user databases we create in any further containers that use these volumes. The master database will be persisted which will have a record of the database(s).\r\n",
                                     "Let\u0027s run through that here.\r\n",
                                     "First thing we need to do is grant the mssql user access to the location mapped to the mssqluser volume. We need to do this as SQL Server 2019 by default does not run as root within the container, it runs under the mssql user: -\r\n",
                                     "\r\n"
                                 ],
                      "metadata":  {
                                       "azdata_cell_guid":  "df1e625f-56f9-49a8-9010-f377f5172226"
                                   }
                  },
                  {
                      "cell_type":  "code",
                      "source":  [
                                     "    docker exec -u 0 sqlcontainer1 bash -c \"chown -R mssql /var/opt/sqlserver\"\r\n"
                                 ],
                      "metadata":  {
                                       "azdata_cell_guid":  "d69f52ce-1a73-4355-ba4a-747caefd1754"
                                   },
                      "outputs":  [

                                  ],
                      "execution_count":  0
                  },
                  {
                      "cell_type":  "markdown",
                      "source":  [
                                     "\r\n",
                                     "Now we can create a database: -\r\n",
                                     "\r\n"
                                 ],
                      "metadata":  {
                                       "azdata_cell_guid":  "b029c973-5ba6-43a2-8ff7-641958d37eaf"
                                   }
                  },
                  {
                      "cell_type":  "code",
                      "source":  [
                                     "    mssql-cli -S localhost,15789 -U sa -P Testing1122 `\r\n",
                                     "    -Q \"CREATE DATABASE [testdatabase] ON PRIMARY (NAME=\u0027testdatabase\u0027,FILENAME=\u0027/var/opt/sqlserver/testdatabase.mdf\u0027) LOG ON (NAME=\u0027testdatabase_log\u0027,FILENAME=\u0027/var/opt/sqlserver/testdatabase_log.ldf\u0027);\"\r\n"
                                 ],
                      "metadata":  {
                                       "azdata_cell_guid":  "7f7914b9-8c4d-4c72-9720-fa6cdb55ab32"
                                   },
                      "outputs":  [

                                  ],
                      "execution_count":  0
                  },
                  {
                      "cell_type":  "markdown",
                      "source":  [
                                     "\r\n",
                                     "![](../images/3.PersistingData/NamedVolumes/4.mssql_cli_create_database.png)\r\n",
                                     "Check that the database has been created: -\r\n",
                                     "\r\n"
                                 ],
                      "metadata":  {
                                       "azdata_cell_guid":  "ebc8535b-da46-40c5-88d8-28f41e4c6f74"
                                   }
                  },
                  {
                      "cell_type":  "code",
                      "source":  [
                                     "    mssql-cli -S localhost,15789 -U sa -P Testing1122 -Q \"SELECT [name] FROM sys.databases;\"\r\n"
                                 ],
                      "metadata":  {
                                       "azdata_cell_guid":  "4a6fdd28-1377-4d61-b75c-90f88d966d50"
                                   },
                      "outputs":  [

                                  ],
                      "execution_count":  0
                  },
                  {
                      "cell_type":  "markdown",
                      "source":  [
                                     "\r\n",
                                     "![](../images/3.PersistingData/NamedVolumes/5.mssql_cli_get_databases.png)\r\n",
                                     "And now let\u0027s blow away that container: -\r\n",
                                     "\r\n"
                                 ],
                      "metadata":  {
                                       "azdata_cell_guid":  "789dc171-b8ae-4f8c-b05e-2796ed5d4f51"
                                   }
                  },
                  {
                      "cell_type":  "code",
                      "source":  [
                                     "    docker container rm sqlcontainer1 -f\r\n"
                                 ],
                      "metadata":  {
                                       "azdata_cell_guid":  "48e46d89-d295-44f0-8f40-389b75b0d90b"
                                   },
                      "outputs":  [

                                  ],
                      "execution_count":  0
                  },
                  {
                      "cell_type":  "markdown",
                      "source":  [
                                     "\r\n",
                                     "![](../images/3.PersistingData/NamedVolumes/6.docker_container_rm.png)\r\n",
                                     "Confirm that it\u0027s gone: -\r\n",
                                     "\r\n"
                                 ],
                      "metadata":  {
                                       "azdata_cell_guid":  "84d890da-c072-4764-894d-1c7ec9442a1e"
                                   }
                  },
                  {
                      "cell_type":  "code",
                      "source":  [
                                     "    docker container ls -a\r\n"
                                 ],
                      "metadata":  {
                                       "azdata_cell_guid":  "97ca2e8d-4e1b-48a3-b4b7-225d015ea6fb"
                                   },
                      "outputs":  [

                                  ],
                      "execution_count":  0
                  },
                  {
                      "cell_type":  "markdown",
                      "source":  [
                                     "\r\n",
                                     "![](../images/3.PersistingData/NamedVolumes/7.docker_container_ls.png)\r\n",
                                     "OK, container is gone but we still have our volumes: -\r\n",
                                     "\r\n"
                                 ],
                      "metadata":  {
                                       "azdata_cell_guid":  "44309cee-eafe-4fd1-888f-b02e6c4a70b9"
                                   }
                  },
                  {
                      "cell_type":  "code",
                      "source":  [
                                     "    docker volume ls\r\n"
                                 ],
                      "metadata":  {
                                       "azdata_cell_guid":  "6bd3be9a-6df8-42a5-9627-679a109dad61"
                                   },
                      "outputs":  [

                                  ],
                      "execution_count":  0
                  },
                  {
                      "cell_type":  "markdown",
                      "source":  [
                                     "\r\n",
                                     "![](../images/3.PersistingData/NamedVolumes/2.docker_volume_ls.png)\r\n",
                                     "So let\u0027s now spin up another container, remapping the volumes: -\r\n",
                                     "\r\n"
                                 ],
                      "metadata":  {
                                       "azdata_cell_guid":  "258d872e-161f-4629-94ba-34ca92e06640"
                                   }
                  },
                  {
                      "cell_type":  "code",
                      "source":  [
                                     "    docker container run -d `\r\n",
                                     "    -p 15799:1433 `\r\n",
                                     "    --volume mssqlsystem:/var/opt/mssql `\r\n",
                                     "    --volume mssqluser:/var/opt/sqlserver `\r\n",
                                     "    --env ACCEPT_EULA=Y `\r\n",
                                     "    --env MSSQL_SA_PASSWORD=Testing1122 `\r\n",
                                     "    --name sqlcontainer2 `\r\n",
                                     "    mcr.microsoft.com/mssql/server:2019-CU5-ubuntu-18.04\r\n"
                                 ],
                      "metadata":  {
                                       "azdata_cell_guid":  "79a9cdf8-bb9e-4b61-a0bf-544e2fa5c2fa"
                                   },
                      "outputs":  [

                                  ],
                      "execution_count":  0
                  },
                  {
                      "cell_type":  "markdown",
                      "source":  [
                                     "\r\n",
                                     "![](../images/3.PersistingData/NamedVolumes/8.docker_container_run2.png)\r\n",
                                     "And let\u0027s check that our database is there: -\r\n",
                                     "\r\n"
                                 ],
                      "metadata":  {
                                       "azdata_cell_guid":  "b64b0b35-d95b-4794-9f31-52aea1df774c"
                                   }
                  },
                  {
                      "cell_type":  "code",
                      "source":  [
                                     "    mssql-cli -S localhost,15799 -U sa -P Testing1122 -Q \"SELECT [name] FROM sys.databases;\"\r\n"
                                 ],
                      "metadata":  {
                                       "azdata_cell_guid":  "5c54281d-6c6d-4cb2-9ebc-a7a6ace504e0"
                                   },
                      "outputs":  [

                                  ],
                      "execution_count":  0
                  },
                  {
                      "cell_type":  "markdown",
                      "source":  [
                                     "\r\n",
                                     "![](../images/3.PersistingData/NamedVolumes/9.mssql_cli_get_databases2.png)\r\n",
                                     "Excellent! By using named volumes we\u0027ve persisted a database from one container to another!\r\n"
                                 ],
                      "metadata":  {
                                       "azdata_cell_guid":  "2e7db409-1d54-4776-bfdf-0be04c0bd2b7"
                                   }
                  }
              ]
}
