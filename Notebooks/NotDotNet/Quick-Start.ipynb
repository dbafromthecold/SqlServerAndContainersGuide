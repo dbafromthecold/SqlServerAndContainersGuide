{
    "metadata":  {
                     "kernelspec":  {
                                        "name":  "powershell",
                                        "display_name":  "PowerShell"
                                    }
                 },
    "language_info":  {
                          "name":  "powershell",
                          "version":  "",
                          "codemirror_mode":  "shell",
                          "mimetype":  "text/x-sh",
                          "file_extension":  ".ps1"
                      },
    "nbformat_minor":  2,
    "nbformat":  4,
    "cells":  [
                  {
                      "cell_type":  "markdown",
                      "source":  [
                                     "\r\n",
                                     "This guide will get you up and running with SQL Server in a Docker container in a couple of minutes. For a breakdown of what each line of code does check out the [Quick Start Explained](https://github.com/dbafromthecold/SqlServerAndContainersGuide/wiki/Quick-Start-Explained) page.\r\n",
                                     "To get a container up and running quickly, you can run: -\r\n",
                                     "\r\n"
                                 ],
                      "metadata":  {
                                       "azdata_cell_guid":  "76bf74d1-4ad5-4e30-8f1e-e7376575757a"
                                   }
                  },
                  {
                      "cell_type":  "code",
                      "source":  [
                                     "    docker container run -d -p 1433:1433 `\r\n",
                                     "    --env ACCEPT_EULA=Y `\r\n",
                                     "    --env MSSQL_SA_PASSWORD=Testing1122 `\r\n",
                                     "    --name sqlcontainer1 `\r\n",
                                     "    mcr.microsoft.com/mssql/server:2019-latest\r\n"
                                 ],
                      "metadata":  {
                                       "azdata_cell_guid":  "129d389f-5e23-48e3-bfb2-346aa49367d1"
                                   },
                      "outputs":  [

                                  ],
                      "execution_count":  0
                  },
                  {
                      "cell_type":  "markdown",
                      "source":  [
                                     "\r\n",
                                     "![](../images/1.QuickStart/1.docker_container_run.png)\r\n",
                                     "Execute that, the image will be pulled down for you. You can check this by running: -\r\n",
                                     "\r\n"
                                 ],
                      "metadata":  {
                                       "azdata_cell_guid":  "c2aa76fb-cbe2-4310-a8ec-f22c43de992e"
                                   }
                  },
                  {
                      "cell_type":  "code",
                      "source":  [
                                     "    docker image ls\r\n"
                                 ],
                      "metadata":  {
                                       "azdata_cell_guid":  "d8f32044-55a7-4019-9853-cf8ed56a4499"
                                   },
                      "outputs":  [

                                  ],
                      "execution_count":  0
                  },
                  {
                      "cell_type":  "markdown",
                      "source":  [
                                     "\r\n",
                                     "![](../images/1.QuickStart/2.docker_images.png)\r\n",
                                     "And you can then confirm that your container is running: -\r\n",
                                     "\r\n"
                                 ],
                      "metadata":  {
                                       "azdata_cell_guid":  "6b799147-7fc1-4396-b724-0c14c2180484"
                                   }
                  },
                  {
                      "cell_type":  "code",
                      "source":  [
                                     "    docker container ls -a\r\n"
                                 ],
                      "metadata":  {
                                       "azdata_cell_guid":  "33d21244-9d94-4a8e-88ce-f0b3a73966d7"
                                   },
                      "outputs":  [

                                  ],
                      "execution_count":  0
                  },
                  {
                      "cell_type":  "markdown",
                      "source":  [
                                     "\r\n",
                                     "![](../images/1.QuickStart/3.docker_container_ls.png)\r\n",
                                     "If your container is up and running you will be able to connect to it in SSMS or ADS via servername _**localhost**_ and password _**Testing1122**_\r\n",
                                     "![](../images/1.QuickStart/4.connected_in_ssms.png)\r\n",
                                     "And that\u0027s a real quick start into SQL Server running in a Docker container. Check out the rest of the wiki for more information!\r\n"
                                 ],
                      "metadata":  {
                                       "azdata_cell_guid":  "a1a337aa-8826-4ff1-88f0-e9c56c6fd32d"
                                   }
                  }
              ]
}
