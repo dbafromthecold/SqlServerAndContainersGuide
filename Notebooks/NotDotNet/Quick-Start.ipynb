{
    "metadata":  {
                     "kernelspec":  {
                                        "name":  "powershell",
                                        "display_name":  "PowerShell"
                                    }
                 },
    "language_info":  {
                          "name":  "powershell",
                          "version":  "",
                          "codemirror_mode":  "shell",
                          "mimetype":  "text/x-sh",
                          "file_extension":  ".ps1"
                      },
    "nbformat_minor":  2,
    "nbformat":  4,
    "cells":  [
                  {
                      "cell_type":  "markdown",
                      "source":  [
                                     "\r\n",
                                     "This guide will get you up and running with SQL Server in a Docker container in a couple of minutes. For a breakdown of what each line of code does check out the [Quick Start Explained](https://github.com/dbafromthecold/SqlServerAndContainersGuide/wiki/Quick-Start-Explained) page.\r\n",
                                     "To get a container up and running quickly, you can run: -\r\n",
                                     "\r\n"
                                 ],
                      "metadata":  {
                                       "azdata_cell_guid":  "9a64285b-2441-48df-a780-36621fe96eff"
                                   }
                  },
                  {
                      "cell_type":  "code",
                      "source":  [
                                     "    docker container run -d -p 1433:1433 `\r\n",
                                     "    --env ACCEPT_EULA=Y `\r\n",
                                     "    --env MSSQL_SA_PASSWORD=Testing1122 `\r\n",
                                     "    --name sqlcontainer1 `\r\n",
                                     "    mcr.microsoft.com/mssql/server:2019-latest\r\n"
                                 ],
                      "metadata":  {
                                       "azdata_cell_guid":  "00a87585-4926-4bd5-a064-1e6c896c2596"
                                   },
                      "outputs":  [

                                  ],
                      "execution_count":  0
                  },
                  {
                      "cell_type":  "markdown",
                      "source":  [
                                     "\r\n",
                                     "![](../images/1.QuickStart/1.docker_container_run.png)\r\n",
                                     "Execute that, the image will be pulled down for you. You can check this by running: -\r\n",
                                     "\r\n"
                                 ],
                      "metadata":  {
                                       "azdata_cell_guid":  "bf5b0e9a-a397-46ba-a77a-46bff5db6d2c"
                                   }
                  },
                  {
                      "cell_type":  "code",
                      "source":  [
                                     "    docker image ls\r\n"
                                 ],
                      "metadata":  {
                                       "azdata_cell_guid":  "706dbac1-8588-4cf7-9da6-caf5a1e5e2d6"
                                   },
                      "outputs":  [

                                  ],
                      "execution_count":  0
                  },
                  {
                      "cell_type":  "markdown",
                      "source":  [
                                     "\r\n",
                                     "![](../images/1.QuickStart/2.docker_images.png)\r\n",
                                     "And you can then confirm that your container is running: -\r\n",
                                     "\r\n"
                                 ],
                      "metadata":  {
                                       "azdata_cell_guid":  "0fec6b58-7aa4-4844-8058-c661c5499d9b"
                                   }
                  },
                  {
                      "cell_type":  "code",
                      "source":  [
                                     "    docker container ls -a\r\n"
                                 ],
                      "metadata":  {
                                       "azdata_cell_guid":  "a7b48320-ff8e-4e76-8466-a182d5cfaf9a"
                                   },
                      "outputs":  [

                                  ],
                      "execution_count":  0
                  }
              ]
}
