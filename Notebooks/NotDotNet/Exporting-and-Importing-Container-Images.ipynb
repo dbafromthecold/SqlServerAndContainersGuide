{
    "metadata":  {
                     "kernelspec":  {
                                        "name":  "powershell",
                                        "display_name":  "PowerShell"
                                    }
                 },
    "language_info":  {
                          "name":  "powershell",
                          "version":  "",
                          "codemirror_mode":  "shell",
                          "mimetype":  "text/x-sh",
                          "file_extension":  ".ps1"
                      },
    "nbformat_minor":  2,
    "nbformat":  4,
    "cells":  [
                  {
                      "cell_type":  "markdown",
                      "source":  [
                                     "\r\n",
                                     "In a previous wiki we pushed a [custom SQL image to the Docker Hub](https://github.com/dbafromthecold/SqlServerAndContainersGuide/wiki/Pushing-an-image-to-the-Docker-Hub).\r\n",
                                     "However, what if that image contained sensitive information that we don\u0027t want people to see? Ok, we could have made the repository on the Docker Hub private but what if we don\u0027t want it in a public registry at all?\r\n",
                                     "One option is to host your own container registry, but here we\u0027re going to go through exporting Docker images.\r\n",
                                     "The image we\u0027re going to export is the image built in the [previous wiki](https://github.com/dbafromthecold/SqlServerAndContainersGuide/wiki/Building-a-custom-image).\r\n",
                                     "Here\u0027s the image: -\r\n",
                                     "\r\n"
                                 ],
                      "metadata":  {
                                       "azdata_cell_guid":  "47554175-56e8-4b71-a54a-a35423cd5197"
                                   }
                  },
                  {
                      "cell_type":  "code",
                      "source":  [
                                     "    docker image ls\r\n"
                                 ],
                      "metadata":  {
                                       "azdata_cell_guid":  "35fddca2-35df-42d7-8368-754b7c0cc6c8"
                                   },
                      "outputs":  [

                                  ],
                      "execution_count":  0
                  },
                  {
                      "cell_type":  "markdown",
                      "source":  [
                                     "\r\n",
                                     "![](../images/4.BuildingACustomImage/ExportingDockerImages/1.ViewImages.png)\r\n",
                                     "We can export that image by running: -\r\n",
                                     "\r\n"
                                 ],
                      "metadata":  {
                                       "azdata_cell_guid":  "25de908c-2a08-4be0-a099-842be6fd71c5"
                                   }
                  },
                  {
                      "cell_type":  "code",
                      "source":  [
                                     "    docker save sqlimage1 -o C:\\temp\\sqlimage1.tar\r\n"
                                 ],
                      "metadata":  {
                                       "azdata_cell_guid":  "30eb9ee3-1988-451e-b92a-f5f6e9523dd9"
                                   },
                      "outputs":  [

                                  ],
                      "execution_count":  0
                  },
                  {
                      "cell_type":  "markdown",
                      "source":  [
                                     "\r\n",
                                     "![](../images/4.BuildingACustomImage/ExportingDockerImages/2.ExportImage.png)\r\n",
                                     "And there\u0027s the exported compressed image in the C:\\temp folder! This can now be copied to another Docker host were it can be imported. Let\u0027s have a go at that on our local Docker host.\r\n",
                                     "First thing is to remove the existing image: -\r\n",
                                     "\r\n"
                                 ],
                      "metadata":  {
                                       "azdata_cell_guid":  "4601c486-3d60-4f9c-90db-203e1750139e"
                                   }
                  },
                  {
                      "cell_type":  "code",
                      "source":  [
                                     "    docker rmi sqlimage1\r\n"
                                 ],
                      "metadata":  {
                                       "azdata_cell_guid":  "d46a0b12-6185-4906-a267-f578c00714c6"
                                   },
                      "outputs":  [

                                  ],
                      "execution_count":  0
                  },
                  {
                      "cell_type":  "markdown",
                      "source":  [
                                     "\r\n",
                                     "![](../images/4.BuildingACustomImage/ExportingDockerImages/3.DeleteImage.png)\r\n",
                                     "And now load the image from the file: -\r\n",
                                     "\r\n"
                                 ],
                      "metadata":  {
                                       "azdata_cell_guid":  "ba3d0ba8-607d-4656-bbe8-d9d3e4021dfd"
                                   }
                  },
                  {
                      "cell_type":  "code",
                      "source":  [
                                     "    docker load -i C:\\temp\\sqlimage1.tar\r\n"
                                 ],
                      "metadata":  {
                                       "azdata_cell_guid":  "ccdb17d3-d862-471d-acc0-73eb5a803f07"
                                   },
                      "outputs":  [

                                  ],
                      "execution_count":  0
                  },
                  {
                      "cell_type":  "markdown",
                      "source":  [
                                     "\r\n",
                                     "![](../images/4.BuildingACustomImage/ExportingDockerImages/4.LoadImage.png)\r\n",
                                     "Once that\u0027s complete, confirm that the image is there: -\r\n",
                                     "\r\n"
                                 ],
                      "metadata":  {
                                       "azdata_cell_guid":  "9a2776e0-2abf-49f3-a3a3-2546688dc0a4"
                                   }
                  },
                  {
                      "cell_type":  "code",
                      "source":  [
                                     "    docker image ls\r\n"
                                 ],
                      "metadata":  {
                                       "azdata_cell_guid":  "1b7a0a0c-7fb3-4794-a740-a00ca18292db"
                                   },
                      "outputs":  [

                                  ],
                      "execution_count":  0
                  }
              ]
}
