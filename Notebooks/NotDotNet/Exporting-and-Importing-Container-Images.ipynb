{
    "metadata":  {
                     "kernelspec":  {
                                        "name":  "powershell",
                                        "display_name":  "PowerShell"
                                    }
                 },
    "language_info":  {
                          "name":  "powershell",
                          "version":  "",
                          "codemirror_mode":  "shell",
                          "mimetype":  "text/x-sh",
                          "file_extension":  ".ps1"
                      },
    "nbformat_minor":  2,
    "nbformat":  4,
    "cells":  [
                  {
                      "cell_type":  "markdown",
                      "source":  [
                                     "\r\n",
                                     "In a previous wiki we pushed a [custom SQL image to the Docker Hub](https://github.com/dbafromthecold/SqlServerAndContainersGuide/wiki/Pushing-an-image-to-the-Docker-Hub).\r\n",
                                     "However, what if that image contained sensitive information that we don\u0027t want people to see? Ok, we could have made the repository on the Docker Hub private but what if we don\u0027t want it in a public registry at all?\r\n",
                                     "One option is to host your own container registry, but here we\u0027re going to go through exporting Docker images.\r\n",
                                     "The image we\u0027re going to export is the image built in the [previous wiki](https://github.com/dbafromthecold/SqlServerAndContainersGuide/wiki/Building-a-custom-image).\r\n",
                                     "Here\u0027s the image: -\r\n",
                                     "\r\n"
                                 ],
                      "metadata":  {
                                       "azdata_cell_guid":  "38d63976-7304-4246-a2f8-2951b67a9fc6"
                                   }
                  },
                  {
                      "cell_type":  "code",
                      "source":  [
                                     "    docker image ls\r\n"
                                 ],
                      "metadata":  {
                                       "azdata_cell_guid":  "dd8e7db2-d3d4-4d36-be45-d6e1bb2a82f0"
                                   },
                      "outputs":  [

                                  ],
                      "execution_count":  0
                  },
                  {
                      "cell_type":  "markdown",
                      "source":  [
                                     "\r\n",
                                     "![](../images/4.BuildingACustomImage/ExportingDockerImages/1.ViewImages.png)\r\n",
                                     "We can export that image by running: -\r\n",
                                     "\r\n"
                                 ],
                      "metadata":  {
                                       "azdata_cell_guid":  "2927e242-4c90-4ac2-ba75-42b12633960c"
                                   }
                  },
                  {
                      "cell_type":  "code",
                      "source":  [
                                     "    docker save sqlimage1 -o C:\\temp\\sqlimage1.tar\r\n"
                                 ],
                      "metadata":  {
                                       "azdata_cell_guid":  "808542ac-a2c5-42b2-9b94-4c178bba21ed"
                                   },
                      "outputs":  [

                                  ],
                      "execution_count":  0
                  },
                  {
                      "cell_type":  "markdown",
                      "source":  [
                                     "\r\n",
                                     "![](../images/4.BuildingACustomImage/ExportingDockerImages/2.ExportImage.png)\r\n",
                                     "And there\u0027s the exported compressed image in the C:\\temp folder! This can now be copied to another Docker host were it can be imported. Let\u0027s have a go at that on our local Docker host.\r\n",
                                     "First thing is to remove the existing image: -\r\n",
                                     "\r\n"
                                 ],
                      "metadata":  {
                                       "azdata_cell_guid":  "efde92b7-2e9e-4f3d-93f1-69ac0b744adf"
                                   }
                  },
                  {
                      "cell_type":  "code",
                      "source":  [
                                     "    docker rmi sqlimage1\r\n"
                                 ],
                      "metadata":  {
                                       "azdata_cell_guid":  "0817149d-7783-44bc-9a5d-694d224f5557"
                                   },
                      "outputs":  [

                                  ],
                      "execution_count":  0
                  },
                  {
                      "cell_type":  "markdown",
                      "source":  [
                                     "\r\n",
                                     "![](../images/4.BuildingACustomImage/ExportingDockerImages/3.DeleteImage.png)\r\n",
                                     "And now load the image from the file: -\r\n",
                                     "\r\n"
                                 ],
                      "metadata":  {
                                       "azdata_cell_guid":  "0971b484-2a39-4fa3-a1f9-6446376f961f"
                                   }
                  },
                  {
                      "cell_type":  "code",
                      "source":  [
                                     "    docker load -i C:\\temp\\sqlimage1.tar\r\n"
                                 ],
                      "metadata":  {
                                       "azdata_cell_guid":  "132ddb17-b341-4875-8ed4-2b41085173bb"
                                   },
                      "outputs":  [

                                  ],
                      "execution_count":  0
                  },
                  {
                      "cell_type":  "markdown",
                      "source":  [
                                     "\r\n",
                                     "![](../images/4.BuildingACustomImage/ExportingDockerImages/4.LoadImage.png)\r\n",
                                     "Once that\u0027s complete, confirm that the image is there: -\r\n",
                                     "\r\n"
                                 ],
                      "metadata":  {
                                       "azdata_cell_guid":  "cfd2aa84-632b-40cb-89f3-37b7829ac4b3"
                                   }
                  },
                  {
                      "cell_type":  "code",
                      "source":  [
                                     "    docker image ls\r\n"
                                 ],
                      "metadata":  {
                                       "azdata_cell_guid":  "820abb67-dab8-49b1-aff7-23248cb78e89"
                                   },
                      "outputs":  [

                                  ],
                      "execution_count":  0
                  },
                  {
                      "cell_type":  "markdown",
                      "source":  [
                                     "\r\n",
                                     "![](../images/4.BuildingACustomImage/ExportingDockerImages/5.ViewImages.png)\r\n",
                                     "So if we want to make images available to other Docker hosts but we don\u0027t want to push to a remote repository we can export/images using these commands!\r\n"
                                 ],
                      "metadata":  {
                                       "azdata_cell_guid":  "fabb6fd6-7b37-429a-8eb2-e0397b411725"
                                   }
                  }
              ]
}
