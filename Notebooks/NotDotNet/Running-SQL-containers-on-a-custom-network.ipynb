{
    "metadata":  {
                     "kernelspec":  {
                                        "name":  "powershell",
                                        "display_name":  "PowerShell"
                                    }
                 },
    "language_info":  {
                          "name":  "powershell",
                          "version":  "",
                          "codemirror_mode":  "shell",
                          "mimetype":  "text/x-sh",
                          "file_extension":  ".ps1"
                      },
    "nbformat_minor":  2,
    "nbformat":  4,
    "cells":  [
                  {
                      "cell_type":  "markdown",
                      "source":  [
                                     "\r\n",
                                     "In a previous wiki page we went through creating SQL containers on the [default docker bridge network](https://github.com/dbafromthecold/SqlServerAndContainersGuide/wiki/Running-SQL-containers-on-the-default-network)\r\n",
                                     "However, docker gives us the ability to create our own custom networks, and it provides several drivers for us to use: -\r\n",
                                     "1. bridge - the default. Allows containers connected to the same bridge network to communicate.\r\n",
                                     "2. host - removes network isolation between the container and the host. The container uses the host\u0027s network.\r\n",
                                     "3. none - disabled the container\u0027s network stack.\r\n",
                                     "4. macvlan - assign a MAC address to the container so it shows as a physical device on the network.\r\n",
                                     "5. Overlay - connect multiple docker daemons together. Used for Docker Swarm.\r\n",
                                     "The one we\u0027re going to focus on is the bridge network. User-defined (aka custom) brigde networks have several advantages over the default bridge network, the main one being that containers on a custom bridge network can communicate via container name. The other advantages are listed [here](https://github.com/dbafromthecold/SqlServerAndContainersGuide/wiki/Running-SQL-containers-on-the-default-network).\r\n",
                                     "Let\u0027s test that out! Create a custom network: -\r\n",
                                     "\r\n"
                                 ],
                      "metadata":  {
                                       "azdata_cell_guid":  "82f35942-654b-4ac6-9f80-ee83508424fc"
                                   }
                  },
                  {
                      "cell_type":  "code",
                      "source":  [
                                     "    docker network create sqlserver\r\n"
                                 ],
                      "metadata":  {
                                       "azdata_cell_guid":  "a1ea0f09-517b-418f-9ffd-183e71f9ba4b"
                                   },
                      "outputs":  [

                                  ],
                      "execution_count":  0
                  },
                  {
                      "cell_type":  "markdown",
                      "source":  [
                                     "\r\n",
                                     "We\u0027re not specifying a driver here so the network created will be a bridge network as it\u0027s the default. We can confirm that by running: -\r\n",
                                     "\r\n"
                                 ],
                      "metadata":  {
                                       "azdata_cell_guid":  "8f3ad39b-83b6-4df7-8457-cd2232749707"
                                   }
                  },
                  {
                      "cell_type":  "code",
                      "source":  [
                                     "    docker network ls\r\n"
                                 ],
                      "metadata":  {
                                       "azdata_cell_guid":  "901e1444-cafc-497c-83f1-c2c6f3c67a07"
                                   },
                      "outputs":  [

                                  ],
                      "execution_count":  0
                  },
                  {
                      "cell_type":  "markdown",
                      "source":  [
                                     "\r\n",
                                     "![](../images/5.ContainerNetworking/RunningContainersOnCustomNetwork/1.CreateAndViewCustomNetwork.png)\r\n",
                                     "And there\u0027s our custom network! Ok, let\u0027s spin up a couple of containers on that network: -\r\n",
                                     "\r\n"
                                 ],
                      "metadata":  {
                                       "azdata_cell_guid":  "fc992d94-4183-445e-8751-4b8f7401e48b"
                                   }
                  },
                  {
                      "cell_type":  "code",
                      "source":  [
                                     "    docker container run -d `\r\n",
                                     "    --network sqlserver `\r\n",
                                     "    --env ACCEPT_EULA=Y `\r\n",
                                     "    --env MSSQL_SA_PASSWORD=Testing1122 `\r\n",
                                     "    --name sqlcontainer1 `\r\n",
                                     "    ghcr.io/dbafromthecold/customsql2019-tools:cu5\r\n",
                                     "    \r\n",
                                     "    docker container run -d `\r\n",
                                     "    --network sqlserver `\r\n",
                                     "    --env ACCEPT_EULA=Y `\r\n",
                                     "    --env MSSQL_SA_PASSWORD=Testing1122 `\r\n",
                                     "    --name sqlcontainer2 `\r\n",
                                     "    ghcr.io/dbafromthecold/customsql2019-tools:cu5\r\n"
                                 ],
                      "metadata":  {
                                       "azdata_cell_guid":  "7c40b541-4d8c-4c34-b1ca-38e162df10ac"
                                   },
                      "outputs":  [

                                  ],
                      "execution_count":  0
                  },
                  {
                      "cell_type":  "markdown",
                      "source":  [
                                     "\r\n",
                                     "![](../images/5.ContainerNetworking/RunningContainersOnCustomNetwork/2.RunTwoContainers.png)\r\n",
                                     "We\u0027re using a custom image here as it has ping installed, so that we can test communicate between the containers.\r\n",
                                     "Confirm that the containers are up and running: -\r\n",
                                     "\r\n"
                                 ],
                      "metadata":  {
                                       "azdata_cell_guid":  "6643ca6f-969f-4134-8495-78ab7e24c45b"
                                   }
                  },
                  {
                      "cell_type":  "code",
                      "source":  [
                                     "    docker container ls -a\r\n"
                                 ],
                      "metadata":  {
                                       "azdata_cell_guid":  "fcb57179-a479-4c27-9cf1-ceb835106087"
                                   },
                      "outputs":  [

                                  ],
                      "execution_count":  0
                  },
                  {
                      "cell_type":  "markdown",
                      "source":  [
                                     "\r\n",
                                     "![](../images/5.ContainerNetworking/RunningContainersOnCustomNetwork/3.ConfirmContainersRunning.png)\r\n",
                                     "And inspect the custom network: -\r\n",
                                     "\r\n"
                                 ],
                      "metadata":  {
                                       "azdata_cell_guid":  "b849b667-28bb-4cb0-a03e-dc078b442cd3"
                                   }
                  },
                  {
                      "cell_type":  "code",
                      "source":  [
                                     "    docker network inspect sqlserver\r\n"
                                 ],
                      "metadata":  {
                                       "azdata_cell_guid":  "181679e1-9eba-4bea-bed8-2d970afe43f5"
                                   },
                      "outputs":  [

                                  ],
                      "execution_count":  0
                  },
                  {
                      "cell_type":  "markdown",
                      "source":  [
                                     "\r\n",
                                     "![](../images/5.ContainerNetworking/RunningContainersOnCustomNetwork/4.InspectCustomNetwork.png)\r\n",
                                     "There\u0027s our containers! Ok, now we can test pinging each container from the other by name: -\r\n",
                                     "   \r\n"
                                 ],
                      "metadata":  {
                                       "azdata_cell_guid":  "e4faa430-7838-4c76-a66e-270adecd93a3"
                                   }
                  },
                  {
                      "cell_type":  "code",
                      "source":  [
                                     "    docker exec sqlcontainer1 ping sqlcontainer2 -c 4\r\n",
                                     "    docker exec sqlcontainer2 ping sqlcontainer1 -c 4\r\n"
                                 ],
                      "metadata":  {
                                       "azdata_cell_guid":  "974146fb-56e9-4ec3-aa76-ae395e9ff503"
                                   },
                      "outputs":  [

                                  ],
                      "execution_count":  0
                  },
                  {
                      "cell_type":  "markdown",
                      "source":  [
                                     "\r\n",
                                     "![](../images/5.ContainerNetworking/RunningContainersOnCustomNetwork/5.PingContainers.png)\r\n",
                                     "Excellent! The containers can communicate by name!\r\n",
                                     "This is really handy when building out test environment in which we need multiple SQL instances that can talk to each other!\r\n",
                                     "I\u0027d recommend always creating a custom network for your SQL containers as it also provides more isolation for the containers from the default network.\r\n",
                                     "What\u0027s really cool as well is that containers can be attached/detached from a custom network on the fly! \r\n",
                                     "Let\u0027s try that out. Spin up a container on the default network: -\r\n",
                                     "\r\n"
                                 ],
                      "metadata":  {
                                       "azdata_cell_guid":  "cf704e97-8ec3-4153-b60b-837ae798e906"
                                   }
                  },
                  {
                      "cell_type":  "code",
                      "source":  [
                                     "    docker container run -d `\r\n",
                                     "    --env ACCEPT_EULA=Y `\r\n",
                                     "    --env MSSQL_SA_PASSWORD=Testing1122 `\r\n",
                                     "    --name sqlcontainer3 `\r\n",
                                     "    ghcr.io/dbafromthecold/customsql2019-tools:cu5\r\n"
                                 ],
                      "metadata":  {
                                       "azdata_cell_guid":  "29011f4c-187c-4ca9-bdc2-a571a34cbc3c"
                                   },
                      "outputs":  [

                                  ],
                      "execution_count":  0
                  },
                  {
                      "cell_type":  "markdown",
                      "source":  [
                                     "\r\n",
                                     "Confirm the container is running: -\r\n",
                                     "\r\n"
                                 ],
                      "metadata":  {
                                       "azdata_cell_guid":  "9b7524be-a2d8-45df-8b3b-6d36f008bcc1"
                                   }
                  },
                  {
                      "cell_type":  "code",
                      "source":  [
                                     "    docker container ls -a\r\n"
                                 ],
                      "metadata":  {
                                       "azdata_cell_guid":  "59b817f6-d18b-42f1-a7ad-fbc8c55a152a"
                                   },
                      "outputs":  [

                                  ],
                      "execution_count":  0
                  },
                  {
                      "cell_type":  "markdown",
                      "source":  [
                                     "\r\n",
                                     "![](../images/5.ContainerNetworking/RunningContainersOnCustomNetwork/6.SpinUpAnotherContainer.png)\r\n",
                                     "And confirm that it is on the default bridge network: -\r\n",
                                     "\r\n"
                                 ],
                      "metadata":  {
                                       "azdata_cell_guid":  "e203b637-f7a6-4d76-8b5b-275d0d373faa"
                                   }
                  },
                  {
                      "cell_type":  "code",
                      "source":  [
                                     "    docker network inspect bridge\r\n"
                                 ],
                      "metadata":  {
                                       "azdata_cell_guid":  "53f549e2-bda1-447a-bb0b-e2402fa5b904"
                                   },
                      "outputs":  [

                                  ],
                      "execution_count":  0
                  },
                  {
                      "cell_type":  "markdown",
                      "source":  [
                                     "\r\n",
                                     "![](../images/5.ContainerNetworking/RunningContainersOnCustomNetwork/7.InspectBridgeNetwork.png)\r\n",
                                     "Ok, let\u0027s attach that container to our custom network: -\r\n",
                                     "\r\n"
                                 ],
                      "metadata":  {
                                       "azdata_cell_guid":  "31f54595-fd3a-4637-926c-a2d531409429"
                                   }
                  },
                  {
                      "cell_type":  "code",
                      "source":  [
                                     "    docker network connect sqlserver sqlcontainer3\r\n"
                                 ],
                      "metadata":  {
                                       "azdata_cell_guid":  "131fae81-e7ae-4b4f-9e8c-c69904e01316"
                                   },
                      "outputs":  [

                                  ],
                      "execution_count":  0
                  },
                  {
                      "cell_type":  "markdown",
                      "source":  [
                                     "\r\n",
                                     "And now inspect the custom network: -\r\n",
                                     "\r\n"
                                 ],
                      "metadata":  {
                                       "azdata_cell_guid":  "20dea3f9-7948-4a8f-a79e-00bc3d28cc5e"
                                   }
                  },
                  {
                      "cell_type":  "code",
                      "source":  [
                                     "    docker network inspect sqlserver\r\n"
                                 ],
                      "metadata":  {
                                       "azdata_cell_guid":  "f94db2d3-9746-42ea-9b50-413dc3279980"
                                   },
                      "outputs":  [

                                  ],
                      "execution_count":  0
                  },
                  {
                      "cell_type":  "markdown",
                      "source":  [
                                     "\r\n",
                                     "![](../images/5.ContainerNetworking/RunningContainersOnCustomNetwork/8.InspectCustomNetworkAgain.png)\r\n",
                                     "The container is now attached to that network! So the other containers can communicate to it via its name: -\r\n",
                                     "\r\n"
                                 ],
                      "metadata":  {
                                       "azdata_cell_guid":  "bc8a4524-cf82-44fb-9c76-3a6f05cf9af4"
                                   }
                  },
                  {
                      "cell_type":  "code",
                      "source":  [
                                     "    docker exec sqlcontainer1 ping sqlcontainer3 -c 4\r\n"
                                 ],
                      "metadata":  {
                                       "azdata_cell_guid":  "3a72ea90-febc-49a3-b2b6-c4eeb5386eaa"
                                   },
                      "outputs":  [

                                  ],
                      "execution_count":  0
                  },
                  {
                      "cell_type":  "markdown",
                      "source":  [
                                     "\r\n",
                                     "![](../images/5.ContainerNetworking/RunningContainersOnCustomNetwork/9.PingNewContainer.png)\r\n",
                                     "And if we want to remove it from the custom network we can run: -\r\n",
                                     "\r\n"
                                 ],
                      "metadata":  {
                                       "azdata_cell_guid":  "7b2607ff-9875-40bd-b874-c884001bc29a"
                                   }
                  },
                  {
                      "cell_type":  "code",
                      "source":  [
                                     "    docker network disconnect sqlserver sqlcontainer3\r\n"
                                 ],
                      "metadata":  {
                                       "azdata_cell_guid":  "03aba53e-caf7-4531-9e64-55a2b94f4dea"
                                   },
                      "outputs":  [

                                  ],
                      "execution_count":  0
                  },
                  {
                      "cell_type":  "markdown",
                      "source":  [
                                     "\r\n",
                                     "Confirm that it\u0027s no longer attached to the custom network: -\r\n",
                                     "\r\n"
                                 ],
                      "metadata":  {
                                       "azdata_cell_guid":  "b155c4dd-37e9-4605-9799-0c7f085a7b82"
                                   }
                  },
                  {
                      "cell_type":  "code",
                      "source":  [
                                     "    docker network inspect sqlserver\r\n"
                                 ],
                      "metadata":  {
                                       "azdata_cell_guid":  "1d365fd6-0b9e-4a3a-a440-38c2cd212306"
                                   },
                      "outputs":  [

                                  ],
                      "execution_count":  0
                  },
                  {
                      "cell_type":  "markdown",
                      "source":  [
                                     "\r\n",
                                     "![](../images/5.ContainerNetworking/RunningContainersOnCustomNetwork/10.RemoveContainerFromCustomNetwork.png)\r\n",
                                     "Gone! Which means the other containers won\u0027t be able to ping it any more: -\r\n",
                                     "\r\n"
                                 ],
                      "metadata":  {
                                       "azdata_cell_guid":  "0c61620a-44a8-4c96-91f1-7b8129a04d94"
                                   }
                  },
                  {
                      "cell_type":  "code",
                      "source":  [
                                     "    docker exec sqlcontainer1 ping sqlcontainer3 -c 4\r\n"
                                 ],
                      "metadata":  {
                                       "azdata_cell_guid":  "c92ca5a3-e4cc-4672-b5fd-f28b6dd6a77a"
                                   },
                      "outputs":  [

                                  ],
                      "execution_count":  0
                  }
              ]
}
