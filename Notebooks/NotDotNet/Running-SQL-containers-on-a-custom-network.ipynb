{
    "metadata":  {
                     "kernelspec":  {
                                        "name":  "powershell",
                                        "display_name":  "PowerShell"
                                    }
                 },
    "language_info":  {
                          "name":  "powershell",
                          "version":  "",
                          "codemirror_mode":  "shell",
                          "mimetype":  "text/x-sh",
                          "file_extension":  ".ps1"
                      },
    "nbformat_minor":  2,
    "nbformat":  4,
    "cells":  [
                  {
                      "cell_type":  "markdown",
                      "source":  [
                                     "\r\n",
                                     "In a previous wiki page we went through creating SQL containers on the [default docker bridge network](https://github.com/dbafromthecold/SqlServerAndContainersGuide/wiki/Running-SQL-containers-on-the-default-network)\r\n",
                                     "However, docker gives us the ability to create our own custom networks, and it provides several drivers for us to use: -\r\n",
                                     "1. bridge - the default. Allows containers connected to the same bridge network to communicate.\r\n",
                                     "2. host - removes network isolation between the container and the host. The container uses the host\u0027s network.\r\n",
                                     "3. none - disabled the container\u0027s network stack.\r\n",
                                     "4. macvlan - assign a MAC address to the container so it shows as a physical device on the network.\r\n",
                                     "5. Overlay - connect multiple docker daemons together. Used for Docker Swarm.\r\n",
                                     "The one we\u0027re going to focus on is the bridge network. User-defined (aka custom) brigde networks have several advantages over the default bridge network, the main one being that containers on a custom bridge network can communicate via container name. The other advantages are listed [here](https://github.com/dbafromthecold/SqlServerAndContainersGuide/wiki/Running-SQL-containers-on-the-default-network).\r\n",
                                     "Let\u0027s test that out! Create a custom network: -\r\n",
                                     "\r\n"
                                 ],
                      "metadata":  {
                                       "azdata_cell_guid":  "d38e39a7-bb6c-48d0-990c-8cb91ab649e2"
                                   }
                  },
                  {
                      "cell_type":  "code",
                      "source":  [
                                     "    docker network create sqlserver\r\n"
                                 ],
                      "metadata":  {
                                       "azdata_cell_guid":  "748d8945-e788-4e12-8f64-73214df18eca"
                                   },
                      "outputs":  [

                                  ],
                      "execution_count":  0
                  },
                  {
                      "cell_type":  "markdown",
                      "source":  [
                                     "\r\n",
                                     "We\u0027re not specifying a driver here so the network created will be a bridge network as it\u0027s the default. We can confirm that by running: -\r\n",
                                     "\r\n"
                                 ],
                      "metadata":  {
                                       "azdata_cell_guid":  "4ab092e9-f677-4806-bbf7-f444601c9954"
                                   }
                  },
                  {
                      "cell_type":  "code",
                      "source":  [
                                     "    docker network ls\r\n"
                                 ],
                      "metadata":  {
                                       "azdata_cell_guid":  "9cdb596c-b8dd-46d6-a53a-7d21454464ef"
                                   },
                      "outputs":  [

                                  ],
                      "execution_count":  0
                  },
                  {
                      "cell_type":  "markdown",
                      "source":  [
                                     "\r\n",
                                     "![](../images/5.ContainerNetworking/RunningContainersOnCustomNetwork/1.CreateAndViewCustomNetwork.png)\r\n",
                                     "And there\u0027s our custom network! Ok, let\u0027s spin up a couple of containers on that network: -\r\n",
                                     "\r\n"
                                 ],
                      "metadata":  {
                                       "azdata_cell_guid":  "c45ad8d7-28de-494f-adc2-693d0da12704"
                                   }
                  },
                  {
                      "cell_type":  "code",
                      "source":  [
                                     "    docker container run -d `\r\n",
                                     "    --network sqlserver `\r\n",
                                     "    --env ACCEPT_EULA=Y `\r\n",
                                     "    --env MSSQL_SA_PASSWORD=Testing1122 `\r\n",
                                     "    --name sqlcontainer1 `\r\n",
                                     "    ghcr.io/dbafromthecold/customsql2019-tools:cu5\r\n",
                                     "    \r\n",
                                     "    docker container run -d `\r\n",
                                     "    --network sqlserver `\r\n",
                                     "    --env ACCEPT_EULA=Y `\r\n",
                                     "    --env MSSQL_SA_PASSWORD=Testing1122 `\r\n",
                                     "    --name sqlcontainer2 `\r\n",
                                     "    ghcr.io/dbafromthecold/customsql2019-tools:cu5\r\n"
                                 ],
                      "metadata":  {
                                       "azdata_cell_guid":  "a496fce1-7473-4335-927b-84d4d38d5f69"
                                   },
                      "outputs":  [

                                  ],
                      "execution_count":  0
                  },
                  {
                      "cell_type":  "markdown",
                      "source":  [
                                     "\r\n",
                                     "![](../images/5.ContainerNetworking/RunningContainersOnCustomNetwork/2.RunTwoContainers.png)\r\n",
                                     "We\u0027re using a custom image here as it has ping installed, so that we can test communicate between the containers.\r\n",
                                     "Confirm that the containers are up and running: -\r\n",
                                     "\r\n"
                                 ],
                      "metadata":  {
                                       "azdata_cell_guid":  "49d880db-8453-451e-8fb5-6248dcf20918"
                                   }
                  },
                  {
                      "cell_type":  "code",
                      "source":  [
                                     "    docker container ls -a\r\n"
                                 ],
                      "metadata":  {
                                       "azdata_cell_guid":  "f69b9774-a1c7-49a4-b9a0-67af389faa0d"
                                   },
                      "outputs":  [

                                  ],
                      "execution_count":  0
                  },
                  {
                      "cell_type":  "markdown",
                      "source":  [
                                     "\r\n",
                                     "![](../images/5.ContainerNetworking/RunningContainersOnCustomNetwork/3.ConfirmContainersRunning.png)\r\n",
                                     "And inspect the custom network: -\r\n",
                                     "\r\n"
                                 ],
                      "metadata":  {
                                       "azdata_cell_guid":  "96a5a35b-82a8-4bc9-b75c-3ff043648138"
                                   }
                  },
                  {
                      "cell_type":  "code",
                      "source":  [
                                     "    docker network inspect sqlserver\r\n"
                                 ],
                      "metadata":  {
                                       "azdata_cell_guid":  "8b95ef6f-3051-4b2a-8d65-ce06a4b05284"
                                   },
                      "outputs":  [

                                  ],
                      "execution_count":  0
                  },
                  {
                      "cell_type":  "markdown",
                      "source":  [
                                     "\r\n",
                                     "![](../images/5.ContainerNetworking/RunningContainersOnCustomNetwork/4.InspectCustomNetwork.png)\r\n",
                                     "There\u0027s our containers! Ok, now we can test pinging each container from the other by name: -\r\n",
                                     "   \r\n"
                                 ],
                      "metadata":  {
                                       "azdata_cell_guid":  "0dc87d4f-2625-4b9f-86de-5c74deae724a"
                                   }
                  },
                  {
                      "cell_type":  "code",
                      "source":  [
                                     "    docker exec sqlcontainer1 ping sqlcontainer2 -c 4\r\n",
                                     "    docker exec sqlcontainer2 ping sqlcontainer1 -c 4\r\n"
                                 ],
                      "metadata":  {
                                       "azdata_cell_guid":  "cb4e7532-6874-4dbf-8ea8-3ab498e5864a"
                                   },
                      "outputs":  [

                                  ],
                      "execution_count":  0
                  },
                  {
                      "cell_type":  "markdown",
                      "source":  [
                                     "\r\n",
                                     "![](../images/5.ContainerNetworking/RunningContainersOnCustomNetwork/5.PingContainers.png)\r\n",
                                     "Excellent! The containers can communicate by name!\r\n",
                                     "This is really handy when building out test environment in which we need multiple SQL instances that can talk to each other!\r\n",
                                     "I\u0027d recommend always creating a custom network for your SQL containers as it also provides more isolation for the containers from the default network.\r\n",
                                     "What\u0027s really cool as well is that containers can be attached/detached from a custom network on the fly! \r\n",
                                     "Let\u0027s try that out. Spin up a container on the default network: -\r\n",
                                     "\r\n"
                                 ],
                      "metadata":  {
                                       "azdata_cell_guid":  "08fb7b66-2074-468e-acc2-c5c41f175272"
                                   }
                  },
                  {
                      "cell_type":  "code",
                      "source":  [
                                     "    docker container run -d `\r\n",
                                     "    --env ACCEPT_EULA=Y `\r\n",
                                     "    --env MSSQL_SA_PASSWORD=Testing1122 `\r\n",
                                     "    --name sqlcontainer3 `\r\n",
                                     "    ghcr.io/dbafromthecold/customsql2019-tools:cu5\r\n"
                                 ],
                      "metadata":  {
                                       "azdata_cell_guid":  "c819791f-18bd-4e18-8351-d56154ea0e67"
                                   },
                      "outputs":  [

                                  ],
                      "execution_count":  0
                  },
                  {
                      "cell_type":  "markdown",
                      "source":  [
                                     "\r\n",
                                     "Confirm the container is running: -\r\n",
                                     "\r\n"
                                 ],
                      "metadata":  {
                                       "azdata_cell_guid":  "1080e9b4-135a-4d4a-816e-e6bcf2a4d455"
                                   }
                  },
                  {
                      "cell_type":  "code",
                      "source":  [
                                     "    docker container ls -a\r\n"
                                 ],
                      "metadata":  {
                                       "azdata_cell_guid":  "0eccc4bc-99fd-4bed-a6a7-7b631f4e2649"
                                   },
                      "outputs":  [

                                  ],
                      "execution_count":  0
                  },
                  {
                      "cell_type":  "markdown",
                      "source":  [
                                     "\r\n",
                                     "![](../images/5.ContainerNetworking/RunningContainersOnCustomNetwork/6.SpinUpAnotherContainer.png)\r\n",
                                     "And confirm that it is on the default bridge network: -\r\n",
                                     "\r\n"
                                 ],
                      "metadata":  {
                                       "azdata_cell_guid":  "5b35bb1c-32b8-4f84-adc7-e4f149002b25"
                                   }
                  },
                  {
                      "cell_type":  "code",
                      "source":  [
                                     "    docker network inspect bridge\r\n"
                                 ],
                      "metadata":  {
                                       "azdata_cell_guid":  "9a48051f-e2d3-4588-b793-cfda03ce6c4a"
                                   },
                      "outputs":  [

                                  ],
                      "execution_count":  0
                  },
                  {
                      "cell_type":  "markdown",
                      "source":  [
                                     "\r\n",
                                     "![](../images/5.ContainerNetworking/RunningContainersOnCustomNetwork/7.InspectBridgeNetwork.png)\r\n",
                                     "Ok, let\u0027s attach that container to our custom network: -\r\n",
                                     "\r\n"
                                 ],
                      "metadata":  {
                                       "azdata_cell_guid":  "a20b37b0-aa05-412a-af4f-f2af6aebad71"
                                   }
                  },
                  {
                      "cell_type":  "code",
                      "source":  [
                                     "    docker network connect sqlserver sqlcontainer3\r\n"
                                 ],
                      "metadata":  {
                                       "azdata_cell_guid":  "054b1914-c423-4ade-8216-9695bfc6925c"
                                   },
                      "outputs":  [

                                  ],
                      "execution_count":  0
                  },
                  {
                      "cell_type":  "markdown",
                      "source":  [
                                     "\r\n",
                                     "And now inspect the custom network: -\r\n",
                                     "\r\n"
                                 ],
                      "metadata":  {
                                       "azdata_cell_guid":  "2ee3c614-3b0c-495a-8237-ceb5f85889a2"
                                   }
                  },
                  {
                      "cell_type":  "code",
                      "source":  [
                                     "    docker network inspect sqlserver\r\n"
                                 ],
                      "metadata":  {
                                       "azdata_cell_guid":  "898913df-6535-45f1-8a94-f2e8491ecf58"
                                   },
                      "outputs":  [

                                  ],
                      "execution_count":  0
                  },
                  {
                      "cell_type":  "markdown",
                      "source":  [
                                     "\r\n",
                                     "![](../images/5.ContainerNetworking/RunningContainersOnCustomNetwork/8.InspectCustomNetworkAgain.png)\r\n",
                                     "The container is now attached to that network! So the other containers can communicate to it via its name: -\r\n",
                                     "\r\n"
                                 ],
                      "metadata":  {
                                       "azdata_cell_guid":  "55c7d2aa-8258-4ebc-a753-e49811cae69f"
                                   }
                  },
                  {
                      "cell_type":  "code",
                      "source":  [
                                     "    docker exec sqlcontainer1 ping sqlcontainer3 -c 4\r\n"
                                 ],
                      "metadata":  {
                                       "azdata_cell_guid":  "58ab4843-4f10-4429-b7e3-b401b415c01f"
                                   },
                      "outputs":  [

                                  ],
                      "execution_count":  0
                  },
                  {
                      "cell_type":  "markdown",
                      "source":  [
                                     "\r\n",
                                     "![](../images/5.ContainerNetworking/RunningContainersOnCustomNetwork/9.PingNewContainer.png)\r\n",
                                     "And if we want to remove it from the custom network we can run: -\r\n",
                                     "\r\n"
                                 ],
                      "metadata":  {
                                       "azdata_cell_guid":  "3222609d-c344-4529-b166-e69d64014e51"
                                   }
                  },
                  {
                      "cell_type":  "code",
                      "source":  [
                                     "    docker network disconnect sqlserver sqlcontainer3\r\n"
                                 ],
                      "metadata":  {
                                       "azdata_cell_guid":  "8366f0b9-42e3-4719-9a7b-0bfca1d34059"
                                   },
                      "outputs":  [

                                  ],
                      "execution_count":  0
                  },
                  {
                      "cell_type":  "markdown",
                      "source":  [
                                     "\r\n",
                                     "Confirm that it\u0027s no longer attached to the custom network: -\r\n",
                                     "\r\n"
                                 ],
                      "metadata":  {
                                       "azdata_cell_guid":  "427cf6f7-97e3-49fd-a18b-fdf6a392e3f5"
                                   }
                  },
                  {
                      "cell_type":  "code",
                      "source":  [
                                     "    docker network inspect sqlserver\r\n"
                                 ],
                      "metadata":  {
                                       "azdata_cell_guid":  "4d2ef9b1-0450-4359-8cec-e85a621e22cd"
                                   },
                      "outputs":  [

                                  ],
                      "execution_count":  0
                  },
                  {
                      "cell_type":  "markdown",
                      "source":  [
                                     "\r\n",
                                     "![](../images/5.ContainerNetworking/RunningContainersOnCustomNetwork/10.RemoveContainerFromCustomNetwork.png)\r\n",
                                     "Gone! Which means the other containers won\u0027t be able to ping it any more: -\r\n",
                                     "\r\n"
                                 ],
                      "metadata":  {
                                       "azdata_cell_guid":  "333f7f09-1b37-4d2d-ae20-b89edf20f829"
                                   }
                  },
                  {
                      "cell_type":  "code",
                      "source":  [
                                     "    docker exec sqlcontainer1 ping sqlcontainer3 -c 4\r\n"
                                 ],
                      "metadata":  {
                                       "azdata_cell_guid":  "95810864-89d9-423c-a9db-dcf37e9d1e01"
                                   },
                      "outputs":  [

                                  ],
                      "execution_count":  0
                  },
                  {
                      "cell_type":  "markdown",
                      "source":  [
                                     "\r\n",
                                     "![](../images/5.ContainerNetworking/RunningContainersOnCustomNetwork/11.UnableToPingContainer.png)\r\n",
                                     "And that\u0027s how we can use custom docker networks to allow containers to communicate with each other by name.\r\n"
                                 ],
                      "metadata":  {
                                       "azdata_cell_guid":  "a74d580d-3879-4a22-86e6-8caf99ffc78e"
                                   }
                  }
              ]
}
