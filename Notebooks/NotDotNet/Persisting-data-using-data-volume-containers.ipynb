{
    "metadata":  {
                     "kernelspec":  {
                                        "name":  "powershell",
                                        "display_name":  "PowerShell"
                                    }
                 },
    "language_info":  {
                          "name":  "powershell",
                          "version":  "",
                          "codemirror_mode":  "shell",
                          "mimetype":  "text/x-sh",
                          "file_extension":  ".ps1"
                      },
    "nbformat_minor":  2,
    "nbformat":  4,
    "cells":  [
                  {
                      "cell_type":  "markdown",
                      "source":  [
                                     "\r\n",
                                     "In a previous page we went through how to persist databases from one container to another using docker named volumes. In this post I want to go through another option, using _**data volume containers**_\r\n",
                                     "In this method we create a container with volumes and then mount the volumes from that container to **_another_** container, let\u0027s get started.\r\n",
                                     "The first thing to do to get started is to create (not run) a container from an image with a couple of volumes specified.\r\n",
                                     "We don\u0027t need SQL running in this container so I\u0027m going to use the ubuntu:18.04 image: -\r\n",
                                     "\r\n"
                                 ],
                      "metadata":  {
                                       "azdata_cell_guid":  "a5fdde08-2ce5-4eba-810f-a65f61eb6d29"
                                   }
                  },
                  {
                      "cell_type":  "code",
                      "source":  [
                                     "    docker container create --name datastore `\r\n",
                                     "    --volume /var/opt/sqlserver/data `\r\n",
                                     "    --volume /var/opt/sqlserver/log `\r\n",
                                     "    --volume /var/opt/sqlserver/backups `\r\n",
                                     "    ubuntu:18.04\r\n"
                                 ],
                      "metadata":  {
                                       "azdata_cell_guid":  "6505c5e9-c1b3-4213-b494-e4e1dd42c97c"
                                   },
                      "outputs":  [

                                  ],
                      "execution_count":  0
                  },
                  {
                      "cell_type":  "markdown",
                      "source":  [
                                     "\r\n",
                                     "![](../images/3.PersistingData/DataVolumeContainers/1.CreateDataVolumeContainer.png)\r\n",
                                     "So here we\u0027ve created a container with three volumes: -\r\n",
                                     "\r\n"
                                 ],
                      "metadata":  {
                                       "azdata_cell_guid":  "92933824-54a7-462d-81ee-3ada7b3a3264"
                                   }
                  },
                  {
                      "cell_type":  "code",
                      "source":  [
                                     "    /var/opt/sqlserver/data\r\n",
                                     "    /var/opt/sqlserver/log\r\n",
                                     "    /var/opt/sqlserver/backups\r\n"
                                 ],
                      "metadata":  {
                                       "azdata_cell_guid":  "626137a5-1fc3-4c85-a489-bf86e81c1266"
                                   },
                      "outputs":  [

                                  ],
                      "execution_count":  0
                  },
                  {
                      "cell_type":  "markdown",
                      "source":  [
                                     "\r\n",
                                     "Confirm that the container has been created: -\r\n",
                                     "\r\n"
                                 ],
                      "metadata":  {
                                       "azdata_cell_guid":  "4612684d-d640-42fd-b77a-59043a58fff1"
                                   }
                  },
                  {
                      "cell_type":  "code",
                      "source":  [
                                     "    docker container ls -a\r\n"
                                 ],
                      "metadata":  {
                                       "azdata_cell_guid":  "6b8263e7-9c9b-49e3-befc-585834a8308b"
                                   },
                      "outputs":  [

                                  ],
                      "execution_count":  0
                  },
                  {
                      "cell_type":  "markdown",
                      "source":  [
                                     "\r\n",
                                     "![](../images/3.PersistingData/DataVolumeContainers/2.ConfirmDataVolumeContainer.png)\r\n",
                                     "In the background what\u0027s happened here is that docker has created us named volumes: -\r\n",
                                     "\r\n"
                                 ],
                      "metadata":  {
                                       "azdata_cell_guid":  "d5710611-b480-42bb-9a93-637771ecf33f"
                                   }
                  },
                  {
                      "cell_type":  "code",
                      "source":  [
                                     "    docker volume ls\r\n"
                                 ],
                      "metadata":  {
                                       "azdata_cell_guid":  "16f33bc5-d067-420e-881a-5a85cb295010"
                                   },
                      "outputs":  [

                                  ],
                      "execution_count":  0
                  },
                  {
                      "cell_type":  "markdown",
                      "source":  [
                                     "\r\n",
                                     "![](../images/3.PersistingData/DataVolumeContainers/3.NamedVolumesCreated.png)\r\n",
                                     "Now we can spin up a sql container with volume mapped from the data container using the _**--volumes-from**_ flag: -\r\n",
                                     "\r\n"
                                 ],
                      "metadata":  {
                                       "azdata_cell_guid":  "9ebb4bbb-dbe1-4a88-a038-7875d48e7095"
                                   }
                  },
                  {
                      "cell_type":  "code",
                      "source":  [
                                     "    docker container run -d `\r\n",
                                     "    --publish 15789:1433 `\r\n",
                                     "    --volumes-from datastore `\r\n",
                                     "    --env ACCEPT_EULA=Y `\r\n",
                                     "    --env SA_PASSWORD=Testing1122 `\r\n",
                                     "    --env MSSQL_DATA_DIR=/var/opt/sqlserver/data `\r\n",
                                     "    --env MSSQL_LOG_DIR=/var/opt/sqlserver/log `\r\n",
                                     "    --env MSSQL_BACKUP_DIR=/var/opt/sqlserver/backup `\r\n",
                                     "    --name testcontainer1 `\r\n",
                                     "    mcr.microsoft.com/mssql/server:2019-CU5-ubuntu-18.04\r\n"
                                 ],
                      "metadata":  {
                                       "azdata_cell_guid":  "eeaa891e-37b5-4cb7-a2f2-f528dfafef95"
                                   },
                      "outputs":  [

                                  ],
                      "execution_count":  0
                  },
                  {
                      "cell_type":  "markdown",
                      "source":  [
                                     "\r\n",
                                     "![](../images/3.PersistingData/DataVolumeContainers/4.CreateSqlContainer.png)\r\n",
                                     "Confirm the sql container is running: -\r\n",
                                     "\r\n"
                                 ],
                      "metadata":  {
                                       "azdata_cell_guid":  "04896d83-202c-476d-a393-a582f0de44d9"
                                   }
                  },
                  {
                      "cell_type":  "code",
                      "source":  [
                                     "    docker container ls -a\r\n"
                                 ],
                      "metadata":  {
                                       "azdata_cell_guid":  "07adacce-da09-4b8f-b4c8-11d18eebf523"
                                   },
                      "outputs":  [

                                  ],
                      "execution_count":  0
                  },
                  {
                      "cell_type":  "markdown",
                      "source":  [
                                     "\r\n",
                                     "![](../images/3.PersistingData/DataVolumeContainers/5.ConfirmBothContainers.png)\r\n",
                                     "Now as SQL within the container runs as the mssql user, we\u0027ll need to change the owner of the volumes: -\r\n",
                                     "\r\n"
                                 ],
                      "metadata":  {
                                       "azdata_cell_guid":  "967400e3-8735-4f01-bcb1-ceb5eece29f0"
                                   }
                  },
                  {
                      "cell_type":  "code",
                      "source":  [
                                     "    docker exec -u 0 testcontainer1 chown -R mssql /var/opt/sqlserver\r\n"
                                 ],
                      "metadata":  {
                                       "azdata_cell_guid":  "8c54cf4a-de0b-4656-81ba-ef51c0e46111"
                                   },
                      "outputs":  [

                                  ],
                      "execution_count":  0
                  },
                  {
                      "cell_type":  "markdown",
                      "source":  [
                                     "\r\n",
                                     "Cool, we\u0027re all set to create a database: -\r\n",
                                     "\r\n"
                                 ],
                      "metadata":  {
                                       "azdata_cell_guid":  "4ba3f62f-c669-4a41-88c6-c4ebe093ba59"
                                   }
                  },
                  {
                      "cell_type":  "code",
                      "source":  [
                                     "    mssql-cli -S localhost,15789 -U sa -P Testing1122 -Q \"CREATE DATABASE [testdatabase1];\"\r\n"
                                 ],
                      "metadata":  {
                                       "azdata_cell_guid":  "604acb72-5aec-46ff-88b7-5050c7acbca9"
                                   },
                      "outputs":  [

                                  ],
                      "execution_count":  0
                  },
                  {
                      "cell_type":  "markdown",
                      "source":  [
                                     "\r\n",
                                     "Confirm the location of the database files: -\r\n",
                                     "\r\n"
                                 ],
                      "metadata":  {
                                       "azdata_cell_guid":  "7765ba95-ba18-47dd-8a84-82ef17ab053b"
                                   }
                  },
                  {
                      "cell_type":  "code",
                      "source":  [
                                     "    mssql-cli -S localhost,15789 -U sa -P Testing1122 -Q \"USE [testdatabase1]; EXEC sp_helpfile;\"\r\n"
                                 ],
                      "metadata":  {
                                       "azdata_cell_guid":  "e40ac975-3cb3-4e9e-80d1-7d0f9c8f925d"
                                   },
                      "outputs":  [

                                  ],
                      "execution_count":  0
                  },
                  {
                      "cell_type":  "markdown",
                      "source":  [
                                     "\r\n",
                                     "![](../images/3.PersistingData/DataVolumeContainers/6.ConfirmDatabaseFiles.png)\r\n",
                                     "Let\u0027s now blow that sql container away: -\r\n",
                                     "\r\n"
                                 ],
                      "metadata":  {
                                       "azdata_cell_guid":  "4af4547b-3988-4c98-a7b6-55df67a497eb"
                                   }
                  },
                  {
                      "cell_type":  "code",
                      "source":  [
                                     "    docker container rm testcontainer1 -f\r\n"
                                 ],
                      "metadata":  {
                                       "azdata_cell_guid":  "77354945-64b9-410e-a22c-5761c387d5a3"
                                   },
                      "outputs":  [

                                  ],
                      "execution_count":  0
                  },
                  {
                      "cell_type":  "markdown",
                      "source":  [
                                     "\r\n",
                                     "Check our containers: -\r\n",
                                     "\r\n"
                                 ],
                      "metadata":  {
                                       "azdata_cell_guid":  "151dbb31-c0f3-40c1-889b-0ceba481a444"
                                   }
                  },
                  {
                      "cell_type":  "code",
                      "source":  [
                                     "    docker container ls -a\r\n"
                                 ],
                      "metadata":  {
                                       "azdata_cell_guid":  "45bc9026-32ef-4030-8970-7eb76f3b976c"
                                   },
                      "outputs":  [

                                  ],
                      "execution_count":  0
                  },
                  {
                      "cell_type":  "markdown",
                      "source":  [
                                     "\r\n",
                                     "We still have our data volume container, and we also have the named volumes: -\r\n",
                                     "\r\n"
                                 ],
                      "metadata":  {
                                       "azdata_cell_guid":  "a31e1127-a155-4785-a3e4-5ef90d191f54"
                                   }
                  },
                  {
                      "cell_type":  "code",
                      "source":  [
                                     "    docker volume ls\r\n"
                                 ],
                      "metadata":  {
                                       "azdata_cell_guid":  "7227dcd3-ed7e-4d55-ba51-949c894764be"
                                   },
                      "outputs":  [

                                  ],
                      "execution_count":  0
                  },
                  {
                      "cell_type":  "markdown",
                      "source":  [
                                     "\r\n",
                                     "![](../images/3.PersistingData/DataVolumeContainers/7.ConfirmNamedVolumes.png)\r\n",
                                     "So now let\u0027s create another container, mapping the volumes from the data volume container again: -\r\n",
                                     "\r\n"
                                 ],
                      "metadata":  {
                                       "azdata_cell_guid":  "70b981a4-6432-4200-9690-6085440022e0"
                                   }
                  },
                  {
                      "cell_type":  "code",
                      "source":  [
                                     "    docker container run -d `\r\n",
                                     "    --publish 15799:1433 `\r\n",
                                     "    --volumes-from datastore `\r\n",
                                     "    --env ACCEPT_EULA=Y `\r\n",
                                     "    --env SA_PASSWORD=Testing1122 `\r\n",
                                     "    --env MSSQL_DATA_DIR=/var/opt/sqlserver/data `\r\n",
                                     "    --env MSSQL_LOG_DIR=/var/opt/sqlserver/log `\r\n",
                                     "    --env MSSQL_BACKUP_DIR=/var/opt/sqlserver/backup `\r\n",
                                     "    --name testcontainer2 `\r\n",
                                     "    mcr.microsoft.com/mssql/server:2019-CU5-ubuntu-18.04\r\n"
                                 ],
                      "metadata":  {
                                       "azdata_cell_guid":  "16983904-3b4e-4960-9b30-18aec7d55b7f"
                                   },
                      "outputs":  [

                                  ],
                      "execution_count":  0
                  },
                  {
                      "cell_type":  "markdown",
                      "source":  [
                                     "\r\n",
                                     "Confirm that the container is up and running: -\r\n",
                                     "\r\n"
                                 ],
                      "metadata":  {
                                       "azdata_cell_guid":  "db4b8483-f4fd-465d-972c-527621b5506c"
                                   }
                  },
                  {
                      "cell_type":  "code",
                      "source":  [
                                     "    docker container ls -a\r\n"
                                 ],
                      "metadata":  {
                                       "azdata_cell_guid":  "431cf385-4be0-403b-a575-67d2061ea1b2"
                                   },
                      "outputs":  [

                                  ],
                      "execution_count":  0
                  },
                  {
                      "cell_type":  "markdown",
                      "source":  [
                                     "\r\n",
                                     "![](../images/3.PersistingData/DataVolumeContainers/8.ConfirmNewContainer.png)\r\n",
                                     "Check that the database files are there: -\r\n",
                                     "\r\n"
                                 ],
                      "metadata":  {
                                       "azdata_cell_guid":  "5ab4c621-d4ee-44bc-9a2f-3eda40004709"
                                   }
                  },
                  {
                      "cell_type":  "code",
                      "source":  [
                                     "    docker exec testcontainer2 ls -al /var/opt/sqlserver\r\n"
                                 ],
                      "metadata":  {
                                       "azdata_cell_guid":  "361dfae4-a441-4875-ba31-8fe7d25cd1b8"
                                   },
                      "outputs":  [

                                  ],
                      "execution_count":  0
                  },
                  {
                      "cell_type":  "markdown",
                      "source":  [
                                     "\r\n",
                                     "![](../images/3.PersistingData/DataVolumeContainers/9.ConfirmDatabaseFiles.png)\r\n",
                                     "Now, as we didn\u0027t persist the master database location, we\u0027ll need to manually attach the database: -\r\n",
                                     "\r\n"
                                 ],
                      "metadata":  {
                                       "azdata_cell_guid":  "6d96d2b1-cec1-424a-b3c2-76bf26ecd292"
                                   }
                  },
                  {
                      "cell_type":  "code",
                      "source":  [
                                     "    mssql-cli -S localhost,15799 -U sa -P Testing1122 `\r\n",
                                     "    -Q \"CREATE DATABASE [testdatabase1] ON PRIMARY (NAME=\u0027testdatabase1\u0027,FILENAME=\u0027/var/opt/sqlserver/data/testdatabase1.mdf\u0027) LOG ON (NAME=\u0027testdatabase1_log\u0027,FILENAME=\u0027/var/opt/sqlserver/log/testdatabase1_log.ldf\u0027) FOR ATTACH;\"\r\n"
                                 ],
                      "metadata":  {
                                       "azdata_cell_guid":  "10eb0879-3df0-4cff-a2ec-ff1c49f8f57a"
                                   },
                      "outputs":  [

                                  ],
                      "execution_count":  0
                  },
                  {
                      "cell_type":  "markdown",
                      "source":  [
                                     "\r\n",
                                     "![](../images/3.PersistingData/DataVolumeContainers/10.AttachDatabase.png)\r\n",
                                     "And now confirm the database is there: -\r\n",
                                     "\r\n"
                                 ],
                      "metadata":  {
                                       "azdata_cell_guid":  "f1f643de-bbfc-4c63-8732-1ab1549931fd"
                                   }
                  },
                  {
                      "cell_type":  "code",
                      "source":  [
                                     "     mssql-cli -S localhost,15799 -U sa -P Testing1122 -Q \"SELECT [name] FROM sys.databases;\"\r\n"
                                 ],
                      "metadata":  {
                                       "azdata_cell_guid":  "bd9b381e-f0ac-4907-9adc-cdd7ddd53493"
                                   },
                      "outputs":  [

                                  ],
                      "execution_count":  0
                  },
                  {
                      "cell_type":  "markdown",
                      "source":  [
                                     "\r\n",
                                     "![](../images/3.PersistingData/DataVolumeContainers/11.ConfirmDatabaseIsThere.png)\r\n",
                                     "Cool! We\u0027ve persisted a database from one container to another using a data volume container!\r\n",
                                     "To clean up: -\r\n",
                                     "\r\n"
                                 ],
                      "metadata":  {
                                       "azdata_cell_guid":  "50fa5210-2f59-492f-9bf8-2aca3932a8ab"
                                   }
                  }
              ]
}
