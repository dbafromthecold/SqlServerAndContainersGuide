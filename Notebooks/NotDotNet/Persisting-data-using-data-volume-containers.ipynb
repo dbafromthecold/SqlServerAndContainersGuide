{
    "metadata":  {
                     "kernelspec":  {
                                        "name":  "powershell",
                                        "display_name":  "PowerShell"
                                    }
                 },
    "language_info":  {
                          "name":  "powershell",
                          "version":  "",
                          "codemirror_mode":  "shell",
                          "mimetype":  "text/x-sh",
                          "file_extension":  ".ps1"
                      },
    "nbformat_minor":  2,
    "nbformat":  4,
    "cells":  [
                  {
                      "cell_type":  "markdown",
                      "source":  [
                                     "\r\n",
                                     "In a previous page we went through how to persist databases from one container to another using docker named volumes. In this post I want to go through another option, using _**data volume containers**_\r\n",
                                     "In this method we create a container with volumes and then mount the volumes from that container to **_another_** container, let\u0027s get started.\r\n",
                                     "The first thing to do to get started is to create (not run) a container from an image with a couple of volumes specified.\r\n",
                                     "We don\u0027t need SQL running in this container so I\u0027m going to use the ubuntu:18.04 image: -\r\n",
                                     "\r\n"
                                 ],
                      "metadata":  {
                                       "azdata_cell_guid":  "64ea1bb8-c6b5-45d4-84b1-0ca754d8c4a0"
                                   }
                  },
                  {
                      "cell_type":  "code",
                      "source":  [
                                     "    docker container create --name datastore `\r\n",
                                     "    --volume /var/opt/sqlserver/data `\r\n",
                                     "    --volume /var/opt/sqlserver/log `\r\n",
                                     "    --volume /var/opt/sqlserver/backups `\r\n",
                                     "    ubuntu:18.04\r\n"
                                 ],
                      "metadata":  {
                                       "azdata_cell_guid":  "deff331a-c2e0-4c30-81a8-e1f46d73579d"
                                   },
                      "outputs":  [

                                  ],
                      "execution_count":  0
                  },
                  {
                      "cell_type":  "markdown",
                      "source":  [
                                     "\r\n",
                                     "![](../images/3.PersistingData/DataVolumeContainers/1.CreateDataVolumeContainer.png)\r\n",
                                     "So here we\u0027ve created a container with three volumes: -\r\n",
                                     "\r\n"
                                 ],
                      "metadata":  {
                                       "azdata_cell_guid":  "d84ae89d-50f5-4498-b1fd-c1cbf24feb57"
                                   }
                  },
                  {
                      "cell_type":  "code",
                      "source":  [
                                     "    /var/opt/sqlserver/data\r\n",
                                     "    /var/opt/sqlserver/log\r\n",
                                     "    /var/opt/sqlserver/backups\r\n"
                                 ],
                      "metadata":  {
                                       "azdata_cell_guid":  "bfd12fe6-b790-4d12-92c0-2bdae81a3724"
                                   },
                      "outputs":  [

                                  ],
                      "execution_count":  0
                  },
                  {
                      "cell_type":  "markdown",
                      "source":  [
                                     "\r\n",
                                     "Confirm that the container has been created: -\r\n",
                                     "\r\n"
                                 ],
                      "metadata":  {
                                       "azdata_cell_guid":  "044995b1-7db8-4282-9f15-a3d5fd384f3b"
                                   }
                  },
                  {
                      "cell_type":  "code",
                      "source":  [
                                     "    docker container ls -a\r\n"
                                 ],
                      "metadata":  {
                                       "azdata_cell_guid":  "ac548770-e1d7-4a4d-9010-bdaa045bf431"
                                   },
                      "outputs":  [

                                  ],
                      "execution_count":  0
                  },
                  {
                      "cell_type":  "markdown",
                      "source":  [
                                     "\r\n",
                                     "![](../images/3.PersistingData/DataVolumeContainers/2.ConfirmDataVolumeContainer.png)\r\n",
                                     "In the background what\u0027s happened here is that docker has created us named volumes: -\r\n",
                                     "\r\n"
                                 ],
                      "metadata":  {
                                       "azdata_cell_guid":  "7be480e2-e675-445d-bd96-c7b249fa2015"
                                   }
                  },
                  {
                      "cell_type":  "code",
                      "source":  [
                                     "    docker volume ls\r\n"
                                 ],
                      "metadata":  {
                                       "azdata_cell_guid":  "984e4c19-1388-4698-889a-2f29bf5042c7"
                                   },
                      "outputs":  [

                                  ],
                      "execution_count":  0
                  },
                  {
                      "cell_type":  "markdown",
                      "source":  [
                                     "\r\n",
                                     "![](../images/3.PersistingData/DataVolumeContainers/3.NamedVolumesCreated.png)\r\n",
                                     "Now we can spin up a sql container with volume mapped from the data container using the _**--volumes-from**_ flag: -\r\n",
                                     "\r\n"
                                 ],
                      "metadata":  {
                                       "azdata_cell_guid":  "bdb7ac7a-6a21-44fe-be48-0bc746170501"
                                   }
                  },
                  {
                      "cell_type":  "code",
                      "source":  [
                                     "    docker container run -d `\r\n",
                                     "    --publish 15789:1433 `\r\n",
                                     "    --volumes-from datastore `\r\n",
                                     "    --env ACCEPT_EULA=Y `\r\n",
                                     "    --env SA_PASSWORD=Testing1122 `\r\n",
                                     "    --env MSSQL_DATA_DIR=/var/opt/sqlserver/data `\r\n",
                                     "    --env MSSQL_LOG_DIR=/var/opt/sqlserver/log `\r\n",
                                     "    --env MSSQL_BACKUP_DIR=/var/opt/sqlserver/backup `\r\n",
                                     "    --name testcontainer1 `\r\n",
                                     "    mcr.microsoft.com/mssql/server:2019-CU5-ubuntu-18.04\r\n"
                                 ],
                      "metadata":  {
                                       "azdata_cell_guid":  "018fbdd3-f5b0-4e9e-a7b0-6914b04968e1"
                                   },
                      "outputs":  [

                                  ],
                      "execution_count":  0
                  },
                  {
                      "cell_type":  "markdown",
                      "source":  [
                                     "\r\n",
                                     "![](../images/3.PersistingData/DataVolumeContainers/4.CreateSqlContainer.png)\r\n",
                                     "Confirm the sql container is running: -\r\n",
                                     "\r\n"
                                 ],
                      "metadata":  {
                                       "azdata_cell_guid":  "63cab135-4a5b-459c-89da-21aa9f264082"
                                   }
                  },
                  {
                      "cell_type":  "code",
                      "source":  [
                                     "    docker container ls -a\r\n"
                                 ],
                      "metadata":  {
                                       "azdata_cell_guid":  "54e613ea-cbf9-4349-8243-5290ed2e0563"
                                   },
                      "outputs":  [

                                  ],
                      "execution_count":  0
                  },
                  {
                      "cell_type":  "markdown",
                      "source":  [
                                     "\r\n",
                                     "![](../images/3.PersistingData/DataVolumeContainers/5.ConfirmBothContainers.png)\r\n",
                                     "Now as SQL within the container runs as the mssql user, we\u0027ll need to change the owner of the volumes: -\r\n",
                                     "\r\n"
                                 ],
                      "metadata":  {
                                       "azdata_cell_guid":  "5acac5dc-3eef-4faa-bf52-c9b7c31cb5c7"
                                   }
                  },
                  {
                      "cell_type":  "code",
                      "source":  [
                                     "    docker exec -u 0 testcontainer1 chown -R mssql /var/opt/sqlserver\r\n"
                                 ],
                      "metadata":  {
                                       "azdata_cell_guid":  "f5dea90e-621f-4ca0-b556-5d8d0d70ccd5"
                                   },
                      "outputs":  [

                                  ],
                      "execution_count":  0
                  },
                  {
                      "cell_type":  "markdown",
                      "source":  [
                                     "\r\n",
                                     "Cool, we\u0027re all set to create a database: -\r\n",
                                     "\r\n"
                                 ],
                      "metadata":  {
                                       "azdata_cell_guid":  "d341046d-52db-4101-80ea-3d66b1690f71"
                                   }
                  },
                  {
                      "cell_type":  "code",
                      "source":  [
                                     "    mssql-cli -S localhost,15789 -U sa -P Testing1122 -Q \"CREATE DATABASE [testdatabase1];\"\r\n"
                                 ],
                      "metadata":  {
                                       "azdata_cell_guid":  "85c491ea-c539-4f1f-8371-4e84af22ab8c"
                                   },
                      "outputs":  [

                                  ],
                      "execution_count":  0
                  },
                  {
                      "cell_type":  "markdown",
                      "source":  [
                                     "\r\n",
                                     "Confirm the location of the database files: -\r\n",
                                     "\r\n"
                                 ],
                      "metadata":  {
                                       "azdata_cell_guid":  "bfbfc385-6f8c-4325-917f-4c03f029e740"
                                   }
                  },
                  {
                      "cell_type":  "code",
                      "source":  [
                                     "    mssql-cli -S localhost,15789 -U sa -P Testing1122 -Q \"USE [testdatabase1]; EXEC sp_helpfile;\"\r\n"
                                 ],
                      "metadata":  {
                                       "azdata_cell_guid":  "67e5cdab-f604-4743-bdc8-9520acd76c6f"
                                   },
                      "outputs":  [

                                  ],
                      "execution_count":  0
                  },
                  {
                      "cell_type":  "markdown",
                      "source":  [
                                     "\r\n",
                                     "![](../images/3.PersistingData/DataVolumeContainers/6.ConfirmDatabaseFiles.png)\r\n",
                                     "Let\u0027s now blow that sql container away: -\r\n",
                                     "\r\n"
                                 ],
                      "metadata":  {
                                       "azdata_cell_guid":  "f475aa71-69da-46b4-ad99-0c479bd72cc8"
                                   }
                  },
                  {
                      "cell_type":  "code",
                      "source":  [
                                     "    docker container rm testcontainer1 -f\r\n"
                                 ],
                      "metadata":  {
                                       "azdata_cell_guid":  "d0d5fe65-1cd7-46c7-943c-5c5125a93594"
                                   },
                      "outputs":  [

                                  ],
                      "execution_count":  0
                  },
                  {
                      "cell_type":  "markdown",
                      "source":  [
                                     "\r\n",
                                     "Check our containers: -\r\n",
                                     "\r\n"
                                 ],
                      "metadata":  {
                                       "azdata_cell_guid":  "1a45bcf2-5244-41d6-8d53-829cc949c4a5"
                                   }
                  },
                  {
                      "cell_type":  "code",
                      "source":  [
                                     "    docker container ls -a\r\n"
                                 ],
                      "metadata":  {
                                       "azdata_cell_guid":  "c5b3b14b-eae7-417f-b2de-bd0eef9aa102"
                                   },
                      "outputs":  [

                                  ],
                      "execution_count":  0
                  },
                  {
                      "cell_type":  "markdown",
                      "source":  [
                                     "\r\n",
                                     "We still have our data volume container, and we also have the named volumes: -\r\n",
                                     "\r\n"
                                 ],
                      "metadata":  {
                                       "azdata_cell_guid":  "2125431c-f0af-4060-8ad1-5779b043420d"
                                   }
                  },
                  {
                      "cell_type":  "code",
                      "source":  [
                                     "    docker volume ls\r\n"
                                 ],
                      "metadata":  {
                                       "azdata_cell_guid":  "f42964c4-436c-4207-b6ad-f0517ad18ab6"
                                   },
                      "outputs":  [

                                  ],
                      "execution_count":  0
                  },
                  {
                      "cell_type":  "markdown",
                      "source":  [
                                     "\r\n",
                                     "![](../images/3.PersistingData/DataVolumeContainers/7.ConfirmNamedVolumes.png)\r\n",
                                     "So now let\u0027s create another container, mapping the volumes from the data volume container again: -\r\n",
                                     "\r\n"
                                 ],
                      "metadata":  {
                                       "azdata_cell_guid":  "1db651a7-4648-46de-a644-d057dde742fc"
                                   }
                  },
                  {
                      "cell_type":  "code",
                      "source":  [
                                     "    docker container run -d `\r\n",
                                     "    --publish 15799:1433 `\r\n",
                                     "    --volumes-from datastore `\r\n",
                                     "    --env ACCEPT_EULA=Y `\r\n",
                                     "    --env SA_PASSWORD=Testing1122 `\r\n",
                                     "    --env MSSQL_DATA_DIR=/var/opt/sqlserver/data `\r\n",
                                     "    --env MSSQL_LOG_DIR=/var/opt/sqlserver/log `\r\n",
                                     "    --env MSSQL_BACKUP_DIR=/var/opt/sqlserver/backup `\r\n",
                                     "    --name testcontainer2 `\r\n",
                                     "    mcr.microsoft.com/mssql/server:2019-CU5-ubuntu-18.04\r\n"
                                 ],
                      "metadata":  {
                                       "azdata_cell_guid":  "809593e5-aa17-4f9f-8317-24acde624285"
                                   },
                      "outputs":  [

                                  ],
                      "execution_count":  0
                  },
                  {
                      "cell_type":  "markdown",
                      "source":  [
                                     "\r\n",
                                     "Confirm that the container is up and running: -\r\n",
                                     "\r\n"
                                 ],
                      "metadata":  {
                                       "azdata_cell_guid":  "2431293a-ebcf-406c-96fe-e13b74070182"
                                   }
                  },
                  {
                      "cell_type":  "code",
                      "source":  [
                                     "    docker container ls -a\r\n"
                                 ],
                      "metadata":  {
                                       "azdata_cell_guid":  "82521517-e290-43c0-967f-f4425d13ef48"
                                   },
                      "outputs":  [

                                  ],
                      "execution_count":  0
                  },
                  {
                      "cell_type":  "markdown",
                      "source":  [
                                     "\r\n",
                                     "![](../images/3.PersistingData/DataVolumeContainers/8.ConfirmNewContainer.png)\r\n",
                                     "Check that the database files are there: -\r\n",
                                     "\r\n"
                                 ],
                      "metadata":  {
                                       "azdata_cell_guid":  "6f973ee1-85b3-4dc0-94ae-dcba1b5cdbf8"
                                   }
                  },
                  {
                      "cell_type":  "code",
                      "source":  [
                                     "    docker exec testcontainer2 ls -al /var/opt/sqlserver\r\n"
                                 ],
                      "metadata":  {
                                       "azdata_cell_guid":  "f07e2627-c095-440b-8539-1f2af8287e55"
                                   },
                      "outputs":  [

                                  ],
                      "execution_count":  0
                  },
                  {
                      "cell_type":  "markdown",
                      "source":  [
                                     "\r\n",
                                     "![](../images/3.PersistingData/DataVolumeContainers/9.ConfirmDatabaseFiles.png)\r\n",
                                     "Now, as we didn\u0027t persist the master database location, we\u0027ll need to manually attach the database: -\r\n",
                                     "\r\n"
                                 ],
                      "metadata":  {
                                       "azdata_cell_guid":  "fafed4b5-90f6-455b-9e37-4d862726edb6"
                                   }
                  },
                  {
                      "cell_type":  "code",
                      "source":  [
                                     "    mssql-cli -S localhost,15799 -U sa -P Testing1122 `\r\n",
                                     "    -Q \"CREATE DATABASE [testdatabase1] ON PRIMARY (NAME=\u0027testdatabase1\u0027,FILENAME=\u0027/var/opt/sqlserver/data/testdatabase1.mdf\u0027) LOG ON (NAME=\u0027testdatabase1_log\u0027,FILENAME=\u0027/var/opt/sqlserver/log/testdatabase1_log.ldf\u0027) FOR ATTACH;\"\r\n"
                                 ],
                      "metadata":  {
                                       "azdata_cell_guid":  "353d232e-80ab-4969-a3a9-46af2a143df6"
                                   },
                      "outputs":  [

                                  ],
                      "execution_count":  0
                  },
                  {
                      "cell_type":  "markdown",
                      "source":  [
                                     "\r\n",
                                     "![](../images/3.PersistingData/DataVolumeContainers/10.AttachDatabase.png)\r\n",
                                     "And now confirm the database is there: -\r\n",
                                     "\r\n"
                                 ],
                      "metadata":  {
                                       "azdata_cell_guid":  "4af32326-8af3-487c-bd88-360706bf1167"
                                   }
                  },
                  {
                      "cell_type":  "code",
                      "source":  [
                                     "     mssql-cli -S localhost,15799 -U sa -P Testing1122 -Q \"SELECT [name] FROM sys.databases;\"\r\n"
                                 ],
                      "metadata":  {
                                       "azdata_cell_guid":  "037d5bd9-5737-4950-af4b-fafad9c334d6"
                                   },
                      "outputs":  [

                                  ],
                      "execution_count":  0
                  },
                  {
                      "cell_type":  "markdown",
                      "source":  [
                                     "\r\n",
                                     "![](../images/3.PersistingData/DataVolumeContainers/11.ConfirmDatabaseIsThere.png)\r\n",
                                     "Cool! We\u0027ve persisted a database from one container to another using a data volume container!\r\n",
                                     "To clean up: -\r\n",
                                     "\r\n"
                                 ],
                      "metadata":  {
                                       "azdata_cell_guid":  "264ad830-8f4a-47ac-86c0-77b56410f2c4"
                                   }
                  },
                  {
                      "cell_type":  "code",
                      "source":  [
                                     "    docker container rm $(docker container ls -aq) -f \u0026\u0026 docker volume prune -f\r\n"
                                 ],
                      "metadata":  {
                                       "azdata_cell_guid":  "5e815148-25e1-48bd-9eb9-8553d5e39cc9"
                                   },
                      "outputs":  [

                                  ],
                      "execution_count":  0
                  }
              ]
}
