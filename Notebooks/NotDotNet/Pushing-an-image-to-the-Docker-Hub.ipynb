{
    "metadata":  {
                     "kernelspec":  {
                                        "name":  "powershell",
                                        "display_name":  "PowerShell"
                                    }
                 },
    "language_info":  {
                          "name":  "powershell",
                          "version":  "",
                          "codemirror_mode":  "shell",
                          "mimetype":  "text/x-sh",
                          "file_extension":  ".ps1"
                      },
    "nbformat_minor":  2,
    "nbformat":  4,
    "cells":  [
                  {
                      "cell_type":  "markdown",
                      "source":  [
                                     "\r\n",
                                     "Now that we\u0027ve created a custom image we might want to make it available for others to use.\r\n",
                                     "In this post we\u0027re going to use the [Docker Hub](https://hub.docker.com/) which is a online container registry where we can store our container images to make them available to others.\r\n",
                                     "A word of caution with this, we\u0027re going to push to a public repository. This means that anyone (and I mean anyone) will be able to pull our image down. So make sure that when you follow this guide, you\u0027re not including any sensitive data in your container image.\r\n",
                                     "Ok, let\u0027s run through pushing an image to the Docker Hub.\r\n",
                                     "The image we\u0027re going to push is the image built in the [previous wiki](https://github.com/dbafromthecold/SqlServerAndContainersGuide/wiki/Building-a-custom-image).\r\n",
                                     "Here\u0027s the image: -\r\n",
                                     "\r\n"
                                 ],
                      "metadata":  {
                                       "azdata_cell_guid":  "64604382-4a5b-4501-bcc4-0266c0672ce6"
                                   }
                  },
                  {
                      "cell_type":  "code",
                      "source":  [
                                     "    docker image ls\r\n"
                                 ],
                      "metadata":  {
                                       "azdata_cell_guid":  "c70a6f0f-8f61-4f99-a718-6ac196a6c7b3"
                                   },
                      "outputs":  [

                                  ],
                      "execution_count":  0
                  },
                  {
                      "cell_type":  "markdown",
                      "source":  [
                                     "\r\n",
                                     "![](../images/4.BuildingACustomImage/PushingToTheDockerHub/1.ListImages.png)\r\n",
                                     "Ok, we have the image there. Let\u0027s jump onto the [Docker Hub](https://hub.docker.com/) (create an account if you don\u0027t have one) and create a repository: -\r\n",
                                     "![](../images/4.BuildingACustomImage/PushingToTheDockerHub/2.CreateDockerRepository.png)\r\n",
                                     "Cool. We have the image, we have the remote repository, let\u0027s get that image up there!\r\n",
                                     "First thing to do is log into the docker hub: -\r\n",
                                     "\r\n"
                                 ],
                      "metadata":  {
                                       "azdata_cell_guid":  "b6d7194a-f1c8-4585-91d9-2c8ac9996cf7"
                                   }
                  },
                  {
                      "cell_type":  "code",
                      "source":  [
                                     "    docker login\r\n"
                                 ],
                      "metadata":  {
                                       "azdata_cell_guid":  "9ec8fa59-ece3-41a0-9e2d-5ce4c407660b"
                                   },
                      "outputs":  [

                                  ],
                      "execution_count":  0
                  },
                  {
                      "cell_type":  "markdown",
                      "source":  [
                                     "\r\n",
                                     "Enter in your username and password and hit enter!\r\n",
                                     "Ok, next thing is to tag the custom image with the repository name: -\r\n",
                                     "\r\n"
                                 ],
                      "metadata":  {
                                       "azdata_cell_guid":  "3d973a96-8813-4a05-8ced-8161c962c868"
                                   }
                  },
                  {
                      "cell_type":  "code",
                      "source":  [
                                     "    docker tag sqlimage1 dbafromthecold/testsqlrepository:testimage\r\n"
                                 ],
                      "metadata":  {
                                       "azdata_cell_guid":  "2a18fe71-c915-41a3-b69b-e588da7f988e"
                                   },
                      "outputs":  [

                                  ],
                      "execution_count":  0
                  },
                  {
                      "cell_type":  "markdown",
                      "source":  [
                                     "\r\n",
                                     "And confirm the image has been tagged: -\r\n",
                                     "\r\n"
                                 ],
                      "metadata":  {
                                       "azdata_cell_guid":  "99585451-03a3-4524-a849-c34dfa863664"
                                   }
                  },
                  {
                      "cell_type":  "code",
                      "source":  [
                                     "    docker image ls\r\n"
                                 ],
                      "metadata":  {
                                       "azdata_cell_guid":  "5ef05975-eccf-47cc-b910-83e1d06890e0"
                                   },
                      "outputs":  [

                                  ],
                      "execution_count":  0
                  },
                  {
                      "cell_type":  "markdown",
                      "source":  [
                                     "\r\n",
                                     "![](../images/4.BuildingACustomImage/PushingToTheDockerHub/3.ViewTaggedImage.png)\r\n",
                                     "So here we\u0027re tagging the iamge with the username dbafromthecold, the repository name testsqlrepository, and adding the tag testimage. Notice that the image ID is the same for the original image and the newly tagged one. We haven\u0027t created a new image here, we\u0027ve just tagged the existing image with a new name.\r\n",
                                     "Now that the image is tagged we can push it up to the hub: -\r\n",
                                     "\r\n"
                                 ],
                      "metadata":  {
                                       "azdata_cell_guid":  "8db6e705-bd05-4980-9d04-f5a8d6ecc0d2"
                                   }
                  },
                  {
                      "cell_type":  "code",
                      "source":  [
                                     "    docker push dbafromthecold/testsqlrepository:testimage\r\n"
                                 ],
                      "metadata":  {
                                       "azdata_cell_guid":  "9bb2462d-b4d4-4456-83af-46a7f2be88f3"
                                   },
                      "outputs":  [

                                  ],
                      "execution_count":  0
                  },
                  {
                      "cell_type":  "markdown",
                      "source":  [
                                     "\r\n",
                                     "Once that\u0027s complete, we\u0027ll be able to see it on the hub: -\r\n",
                                     "![](../images/4.BuildingACustomImage/PushingToTheDockerHub/4.ViewImageOnDockerHub.png)\r\n",
                                     "People will now be able to pull our custom image down locally via: -\r\n",
                                     "\r\n"
                                 ],
                      "metadata":  {
                                       "azdata_cell_guid":  "8dd91d1b-52ef-4f86-899d-e5d20ff702e4"
                                   }
                  },
                  {
                      "cell_type":  "code",
                      "source":  [
                                     "    docker pull dbafromthecold/testsqlrepository:testimage\r\n"
                                 ],
                      "metadata":  {
                                       "azdata_cell_guid":  "7a20429b-bddb-44cc-9360-a763d94dfa04"
                                   },
                      "outputs":  [

                                  ],
                      "execution_count":  0
                  }
              ]
}
