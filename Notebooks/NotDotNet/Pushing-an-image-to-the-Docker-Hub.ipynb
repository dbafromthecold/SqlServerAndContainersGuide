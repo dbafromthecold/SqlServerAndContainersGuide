{
    "metadata":  {
                     "kernelspec":  {
                                        "name":  "powershell",
                                        "display_name":  "PowerShell"
                                    }
                 },
    "language_info":  {
                          "name":  "powershell",
                          "version":  "",
                          "codemirror_mode":  "shell",
                          "mimetype":  "text/x-sh",
                          "file_extension":  ".ps1"
                      },
    "nbformat_minor":  2,
    "nbformat":  4,
    "cells":  [
                  {
                      "cell_type":  "markdown",
                      "source":  [
                                     "\r\n",
                                     "Now that we\u0027ve created a custom image we might want to make it available for others to use.\r\n",
                                     "In this post we\u0027re going to use the [Docker Hub](https://hub.docker.com/) which is a online container registry where we can store our container images to make them available to others.\r\n",
                                     "A word of caution with this, we\u0027re going to push to a public repository. This means that anyone (and I mean anyone) will be able to pull our image down. So make sure that when you follow this guide, you\u0027re not including any sensitive data in your container image.\r\n",
                                     "Ok, let\u0027s run through pushing an image to the Docker Hub.\r\n",
                                     "The image we\u0027re going to push is the image built in the [previous wiki](https://github.com/dbafromthecold/SqlServerAndContainersGuide/wiki/Building-a-custom-image).\r\n",
                                     "Here\u0027s the image: -\r\n",
                                     "\r\n"
                                 ],
                      "metadata":  {
                                       "azdata_cell_guid":  "56d4f90d-6909-4963-a26d-b1202bfdd392"
                                   }
                  },
                  {
                      "cell_type":  "code",
                      "source":  [
                                     "    docker image ls\r\n"
                                 ],
                      "metadata":  {
                                       "azdata_cell_guid":  "68bceefb-a4e9-4499-b9ee-2c92d3693bbd"
                                   },
                      "outputs":  [

                                  ],
                      "execution_count":  0
                  },
                  {
                      "cell_type":  "markdown",
                      "source":  [
                                     "\r\n",
                                     "![](../images/4.BuildingACustomImage/PushingToTheDockerHub/1.ListImages.png)\r\n",
                                     "Ok, we have the image there. Let\u0027s jump onto the [Docker Hub](https://hub.docker.com/) (create an account if you don\u0027t have one) and create a repository: -\r\n",
                                     "![](../images/4.BuildingACustomImage/PushingToTheDockerHub/2.CreateDockerRepository.png)\r\n",
                                     "Cool. We have the image, we have the remote repository, let\u0027s get that image up there!\r\n",
                                     "First thing to do is log into the docker hub: -\r\n",
                                     "\r\n"
                                 ],
                      "metadata":  {
                                       "azdata_cell_guid":  "9320d3f6-b47f-4b10-8ec6-5f06d5af418c"
                                   }
                  },
                  {
                      "cell_type":  "code",
                      "source":  [
                                     "    docker login\r\n"
                                 ],
                      "metadata":  {
                                       "azdata_cell_guid":  "42bf60b7-6e6c-4d85-9fdc-ac1cb1155564"
                                   },
                      "outputs":  [

                                  ],
                      "execution_count":  0
                  },
                  {
                      "cell_type":  "markdown",
                      "source":  [
                                     "\r\n",
                                     "Enter in your username and password and hit enter!\r\n",
                                     "Ok, next thing is to tag the custom image with the repository name: -\r\n",
                                     "\r\n"
                                 ],
                      "metadata":  {
                                       "azdata_cell_guid":  "b5bfabe3-0ff8-4342-909d-acc59523d542"
                                   }
                  },
                  {
                      "cell_type":  "code",
                      "source":  [
                                     "    docker tag sqlimage1 dbafromthecold/testsqlrepository:testimage\r\n"
                                 ],
                      "metadata":  {
                                       "azdata_cell_guid":  "8145a460-4cfd-40b6-bdaf-1c6278f55a41"
                                   },
                      "outputs":  [

                                  ],
                      "execution_count":  0
                  },
                  {
                      "cell_type":  "markdown",
                      "source":  [
                                     "\r\n",
                                     "And confirm the image has been tagged: -\r\n",
                                     "\r\n"
                                 ],
                      "metadata":  {
                                       "azdata_cell_guid":  "8b9aea89-34c9-438f-a76f-a1203bef0f57"
                                   }
                  },
                  {
                      "cell_type":  "code",
                      "source":  [
                                     "    docker image ls\r\n"
                                 ],
                      "metadata":  {
                                       "azdata_cell_guid":  "7eec7533-192a-4786-b859-7a67f9bbf2b3"
                                   },
                      "outputs":  [

                                  ],
                      "execution_count":  0
                  },
                  {
                      "cell_type":  "markdown",
                      "source":  [
                                     "\r\n",
                                     "![](../images/4.BuildingACustomImage/PushingToTheDockerHub/3.ViewTaggedImage.png)\r\n",
                                     "So here we\u0027re tagging the iamge with the username dbafromthecold, the repository name testsqlrepository, and adding the tag testimage. Notice that the image ID is the same for the original image and the newly tagged one. We haven\u0027t created a new image here, we\u0027ve just tagged the existing image with a new name.\r\n",
                                     "Now that the image is tagged we can push it up to the hub: -\r\n",
                                     "\r\n"
                                 ],
                      "metadata":  {
                                       "azdata_cell_guid":  "f6201f94-4c0f-4931-a873-d6ceb6675d2c"
                                   }
                  },
                  {
                      "cell_type":  "code",
                      "source":  [
                                     "    docker push dbafromthecold/testsqlrepository:testimage\r\n"
                                 ],
                      "metadata":  {
                                       "azdata_cell_guid":  "13fb40f2-0f14-4859-bb94-46255074d990"
                                   },
                      "outputs":  [

                                  ],
                      "execution_count":  0
                  },
                  {
                      "cell_type":  "markdown",
                      "source":  [
                                     "\r\n",
                                     "Once that\u0027s complete, we\u0027ll be able to see it on the hub: -\r\n",
                                     "![](../images/4.BuildingACustomImage/PushingToTheDockerHub/4.ViewImageOnDockerHub.png)\r\n",
                                     "People will now be able to pull our custom image down locally via: -\r\n",
                                     "\r\n"
                                 ],
                      "metadata":  {
                                       "azdata_cell_guid":  "e7ae3557-5293-4a24-ac5f-78091bcc693a"
                                   }
                  },
                  {
                      "cell_type":  "code",
                      "source":  [
                                     "    docker pull dbafromthecold/testsqlrepository:testimage\r\n"
                                 ],
                      "metadata":  {
                                       "azdata_cell_guid":  "9009a73d-2d49-4047-99dd-e752d234af04"
                                   },
                      "outputs":  [

                                  ],
                      "execution_count":  0
                  },
                  {
                      "cell_type":  "markdown",
                      "source":  [
                                     "\r\n",
                                     "So that\u0027s how to push an image to the Docker Hub so that it\u0027s available for others to pull down and run containers from it.\r\n"
                                 ],
                      "metadata":  {
                                       "azdata_cell_guid":  "9c136596-17f1-41b5-9aa0-93d3fb4797b0"
                                   }
                  }
              ]
}
