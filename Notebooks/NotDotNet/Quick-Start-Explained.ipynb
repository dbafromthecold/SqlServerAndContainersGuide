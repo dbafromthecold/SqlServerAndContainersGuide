{
    "metadata":  {
                     "kernelspec":  {
                                        "name":  "powershell",
                                        "display_name":  "PowerShell"
                                    }
                 },
    "language_info":  {
                          "name":  "powershell",
                          "version":  "",
                          "codemirror_mode":  "shell",
                          "mimetype":  "text/x-sh",
                          "file_extension":  ".ps1"
                      },
    "nbformat_minor":  2,
    "nbformat":  4,
    "cells":  [
                  {
                      "cell_type":  "markdown",
                      "source":  [
                                     "\r\n",
                                     "For the quick start, we ran the following: -\r\n",
                                     "\r\n"
                                 ],
                      "metadata":  {
                                       "azdata_cell_guid":  "8b0a1649-e7cd-4466-806b-6c24a45a5e7f"
                                   }
                  },
                  {
                      "cell_type":  "code",
                      "source":  [
                                     "    docker container run -d -p 1433:1433 `\r\n",
                                     "    --env ACCEPT_EULA=Y `\r\n",
                                     "    --env MSSQL_SA_PASSWORD=Testing1122 `\r\n",
                                     "    --name sqlcontainer1 `\r\n",
                                     "    mcr.microsoft.com/mssql/server:2019-latest\r\n"
                                 ],
                      "metadata":  {
                                       "azdata_cell_guid":  "0299aaaf-b6e1-4f41-8d98-39b3cf11763d"
                                   },
                      "outputs":  [

                                  ],
                      "execution_count":  0
                  },
                  {
                      "cell_type":  "markdown",
                      "source":  [
                                     "\r\n",
                                     "Let\u0027s go through this [docker container run](https://docs.docker.com/engine/reference/commandline/container_run/) statement line by line, starting with: -\r\n",
                                     "\r\n"
                                 ],
                      "metadata":  {
                                       "azdata_cell_guid":  "eb55017e-80e5-438d-958f-b38b0eb849a4"
                                   }
                  },
                  {
                      "cell_type":  "code",
                      "source":  [
                                     "    docker container run -d\r\n"
                                 ],
                      "metadata":  {
                                       "azdata_cell_guid":  "ffefcb2f-8678-4fa4-a5b4-17f5302647d5"
                                   },
                      "outputs":  [

                                  ],
                      "execution_count":  0
                  },
                  {
                      "cell_type":  "markdown",
                      "source":  [
                                     "\r\n",
                                     "This is saying that we want to run a container in the background (the -d) so that we can continue using our shell.\r\n",
                                     "Next we map some ports: -\r\n",
                                     "\r\n"
                                 ],
                      "metadata":  {
                                       "azdata_cell_guid":  "fa7febc1-0e56-4201-9ae4-4eb1647623f0"
                                   }
                  },
                  {
                      "cell_type":  "code",
                      "source":  [
                                     "     -p 1433:1433\r\n"
                                 ],
                      "metadata":  {
                                       "azdata_cell_guid":  "e93bb664-e725-4df5-9bd9-102671f51501"
                                   },
                      "outputs":  [

                                  ],
                      "execution_count":  0
                  },
                  {
                      "cell_type":  "markdown",
                      "source":  [
                                     "\r\n",
                                     "What this does is map port 1433 on the host (our laptop) to port 1433 within our container. This allows us to use localhost in SSMS or ADS to connect to SQL running within the container.\r\n",
                                     "Now we specify a couple of environment variables: -\r\n",
                                     "\r\n"
                                 ],
                      "metadata":  {
                                       "azdata_cell_guid":  "3e21ef5f-ef27-4ec4-80c9-ea87786423d7"
                                   }
                  },
                  {
                      "cell_type":  "code",
                      "source":  [
                                     "    --env ACCEPT_EULA=Y\r\n",
                                     "    --env MSSQL_SA_PASSWORD=Testing1122\r\n"
                                 ],
                      "metadata":  {
                                       "azdata_cell_guid":  "5013042f-c380-4334-9464-ecf8f7980d6e"
                                   },
                      "outputs":  [

                                  ],
                      "execution_count":  0
                  },
                  {
                      "cell_type":  "markdown",
                      "source":  [
                                     "\r\n",
                                     "This accepts the SQL end user license agreement, which has to be done for each container spun up running SQL Server, and sets the password for the SA account to Testing1122. This is needed as Windows authentication is not supported for SQL running in a container.\r\n",
                                     "Then we give our container a name: -\r\n",
                                     "\r\n"
                                 ],
                      "metadata":  {
                                       "azdata_cell_guid":  "e8a9c12a-8f11-4c72-bd27-e2ecbdb3cbe5"
                                   }
                  },
                  {
                      "cell_type":  "code",
                      "source":  [
                                     "    --name sqlcontainer1\r\n"
                                 ],
                      "metadata":  {
                                       "azdata_cell_guid":  "e94e0a2c-349d-4a6a-9574-fd67ac7e6120"
                                   },
                      "outputs":  [

                                  ],
                      "execution_count":  0
                  },
                  {
                      "cell_type":  "markdown",
                      "source":  [
                                     "\r\n",
                                     "And finally specify the image that we want to spin the container up from: -\r\n",
                                     "\r\n"
                                 ],
                      "metadata":  {
                                       "azdata_cell_guid":  "6cddb45d-517b-45c8-8e2d-da574e581841"
                                   }
                  },
                  {
                      "cell_type":  "code",
                      "source":  [
                                     "     mcr.microsoft.com/mssql/server:2019-latest\r\n"
                                 ],
                      "metadata":  {
                                       "azdata_cell_guid":  "7742947e-712e-421e-8704-f01c101a6166"
                                   },
                      "outputs":  [

                                  ],
                      "execution_count":  0
                  }
              ]
}
