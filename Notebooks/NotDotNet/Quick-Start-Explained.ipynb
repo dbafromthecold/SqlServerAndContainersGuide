{
    "metadata":  {
                     "kernelspec":  {
                                        "name":  "powershell",
                                        "display_name":  "PowerShell"
                                    }
                 },
    "language_info":  {
                          "name":  "powershell",
                          "version":  "",
                          "codemirror_mode":  "shell",
                          "mimetype":  "text/x-sh",
                          "file_extension":  ".ps1"
                      },
    "nbformat_minor":  2,
    "nbformat":  4,
    "cells":  [
                  {
                      "cell_type":  "markdown",
                      "source":  [
                                     "\r\n",
                                     "For the quick start, we ran the following: -\r\n",
                                     "\r\n"
                                 ],
                      "metadata":  {
                                       "azdata_cell_guid":  "40fbec53-bc36-46c8-845e-096d3546ba9e"
                                   }
                  },
                  {
                      "cell_type":  "code",
                      "source":  [
                                     "    docker container run -d -p 1433:1433 `\r\n",
                                     "    --env ACCEPT_EULA=Y `\r\n",
                                     "    --env MSSQL_SA_PASSWORD=Testing1122 `\r\n",
                                     "    --name sqlcontainer1 `\r\n",
                                     "    mcr.microsoft.com/mssql/server:2019-latest\r\n"
                                 ],
                      "metadata":  {
                                       "azdata_cell_guid":  "d2782d53-9f55-404d-a193-3c3f682f2b15"
                                   },
                      "outputs":  [

                                  ],
                      "execution_count":  0
                  },
                  {
                      "cell_type":  "markdown",
                      "source":  [
                                     "\r\n",
                                     "Let\u0027s go through this [docker container run](https://docs.docker.com/engine/reference/commandline/container_run/) statement line by line, starting with: -\r\n",
                                     "\r\n"
                                 ],
                      "metadata":  {
                                       "azdata_cell_guid":  "519bcfb0-c49c-4f06-86a8-eef0e28b666c"
                                   }
                  },
                  {
                      "cell_type":  "code",
                      "source":  [
                                     "    docker container run -d\r\n"
                                 ],
                      "metadata":  {
                                       "azdata_cell_guid":  "8c2afc1d-0c1d-4e75-9b43-78563bc7d5c7"
                                   },
                      "outputs":  [

                                  ],
                      "execution_count":  0
                  },
                  {
                      "cell_type":  "markdown",
                      "source":  [
                                     "\r\n",
                                     "This is saying that we want to run a container in the background (the -d) so that we can continue using our shell.\r\n",
                                     "Next we map some ports: -\r\n",
                                     "\r\n"
                                 ],
                      "metadata":  {
                                       "azdata_cell_guid":  "6c7e8a56-779e-4fdb-b466-314bea0b6fb3"
                                   }
                  },
                  {
                      "cell_type":  "code",
                      "source":  [
                                     "     -p 1433:1433\r\n"
                                 ],
                      "metadata":  {
                                       "azdata_cell_guid":  "bde9b9c5-55d1-46b5-b4d8-eda8b785f5ea"
                                   },
                      "outputs":  [

                                  ],
                      "execution_count":  0
                  },
                  {
                      "cell_type":  "markdown",
                      "source":  [
                                     "\r\n",
                                     "What this does is map port 1433 on the host (our laptop) to port 1433 within our container. This allows us to use localhost in SSMS or ADS to connect to SQL running within the container.\r\n",
                                     "Now we specify a couple of environment variables: -\r\n",
                                     "\r\n"
                                 ],
                      "metadata":  {
                                       "azdata_cell_guid":  "ae5f0c66-9201-406f-a628-7b0c4c92e66f"
                                   }
                  },
                  {
                      "cell_type":  "code",
                      "source":  [
                                     "    --env ACCEPT_EULA=Y\r\n",
                                     "    --env MSSQL_SA_PASSWORD=Testing1122\r\n"
                                 ],
                      "metadata":  {
                                       "azdata_cell_guid":  "7749c47b-9c0a-4690-8aa1-bd97008d4ac0"
                                   },
                      "outputs":  [

                                  ],
                      "execution_count":  0
                  },
                  {
                      "cell_type":  "markdown",
                      "source":  [
                                     "\r\n",
                                     "This accepts the SQL end user license agreement, which has to be done for each container spun up running SQL Server, and sets the password for the SA account to Testing1122. This is needed as Windows authentication is not supported for SQL running in a container.\r\n",
                                     "Then we give our container a name: -\r\n",
                                     "\r\n"
                                 ],
                      "metadata":  {
                                       "azdata_cell_guid":  "6ae2ba45-4b91-4381-b3be-cfe8f40e7109"
                                   }
                  },
                  {
                      "cell_type":  "code",
                      "source":  [
                                     "    --name sqlcontainer1\r\n"
                                 ],
                      "metadata":  {
                                       "azdata_cell_guid":  "7bf441fb-96a0-49d9-ab7c-0916e82c9372"
                                   },
                      "outputs":  [

                                  ],
                      "execution_count":  0
                  },
                  {
                      "cell_type":  "markdown",
                      "source":  [
                                     "\r\n",
                                     "And finally specify the image that we want to spin the container up from: -\r\n",
                                     "\r\n"
                                 ],
                      "metadata":  {
                                       "azdata_cell_guid":  "0b0d1c37-2ca2-47dc-9d42-663aeb3c9e97"
                                   }
                  },
                  {
                      "cell_type":  "code",
                      "source":  [
                                     "     mcr.microsoft.com/mssql/server:2019-latest\r\n"
                                 ],
                      "metadata":  {
                                       "azdata_cell_guid":  "3ca4adbd-e117-444a-a53c-ce9bf6217f4b"
                                   },
                      "outputs":  [

                                  ],
                      "execution_count":  0
                  },
                  {
                      "cell_type":  "markdown",
                      "source":  [
                                     "\r\n",
                                     "This is going to pull down the latest SQL Server 2019 container running on Ubuntu (if it is not already present on the host).\r\n"
                                 ],
                      "metadata":  {
                                       "azdata_cell_guid":  "cc40e0a4-b04e-4f0a-9c55-3b5213e31977"
                                   }
                  }
              ]
}
