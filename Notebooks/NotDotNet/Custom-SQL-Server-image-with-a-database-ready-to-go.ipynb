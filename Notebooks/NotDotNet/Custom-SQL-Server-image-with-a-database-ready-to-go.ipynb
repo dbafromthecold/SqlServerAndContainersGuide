{
    "metadata": {
        "kernelspec": {
            "name": "powershell",
            "display_name": "PowerShell"
        },
        "language_info": {
            "name": "powershell",
            "codemirror_mode": "shell",
            "mimetype": "text/x-sh",
            "file_extension": ".ps1"
        }
    },
    "nbformat_minor": 2,
    "nbformat": 4,
    "cells": [
        {
            "cell_type": "markdown",
            "source": [
                "\r\n",
                "One of the really cool things that we can do with building custom images is to have our databases (schema only...let's not go nuts) ready to go when our container spins up. \r\n",
                "This is pretty neat as it means we don't have to restore any databases when the container comes up and our database are at a known version.\r\n",
                "It's simple to do but there is one trick to it, let's have a look at a dockerfile: -\r\n",
                "\r\n"
            ],
            "metadata": {
                "azdata_cell_guid": "c38d5045-a5de-4c38-9399-8056a887780f"
            }
        },
        {
            "cell_type": "code",
            "source": [
                "    FROM mcr.microsoft.com/mssql/server:2019-CU5-ubuntu-18.04\r\n",
                "    \r\n",
                "    USER root\r\n",
                "    \r\n",
                "    RUN mkdir /var/opt/sqlserver\r\n",
                "    \r\n",
                "    COPY testdatabase.mdf /var/opt/sqlserver\r\n",
                "    COPY testdatabase_log.ldf /var/opt/sqlserver\r\n",
                "    COPY attach-db.sh /var/opt/sqlserver\r\n",
                "    \r\n",
                "    RUN chown -R mssql:mssql /var/opt/sqlserver\r\n",
                "    \r\n",
                "    RUN chmod +x /var/opt/sqlserver/attach-db.sh\r\n",
                "    \r\n",
                "    USER mssql\r\n",
                "    \r\n",
                "    CMD /var/opt/sqlserver/attach-db.sh & /opt/mssql/bin/sqlservr\r\n"
            ],
            "metadata": {
                "azdata_cell_guid": "7b406b6f-15f5-4de4-845a-36c228a32b8f"
            },
            "outputs": [],
            "execution_count": 0
        },
        {
            "cell_type": "markdown",
            "source": [
                "\r\n",
                "Let's go over the steps in this dockerfile.\r\n",
                "1. Building from the SQL Server 2019 official image\r\n",
                "2. Switching to the root user\r\n",
                "3. Creating a custom directory for our database\r\n",
                "4. Copying the database files (mdf and ldf) and a script called attach-db.sh into the image\r\n",
                "5. Changing the owner of our custom directory to the mssql user\r\n",
                "6. Making the attach-db.sh script executable\r\n",
                "7. Switching to the mssql user\r\n",
                "8. Executing the attach-db.sh script and then starting up SQL Server<br>\r\n",
                "<br>\r\n",
                "But hang on a second? Are we running a script to attach databases and THEN starting SQL Server?<br>\r\n",
                "That seems the wrong way round yeah? How can we attach a database to SQL before we start SQL Server?<br>\r\n",
                "<br>\r\n",
                "Let's have a look at that attach-db.sh script: -\r\n",
                "\r\n",
                ""
            ],
            "metadata": {
                "azdata_cell_guid": "e5a3ebec-0c3c-4d06-9ff6-b5d2883852bf"
            }
        },
        {
            "cell_type": "code",
            "source": [
                "    sleep 15s\r\n"
            ],
            "metadata": {
                "azdata_cell_guid": "1f51ea51-0f15-45bb-9b74-2cee9dd70a27"
            },
            "outputs": [],
            "execution_count": 0
        },
        {
            "cell_type": "markdown",
            "source": [
                " \r\n"
            ],
            "metadata": {
                "azdata_cell_guid": "d907ebf6-3e3b-4310-b72b-04a1b0f58fbc"
            }
        },
        {
            "cell_type": "code",
            "source": [
                "    /opt/mssql-tools/bin/sqlcmd -S localhost -U sa -P Testing1122 \\\r\n",
                "    -Q \"CREATE DATABASE [testdatabase] ON (FILENAME = '/var/opt/sqlserver/testdatabase.mdf'),(FILENAME = '/var/opt/sqlserver/testdatabase_log.ldf') FOR ATTACH\"\r\n"
            ],
            "metadata": {
                "azdata_cell_guid": "e46ae8cc-cb81-4f9e-8a4e-57203ded53a0"
            },
            "outputs": [],
            "execution_count": 0
        },
        {
            "cell_type": "markdown",
            "source": [
                "\r\n",
                "The first thing that script does is wait for SQL to spin up (sleep 15s) and then runs an CREATE DATABASE...FOR ATTACH statement.<br>\r\n",
                "The reason for this is that a container always needs a process running, otherwise the container will stop.<br>\r\n",
                "If we started SQL Server up and then ran the attach script, the attach script becomes the main running process and the container will shut down once it completes.<br>\r\n",
                "So by sleeping for 15 seconds and then starting SQL...SQL becomes the main running process, the script executes the CREATE DATABASE...FOR ATTACH after 15 seconds and the container stays up and running!<br>\r\n",
                "So let's build the image: -\r\n",
                "\r\n",
                ""
            ],
            "metadata": {
                "azdata_cell_guid": "fe20f2ec-99c4-4123-918b-ab1c0e48b50c"
            }
        },
        {
            "cell_type": "code",
            "source": [
                "    docker build customsqlimage1 .\r\n"
            ],
            "metadata": {
                "azdata_cell_guid": "ad8dafe1-8c69-41f6-95a2-d0aff0ff1aa2"
            },
            "outputs": [],
            "execution_count": 0
        },
        {
            "cell_type": "markdown",
            "source": [
                "\r\n",
                "And then check that the image is there: -\r\n",
                "\r\n"
            ],
            "metadata": {
                "azdata_cell_guid": "6b1f9c10-c02f-4a0e-8da9-dbcf0f1c0f43"
            }
        },
        {
            "cell_type": "code",
            "source": [
                "    docker image ls\r\n"
            ],
            "metadata": {
                "azdata_cell_guid": "f5384321-e9ea-4f74-aec6-8ea527eb19f0"
            },
            "outputs": [],
            "execution_count": 0
        },
        {
            "cell_type": "markdown",
            "source": [
                "\r\n",
                "So now we can run a container from that image: -\r\n",
                "\r\n"
            ],
            "metadata": {
                "azdata_cell_guid": "78841c5a-d3b7-4ae0-980a-21cd69ea45e1"
            }
        },
        {
            "cell_type": "code",
            "source": [
                "    docker container run -d `\r\n",
                "    -p 15789:1433 `\r\n",
                "    --env ACCEPT_EULA=Y `\r\n",
                "    --env MSSQL_SA_PASSWORD=Testing1122 `\r\n",
                "    --name sqlcontainer1 `\r\n",
                "    customsqlimage1\r\n"
            ],
            "metadata": {
                "azdata_cell_guid": "838dbe15-02de-4f36-81b4-17caf70eba31"
            },
            "outputs": [],
            "execution_count": 0
        },
        {
            "cell_type": "markdown",
            "source": [
                "\r\n",
                "Wait for 15 seconds...and our database is there!\r\n"
            ],
            "metadata": {
                "azdata_cell_guid": "122c608e-b98f-442f-91c6-bc594abd2bba"
            }
        }
    ]
}