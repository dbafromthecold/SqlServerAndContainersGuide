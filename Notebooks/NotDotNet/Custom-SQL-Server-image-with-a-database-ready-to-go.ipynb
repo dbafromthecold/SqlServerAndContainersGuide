{
    "metadata": {
        "kernelspec": {
            "name": "powershell",
            "display_name": "PowerShell"
        },
        "language_info": {
            "name": "powershell",
            "codemirror_mode": "shell",
            "mimetype": "text/x-sh",
            "file_extension": ".ps1"
        }
    },
    "nbformat_minor": 2,
    "nbformat": 4,
    "cells": [
        {
            "cell_type": "markdown",
            "source": [
                "\r\n",
                "One of the really cool things that we can do with building custom images is to have our databases (schema only...let's not go nuts) ready to go when our container spins up. <br>\r\n",
                "This is pretty neat as it means we don't have to restore any databases when the container comes up and our database are at a known version.<br>\r\n",
                "<br>\r\n",
                "It's simple to do but there is one trick to it, let's have a look at a dockerfile: -\r\n",
                "\r\n",
                ""
            ],
            "metadata": {
                "azdata_cell_guid": "7d3b5fbc-e678-45fe-be66-c9c096043536"
            }
        },
        {
            "cell_type": "code",
            "source": [
                "    FROM mcr.microsoft.com/mssql/server:2019-CU5-ubuntu-18.04\r\n",
                "    \r\n",
                "    USER root\r\n",
                "    \r\n",
                "    RUN mkdir /var/opt/sqlserver\r\n",
                "    \r\n",
                "    COPY testdatabase.mdf /var/opt/sqlserver\r\n",
                "    COPY testdatabase_log.ldf /var/opt/sqlserver\r\n",
                "    COPY attach-db.sh /var/opt/sqlserver\r\n",
                "    \r\n",
                "    RUN chown -R mssql:mssql /var/opt/sqlserver\r\n",
                "    \r\n",
                "    RUN chmod +x /var/opt/sqlserver/attach-db.sh\r\n",
                "    \r\n",
                "    USER mssql\r\n",
                "    \r\n",
                "    CMD /var/opt/sqlserver/attach-db.sh & /opt/mssql/bin/sqlservr\r\n"
            ],
            "metadata": {
                "azdata_cell_guid": "13c6311f-0cf1-4f77-ae37-ff96da23c504"
            },
            "outputs": [],
            "execution_count": 0
        },
        {
            "cell_type": "markdown",
            "source": [
                "\r\n",
                "Let's go over the steps in this dockerfile.\r\n",
                "1. Building from the SQL Server 2019 official image\r\n",
                "2. Switching to the root user\r\n",
                "3. Creating a custom directory for our database\r\n",
                "4. Copying the database files (mdf and ldf) and a script called attach-db.sh into the image\r\n",
                "5. Changing the owner of our custom directory to the mssql user\r\n",
                "6. Making the attach-db.sh script executable\r\n",
                "7. Switching to the mssql user\r\n",
                "8. Executing the attach-db.sh script and then starting up SQL Server<br>\r\n",
                "But hang on a second? Are we running a script to attach databases and THEN starting SQL Server?<br>\r\n",
                "That seems the wrong way round yeah? How can we attach a database to SQL before we start SQL Server?<br>\r\n",
                "<br>\r\n",
                "Let's have a look at that attach-db.sh script: -\r\n",
                "\r\n",
                ""
            ],
            "metadata": {
                "azdata_cell_guid": "ef0274ac-98ef-418b-a950-99ffe5a584e6"
            }
        },
        {
            "cell_type": "code",
            "source": [
                "    sleep 15s\r\n"
            ],
            "metadata": {
                "azdata_cell_guid": "667fed09-07fe-488b-b8fc-496cff5b61fb"
            },
            "outputs": [],
            "execution_count": 0
        },
        {
            "cell_type": "markdown",
            "source": [
                " \r\n"
            ],
            "metadata": {
                "azdata_cell_guid": "db710bb0-46d0-420e-9b2d-da086cea64e7"
            }
        },
        {
            "cell_type": "code",
            "source": [
                "    /opt/mssql-tools/bin/sqlcmd -S localhost -U sa -P Testing1122 \\\r\n",
                "    -Q \"CREATE DATABASE [testdatabase] ON (FILENAME = '/var/opt/sqlserver/testdatabase.mdf'),(FILENAME = '/var/opt/sqlserver/testdatabase_log.ldf') FOR ATTACH\"\r\n"
            ],
            "metadata": {
                "azdata_cell_guid": "ed57389d-36f6-4b06-9367-045ecea7e69d"
            },
            "outputs": [],
            "execution_count": 0
        },
        {
            "cell_type": "markdown",
            "source": [
                "\r\n",
                "The first thing that script does is wait for SQL to spin up (sleep 15s) and then runs an CREATE DATABASE...FOR ATTACH statement.<br>\r\n",
                "The reason for this is that a container always needs a process running, otherwise the container will stop.<br>\r\n",
                "If we started SQL Server up and then ran the attach script, the attach script becomes the main running process and the container will shut down once it completes.<br>\r\n",
                "So by sleeping for 15 seconds and then starting SQL...SQL becomes the main running process, the script executes the CREATE DATABASE...FOR ATTACH after 15 seconds and the container stays up and running!<br>\r\n",
                "<br>\r\n",
                "So let's build the image: -\r\n",
                "\r\n",
                ""
            ],
            "metadata": {
                "azdata_cell_guid": "4daf38f2-b290-4fae-a6f0-9a8c71ed3fda"
            }
        },
        {
            "cell_type": "code",
            "source": [
                "    docker build -t customsqlimage1 .\r\n"
            ],
            "metadata": {
                "azdata_cell_guid": "e87cf663-c354-4718-9054-77c3dd93965a"
            },
            "outputs": [],
            "execution_count": 0
        },
        {
            "cell_type": "markdown",
            "source": [
                "\r\n",
                "![](../images/4.BuildingACustomImage\\CustomImageWithDatabase/1.BuildCustomImage.png)<br>\r\n",
                "<br>\r\n",
                "And then check that the image is there: -\r\n",
                "\r\n",
                ""
            ],
            "metadata": {
                "azdata_cell_guid": "b5816030-3a9c-4c17-9c72-03fe59737531"
            }
        },
        {
            "cell_type": "code",
            "source": [
                "    docker image ls\r\n"
            ],
            "metadata": {
                "azdata_cell_guid": "47111fc2-8657-4860-8528-b85f06b59966"
            },
            "outputs": [],
            "execution_count": 0
        },
        {
            "cell_type": "markdown",
            "source": [
                "\r\n",
                "![](../images/4.BuildingACustomImage\\CustomImageWithDatabase/2.ViewImages.png)<br>\r\n",
                "<br>\r\n",
                "So now we can run a container from that image: -\r\n",
                "\r\n",
                ""
            ],
            "metadata": {
                "azdata_cell_guid": "cc339795-72a0-4b10-9b77-f957bc616702"
            }
        },
        {
            "cell_type": "code",
            "source": [
                "    docker container run -d `\r\n",
                "    -p 15789:1433 `\r\n",
                "    --env ACCEPT_EULA=Y `\r\n",
                "    --env MSSQL_SA_PASSWORD=Testing1122 `\r\n",
                "    --name sqlcontainer1 `\r\n",
                "    customsqlimage1\r\n"
            ],
            "metadata": {
                "azdata_cell_guid": "14cadeb7-8c18-45a5-a141-442177136a69"
            },
            "outputs": [],
            "execution_count": 0
        },
        {
            "cell_type": "markdown",
            "source": [
                "\r\n",
                "![](../images/4.BuildingACustomImage\\CustomImageWithDatabase/3.RunContainer.png)<br>\r\n",
                "<br>\r\n",
                "Wait for 15 seconds...and our database is there!\r\n",
                "\r\n",
                ""
            ],
            "metadata": {
                "azdata_cell_guid": "3570e45a-dabe-4d7d-ae7d-f0ae54e01071"
            }
        },
        {
            "cell_type": "code",
            "source": [
                "    mssql-cli -S localhost,15789 -U sa -P Testing1122 -Q \"SELECT [name] FROM sys.databases;\"\r\n"
            ],
            "metadata": {
                "azdata_cell_guid": "b67d9759-0a7d-4707-98b9-57f0b13ebd4f"
            },
            "outputs": [],
            "execution_count": 0
        },
        {
            "cell_type": "markdown",
            "source": [
                "\r\n",
                "![](../images/4.BuildingACustomImage\\CustomImageWithDatabase/4.ViewDatabases.png)\r\n"
            ],
            "metadata": {
                "azdata_cell_guid": "a5ba1251-54ec-478f-b4a9-6bd51ac92342"
            }
        }
    ]
}