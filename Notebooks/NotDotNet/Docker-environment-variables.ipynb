{
    "metadata":  {
                     "kernelspec":  {
                                        "name":  "powershell",
                                        "display_name":  "PowerShell"
                                    }
                 },
    "language_info":  {
                          "name":  "powershell",
                          "version":  "",
                          "codemirror_mode":  "shell",
                          "mimetype":  "text/x-sh",
                          "file_extension":  ".ps1"
                      },
    "nbformat_minor":  2,
    "nbformat":  4,
    "cells":  [
                  {
                      "cell_type":  "markdown",
                      "source":  [
                                     "\r\n",
                                     "We can configure SQL Server in a Docker container by using environment variables.\r\n",
                                     "We\u0027ve already seen this when running SQL in a container in the previous wikis as there are two environment variables that must be set each time we run SQL Server in a container: -\r\n",
                                     "\r\n"
                                 ],
                      "metadata":  {
                                       "azdata_cell_guid":  "75631d78-0fe6-48f6-8c84-1e622eb44b4a"
                                   }
                  },
                  {
                      "cell_type":  "code",
                      "source":  [
                                     "    MSSQL_SA_PASSWORD or SA_PASSWORD\r\n",
                                     "    ACCEPT_EULA\r\n"
                                 ],
                      "metadata":  {
                                       "azdata_cell_guid":  "993e8321-745a-47cf-a38f-e8a112406734"
                                   },
                      "outputs":  [

                                  ],
                      "execution_count":  0
                  },
                  {
                      "cell_type":  "markdown",
                      "source":  [
                                     "\r\n",
                                     "MSSQL_SA_PASSWORD sets the SA password so that we can use the SA account to connect to SQL Server within the container.\r\n",
                                     "ACCEPT_EULA accepts the end user licence agreement which must be set to Y otherwise SQL won\u0027t run (it\u0027s a legal thing, apparently)\r\n",
                                     "However there are a whole bunch of other environment variables that we can use to configure SQL Server in a container: -\r\n",
                                     "\r\n"
                                 ],
                      "metadata":  {
                                       "azdata_cell_guid":  "2895c96b-14d2-4051-a1a7-37c3250340d5"
                                   }
                  },
                  {
                      "cell_type":  "code",
                      "source":  [
                                     "    MSSQL_PID - Sets the SQL Server edition or product key\r\n",
                                     "    MSSQL_LCID - Sets the language ID to use for SQL Server. For example 1036 is French.\r\n",
                                     "    MSSQL_COLLATION - Sets the default collation for SQL Server. This overrides the default mapping of language id (LCID) to collation.\r\n",
                                     "    MSSQL_MEMORY_LIMIT_MB - Sets the maximum amount of memory (in MB) that SQL Server can use. By default it is 80% of the total physical memory.\r\n",
                                     "    MSSQL_TCP_PORT - Configure the TCP port that SQL Server listens on (default 1433).\r\n",
                                     "    MSSQL_IP_ADDRESS - Set the IP address. Currently, the IP address must be IPv4 style (0.0.0.0).\r\n",
                                     "    MSSQL_BACKUP_DIR- Set the Default backup directory location.\r\n",
                                     "    MSSQL_DATA_DIR - Change the directory where the new SQL Server database data files (.mdf) are created.\r\n",
                                     "    MSSQL_LOG_DIR - Change the directory where the new SQL Server database log (.ldf) files are created.\r\n",
                                     "    MSSQL_DUMP_DIR - Change the directory where SQL Server will deposit the memory dumps and other troubleshooting files by default.\r\n",
                                     "    MSSQL_ENABLE_HADR - Enable Availability Group. For example, \u00271\u0027 is enabled, and \u00270\u0027 is disabled\r\n",
                                     "    MSSQL_AGENT_ENABLED - Enable SQL Server Agent. For example, \u0027true\u0027 is enabled and \u0027false\u0027 is disabled. By default, agent is disabled.\r\n",
                                     "    MSSQL_MASTER_DATA_FILE - Sets the location of the master database data file. Must be named master.mdf until first run of SQL Server.\r\n",
                                     "    MSSQL_MASTER_LOG_FILE - Sets the location of the master database log file. Must be named mastlog.ldf until first run of SQL Server.\r\n",
                                     "    MSSQL_ERROR_LOG_FILE - Sets the location of the errorlog files.\r\n"
                                 ],
                      "metadata":  {
                                       "azdata_cell_guid":  "eaf6ec94-d344-4031-8d75-de4b2e3a1086"
                                   },
                      "outputs":  [

                                  ],
                      "execution_count":  0
                  },
                  {
                      "cell_type":  "markdown",
                      "source":  [
                                     "\r\n",
                                     "N.B. - This information is taken from the official Microsoft documentation [here](https://docs.microsoft.com/en-us/sql/linux/sql-server-linux-configure-environment-variables?view=sql-server-ver15)\r\n",
                                     "What\u0027s really cool is that we can specify these environment variables in a dockerfile so that we can built a custom image with custom values already set so that we don\u0027t have to set them again when running a container.\r\n",
                                     "For more information, see [Building a Custom Image](https://github.com/dbafromthecold/SqlServerAndContainersGuide/wiki/Building-a-custom-image)\r\n",
                                     "Let\u0027s run a container with a bunch of these environment variables specified: -\r\n",
                                     "\r\n"
                                 ],
                      "metadata":  {
                                       "azdata_cell_guid":  "003451c9-2c59-47e2-8624-a28c2f205084"
                                   }
                  },
                  {
                      "cell_type":  "code",
                      "source":  [
                                     "    docker container run -d `\r\n",
                                     "    --publish 15789:15789 `\r\n",
                                     "    --env MSSQL_SA_PASSWORD=Testing1122 `\r\n",
                                     "    --env ACCEPT_EULA=Y `\r\n",
                                     "    --env MSSQL_PID=\"Developer\" `\r\n",
                                     "    --env MSSQL_TCP_PORT=15789 `\r\n",
                                     "    --env MSSQL_BACKUP_DIR=/var/opt/mssql/data `\r\n",
                                     "    --env MSSQL_DATA_DIR=/var/opt/mssql/data `\r\n",
                                     "    --env MSSQL_LOG_DIR=/var/opt/mssql/data `\r\n",
                                     "    --env MSSQL_AGENT_ENABLED=\"True\" `\r\n",
                                     "    --name sqlcontainer1 `\r\n",
                                     "    mcr.microsoft.com/mssql/server:2019-CU5-ubuntu-18.04\r\n"
                                 ],
                      "metadata":  {
                                       "azdata_cell_guid":  "677e9e7b-0141-42fc-89ca-24973651b464"
                                   },
                      "outputs":  [

                                  ],
                      "execution_count":  0
                  },
                  {
                      "cell_type":  "markdown",
                      "source":  [
                                     "\r\n",
                                     "If we want to see what has been specified in a running container, we can run: -\r\n",
                                     "\r\n"
                                 ],
                      "metadata":  {
                                       "azdata_cell_guid":  "adf0f200-fe1b-4d78-a42b-997543a6325e"
                                   }
                  },
                  {
                      "cell_type":  "code",
                      "source":  [
                                     "    docker exec sqlcontainer1 printenv\r\n"
                                 ],
                      "metadata":  {
                                       "azdata_cell_guid":  "9a042392-7a6b-433b-a03f-6077365277c8"
                                   },
                      "outputs":  [

                                  ],
                      "execution_count":  0
                  },
                  {
                      "cell_type":  "markdown",
                      "source":  [
                                     "\r\n",
                                     "![](../images/2.RunningYourFirstContainer/EnvironmentVariables/1.ViewEnvironmentVariables.png)\r\n",
                                     "And there\u0027s all the environment variables we specified in our docker container run statement! Including the SA password! So be careful who has access to your Docker host, as they can get sensitive information like that.\r\n"
                                 ],
                      "metadata":  {
                                       "azdata_cell_guid":  "8cc4de1a-1bee-4b73-87cd-22d408469bec"
                                   }
                  }
              ]
}
