{
    "metadata":  {
                     "kernelspec":  {
                                        "name":  "powershell",
                                        "display_name":  "PowerShell"
                                    }
                 },
    "language_info":  {
                          "name":  "powershell",
                          "version":  "",
                          "codemirror_mode":  "shell",
                          "mimetype":  "text/x-sh",
                          "file_extension":  ".ps1"
                      },
    "nbformat_minor":  2,
    "nbformat":  4,
    "cells":  [
                  {
                      "cell_type":  "markdown",
                      "source":  [
                                     "\r\n",
                                     "We can configure SQL Server in a Docker container by using environment variables.\r\n",
                                     "We\u0027ve already seen this when running SQL in a container in the previous wikis as there are two environment variables that must be set each time we run SQL Server in a container: -\r\n",
                                     "\r\n"
                                 ],
                      "metadata":  {
                                       "azdata_cell_guid":  "de32a26c-3eb4-4a7b-9288-2710146f3549"
                                   }
                  },
                  {
                      "cell_type":  "code",
                      "source":  [
                                     "    MSSQL_SA_PASSWORD or SA_PASSWORD\r\n",
                                     "    ACCEPT_EULA\r\n"
                                 ],
                      "metadata":  {
                                       "azdata_cell_guid":  "77ebb355-e862-43ea-b7f7-73d4652a5215"
                                   },
                      "outputs":  [

                                  ],
                      "execution_count":  0
                  },
                  {
                      "cell_type":  "markdown",
                      "source":  [
                                     "\r\n",
                                     "MSSQL_SA_PASSWORD sets the SA password so that we can use the SA account to connect to SQL Server within the container.\r\n",
                                     "ACCEPT_EULA accepts the end user licence agreement which must be set to Y otherwise SQL won\u0027t run (it\u0027s a legal thing, apparently)\r\n",
                                     "However there are a whole bunch of other environment variables that we can use to configure SQL Server in a container: -\r\n",
                                     "\r\n"
                                 ],
                      "metadata":  {
                                       "azdata_cell_guid":  "de377e49-0adf-4d7b-9b0e-fb86ba045013"
                                   }
                  },
                  {
                      "cell_type":  "code",
                      "source":  [
                                     "    MSSQL_PID - Sets the SQL Server edition or product key\r\n",
                                     "    MSSQL_LCID - Sets the language ID to use for SQL Server. For example 1036 is French.\r\n",
                                     "    MSSQL_COLLATION - Sets the default collation for SQL Server. This overrides the default mapping of language id (LCID) to collation.\r\n",
                                     "    MSSQL_MEMORY_LIMIT_MB - Sets the maximum amount of memory (in MB) that SQL Server can use. By default it is 80% of the total physical memory.\r\n",
                                     "    MSSQL_TCP_PORT - Configure the TCP port that SQL Server listens on (default 1433).\r\n",
                                     "    MSSQL_IP_ADDRESS - Set the IP address. Currently, the IP address must be IPv4 style (0.0.0.0).\r\n",
                                     "    MSSQL_BACKUP_DIR- Set the Default backup directory location.\r\n",
                                     "    MSSQL_DATA_DIR - Change the directory where the new SQL Server database data files (.mdf) are created.\r\n",
                                     "    MSSQL_LOG_DIR - Change the directory where the new SQL Server database log (.ldf) files are created.\r\n",
                                     "    MSSQL_DUMP_DIR - Change the directory where SQL Server will deposit the memory dumps and other troubleshooting files by default.\r\n",
                                     "    MSSQL_ENABLE_HADR - Enable Availability Group. For example, \u00271\u0027 is enabled, and \u00270\u0027 is disabled\r\n",
                                     "    MSSQL_AGENT_ENABLED - Enable SQL Server Agent. For example, \u0027true\u0027 is enabled and \u0027false\u0027 is disabled. By default, agent is disabled.\r\n",
                                     "    MSSQL_MASTER_DATA_FILE - Sets the location of the master database data file. Must be named master.mdf until first run of SQL Server.\r\n",
                                     "    MSSQL_MASTER_LOG_FILE - Sets the location of the master database log file. Must be named mastlog.ldf until first run of SQL Server.\r\n",
                                     "    MSSQL_ERROR_LOG_FILE - Sets the location of the errorlog files.\r\n"
                                 ],
                      "metadata":  {
                                       "azdata_cell_guid":  "0940aa67-c32d-421d-9117-2d3803e4c953"
                                   },
                      "outputs":  [

                                  ],
                      "execution_count":  0
                  },
                  {
                      "cell_type":  "markdown",
                      "source":  [
                                     "\r\n",
                                     "N.B. - This information is taken from the official Microsoft documentation [here](https://docs.microsoft.com/en-us/sql/linux/sql-server-linux-configure-environment-variables?view=sql-server-ver15)\r\n",
                                     "What\u0027s really cool is that we can specify these environment variables in a dockerfile so that we can built a custom image with custom values already set so that we don\u0027t have to set them again when running a container.\r\n",
                                     "For more information, see [Building a Custom Image](https://github.com/dbafromthecold/SqlServerAndContainersGuide/wiki/Building-a-custom-image)\r\n",
                                     "Let\u0027s run a container with a bunch of these environment variables specified: -\r\n",
                                     "\r\n"
                                 ],
                      "metadata":  {
                                       "azdata_cell_guid":  "47a19035-0f2a-47a2-9c31-7e9f14dd43d7"
                                   }
                  },
                  {
                      "cell_type":  "code",
                      "source":  [
                                     "    docker container run -d `\r\n",
                                     "    --publish 15789:15789 `\r\n",
                                     "    --env MSSQL_SA_PASSWORD=Testing1122 `\r\n",
                                     "    --env ACCEPT_EULA=Y `\r\n",
                                     "    --env MSSQL_PID=\"Developer\" `\r\n",
                                     "    --env MSSQL_TCP_PORT=15789 `\r\n",
                                     "    --env MSSQL_BACKUP_DIR=/var/opt/mssql/data `\r\n",
                                     "    --env MSSQL_DATA_DIR=/var/opt/mssql/data `\r\n",
                                     "    --env MSSQL_LOG_DIR=/var/opt/mssql/data `\r\n",
                                     "    --env MSSQL_AGENT_ENABLED=\"True\" `\r\n",
                                     "    --name sqlcontainer1 `\r\n",
                                     "    mcr.microsoft.com/mssql/server:2019-CU5-ubuntu-18.04\r\n"
                                 ],
                      "metadata":  {
                                       "azdata_cell_guid":  "f793eaad-3dc2-42e4-8b32-89908f2d50ac"
                                   },
                      "outputs":  [

                                  ],
                      "execution_count":  0
                  },
                  {
                      "cell_type":  "markdown",
                      "source":  [
                                     "\r\n",
                                     "If we want to see what has been specified in a running container, we can run: -\r\n",
                                     "\r\n"
                                 ],
                      "metadata":  {
                                       "azdata_cell_guid":  "0b830766-c72e-487f-bfef-94856f4aaaee"
                                   }
                  },
                  {
                      "cell_type":  "code",
                      "source":  [
                                     "    docker exec sqlcontainer1 printenv\r\n"
                                 ],
                      "metadata":  {
                                       "azdata_cell_guid":  "95bc42cc-bfbb-49b7-a6e9-83bbfa4ccc9a"
                                   },
                      "outputs":  [

                                  ],
                      "execution_count":  0
                  }
              ]
}
